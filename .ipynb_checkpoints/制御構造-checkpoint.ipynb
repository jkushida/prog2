{
 "cells": [
  {
   "cell_type": "markdown",
   "id": "b831ebfb",
   "metadata": {},
   "source": [
    "# 構造化プログラミング\n",
    "\n",
    "C言語の単純なプログラムは**順次構造**であり，処理の流れが上から下へ単に流れるだけである．\n",
    "\n",
    "C言語では，順次構造以外に，どちらか一方の処理を選ぶ**選択構造**と，同じ処理を繰り返す**反復構造**を用いることができる．\n",
    "\n",
    "この，順次，選択，反復の３つの構造を，**制御基本構造**と呼ぶ．\n",
    "\n",
    "\n",
    "## 順次構造\n",
    "- 処理が現れた順に実行する形式であり，特に制御の流れを変える命令はない．\n",
    "    \n",
    "<img 　src=\"./fig/順次構造.png\" width=\"120\">\n",
    "    \n",
    "## 選択構造\n",
    "- 条件により，実行する文が異なる構造である．\n",
    "- C言語には，`if`文と `switch`文がある．\n",
    "    \n",
    "<img 　src=\"./fig/選択構造.png\" width=\"400\">\n",
    "\n",
    "## 反復構造\n",
    "- 同じ文を繰り返す構造である．\n",
    "\n",
    "- C言語には，`for`文，while`文`，`do-while`文がある．\n",
    "    \n",
    "<img 　src=\"./fig/反復構造.png\" width=\"100\">"
   ]
  },
  {
   "cell_type": "markdown",
   "id": "ab9d6498",
   "metadata": {},
   "source": [
    "# C言語の制御構造\n",
    "\n",
    "- C言語では，上述の制御構造を実現する**制御文**が用意されている．\n",
    "\n",
    "- また，反復処理をサポートする制御文も用意されている．\n",
    "\n",
    "<BR>\n",
    "\n",
    "<img 　src=\"./fig/C言語の制御構造.png\" width=\"600\">\n"
   ]
  },
  {
   "cell_type": "code",
   "execution_count": null,
   "id": "0e7549fd",
   "metadata": {},
   "outputs": [],
   "source": []
  }
 ],
 "metadata": {
  "kernelspec": {
   "display_name": "C",
   "language": "c",
   "name": "c"
  },
  "language_info": {
   "file_extension": ".c",
   "mimetype": "text/x-csrc",
   "name": "text/x-csrc"
  },
  "toc": {
   "base_numbering": 1,
   "nav_menu": {},
   "number_sections": true,
   "sideBar": true,
   "skip_h1_title": false,
   "title_cell": "Table of Contents",
   "title_sidebar": "Contents",
   "toc_cell": false,
   "toc_position": {
    "height": "calc(100% - 180px)",
    "left": "10px",
    "top": "150px",
    "width": "263.594px"
   },
   "toc_section_display": true,
   "toc_window_display": true
  }
 },
 "nbformat": 4,
 "nbformat_minor": 5
}
