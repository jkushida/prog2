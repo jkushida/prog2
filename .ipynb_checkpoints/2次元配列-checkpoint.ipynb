{
 "cells": [
  {
   "cell_type": "markdown",
   "id": "fafad2b1",
   "metadata": {},
   "source": [
    "# 2次元配列の宣言\n",
    "\n",
    "2次元配列とは，縦横の2次元で配列を考えるものである．\n",
    "\n",
    "2次元配列は以下のように宣言する．\n",
    "```\n",
    "要素の型　配列名[行数][列数];\n",
    "```\n",
    "この配列は `行数 x 列数`の要素数を持つ．"
   ]
  },
  {
   "cell_type": "markdown",
   "id": "e8382984",
   "metadata": {},
   "source": [
    "たとえば，int 型の要素が3行4列の形に並んだ２次元配列は\n",
    "```c\n",
    "int a[3][4];\n",
    "```\n",
    "  \n",
    "のように宣言する．\n",
    "  \n",
    "  \n",
    "このように宣言された２次元配列の各行，各列には，0番から始まる番号が付けらる．\n",
    "\n",
    "`第i行`，`第j列`の場所にある要素は`配列名[i][j]`という形で表される．\n",
    "\n",
    "<img src=\"./fig/二次元配列_.png\" width=\"470\">\n",
    "\n",
    "２次元配列は行列の形に平面的にデータが配置されたと考えることができる．\n",
    "\n",
    "\n",
    "ただし，メモリ上では，２次元配列の各行（横の並び）がひとまとまりになったものが並んでいる．\n",
    "\n",
    "<img src=\"./fig/二次元配列2.png\" width=\"760\">\n"
   ]
  },
  {
   "cell_type": "markdown",
   "id": "e15e9ff1",
   "metadata": {},
   "source": [
    "# ２次元配列の初期値\n",
    "\n",
    "２次元配列の初期値の設定も１次元配列と同様に行える．\n",
    "\n",
    "各行の数値を`{ }`で括ったものを並べて，それを外側からもう一度`{ }`で括ることにより，初期値の構成を表す．\n",
    "```c\n",
    "int a[3][4] = {{1, 2, 3, 4}, {5, 6, 7, 8}, {9, 10, 11, 12}};\n",
    "```"
   ]
  },
  {
   "cell_type": "markdown",
   "id": "cf7a485a",
   "metadata": {},
   "source": [
    "sample1.cは２次元配列の宣言と初期化を同時に行っているプログラムである．\n",
    "\n",
    "---\n",
    "sample1.c\n",
    "```c\n",
    "#include <stdio.h>\n",
    "\n",
    "int main()\n",
    "{\n",
    "    int a[3][4] = {{1, 2, 3, 4}, {5, 6, 7, 8}, {9, 10, 11, 12}};\n",
    "    \n",
    "    printf(\"a[0][0] = %d\\n\", a[0][0]);\n",
    "    printf(\"a[1][0] = %d\\n\", a[1][0]);\n",
    "    printf(\"a[2][3] = %d\\n\", a[2][3]);\n",
    "\n",
    "    return 0;\n",
    "}\n",
    "```\n",
    "---"
   ]
  },
  {
   "cell_type": "markdown",
   "id": "34c75e55",
   "metadata": {},
   "source": [
    "実行結果\n",
    "```\n",
    "a[0][0] = 1 \n",
    "a[1][0] = 5\n",
    "a[2][3] = 12\n",
    "```"
   ]
  },
  {
   "cell_type": "markdown",
   "id": "d2ddf321",
   "metadata": {},
   "source": [
    "[実行の可視化](http://pythontutor.com/visualize.html#code=%23include%20%3Cstdio.h%3E%0A%0Aint%20main%28%29%0A%7B%0A%20%20%20%20int%20a%5B3%5D%5B4%5D%20%3D%20%7B%7B1,%202,%203,%204%7D,%20%7B5,%206,%207,%208%7D,%20%7B9,%2010,%2011,%2012%7D%7D%3B%0A%20%20%20%20%0A%20%20%20%20printf%28%22a%5B0%5D%5B0%5D%20%3D%20%25d%5Cn%22,%20a%5B0%5D%5B0%5D%29%3B%0A%20%20%20%20printf%28%22a%5B1%5D%5B0%5D%20%3D%20%25d%5Cn%22,%20a%5B1%5D%5B0%5D%29%3B%0A%20%20%20%20printf%28%22a%5B2%5D%5B3%5D%20%3D%20%25d%5Cn%22,%20a%5B2%5D%5B3%5D%29%3B%0A%0A%20%20%20%20return%200%3B%0A%7D&cumulative=false&curInstr=0&heapPrimitives=nevernest&mode=display&origin=opt-frontend.js&py=c_gcc9.3.0&rawInputLstJSON=%5B%5D&textReferences=false)"
   ]
  },
  {
   "cell_type": "markdown",
   "id": "1843e613",
   "metadata": {},
   "source": [
    "# ２次元配列の表示\n",
    "２次元配列は，for文2つの2重ループを使うと，配列の全ての要素を表示することができる．"
   ]
  },
  {
   "cell_type": "markdown",
   "id": "a9229a0a",
   "metadata": {},
   "source": [
    "sample2.cは，２重のforループ（ネストしたforループ）を使って，二次元配列の要素の値を表示するプログラムである．\n",
    "\n",
    "---\n",
    "sample2.c\n",
    "```c\n",
    "#include <stdio.h>\n",
    "\n",
    "int main()\n",
    "{\n",
    "    int a[3][4] = {{1, 2, 3, 4}, {5, 6, 7, 8}, {9, 10, 11, 12}};\n",
    "    int i, j;\n",
    "    for (i = 0; i < 3; i++){\n",
    "        for (j = 0; j < 4; j++){\n",
    "            printf(\"%d \", a[i][j]);\n",
    "        }\n",
    "        printf(\"\\n\");\n",
    "    }\n",
    "    \n",
    "    return 0;\n",
    "}\n",
    "```"
   ]
  },
  {
   "cell_type": "markdown",
   "id": "db5e1ecb",
   "metadata": {},
   "source": [
    "実行結果\n",
    "```\n",
    "1 2 3 4 \n",
    "5 6 7 8 \n",
    "9 10 11 12 \n",
    "```"
   ]
  },
  {
   "cell_type": "markdown",
   "id": "6ae9f8ef",
   "metadata": {},
   "source": [
    "[実行の可視化](http://pythontutor.com/visualize.html#code=%23include%20%3Cstdio.h%3E%0A%0Aint%20main%28%29%0A%7B%0A%20%20int%20a%5B3%5D%5B4%5D%20%3D%20%7B%7B1,%202,%203,%204%7D,%20%7B5,%206,%207,%208%7D,%20%7B9,%2010,%2011,%2012%7D%7D%3B%0A%20%20int%20i,%20j%3B%0A%20%20for%20%28i%20%3D%200%3B%20i%20%3C%203%3B%20i%2B%2B%29%7B%0A%20%20%20%20for%20%28j%20%3D%200%3B%20j%20%3C%204%3B%20j%2B%2B%29%7B%0A%20%20%20%20%20%20printf%28%22%25d%20%22,%20a%5Bi%5D%5Bj%5D%29%3B%0A%20%20%20%20%7D%0A%20%20%20%20printf%28%22%5Cn%22%29%3B%0A%20%20%7D%0A%0A%20%20return%200%3B%0A%7D&cumulative=false&curInstr=0&heapPrimitives=nevernest&mode=display&origin=opt-frontend.js&py=c_gcc9.3.0&rawInputLstJSON=%5B%5D&textReferences=false)"
   ]
  }
 ],
 "metadata": {
  "kernelspec": {
   "display_name": "C",
   "language": "c",
   "name": "c"
  },
  "language_info": {
   "file_extension": ".c",
   "mimetype": "text/x-csrc",
   "name": "text/x-csrc"
  },
  "toc": {
   "base_numbering": 1,
   "nav_menu": {},
   "number_sections": true,
   "sideBar": true,
   "skip_h1_title": false,
   "title_cell": "Table of Contents",
   "title_sidebar": "Contents",
   "toc_cell": false,
   "toc_position": {},
   "toc_section_display": true,
   "toc_window_display": true
  }
 },
 "nbformat": 4,
 "nbformat_minor": 5
}
