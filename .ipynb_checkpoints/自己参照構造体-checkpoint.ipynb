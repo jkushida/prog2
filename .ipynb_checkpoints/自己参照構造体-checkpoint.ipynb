{
 "cells": [
  {
   "cell_type": "markdown",
   "id": "bf819c7e",
   "metadata": {},
   "source": [
    "# 自己参照構造体"
   ]
  },
  {
   "cell_type": "markdown",
   "id": "8688d51b",
   "metadata": {},
   "source": [
    "自己参照構造体とは，メンバに自分自身と同じタグの構造体をポインタで宣言している構造体である．\n",
    "\n",
    "```c\n",
    "typedef struct node {\n",
    "    int key;\n",
    "    char name[7];\n",
    "    struct node *next;　　// 自分自身の型へのポインタ\n",
    "}node_t;\n",
    "```\n",
    "\n",
    "この自己参照構造体は，主に**リスト構造**や**木構造**で用いられる．\n",
    "\n",
    "以下の図はリスト構造の例であり，ポインタ変数を使ってノード間にリンク張り，チェーンのようにつなげている．\n",
    "\n",
    "\n",
    "<img src=\"./fig/自己参照構造体.png\" width=\"600\">"
   ]
  },
  {
   "cell_type": "markdown",
   "id": "ba496006",
   "metadata": {},
   "source": [
    "# 単方向リスト\n"
   ]
  },
  {
   "cell_type": "code",
   "execution_count": 8,
   "id": "0b183467",
   "metadata": {},
   "outputs": [
    {
     "name": "stdout",
     "output_type": "stream",
     "text": [
      "103 Itou\n",
      "102 Yamada\n",
      "101 Tanama\n"
     ]
    }
   ],
   "source": [
    "#include <stdio.h>\n",
    "#include <string.h>\n",
    "#include <stdlib.h>\n",
    "\n",
    "// 自己参照構造体の宣言\n",
    "typedef struct node {\n",
    "    int key;\n",
    "    char name[7];\n",
    "    struct node *next;\n",
    "}node_t;\n",
    "\n",
    "// リストの先頭にデータを追加する関数\n",
    "node_t *add_node(int key, char *name, node_t *head);\n",
    "\n",
    "//リストのデータを先頭から順に表示する関数\n",
    "void print_node(node_t *head);\n",
    "\n",
    "int main(){\n",
    "    node_t *head; // リストの先頭を指すポインタ\n",
    "    char *name;\n",
    "    int key;\n",
    "    \n",
    "    head = NULL; // 最初はリストは空なので，headにNULLを設定\n",
    "    \n",
    "    // データ1\n",
    "    name = \"Tanama\";\n",
    "    key = 101;\n",
    "    \n",
    "    // データをリストの先頭に追加\n",
    "    head = add_node(key, name, head);\n",
    "    \n",
    "    // データ2\n",
    "    name = \"Yamada\";\n",
    "    key = 102;\n",
    "    \n",
    "    // データをリストの先頭に追加\n",
    "    head = add_node(key, name, head);\n",
    "    \n",
    "    // データ3\n",
    "    name = \"Itou\";\n",
    "    key = 103;\n",
    "    \n",
    "    // データをリストの先頭に追加\n",
    "    head = add_node(key, name, head);    \n",
    "    \n",
    "    \n",
    "    // リストのデータを表示\n",
    "    print_node(head);\n",
    "    \n",
    "    return 0;\n",
    "}\n",
    "\n",
    "node_t *add_node(int key, char *name, node_t *head){\n",
    "    node_t *p;\n",
    "    \n",
    "    // ノード一つ分のデータ領域を確保\n",
    "    if((p = (node_t *)malloc(sizeof( node_t)))==NULL){\n",
    "        printf(\"malloc error\");\n",
    "        exit(1);\n",
    "    }\n",
    "    \n",
    "    // 生成したノードにデータを代入\n",
    "    p->key = key;\n",
    "    strcpy(p->name, name);\n",
    "    \n",
    "    // ポインタをつなぎ替える\n",
    "    p->next = head;\n",
    "    head = p;\n",
    "    \n",
    "    // 更新したheadを返却する\n",
    "    return head;\n",
    "}\n",
    "\n",
    "void print_node(node_t *p){\n",
    "  while(p!=NULL){\n",
    "    printf(\"%d %s\\n\",p->key, p->name);\n",
    "    p = p->next;\n",
    "  }\n",
    "}"
   ]
  },
  {
   "cell_type": "code",
   "execution_count": null,
   "id": "01c8a763",
   "metadata": {},
   "outputs": [],
   "source": []
  },
  {
   "cell_type": "code",
   "execution_count": null,
   "id": "dec3d5c0",
   "metadata": {
    "collapsed": true
   },
   "outputs": [],
   "source": []
  }
 ],
 "metadata": {
  "kernelspec": {
   "display_name": "C",
   "language": "c",
   "name": "c"
  },
  "language_info": {
   "file_extension": ".c",
   "mimetype": "text/x-csrc",
   "name": "text/x-csrc"
  },
  "toc": {
   "base_numbering": 1,
   "nav_menu": {},
   "number_sections": true,
   "sideBar": true,
   "skip_h1_title": false,
   "title_cell": "Table of Contents",
   "title_sidebar": "Contents",
   "toc_cell": false,
   "toc_position": {},
   "toc_section_display": true,
   "toc_window_display": true
  }
 },
 "nbformat": 4,
 "nbformat_minor": 5
}
