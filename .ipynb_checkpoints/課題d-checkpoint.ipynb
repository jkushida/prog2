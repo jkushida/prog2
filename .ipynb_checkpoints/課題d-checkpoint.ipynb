{
 "cells": [
  {
   "cell_type": "markdown",
   "id": "2001894a",
   "metadata": {},
   "source": [
    "**課題d**\n",
    "\n",
    "構造体\n",
    "\n",
    "https://pythontutor.com/\n",
    "\n",
    "https://replit.com/"
   ]
  },
  {
   "cell_type": "markdown",
   "id": "0e6fad52",
   "metadata": {},
   "source": [
    "# 構造体の基本"
   ]
  },
  {
   "cell_type": "markdown",
   "id": "9d9604df",
   "metadata": {},
   "source": [
    "## \n",
    "\n",
    "以下は, **int型の no,  char型の配列 name[10],   int型の point をメンバとして持つ構造体**を用いたプログラムである．\n",
    "\n",
    "実行結果と同様の出力が表示されるように, プログラムを完成させよ．\n",
    "\n",
    "```c\n",
    "#include <stdio.h>\n",
    "\n",
    "/* 構造体の枠型の宣言を書く */\n",
    "\n",
    "int main()\n",
    "{\n",
    "    struct student seito1 = { 1001, \"Tanaka\", 70};\n",
    "    \n",
    "    printf( \"%d %s %d\\n\", seito1.no, seito1.name, seito1.point);\n",
    "    return 0;\n",
    "}\n",
    "```\n",
    "\n",
    "実行結果\n",
    "```\n",
    "1001 Tanaka 70\n",
    "```"
   ]
  },
  {
   "cell_type": "code",
   "execution_count": 1,
   "id": "eb140174",
   "metadata": {},
   "outputs": [
    {
     "name": "stdout",
     "output_type": "stream",
     "text": [
      "1001 Tanaka 70\n"
     ]
    }
   ],
   "source": [
    "// 解答\n",
    "#include <stdio.h>\n",
    "\n",
    "struct student{\n",
    "    int no;\n",
    "    char name[10];\n",
    "    int point;\n",
    "};\n",
    "\n",
    "int main()\n",
    "{\n",
    "    struct student seito1 = { 1001, \"Tanaka\", 70};\n",
    "    \n",
    "    printf( \"%d %s %d\\n\", seito1.no, seito1.name, seito1.point);\n",
    "    return 0;\n",
    "}"
   ]
  },
  {
   "cell_type": "markdown",
   "id": "48f5f90f",
   "metadata": {},
   "source": [
    "## \n",
    "\n",
    "以下は, 構造体に格納された学生の情報を表示するプログラムである．\n",
    "\n",
    "**再試験を行った結果，情報が更新されている．**\n",
    "\n",
    "\n",
    "実行結果と同様の出力が表示されるように, プログラムを完成させよ．\n",
    "\n",
    "```c\n",
    "#include <stdio.h>\n",
    "\n",
    "// 構造体の枠型の宣言\n",
    "struct student{\n",
    "    int no;           // 学籍番号\n",
    "    char name[10];    // 氏名\n",
    "    int test1;        // テスト1の点\n",
    "    int test2;        // テスト2の点\n",
    "    double average;   // テストの平均点\n",
    "};\n",
    "\n",
    "int main()\n",
    "{\n",
    "    struct student seito1 = {5, \"Yamada\", 80, 70};\n",
    "    \n",
    "    /* コードを書く */\n",
    "    \n",
    "    // 構造体の持つ情報を表示\n",
    "    printf(\"更新前 学生番号: %d,  氏名: %s, 平均点: %f\\n\", seito1.no, seito1.name, seito1.average);\n",
    "    \n",
    "    // 再試験\n",
    "    seito1.test1 = 85;\n",
    "    seito1.test2 = 75;\n",
    "    \n",
    "    /* コードを書く */\n",
    "    //　更新後の情報を表示\n",
    "    \n",
    "    return 0;\n",
    "}\n",
    "```\n",
    "\n",
    "実行結果\n",
    "```\n",
    "更新前 学生番号: 5,  氏名: Yamada, 平均点: 75.0\n",
    "更新後 学生番号: 5,  氏名: Yamada, 平均点: 80.0\n",
    "\n",
    "```"
   ]
  },
  {
   "cell_type": "code",
   "execution_count": 2,
   "id": "b804e947",
   "metadata": {},
   "outputs": [
    {
     "name": "stdout",
     "output_type": "stream",
     "text": [
      "更新前 学生番号: 5,  氏名: Yamada, 平均点: 75.0\n",
      "更新後 学生番号: 5,  氏名: Yamada, 平均点: 80.0\n"
     ]
    }
   ],
   "source": [
    "// 解答\n",
    "#include <stdio.h>\n",
    "\n",
    "// 構造体の枠型の宣言\n",
    "struct student{\n",
    "    int no;           // 学籍番号\n",
    "    char name[10];    // 氏名\n",
    "    int test1;        // テスト1の点\n",
    "    int test2;        // テスト2の点\n",
    "    double average;   // テストの平均点\n",
    "};\n",
    "\n",
    "int main()\n",
    "{\n",
    "    struct student seito1 = {5, \"Yamada\", 80, 70};\n",
    "    \n",
    "    seito1.average = (seito1.test1 + seito1.test2)/2.0;\n",
    "    \n",
    "    // 構造体の持つ情報を表示\n",
    "    printf(\"更新前 学生番号: %d,  氏名: %s, 平均点: %0.1f\\n\", seito1.no, seito1.name, seito1.average);\n",
    "    \n",
    "    // 再試験\n",
    "    seito1.test1 = 85;\n",
    "    seito1.test2 = 75;\n",
    "    \n",
    "    seito1.average = (seito1.test1 + seito1.test2)/2.0;\n",
    "    \n",
    "    printf(\"更新後 学生番号: %d,  氏名: %s, 平均点: %0.1f\\n\", seito1.no, seito1.name, seito1.average);\n",
    "    \n",
    "    return 0;\n",
    "}"
   ]
  },
  {
   "cell_type": "markdown",
   "id": "12592fa7",
   "metadata": {},
   "source": [
    "## \n",
    "\n",
    "以下は, 構造体srcの情報を同じ型の構造体であるdestにコピーするプログラムである．\n",
    "\n",
    "\n",
    "実行結果と同様の出力が表示されるように, プログラムを完成させよ．\n",
    "\n",
    "hint: 構造体のコピー 同じ型\n",
    "\n",
    "\n",
    "```c\n",
    "#include <stdio.h>\n",
    "\n",
    "// 構造体の枠型の宣言\n",
    "struct INT_MEMBERS {\n",
    "    int a, b, c;\n",
    "};\n",
    "\n",
    "int main(void)\n",
    "{\n",
    "    struct INT_MEMBERS src, dest;\n",
    "    \n",
    "    src.a = 1;\n",
    "    src.b = 2;\n",
    "    src.c = 3;\n",
    "    \n",
    "    /* コードを書く */\n",
    "    \n",
    "    printf(\"dest.a = %d\\n\", dest.a);\n",
    "    printf(\"dest.b = %d\\n\", dest.b);\n",
    "    printf(\"dest.b = %d\\n\", dest.c);\n",
    "    \n",
    "    return 0;\n",
    "}\n",
    "\n",
    "```\n",
    "\n",
    "実行結果\n",
    "```\n",
    "dest.a = 1\n",
    "dest.b = 2\n",
    "dest.b = 3\n",
    "```"
   ]
  },
  {
   "cell_type": "code",
   "execution_count": 3,
   "id": "8911540d",
   "metadata": {},
   "outputs": [
    {
     "name": "stdout",
     "output_type": "stream",
     "text": [
      "dest.a = 1\n",
      "dest.b = 2\n",
      "dest.b = 3\n"
     ]
    }
   ],
   "source": [
    "// 解答\n",
    "#include <stdio.h>\n",
    "\n",
    "// 構造体の枠型の宣言\n",
    "struct INT_MEMBERS {\n",
    "    int a, b, c;\n",
    "};\n",
    "\n",
    "int main(void)\n",
    "{\n",
    "    struct INT_MEMBERS src, dest;\n",
    "\n",
    "    src.a = 1;\n",
    "    src.b = 2;\n",
    "    src.c = 3;\n",
    "\n",
    "    // 構造体のコピー\n",
    "    dest = src;\n",
    "\n",
    "    printf(\"dest.a = %d\\n\", dest.a);\n",
    "    printf(\"dest.b = %d\\n\", dest.b);\n",
    "    printf(\"dest.b = %d\\n\", dest.c);\n",
    "\n",
    "    return 0;\n",
    "}"
   ]
  },
  {
   "cell_type": "markdown",
   "id": "d47070a1",
   "metadata": {},
   "source": [
    "## \n",
    "\n",
    "次の処理を行うプログラムを作成せよ．\n",
    "\n",
    "1. 作業フォルダに **seiseki.dat** というファイルを作成する\n",
    "2. キーボードから受験番号, 英語, 数学, 国語の得点を入力する．\n",
    "2. 3科目の合計点を計算する．\n",
    "3. 受験番号, 英語, 数学, 国語の得点, 合計点をファイルに書き込む．\n",
    "4. 受験番号が0以下のときは, 処理を終了する．\n",
    "\n",
    "\n",
    "実行例\n",
    "\n",
    "- 端末での入力\n",
    "\n",
    "```\n",
    "受験番号 => 101\n",
    "英語　数学　国語の点 => 70 80 90\n",
    "受験番号 => 102\n",
    "英語　数学　国語の点 => 80 90 100\n",
    "受験番号 => 103\n",
    "英語　数学　国語の点 => 60 70 60\n",
    "受験番号 => 0\n",
    "\n",
    "```\n",
    "\n",
    "- 作成された seiseki.dat の中身\n",
    "\n",
    "```\n",
    "101 70 80 90 240\n",
    "102 80 90 100 270\n",
    "103 60 70 60 190\n",
    "```\n"
   ]
  },
  {
   "cell_type": "code",
   "execution_count": 4,
   "id": "349d3a86",
   "metadata": {},
   "outputs": [
    {
     "name": "stderr",
     "output_type": "stream",
     "text": [
      "In file included from /var/folders/17/1fkqsg691_3flnsv7g5_wrz80000gn/T/tmpc6dsf7s1.c:1:\n",
      "/Users/kushida/Desktop/tmp/jupyter-c-kernel/jupyter_c_kernel/resources/stdio_wrap.h:279:47: warning: token pasting of ',' and __VA_ARGS__ is a GNU extension [-Wgnu-zero-variadic-macro-arguments]\n",
      "#define scanf(format, ...) scanf_wrap(format, ##__VA_ARGS__, &scanf_wrap_number_read)\n",
      "                                              ^\n",
      "/Users/kushida/Desktop/tmp/jupyter-c-kernel/jupyter_c_kernel/resources/stdio_wrap.h:279:47: warning: token pasting of ',' and __VA_ARGS__ is a GNU extension [-Wgnu-zero-variadic-macro-arguments]\n",
      "/Users/kushida/Desktop/tmp/jupyter-c-kernel/jupyter_c_kernel/resources/stdio_wrap.h:279:47: warning: token pasting of ',' and __VA_ARGS__ is a GNU extension [-Wgnu-zero-variadic-macro-arguments]\n",
      "3 warnings generated.\n"
     ]
    },
    {
     "name": "stdout",
     "output_type": "stream",
     "text": [
      "受験番号 => 101\n",
      "英語　数学　国語の点 => 70 80 90\n",
      "受験番号 => 102\n",
      "英語　数学　国語の点 => 80 90 100\n",
      "受験番号 => 103\n",
      "英語　数学　国語の点 => 60 70 60\n",
      "受験番号 => 0\n"
     ]
    }
   ],
   "source": [
    "#include <stdio.h>\n",
    "\n",
    "int main(void)\n",
    "{\n",
    "    int    jno;\n",
    "    int    ei, suu, kok, total;\n",
    "    FILE   *outfp;\n",
    "    \n",
    "    outfp = fopen(\"seiseki.dat\",\"w\");\n",
    "    printf(\"受験番号 => \");\n",
    "    scanf(\"%d\",&jno);\n",
    "    while(jno>0) {\n",
    "        printf(\"英語　数学　国語の点 => \");\n",
    "        scanf(\"%d %d %d\", &ei, &suu, &kok);\n",
    "        total = ei + suu + kok;\n",
    "        \n",
    "        fprintf(outfp,\"%d %d %d %d %d\\n\", jno, ei, suu, kok, total);\n",
    "        printf(\"受験番号 => \");\n",
    "        scanf(\"%d\", &jno);\n",
    "    }\n",
    "    fclose(outfp);\n",
    "    \n",
    "    return 0;\n",
    "}\n",
    "\n"
   ]
  },
  {
   "cell_type": "markdown",
   "id": "b18e6d6e",
   "metadata": {},
   "source": [
    "## \n",
    "\n",
    "問題xx（前の問題）で作成した **seiseki.dat** を開き, ファイルから受験番号と英語, 数学, 国語の得点を読み出し，以下のように出力するプログラムを作成せよ．\n",
    "\n",
    "実行例\n",
    "\n",
    "```\n",
    "受験番号　英語　数学　国語　合計\n",
    "    101    70    80    90   240\n",
    "    102    80    90   100   270\n",
    "    103    60    70    60   190\n",
    "```"
   ]
  },
  {
   "cell_type": "code",
   "execution_count": 5,
   "id": "5c4418f3",
   "metadata": {},
   "outputs": [
    {
     "name": "stdout",
     "output_type": "stream",
     "text": [
      "受験番号　英語　数学　国語　合計\n",
      "    101    70    80    90   240\n",
      "    102    80    90   100   270\n",
      "    103    60    70    60   190\n"
     ]
    }
   ],
   "source": [
    "/*  例題８−４  */\n",
    "#include <stdio.h>\n",
    "\n",
    "int  main(void)\n",
    "{\n",
    "    int    jno;\n",
    "    int    ei, suu, kok, kei;\n",
    "    FILE   *infp;\n",
    "    infp = fopen(\"seiseki.dat\",\"r\");\n",
    "    printf(\"受験番号　英語　数学　国語　合計\\n\");\n",
    "    while(fscanf(infp,\"%d %d %d %d %d\", &jno, &ei, &suu, &kok, &kei) != EOF)\n",
    "    {\n",
    "        kei = ei + suu + kok;\n",
    "        printf(\"%7d %5d %5d %5d %5d\\n\", jno, ei, suu, kok, kei);\n",
    "    }\n",
    "    fclose(infp);\n",
    "    return 0;\n",
    "}"
   ]
  },
  {
   "cell_type": "markdown",
   "id": "b491a5c6",
   "metadata": {},
   "source": [
    "## \n",
    "\n",
    "以下の表の３人分の番号，氏名，年齢，勤務年数のデータを**構造体配列**に格納せよ．\n",
    "\n",
    "また，以下のように表示せよ．ただし, for文を用いること.\n",
    "\n",
    "|番号 |\t 氏名 \t| 年齢 \t|勤務年数|\n",
    "| :---:  | :---:  | :---: | :---:  |\n",
    "|1 \t  |  田中 \t|     21 \t   | 4 |\n",
    "|2 \t  |  山田 \t |    19 \t    | 3 |\n",
    "|3 \t  |  坂本 \t |    20 \t    | 5 |\n",
    "\n",
    "\n",
    "実行結果\n",
    "```\n",
    "番号 \t 氏名 \t 年齢 \t勤務年数\n",
    "1 \t    田中 \t     21 \t     4 \n",
    "2 \t    山田 \t     19 \t     3 \n",
    "3 \t    坂本 \t     20 \t     5 \n",
    "```"
   ]
  },
  {
   "cell_type": "code",
   "execution_count": 6,
   "id": "5bf3adca",
   "metadata": {},
   "outputs": [
    {
     "name": "stdout",
     "output_type": "stream",
     "text": [
      "番号 \t 氏名 \t 年齢 \t勤務年数\n",
      "1 \t 田中 \t 21 \t 4 \n",
      "2 \t 山田 \t 19 \t 3 \n",
      "3 \t 坂本 \t 20 \t 5 \n"
     ]
    }
   ],
   "source": [
    "/* 演習問題８−２ */\n",
    "#include <stdio.h>\n",
    "struct  member\n",
    "{\n",
    "    int     no;\n",
    "    char    name[20];\n",
    "    int     age;\n",
    "    int     exp;\n",
    "};\n",
    "\n",
    "int main(void)\n",
    "{\n",
    "    \n",
    "    struct  member\n",
    "    s[3]={\n",
    "        {1, \"田中\", 21, 4},\n",
    "        {2, \"山田\", 19, 3},\n",
    "        {3, \"坂本\", 20, 5}\n",
    "    };\n",
    "    int  i;\n",
    "    \n",
    "    printf (\"番号 \\t 氏名 \\t 年齢 \\t勤務年数\\n\");\n",
    "    for (i=0; i<3; i++) {\n",
    "        printf (\"%d \\t %s \\t %d \\t %d \\n\",s[i].no, s[i].name, s[i].age, s[i].exp);\n",
    "    }\n",
    "    return 0;\n",
    "}"
   ]
  },
  {
   "cell_type": "code",
   "execution_count": null,
   "id": "a0331854",
   "metadata": {},
   "outputs": [],
   "source": []
  }
 ],
 "metadata": {
  "kernelspec": {
   "display_name": "C",
   "language": "c",
   "name": "c"
  },
  "language_info": {
   "file_extension": ".c",
   "mimetype": "text/x-csrc",
   "name": "text/x-csrc"
  },
  "toc": {
   "base_numbering": 1,
   "nav_menu": {},
   "number_sections": true,
   "sideBar": true,
   "skip_h1_title": false,
   "title_cell": "Table of Contents",
   "title_sidebar": "Contents",
   "toc_cell": false,
   "toc_position": {
    "height": "calc(100% - 180px)",
    "left": "10px",
    "top": "150px",
    "width": "232.594px"
   },
   "toc_section_display": true,
   "toc_window_display": true
  }
 },
 "nbformat": 4,
 "nbformat_minor": 5
}
