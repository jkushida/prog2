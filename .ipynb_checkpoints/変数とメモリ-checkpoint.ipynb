{
 "cells": [
  {
   "cell_type": "markdown",
   "id": "e40057c7",
   "metadata": {},
   "source": [
    "- プログラムでデータを扱う場合，データの入れ物である変数を用意する．\n",
    "- 変数は，値や文字などを持つことができる入れ物\n",
    "- 変数にデータを記憶させる際には，メモリの空いている空間に変数を配置させる．"
   ]
  },
  {
   "cell_type": "code",
   "execution_count": 2,
   "id": "e761b992",
   "metadata": {},
   "outputs": [
    {
     "name": "stdout",
     "output_type": "stream",
     "text": [
      "a = 15\n"
     ]
    }
   ],
   "source": [
    "#include <stdio.h>\n",
    "\n",
    "int main(void) {\n",
    "    int  a;\n",
    "\n",
    "    a = 5 * 3;\n",
    "\n",
    "    printf(\"a = %d\\n\", a);\n",
    "\n",
    "    return 0;\n",
    "}"
   ]
  },
  {
   "cell_type": "markdown",
   "id": "14de99a0",
   "metadata": {},
   "source": [
    "```bash\n",
    "% gcc variable1.c\n",
    "% ./a.out\n",
    "a = 15\n",
    "```"
   ]
  },
  {
   "cell_type": "markdown",
   "id": "20722b5c",
   "metadata": {},
   "source": [
    "# 四則演算\n",
    "\n",
    "\n",
    "    \n",
    "|  演算子  |  意味  |\n",
    "| :---: | :---: | \n",
    "|  +  |  和 (足し算)  |\n",
    "|  -  |   差   (引き算)|\n",
    "|  *  |  積 (掛け算) |\n",
    "|  /  |  商 (割り算)  |\n",
    "|  %  |  剰余（整数の割り算の余り）  |"
   ]
  },
  {
   "cell_type": "markdown",
   "id": "427bc4e4",
   "metadata": {},
   "source": [
    "# 型宣言\n"
   ]
  },
  {
   "cell_type": "markdown",
   "id": "f14005f3",
   "metadata": {},
   "source": [
    "<img src=\"./fig/変数.png\" width=\"450\">\n"
   ]
  },
  {
   "cell_type": "markdown",
   "id": "f15a2de5",
   "metadata": {},
   "source": [
    "\n",
    "\n",
    "\n",
    "|変数の型\t| 宣言例\t|画面への出力\t|キーボードからの入力|\n",
    "| :---: | :---: | :---: | :---: | \n",
    "|整数\t| int  a;\t| printf(\"%d\",a);\t| scanf(\"%d\",&a);|\n",
    "|実数\t| double  a; |\tprintf(\"%f\",a);\t| scanf(\"%lf\",&a);|\n",
    "|文字(1文字) |\tchar  a; |\tprintf(\"%c\",a); |\tscanf(\"%c\",&a);|\n",
    "|文字列 |\tchar  a[20];\t| printf(\"%s\",a);\t| scanf(\"%s\",a);|\n",
    "    \n",
    "    \n",
    "\n",
    "  "
   ]
  },
  {
   "cell_type": "code",
   "execution_count": null,
   "id": "7187d169",
   "metadata": {},
   "outputs": [],
   "source": [
    "#include <stdio.h>\n",
    "\n",
    "int main(void) {\n",
    "\n",
    "    int a;\n",
    "\n",
    "    printf(\"整数を入力してください\\n\");\n",
    "    scanf(\"%d\",&a);\n",
    "\n",
    "    printf(\"入力された整数 = %d\\n\", a);\n",
    "\n",
    "    return 0;\n",
    "}"
   ]
  },
  {
   "cell_type": "markdown",
   "id": "2fb1e4e3",
   "metadata": {},
   "source": [
    "```bash\n",
    "% ./a.out\n",
    "整数を入力してください\n",
    "3\n",
    "入力された整数 = 3\n",
    "```"
   ]
  },
  {
   "cell_type": "code",
   "execution_count": 9,
   "id": "65a95a06",
   "metadata": {},
   "outputs": [
    {
     "name": "stderr",
     "output_type": "stream",
     "text": [
      "In file included from /var/folders/17/1fkqsg691_3flnsv7g5_wrz80000gn/T/tmpsmb8jl6g.c:1:\n",
      "/Users/kushida/Desktop/tmp/jupyter-c-kernel/jupyter_c_kernel/resources/stdio_wrap.h:279:47: warning: token pasting of ',' and __VA_ARGS__ is a GNU extension [-Wgnu-zero-variadic-macro-arguments]\n",
      "#define scanf(format, ...) scanf_wrap(format, ##__VA_ARGS__, &scanf_wrap_number_read)\n",
      "                                              ^\n",
      "1 warning generated.\n"
     ]
    },
    {
     "name": "stdout",
     "output_type": "stream",
     "text": [
      "小数を入力してください\n",
      "0.4\n",
      "入力された小数 = 0.400000\n"
     ]
    }
   ],
   "source": [
    "#include <stdio.h>\n",
    "\n",
    "int main(void) {\n",
    "\n",
    "    double a;\n",
    "\n",
    "    printf(\"小数を入力してください\\n\");\n",
    "    scanf(\"%lf\",&a);\n",
    "\n",
    "    printf(\"入力された小数 = %f\\n\", a);\n",
    "\n",
    "    return 0;\n",
    "}"
   ]
  },
  {
   "cell_type": "code",
   "execution_count": null,
   "id": "88794261",
   "metadata": {},
   "outputs": [],
   "source": []
  }
 ],
 "metadata": {
  "kernelspec": {
   "display_name": "C",
   "language": "c",
   "name": "c"
  },
  "language_info": {
   "file_extension": ".c",
   "mimetype": "text/x-csrc",
   "name": "text/x-csrc"
  },
  "toc": {
   "base_numbering": 1,
   "nav_menu": {},
   "number_sections": true,
   "sideBar": true,
   "skip_h1_title": false,
   "title_cell": "Table of Contents",
   "title_sidebar": "Contents",
   "toc_cell": false,
   "toc_position": {},
   "toc_section_display": true,
   "toc_window_display": true
  }
 },
 "nbformat": 4,
 "nbformat_minor": 5
}
