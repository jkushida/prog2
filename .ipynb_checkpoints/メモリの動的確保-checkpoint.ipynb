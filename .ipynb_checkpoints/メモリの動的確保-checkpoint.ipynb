{
 "cells": [
  {
   "cell_type": "markdown",
   "id": "6a2f3dcb",
   "metadata": {},
   "source": [
    "# 静的なメモリ領域の確保\n",
    "```c\n",
    "int data1[]={1, 2, 3, 4, 5, 6, 7, 8, 9, 10}; /* int型の配列 */\n",
    "\n",
    "double data2[100];     /* double型の配列 */\n",
    "```\n",
    "\n",
    "上記のように宣言すると，これらの配列に必要なメモリ領域はプログラムの作成時点（＝コンパイル時）で確保され，プログラム終了時までそのまま保持される．\n",
    "\n",
    "このような方法を**静的なメモリ領域の確保**という．\n",
    "\n",
    "プログラムを書く時点でメモリサイズが決まっているデータを扱う際には, この方法で問題はない．"
   ]
  },
  {
   "cell_type": "markdown",
   "id": "1eb35e24",
   "metadata": {},
   "source": [
    "# 動的なメモリ領域の確保\n",
    "\n",
    "c言語では，ソースコードを書いている時点でメモリサイズを決めるのが難しい場合がある．\n",
    "\n",
    "例えばファイルから読み込んだ文字列を配列に格納するプログラムなどは，読み込むファイルが変わるとファイルのサイズが変わる．そのため，必要になるサイズも毎回変わってしまう．\n",
    "\n",
    "よって，プログラム起動時に確保されたメモリ以外のメモリを後から（プログラム起動した後から）追加で確保する手段**（動的なメモリ領域の確保）**が必要となる．\n",
    "\n",
    "- メモリを動的に確保する際はmalloc関数を使う．\n",
    " \n",
    "- malloc関数を使う際は，<stdlib.h>をインクルードする．\n",
    "\n"
   ]
  },
  {
   "cell_type": "code",
   "execution_count": 1,
   "id": "bb98443f",
   "metadata": {},
   "outputs": [
    {
     "name": "stderr",
     "output_type": "stream",
     "text": [
      "In file included from /var/folders/17/1fkqsg691_3flnsv7g5_wrz80000gn/T/tmp6x1txpo4.c:1:\n",
      "/Users/kushida/Desktop/tmp/jupyter-c-kernel/jupyter_c_kernel/resources/stdio_wrap.h:279:47: warning: token pasting of ',' and __VA_ARGS__ is a GNU extension [-Wgnu-zero-variadic-macro-arguments]\n",
      "#define scanf(format, ...) scanf_wrap(format, ##__VA_ARGS__, &scanf_wrap_number_read)\n",
      "                                              ^\n",
      "1 warning generated.\n"
     ]
    },
    {
     "name": "stdout",
     "output_type": "stream",
     "text": [
      "5\n",
      "0 1 2 3 4 \n"
     ]
    }
   ],
   "source": [
    "#include <stdio.h>\n",
    "#include <stdlib.h>\n",
    "\n",
    "int main(void) {\n",
    "  int *ip;        // int型のポインタipを宣言\n",
    "  int i, n ;\n",
    " \n",
    "  scanf(\"%d\", &n);  // プログラム起動後にnの値が決まる\n",
    "  ip = (int *)malloc(n * sizeof(int));  // メモリ領域の確保\n",
    "  for (i=0; i<n; i++)\n",
    "    ip[i] = i;\n",
    "    // *(ip+i) = i; \n",
    "\n",
    "\n",
    "  for (i=0;i < n; i++)\n",
    "    printf(\"%d \", ip[i]);\n",
    "  printf(\"\\n\");\n",
    "\n",
    "  free(ip);       // 確保したメモリ領域の解放 (プロセス終了時に開放されるので無くてもよい)\n",
    "                       \n",
    "\n",
    "  return 0;\n",
    "}"
   ]
  },
  {
   "cell_type": "markdown",
   "id": "a0e5731a",
   "metadata": {},
   "source": [
    "[実行の可視化](http://pythontutor.com/visualize.html#code=%23include%20%3Cstdio.h%3E%0A%23include%20%3Cstdlib.h%3E%0A%0Aint%20main%28void%29%20%7B%0A%20%20int%20*ip%3B%20%20%20%20%20%20%20%20//%20int%E5%9E%8B%E3%81%AE%E3%83%9D%E3%82%A4%E3%83%B3%E3%82%BFip%E3%82%92%E5%AE%A3%E8%A8%80%0A%20%20int%20i,%20n%3B%0A%20%0A%20%20n%20%3D%205%3B%0A%20%20ip%20%3D%20%28int%20*%29malloc%28n%20*%20sizeof%28int%29%29%3B%20%20//%20%E3%83%A1%E3%83%A2%E3%83%AA%E9%A0%98%E5%9F%9F%E3%81%AE%E7%A2%BA%E4%BF%9D%0A%20%20for%20%28i%3D0%3B%20i%3Cn%3B%20i%2B%2B%29%0A%20%20%20%20ip%5Bi%5D%20%3D%20i%3B%0A%20%20%20%20//%20*%28ip%2Bi%29%20%3D%20i%3B%20%0A%0A%20%20for%20%28i%3D0%3Bi%20%3C%20n%3B%20i%2B%2B%29%0A%20%20%20%20printf%28%22%25d%20%22,%20ip%5Bi%5D%29%3B%0A%20%20printf%28%22%5Cn%22%29%3B%0A%0A%20%20free%28ip%29%3B%20%20%20%20%20%20%20//%20%E7%A2%BA%E4%BF%9D%E3%81%97%E3%81%9F%E3%83%A1%E3%83%A2%E3%83%AA%E9%A0%98%E5%9F%9F%E3%81%AE%E8%A7%A3%E6%94%BE%0A%0A%20%20return%200%3B%0A%7D&cumulative=false&curInstr=0&heapPrimitives=nevernest&mode=display&origin=opt-frontend.js&py=c_gcc9.3.0&rawInputLstJSON=%5B%5D&textReferences=false)"
   ]
  },
  {
   "cell_type": "markdown",
   "id": "ea0295a6",
   "metadata": {},
   "source": [
    "このコードでは，`要素数n`を持つ`int型配列ip`のためのメモリ領域を，動的に確保している．\n",
    "```c\n",
    " int *ip;  \n",
    "```\n",
    "では，そのメモリ領域のアドレスを格納するためのポインタ変数を宣言している．\n",
    "\n",
    "\n",
    "■ メモリ領域の確保\n",
    "\n",
    "必要なメモリ領域をmalloc関数で確保する．\n",
    "malloc関数には，必要なメモリサイズのバイト数を引数として渡す．\n",
    "```c\n",
    "変数の型 *ポインタ名 = (キャスト)malloc( 確保するByte数 );\n",
    "```\n",
    "\n",
    "要素数`n`からなるint型配列に必要なサイズは，`n * sizeof(int)`で計算できる．\n",
    "\n",
    "```c\n",
    "ip = (int *)malloc(n * sizeof(int));\n",
    "```\n",
    "- malloc関数は，指定されたサイズのメモリ確保に成功すると，その先頭アドレスを返す．\n",
    "- `ポインタip`はそのアドレスを受けとっている．\n",
    "\n",
    "■ メモリ領域の解放\n",
    "\n",
    "- malloc関数で確保されたメモリは，free関数で解放できる．\n",
    "\n",
    "- 必要のなくなったメモリは，明示的に解放する．\n",
    "\n",
    " "
   ]
  },
  {
   "cell_type": "markdown",
   "id": "0b2ed254",
   "metadata": {},
   "source": [
    "# メモリ領域の種類\n",
    "\n",
    "\n",
    "■ スタック(stack)領域\n",
    "\n",
    "- ローカル変数，自動変数，関数の引数，戻り値などが置かれる． \n",
    "- プログラムの実行中に自動的に確保・解放される．\n",
    "\n",
    "■ ヒープ(heap)領域\n",
    "\n",
    "- malloc, callocなどの動的確保により，プログラム実行中に確保・解放される．\n",
    "- 領域の大きさは実行中に変化する．\n",
    "\n",
    "\n",
    "<img src=\"./fig/メモリ.png\" width=\"300\">"
   ]
  },
  {
   "cell_type": "code",
   "execution_count": null,
   "id": "ab5d4072",
   "metadata": {},
   "outputs": [],
   "source": []
  },
  {
   "cell_type": "code",
   "execution_count": null,
   "id": "71d7dff1",
   "metadata": {},
   "outputs": [],
   "source": []
  },
  {
   "cell_type": "code",
   "execution_count": 2,
   "id": "69f98388",
   "metadata": {},
   "outputs": [
    {
     "name": "stdout",
     "output_type": "stream",
     "text": [
      "d[000] = 1.200000\n",
      "d[001] = -3.700000\n",
      "d[002] = 5.000000\n",
      "d[003] = 15.900000\n",
      "d[004] = 7.800000\n",
      "\n",
      "d[000] = 1.200000\n",
      "d[001] = -3.700000\n",
      "d[002] = 5.000000\n",
      "d[003] = 15.900000\n",
      "d[004] = 7.800000\n"
     ]
    }
   ],
   "source": [
    "#include <stdio.h>\n",
    "#include <stdlib.h>\n",
    "\n",
    "int main(void)\n",
    "{\n",
    "    int i;\n",
    "    double *d = NULL;          /* malloc,calloc戻り値用ポインタ*/\n",
    "    size_t n = 5;        /* 配列の要素数．constでなくてもOK */\n",
    "\n",
    "//    d = (double *)calloc(n, sizeof(double) );\n",
    "    d = (double *)malloc(n * sizeof(double) );\n",
    "\n",
    "    if(d == NULL) {            /* 何らかの理由でメモリ確保に失敗した場合 */\n",
    "        printf(\"メモリ不足！\");\n",
    "        exit(1);\n",
    "    }\n",
    "\n",
    "    /* 普通に配列として使用できる */\n",
    "    d[0] = 1.2;\n",
    "    d[1] = -3.7;\n",
    "    d[2] = 5.0;\n",
    "    d[3] = 15.9;\n",
    "    d[4] = 7.8;\n",
    "    for(i=0; i<5; i++) \n",
    "        printf(\"d[%03d] = %f\\n\", i, d[i]);\n",
    "    \n",
    "    printf(\"\\n\");\n",
    "\n",
    "    /* もちろんポインタ変数としても使える */\n",
    "    for(i=0; i<n; i++) \n",
    "        printf(\"d[%03d] = %f\\n\", i, *(d+i) );\n",
    "    \n",
    "    free(d);    /* メモリ解放を忘れずに．忘れるとメモリリークを起こす． */\n",
    "    return 0;\n",
    "}"
   ]
  },
  {
   "cell_type": "markdown",
   "id": "fa19fad9",
   "metadata": {},
   "source": [
    "[実行の可視化](http://pythontutor.com/visualize.html#code=%23include%20%3Cstdio.h%3E%0A%23include%20%3Cstdlib.h%3E%0A%0Aint%20main%28void%29%0A%7B%0A%20%20%20%20int%20i%3B%0A%20%20%20%20double%20*d%20%3D%20NULL%3B%20%20%20%20%20%20%20%20%20%20/*%20malloc,calloc%E6%88%BB%E3%82%8A%E5%80%A4%E7%94%A8%E3%83%9D%E3%82%A4%E3%83%B3%E3%82%BF*/%0A%20%20%20%20size_t%20n%20%3D%205%3B%20%20%20%20%20%20%20%20/*%20%E9%85%8D%E5%88%97%E3%81%AE%E8%A6%81%E7%B4%A0%E6%95%B0%EF%BC%8Econst%E3%81%A7%E3%81%AA%E3%81%8F%E3%81%A6%E3%82%82OK%20*/%0A%0A//%20%20%20%20d%20%3D%20%28double%20*%29calloc%28n,%20sizeof%28double%29%20%29%3B%0A%20%20%20%20d%20%3D%20%28double%20*%29malloc%28n%20*%20sizeof%28double%29%20%29%3B%0A%0A%20%20%20%20if%28d%20%3D%3D%20NULL%29%20%7B%20%20%20%20%20%20%20%20%20%20%20%20/*%20%E4%BD%95%E3%82%89%E3%81%8B%E3%81%AE%E7%90%86%E7%94%B1%E3%81%A7%E3%83%A1%E3%83%A2%E3%83%AA%E7%A2%BA%E4%BF%9D%E3%81%AB%E5%A4%B1%E6%95%97%E3%81%97%E3%81%9F%E5%A0%B4%E5%90%88%20*/%0A%20%20%20%20%20%20%20%20printf%28%22%E3%83%A1%E3%83%A2%E3%83%AA%E4%B8%8D%E8%B6%B3%EF%BC%81%22%29%3B%0A%20%20%20%20%20%20%20%20exit%281%29%3B%0A%20%20%20%20%7D%0A%0A%20%20%20%20/*%20%E6%99%AE%E9%80%9A%E3%81%AB%E9%85%8D%E5%88%97%E3%81%A8%E3%81%97%E3%81%A6%E4%BD%BF%E7%94%A8%E3%81%A7%E3%81%8D%E3%82%8B%20*/%0A%20%20%20%20d%5B0%5D%20%3D%201.2%3B%0A%20%20%20%20d%5B1%5D%20%3D%20-3.7%3B%0A%20%20%20%20d%5B2%5D%20%3D%205.0%3B%0A%20%20%20%20d%5B3%5D%20%3D%2015.9%3B%0A%20%20%20%20d%5B4%5D%20%3D%207.8%3B%0A%20%20%20%20for%28i%3D0%3B%20i%3C5%3B%20i%2B%2B%29%20%0A%20%20%20%20%20%20%20%20printf%28%22d%5B%2503d%5D%20%3D%20%25f%5Cn%22,%20i,%20d%5Bi%5D%29%3B%0A%20%20%20%20%0A%20%20%20%20printf%28%22%5Cn%22%29%3B%0A%0A%20%20%20%20/*%20%E3%82%82%E3%81%A1%E3%82%8D%E3%82%93%E3%83%9D%E3%82%A4%E3%83%B3%E3%82%BF%E5%A4%89%E6%95%B0%E3%81%A8%E3%81%97%E3%81%A6%E3%82%82%E4%BD%BF%E3%81%88%E3%82%8B%20*/%0A%20%20%20%20for%28i%3D0%3B%20i%3Cn%3B%20i%2B%2B%29%20%0A%20%20%20%20%20%20%20%20printf%28%22d%5B%2503d%5D%20%3D%20%25f%5Cn%22,%20i,%20*%28d%2Bi%29%20%29%3B%0A%20%20%20%20%0A%20%20%20%20free%28d%29%3B%20%20%20%20/*%20%E3%83%A1%E3%83%A2%E3%83%AA%E8%A7%A3%E6%94%BE%E3%82%92%E5%BF%98%E3%82%8C%E3%81%9A%E3%81%AB%EF%BC%8E%E5%BF%98%E3%82%8C%E3%82%8B%E3%81%A8%E3%83%A1%E3%83%A2%E3%83%AA%E3%83%AA%E3%83%BC%E3%82%AF%E3%82%92%E8%B5%B7%E3%81%93%E3%81%99%EF%BC%8E%20*/%0A%20%20%20%20return%200%3B%0A%7D&cumulative=false&curInstr=0&heapPrimitives=nevernest&mode=display&origin=opt-frontend.js&py=c&rawInputLstJSON=%5B%5D&textReferences=false)"
   ]
  },
  {
   "cell_type": "code",
   "execution_count": null,
   "id": "4c87a499",
   "metadata": {},
   "outputs": [],
   "source": []
  }
 ],
 "metadata": {
  "kernelspec": {
   "display_name": "C",
   "language": "c",
   "name": "c"
  },
  "language_info": {
   "file_extension": ".c",
   "mimetype": "text/x-csrc",
   "name": "text/x-csrc"
  },
  "toc": {
   "base_numbering": 1,
   "nav_menu": {},
   "number_sections": true,
   "sideBar": true,
   "skip_h1_title": false,
   "title_cell": "Table of Contents",
   "title_sidebar": "Contents",
   "toc_cell": false,
   "toc_position": {
    "height": "calc(100% - 180px)",
    "left": "10px",
    "top": "150px",
    "width": "165px"
   },
   "toc_section_display": true,
   "toc_window_display": true
  }
 },
 "nbformat": 4,
 "nbformat_minor": 5
}
