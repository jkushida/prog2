{
 "cells": [
  {
   "cell_type": "markdown",
   "id": "141ac094",
   "metadata": {},
   "source": [
    "# 静的なメモリ領域の確保\n",
    "```c\n",
    "int data1[]={1, 2, 3, 4, 5, 6, 7, 8, 9, 10}; /* int型の配列 */\n",
    "\n",
    "double data2[100];     /* double型の配列 */\n",
    "```\n",
    "\n",
    "上記のように宣言すると，これらの配列に必要なメモリ領域はプログラムの作成時点（＝コンパイル時）で確保され，プログラム終了時までそのまま保持される．\n",
    "\n",
    "このような方法を**静的なメモリ領域の確保**という．\n",
    "\n",
    "プログラムを書く時点でメモリサイズが決まっているデータを扱う際には, この方法で問題はない．"
   ]
  },
  {
   "cell_type": "markdown",
   "id": "2716640b",
   "metadata": {},
   "source": [
    "# 動的なメモリ領域の確保\n",
    "\n",
    "c言語では，ソースコードを書いている時点でメモリサイズを決めるのが難しい場合がある．\n",
    "\n",
    "例えばファイルから読み込んだ文字列を配列に格納するプログラムなどは，読み込むファイルが変わるとファイルのサイズが変わる．そのため，必要になるサイズも毎回変わってしまう．\n",
    "\n",
    "よって，プログラム起動時に確保されたメモリ以外のメモリを後から（プログラム起動した後から）追加で確保する手段**（動的なメモリ領域の確保）**が必要となる．\n",
    "\n",
    "- メモリを動的に確保する際は**malloc関数**を使う．\n",
    "- 関数名 malloc は **memory allocate (メモリ割付)**の略である\n",
    "- malloc関数を使う際は，<stdlib.h>をインクルードする．\n",
    "\n"
   ]
  },
  {
   "cell_type": "code",
   "execution_count": null,
   "id": "8e49c11e",
   "metadata": {},
   "outputs": [],
   "source": [
    "#include <stdio.h>\n",
    "#include <stdlib.h>\n",
    "\n",
    "int main(void) {\n",
    "  int *ip;        // int型のポインタipを宣言\n",
    "  int i, n ;\n",
    " \n",
    "  scanf(\"%d\", &n);  // プログラム起動後にnの値が決まる\n",
    "  ip = (int *)malloc(n * sizeof(int));  // メモリ領域の確保\n",
    "    \n",
    "  // ポインタを使って配列のようにアクセスできる\n",
    "  for (i=0; i<n; i++)\n",
    "    ip[i] = i;  \n",
    "    // *(ip+i) = i; \n",
    "\n",
    "\n",
    "  for (i=0;i < n; i++)\n",
    "    printf(\"%d \", ip[i]);\n",
    "  printf(\"\\n\");\n",
    "\n",
    "  free(ip);       // 確保したメモリ領域の解放\n",
    "\n",
    "  return 0;\n",
    "}"
   ]
  },
  {
   "cell_type": "markdown",
   "id": "803bc485",
   "metadata": {},
   "source": [
    "[実行の可視化](http://pythontutor.com/visualize.html#code=%23include%20%3Cstdio.h%3E%0A%23include%20%3Cstdlib.h%3E%0A%0Aint%20main%28void%29%20%7B%0A%20%20int%20*ip%3B%20%20%20%20%20%20%20%20//%20int%E5%9E%8B%E3%81%AE%E3%83%9D%E3%82%A4%E3%83%B3%E3%82%BFip%E3%82%92%E5%AE%A3%E8%A8%80%0A%20%20int%20i,%20n%3B%0A%20%20%0A%20%20n%20%3D%205%3B%0A%20%20ip%20%3D%20%28int%20*%29malloc%28n%20*%20sizeof%28int%29%29%3B%20%20//%20%E3%83%A1%E3%83%A2%E3%83%AA%E9%A0%98%E5%9F%9F%E3%81%AE%E7%A2%BA%E4%BF%9D%0A%20%20%20%20%0A%20%20//%20%E3%83%9D%E3%82%A4%E3%83%B3%E3%82%BF%E3%82%92%E4%BD%BF%E3%81%A3%E3%81%A6%E9%85%8D%E5%88%97%E3%81%AE%E3%82%88%E3%81%86%E3%81%AB%E3%82%A2%E3%82%AF%E3%82%BB%E3%82%B9%E3%81%A7%E3%81%8D%E3%82%8B%0A%20%20for%20%28i%3D0%3B%20i%3Cn%3B%20i%2B%2B%29%0A%20%20%20%20ip%5Bi%5D%20%3D%20i%3B%20%20%0A%20%20%20%20//%20*%28ip%2Bi%29%20%3D%20i%3B%20%0A%0A%0A%20%20for%20%28i%3D0%3Bi%20%3C%20n%3B%20i%2B%2B%29%0A%20%20%20%20printf%28%22%25d%20%22,%20ip%5Bi%5D%29%3B%0A%20%20printf%28%22%5Cn%22%29%3B%0A%0A%20%20free%28ip%29%3B%20%20%20%20%20%20%20//%20%E7%A2%BA%E4%BF%9D%E3%81%97%E3%81%9F%E3%83%A1%E3%83%A2%E3%83%AA%E9%A0%98%E5%9F%9F%E3%81%AE%E8%A7%A3%E6%94%BE%0A%0A%20%20return%200%3B%0A%7D&cumulative=false&curInstr=0&heapPrimitives=nevernest&mode=display&origin=opt-frontend.js&py=c_gcc9.3.0&rawInputLstJSON=%5B%5D&textReferences=false)"
   ]
  },
  {
   "cell_type": "markdown",
   "id": "a6918503",
   "metadata": {},
   "source": [
    "このコードでは，`要素数n`を持つ`int型配列ip`のためのメモリ領域を，動的に確保している．\n",
    "```c\n",
    " int *ip;  \n",
    "```\n",
    "では，そのメモリ領域のアドレスを格納するためのポインタ変数を宣言している．\n",
    "\n",
    "\n",
    "■ メモリ領域の確保\n",
    "\n",
    "必要なメモリ領域をmalloc関数で確保する．\n",
    "malloc関数には，必要なメモリサイズのバイト数を引数として渡す．\n",
    "```c\n",
    "変数の型 *ポインタ名 = (キャスト)malloc( 確保するByte数 );\n",
    "```\n",
    "\n",
    "要素数`n`からなるint型配列に必要なサイズは，`n * sizeof(int)`で計算できる．\n",
    "\n",
    "```c\n",
    "ip = (int *)malloc(n * sizeof(int));\n",
    "```\n",
    "- malloc関数は，指定されたサイズのメモリ確保に成功すると，その先頭アドレスを返す．\n",
    "- `ポインタip`はそのアドレスを受けとっている．\n",
    "\n",
    "■ メモリ領域の解放\n",
    "\n",
    "- malloc関数で確保されたメモリは，**free関数**で解放できる．\n",
    "\n",
    "- 必要のなくなったメモリは明示的に解放する．\n",
    "\n",
    " "
   ]
  },
  {
   "cell_type": "markdown",
   "id": "cbb851e7",
   "metadata": {},
   "source": [
    "# メモリ領域の種類\n",
    "\n",
    "\n",
    "■ スタック(stack)領域\n",
    "\n",
    "- ローカル変数，自動変数，関数の引数，戻り値などが置かれる． \n",
    "- プログラムの実行中に自動的に確保・解放される．\n",
    "\n",
    "■ ヒープ(heap)領域\n",
    "\n",
    "- malloc, callocなどの動的確保により，プログラム実行中に確保・解放される．\n",
    "- 領域の大きさは実行中に変化する．\n",
    "\n",
    "\n",
    "<img src=\"./fig/メモリ.png\" width=\"300\">"
   ]
  }
 ],
 "metadata": {
  "kernelspec": {
   "display_name": "C",
   "language": "c",
   "name": "c"
  },
  "language_info": {
   "file_extension": ".c",
   "mimetype": "text/x-csrc",
   "name": "text/x-csrc"
  },
  "toc": {
   "base_numbering": 1,
   "nav_menu": {},
   "number_sections": true,
   "sideBar": true,
   "skip_h1_title": false,
   "title_cell": "Table of Contents",
   "title_sidebar": "Contents",
   "toc_cell": false,
   "toc_position": {
    "height": "calc(100% - 180px)",
    "left": "10px",
    "top": "150px",
    "width": "237.391px"
   },
   "toc_section_display": true,
   "toc_window_display": true
  }
 },
 "nbformat": 4,
 "nbformat_minor": 5
}
