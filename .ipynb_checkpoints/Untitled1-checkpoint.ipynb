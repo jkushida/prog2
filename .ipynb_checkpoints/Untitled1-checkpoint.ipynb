{
 "cells": [
  {
   "cell_type": "markdown",
   "id": "dbfa23f2",
   "metadata": {},
   "source": [
    "test"
   ]
  },
  {
   "cell_type": "code",
   "execution_count": 1,
   "id": "c3876866",
   "metadata": {},
   "outputs": [
    {
     "name": "stdout",
     "output_type": "stream",
     "text": [
      "str1[0] = A\n",
      "str1[1] = B\n",
      "str1[2] = C\n",
      "str1 =  0x309585568\n",
      "&str1[0] = 0x309585568\n",
      "&str1[1] = 0x309585569\n",
      "&str1[2] =  0x30958556a\n"
     ]
    }
   ],
   "source": [
    "#include <stdio.h>\n",
    " \n",
    "int main()\n",
    "{\n",
    "    char str1[4] = \"ABC\";    \n",
    "    \n",
    "    // 配列の値\n",
    "    printf(\"str1[0] = %c\\n\",  str1[0]);\n",
    "    printf(\"str1[1] = %c\\n\",  str1[1]);\n",
    "    printf(\"str1[2] = %c\\n\",  str1[2]);\n",
    "    \n",
    "    // 配列のアドレス\n",
    "    printf(\"str1 =  %p\\n\",  &str1);\n",
    "    printf(\"&str1[0] = %p\\n\",  &str1[0]);\n",
    "    printf(\"&str1[1] = %p\\n\",  &str1[1]);\n",
    "    printf(\"&str1[2] =  %p\\n\",  &str1[2]);\n",
    "    \n",
    "    return(0);\n",
    "}\n",
    "\n",
    "// アドレスの値は実行環境による"
   ]
  },
  {
   "cell_type": "code",
   "execution_count": null,
   "id": "93598c0b",
   "metadata": {},
   "outputs": [],
   "source": []
  }
 ],
 "metadata": {
  "kernelspec": {
   "display_name": "C",
   "language": "c",
   "name": "c"
  },
  "language_info": {
   "file_extension": ".c",
   "mimetype": "text/x-csrc",
   "name": "text/x-csrc"
  },
  "toc": {
   "base_numbering": 1,
   "nav_menu": {},
   "number_sections": true,
   "sideBar": true,
   "skip_h1_title": false,
   "title_cell": "Table of Contents",
   "title_sidebar": "Contents",
   "toc_cell": false,
   "toc_position": {},
   "toc_section_display": true,
   "toc_window_display": false
  }
 },
 "nbformat": 4,
 "nbformat_minor": 5
}
