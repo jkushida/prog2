{
 "cells": [
  {
   "cell_type": "markdown",
   "id": "c52e7029",
   "metadata": {},
   "source": [
    "# 再帰関数\n",
    "Ｃ言語のプログラムは，自分自身と同じ関数を呼び出す再帰呼び出しが可能である．\n",
    "\n",
    "再帰関数は，漸化式で表わされている数学的な関数などを表現することができる．\n"
   ]
  },
  {
   "cell_type": "markdown",
   "id": "d04b02c3",
   "metadata": {},
   "source": [
    "以下のsample1.cは，再帰を用いて整数`no`の階乗を求める関数である．\n",
    "\n",
    "---\n",
    "sample1.c\n",
    "```c\n",
    "#include <stdio.h>\n",
    "\n",
    "int factorial(int n);\n",
    "\n",
    "int main()\n",
    "{\n",
    "    int no = 3;\n",
    "    \n",
    "    printf(\"%dの階乗は%d\", no, factorial(no));\n",
    "    return 0;\n",
    "}\n",
    "\n",
    "int factorial(int n)\n",
    "{\n",
    "    int f;\n",
    "    if(n > 0)\n",
    "        f = n * factorial(n-1);\n",
    "    else\n",
    "        f  = 1;\n",
    "    return f;\n",
    "}\n",
    "```\n",
    "---"
   ]
  },
  {
   "cell_type": "markdown",
   "id": "7185903b",
   "metadata": {},
   "source": [
    "実行結果\n",
    "```\n",
    "3の階乗は6\n",
    "```"
   ]
  },
  {
   "cell_type": "markdown",
   "id": "d9771cd5",
   "metadata": {},
   "source": [
    "[実行の可視化](https://pythontutor.com/visualize.html#code=%23include%20%3Cstdio.h%3E%0A%0Aint%20factorial%28int%20n%29%3B%0A%0Aint%20main%28%29%0A%7B%0A%20%20%20%20int%20no%20%3D%203%3B%0A%20%20%20%20%0A%20%20%20%20printf%28%22%25d%E3%81%AE%E9%9A%8E%E4%B9%97%E3%81%AF%25d%22,%20no,%20factorial%28no%29%29%3B%0A%20%20%20%20return%200%3B%0A%7D%0A%0Aint%20factorial%28int%20n%29%0A%7B%0A%20%20%20%20int%20f%3B%0A%20%20%20%20if%28n%20%3E%200%29%0A%20%20%20%20%20%20%20%20f%20%3D%20n%20*%20factorial%28n-1%29%3B%0A%20%20%20%20else%0A%20%20%20%20%20%20%20%20f%20%20%3D%201%3B%0A%20%20%20%20return%20f%3B%0A%7D&cumulative=false&curInstr=0&heapPrimitives=nevernest&mode=display&origin=opt-frontend.js&py=c_gcc9.3.0&rawInputLstJSON=%5B%5D&textReferences=false)"
   ]
  },
  {
   "cell_type": "markdown",
   "id": "2dc83d91",
   "metadata": {},
   "source": [
    "整数nの階乗は，\n",
    "$$\n",
    "n! = 1 \\times  2 \\times  \\cdots (n-1) \\times n \\ \\ \\ \\ \\ \\ \\ \\ \\ \\ \\ \\ \\ \\ \\ \\ \\ \\ \\ \\ \\ \\ \\ \\ \\ \\ \\ \\ \\ \\ \\ \\ \\ \\ \\ \\ \\ \\ \\ \\ \\ \\ \\ \\ \\\\\n",
    "$$\n",
    "と計算できる．\n",
    "\n",
    "これを再帰的に定義すると，\n",
    "$$\n",
    "\\begin{cases}\n",
    "n >0:n!\\ =\\ n\\ \\times \\ ( n-1) !\\ \\ \\ \\ \\ \\ \\ \\ \\ \\ \\ \\ \\ \\ \\ \\ \\ \\ \\ \\ \\ \\ \\ \\ \\ \\ \\ \\ \\ \\ \\ \\ \\ \\ \\ \\ \\ \\ \\ \\ \\ \\ \\ \\ \\\\\n",
    "n=0:0!\\ =\\ 1\n",
    "\\end{cases}\n",
    "$$\n",
    "となる．\n",
    "\n",
    "これは，順に1次低い(n-1)!を求めてnと掛ける処理をn>0まで繰り返し，n=0なら1になることを意味する．\n",
    "\n",
    "<img style=\"float: left;\"  src= \"./fig/再帰.png\" width=\"250\">"
   ]
  },
  {
   "cell_type": "code",
   "execution_count": null,
   "id": "6e472874",
   "metadata": {},
   "outputs": [],
   "source": []
  }
 ],
 "metadata": {
  "kernelspec": {
   "display_name": "C",
   "language": "c",
   "name": "c"
  },
  "language_info": {
   "file_extension": ".c",
   "mimetype": "text/x-csrc",
   "name": "text/x-csrc"
  },
  "toc": {
   "base_numbering": 1,
   "nav_menu": {},
   "number_sections": true,
   "sideBar": true,
   "skip_h1_title": false,
   "title_cell": "Table of Contents",
   "title_sidebar": "Contents",
   "toc_cell": false,
   "toc_position": {},
   "toc_section_display": true,
   "toc_window_display": true
  }
 },
 "nbformat": 4,
 "nbformat_minor": 5
}
