{
 "cells": [
  {
   "cell_type": "markdown",
   "id": "53607e4e",
   "metadata": {},
   "source": [
    "# 構造体\n",
    "\n",
    "プログラムがある程度大規模になってくると，一つの概念に対して複数の変数が割り当てられることがある．\n",
    "\n",
    "例えば，学校で学生のデータベースを作る時、その学生の`int型`の学生番号，`char型`の名前，`double型`の平均点などのデータをひとまとめにして扱う事になる．\n",
    "\n",
    "このようなプログラムを作成する際は，**複数の変数をひとまとめにする構造体**を用いる．\n",
    "\n",
    "\n",
    "<img src=\"./fig/test1.png\" width=\"500\">"
   ]
  },
  {
   "cell_type": "markdown",
   "id": "452a169c",
   "metadata": {},
   "source": [
    "次のsample1.cは，構造体を使って学生情報を表示するプログラムである．"
   ]
  },
  {
   "cell_type": "markdown",
   "id": "5a79fbe8",
   "metadata": {},
   "source": [
    "---\n",
    "sample1.c\n",
    "```c\n",
    "#include <stdio.h>\n",
    " \n",
    "// 構造体の枠型の宣言\n",
    "struct student{      // 学生情報\n",
    "  int no;                   // 学生番号\n",
    "  char name[10];   // 氏名\n",
    "  double average;  // 平均点\n",
    "};\n",
    " \n",
    "int main()\n",
    "{\n",
    "    struct student seito1 = {5, \"Yamada\", 85.3};\n",
    "    \n",
    "    // 構造体の持つ情報を表示\n",
    "    printf(\"学生番号: %d,  氏名: %s,  平均点: %f\\n\", seito1.no, seito1.name, seito1.average);\n",
    "    return 0;\n",
    "}\n",
    "```\n",
    "---"
   ]
  },
  {
   "cell_type": "markdown",
   "id": "afd8c5cd",
   "metadata": {},
   "source": [
    "実行結果\n",
    "```\n",
    "学生番号: 5,  氏名: Yamada,  平均点: 85.300000\n",
    "```"
   ]
  },
  {
   "cell_type": "markdown",
   "id": "12f3133e",
   "metadata": {},
   "source": [
    "[実行の可視化](https://pythontutor.com/visualize.html#code=%23include%20%3Cstdio.h%3E%0A%20%0Astruct%20student%7B%20%20%20%20%20%20//%20%E5%AD%A6%E7%94%9F%E6%83%85%E5%A0%B1%0A%20%20%20%20int%20no%3B%20%20%20%20%20%20%20%20%20%20//%20%E5%AD%A6%E7%94%9F%E7%95%AA%E5%8F%B7%0A%20%20%20%20char%20name%5B10%5D%3B%20%20%20//%20%E6%B0%8F%E5%90%8D%0A%20%20%20%20double%20average%3B%20%20//%20%E5%B9%B3%E5%9D%87%E7%82%B9%0A%7D%3B%0A%20%0Aint%20main%28%29%7B%0A%20%20%20%20struct%20student%20seito1%20%3D%20%7B5,%20%22Yamada%22,%2085.3%7D%3B%0A%0A%20%20%20%20//%20%E6%A7%8B%E9%80%A0%E4%BD%93%E3%81%AE%E6%8C%81%E3%81%A4%E6%83%85%E5%A0%B1%E3%82%92%E8%A1%A8%E7%A4%BA%0A%20%20%20%20printf%28%22%E5%AD%A6%E7%94%9F%E7%95%AA%E5%8F%B7%3A%20%25d,%20%20%E6%B0%8F%E5%90%8D%3A%20%25s,%20%20%E5%B9%B3%E5%9D%87%E7%82%B9%3A%20%25f%5Cn%22,%20seito1.no,%20seito1.name,%20seito1.average%29%3B%0A%20%20%20%20return%200%3B%0A%7D&cumulative=false&curInstr=0&heapPrimitives=nevernest&mode=display&origin=opt-frontend.js&py=c_gcc9.3.0&rawInputLstJSON=%5B%5D&textReferences=false)\n",
    "\n",
    "構造体`seito1`は，以下のように異なるデータ型の変数をまとめて管理している．\n",
    "\n",
    "<img style=\"float: left;\"　src=\"./fig/構造体イメージ.png\" width=\"480\">"
   ]
  },
  {
   "cell_type": "markdown",
   "id": "0c95dcc5",
   "metadata": {},
   "source": [
    "## 構造体の型枠の作成\n",
    "構造体を使うにはまず型枠(テンプレート)を作成する必要がある．\n",
    "\n",
    "構造体のテンプレートは次の書式で宣言を行う．\n",
    "\n",
    "<img style=\"float: left;\"　src=\"./fig/構造体テンプレート.png\" width=\"280\">"
   ]
  },
  {
   "cell_type": "markdown",
   "id": "60231079",
   "metadata": {},
   "source": [
    "上記のコードは，\n",
    "- `int型`の学生番号\n",
    "- `char型配列`の氏名\n",
    "- `double型`の平均点\n",
    "\n",
    "をまとめて構造体の型枠を作り，名前を`student`としている．\n",
    "\n",
    "このとき，`student`を**タグ名**と呼び，`no`, `name`, `average`を**メンバ名**と呼ぶ．\n",
    "\n",
    "<img style=\"float: left;\" src=\"./fig/構造体1.png\" width=\"380\">"
   ]
  },
  {
   "cell_type": "markdown",
   "id": "02505d6a",
   "metadata": {},
   "source": [
    "これで，`student`という名前の構造体の型枠が作成されたことになる．\n",
    "\n",
    "\n",
    "- この状態では，タグ名の型を作っただけなので，中身はまだ空のまま\n",
    "- 「メンバ名」という表現をしてるが，変数名と同様\n",
    "- 最後の `}` の後に`；`が必要\n",
    "\n",
    "なお，構造体も型を置く場所によって**有効範囲**が変化する．\n",
    "\n",
    "- 関数の外で宣言すると**グローバル変数**のようにプログラム全体で使用することができる．\n",
    "- 関数の中で宣言すると**ローカル変数**のようにその関数内のみでしか使用できない．"
   ]
  },
  {
   "cell_type": "markdown",
   "id": "a9010790",
   "metadata": {},
   "source": [
    "## 構造体のオブジェクトの宣言\n",
    "\n",
    "枠型を作成したあとは，次の構文で構造体のオブジェクトを宣言する．\n",
    "\n",
    "```\n",
    "struct 構造体タグ名 オブジェクト名の並び;\n",
    "```\n",
    "\n",
    "よって，上記コードのように\n",
    "```c\n",
    "struct student seito1; //構造体の変数を定義\n",
    "```\n",
    "と定義すると，メモリ上に`seito1`という名前の**構造体の変数**が確保される．\n",
    "\n",
    "また，\n",
    "```c\n",
    "struct student seito2[5]; //構造体の配列を定義\n",
    "```\n",
    "とすると，`seito2`という名前の**構造体の配列**が確保される．\n",
    "\n",
    "<BR>\n",
    "\n",
    "\n",
    "<img style=\"float: left;\"  src= \"./fig/構造体2.png\" width=\"400\">"
   ]
  },
  {
   "cell_type": "markdown",
   "id": "69bcca9f",
   "metadata": {},
   "source": [
    "構造体を使う上で，**枠型の宣言**と**オブジェクトの定義**は別の作業となる．\n",
    "\n",
    "つまり，構造体はオリジナルな型を使ってオブジェクトを定義することになる．\n",
    "\n",
    "<BR>\n",
    "\n",
    "<img style=\"float: left;\" src=\"./fig/構造体3.png\" width=\"420\">"
   ]
  },
  {
   "cell_type": "markdown",
   "id": "aa4a3425",
   "metadata": {},
   "source": [
    "## 構造体の初期化\n",
    "\n",
    "構造体は一般の変数同様，宣言時に初期化を行うことができる，\n",
    "\n",
    "構造体の初期化は，次のように`{ }`の間に各メンバの値をカンマで区切って記述する．\n",
    "\n",
    "\n",
    "<img style=\"float: left;\" src=\"./fig/構造体初期化.png\" width=\"400\">\n",
    "\n"
   ]
  },
  {
   "cell_type": "markdown",
   "id": "4f4cac6c",
   "metadata": {},
   "source": [
    "- 例1: 構造体変数の初期化\n",
    "    ```c\n",
    "    struct student seito1 = {5, \"Yamada\", 85.3};\n",
    "    ```\n",
    "\n",
    "- 例2:  構造体配列の初期化\n",
    "    ```c\n",
    "    struct student seito2[5] = {\n",
    "        {1, \"Yamada\", 65.1},\n",
    "        {2, \"Tanaka\", 56.8},\n",
    "        {3, \"Nagano\", 65.2},\n",
    "    };\n",
    "    ```\n",
    "このとき， 初期化子の与えられてない要素は`0`もしくは`'\\0'`で埋められる."
   ]
  },
  {
   "cell_type": "markdown",
   "id": "64c5601c",
   "metadata": {},
   "source": [
    "以下のsample2.cは構造体の配列を使ったプログラムの例である．\n",
    "\n",
    "---\n",
    "sample2.c\n",
    "```c\n",
    "#include <stdio.h>\n",
    "\n",
    "struct student{       // 学生情報\n",
    "    int no;                   // 学生番号\n",
    "    char name[10];   // 氏名\n",
    "    double average;  // 平均点\n",
    "};\n",
    "\n",
    "int main()\n",
    "{\n",
    "    struct student seito2[5] = {\n",
    "        {1, \"Yamada\", 65.1},\n",
    "        {2, \"Tanaka\", 56.8},\n",
    "        {3, \"Nagano\", 65.2},\n",
    "    };\n",
    "    \n",
    "    printf(\"学生番号: %d,  氏名: %s,  平均点: %f\\n\",seito2[0].no, seito2[0].name, seito2[0].average);\n",
    "    printf(\"学生番号: %d,  氏名: %s,  平均点: %f\\n\",seito2[4].no, seito2[4].name, seito2[4].average);\n",
    "    \n",
    "    return 0;\n",
    "}\n",
    "```\n",
    "---"
   ]
  },
  {
   "cell_type": "markdown",
   "id": "b2ca24a4",
   "metadata": {},
   "source": [
    "実行結果\n",
    "```\n",
    "学生番号: 1,  氏名: Yamada,  平均点: 65.100000\n",
    "学生番号: 0,  氏名: ,  平均点: 0.000000\n",
    "```    "
   ]
  },
  {
   "cell_type": "markdown",
   "id": "553bb9a0",
   "metadata": {},
   "source": [
    "[実行の可視化](http://pythontutor.com/visualize.html#code=%23include%20%3Cstdio.h%3E%0A%23include%20%3Cstring.h%3E%0A%20%0Astruct%20student%7B%20%20%20%20//%20%E5%AD%A6%E7%94%9F%E6%83%85%E5%A0%B1%0A%20%20int%20no%3B%20%20%20%20%20%20%20%20%20%20//%20%E5%AD%A6%E7%94%9F%E7%95%AA%E5%8F%B7%0A%20%20char%20name%5B10%5D%3B%20%20%20//%20%E6%B0%8F%E5%90%8D%0A%20%20double%20average%3B%20%20//%20%E5%B9%B3%E5%9D%87%E7%82%B9%0A%7D%3B%0A%20%0Aint%20main%28%29%7B%0A%20%20struct%20student%20seito2%5B5%5D%20%3D%20%7B%0A%20%20%20%20%7B1,%20%22Yamada%22,%2065.1%7D,%0A%20%20%20%20%7B2,%20%22Tanaka%22,%2056.8%7D,%0A%20%20%20%20%7B3,%20%22Nagano%22,%2065.2%7D,%0A%20%20%7D%3B%0A%20%20%0A%20%20printf%28%22%E5%AD%A6%E7%94%9F%E7%95%AA%E5%8F%B7%3A%20%25d,%20%20%E6%B0%8F%E5%90%8D%3A%20%25s,%20%20%E5%B9%B3%E5%9D%87%E7%82%B9%3A%20%25f%5Cn%22,seito2%5B0%5D.no,%20seito2%5B0%5D.name,%20seito2%5B0%5D.average%29%3B%0A%20%20printf%28%22%E5%AD%A6%E7%94%9F%E7%95%AA%E5%8F%B7%3A%20%25d,%20%20%E6%B0%8F%E5%90%8D%3A%20%25s,%20%20%E5%B9%B3%E5%9D%87%E7%82%B9%3A%20%25f%5Cn%22,seito2%5B4%5D.no,%20seito2%5B4%5D.name,%20seito2%5B4%5D.average%29%3B%0A%0A%20%20return%20%280%29%3B%0A%7D&cumulative=false&curInstr=0&heapPrimitives=nevernest&mode=display&origin=opt-frontend.js&py=c_gcc9.3.0&rawInputLstJSON=%5B%5D&textReferences=false)"
   ]
  },
  {
   "cell_type": "markdown",
   "id": "51ecf6e6",
   "metadata": {},
   "source": [
    "## 構造体メンバの参照(直接参照)\n",
    "\n",
    "構造体型の各メンバを参照（アクセス）するには，オブジェクト名とメンバ名を， `ドット演算子`\"`.`\" でつないで行う．\n",
    "\n",
    "\n",
    "- 構造体変数の場合\n",
    "    ```c\n",
    "    seito1.no = 10;   　　　　　　　　　　　　　　　　　　　　　 //　メンバに値を代入\n",
    "    printf(\"%s\\n\", seito1.no);        // メンバの表示\n",
    "    ```\n",
    "- 構造体配列の場合\n",
    "    ```c\n",
    "    for(i =0; i < 3; i++){\n",
    "        seito2[i].no = i;   　　　　　　　　　　　　　　　　　　　　　    //　メンバに値を代入\n",
    "        printf(\"%s\\n\", seito2[i].no);       // メンバの表示\n",
    "    }\n",
    "    ```\n",
    "     <font color='Red'>配列の添え字用 `[ ]` と，構造体用の`．`の順序に注意!</font>\n",
    "   \n",
    "        \n"
   ]
  },
  {
   "cell_type": "markdown",
   "id": "32ca36fd",
   "metadata": {},
   "source": [
    "## 宣言と有効範囲\n",
    "\n",
    "構造体の場合は，**枠型の宣言**と**オブジェクトの定義**の両方で有効範囲を考慮する必要がある．\n",
    "\n",
    "\n",
    "- 例1\n",
    "    - 以下のsample3.cは，枠型の宣言とオブジェクトの定義を関数外で行っている．\n",
    "    - この場合，枠型，オブジェクトともにファイル有効範囲が与えられる．"
   ]
  },
  {
   "cell_type": "markdown",
   "id": "bfcd60f3",
   "metadata": {},
   "source": [
    "---\n",
    "sample3.c\n",
    "```c    \n",
    "#include <stdio.h>\n",
    "\n",
    "// 関数外で枠型の宣言\n",
    "struct student{     // 学生情報\n",
    "  int no;                  // 学生番号\n",
    "  char name[10];   // 氏名\n",
    "  double average;  // 平均点\n",
    "};\n",
    "\n",
    "// 関数外で宣言と初期化\n",
    "struct student seito1 = {5, \"Yamada\", 85.3};\n",
    "\n",
    "void func();\n",
    " \n",
    "int main()\n",
    "{\n",
    "  func();\n",
    "  return 0;\n",
    "}\n",
    "\n",
    "void func()\n",
    "{\n",
    "  seito1.no += 5;\n",
    "  printf(\"学生番号: %d,  氏名: %s,  平均点: %f\\n\",seito1.no, seito1.name, seito1.average);\n",
    "}\n",
    "```\n",
    "----"
   ]
  },
  {
   "cell_type": "markdown",
   "id": "8db1d926",
   "metadata": {},
   "source": [
    "実行結果\n",
    "```\n",
    "学生番号: 10,  氏名: Yamada,  平均点: 85.300000\n",
    "```"
   ]
  },
  {
   "cell_type": "markdown",
   "id": "f1bc0223",
   "metadata": {},
   "source": [
    "[実行の可視化](https://pythontutor.com/visualize.html#code=%23include%20%3Cstdio.h%3E%0A%20%0Astruct%20student%7B%20%20%20%20//%20%E5%AD%A6%E7%94%9F%E6%83%85%E5%A0%B1%0A%20%20int%20no%3B%20%20%20%20%20%20%20%20%20%20//%20%E5%AD%A6%E7%94%9F%E7%95%AA%E5%8F%B7%0A%20%20char%20name%5B10%5D%3B%20%20%20//%20%E6%B0%8F%E5%90%8D%0A%20%20double%20average%3B%20%20//%20%E5%B9%B3%E5%9D%87%E7%82%B9%0A%7D%3B%0A%0A//%20%E9%96%A2%E6%95%B0%E5%A4%96%E3%81%A7%E5%AE%A3%E8%A8%80%E3%81%A8%E5%88%9D%E6%9C%9F%E5%8C%96%0Astruct%20student%20seito1%20%3D%20%7B5,%20%22Yamada%22,%2085.3%7D%3B%0A%0Avoid%20func%28%29%3B%0A%20%0Aint%20main%28%29%0A%7B%0A%20%20func%28%29%3B%0A%20%20return%200%3B%0A%7D%0A%0Avoid%20func%28%29%0A%7B%0A%20%20seito1.no%20%2B%3D%205%3B%0A%20%20printf%28%22%E5%AD%A6%E7%94%9F%E7%95%AA%E5%8F%B7%3A%20%25d,%20%20%E6%B0%8F%E5%90%8D%3A%20%25s,%20%20%E5%B9%B3%E5%9D%87%E7%82%B9%3A%20%25f%5Cn%22,seito1.no,%20seito1.name,%20seito1.average%29%3B%0A%7D&cumulative=false&curInstr=0&heapPrimitives=nevernest&mode=display&origin=opt-frontend.js&py=c_gcc9.3.0&rawInputLstJSON=%5B%5D&textReferences=false)"
   ]
  },
  {
   "cell_type": "markdown",
   "id": "24a50763",
   "metadata": {},
   "source": [
    "- 例2\n",
    "    - 以下のsample4.cは枠型の宣言がmain関数外で，main関数とfunc関数でそれぞれオブジェクトの定義を行っている．\n",
    "    - 同一の構造体変数`seito1`を定義しているが，メモリ上では別々に確保されている．"
   ]
  },
  {
   "cell_type": "markdown",
   "id": "c10ade41",
   "metadata": {},
   "source": [
    "---\n",
    "sample4.c    \n",
    "```c\n",
    "#include <stdio.h>\n",
    "\n",
    "// 関数外で枠型の宣言\n",
    "struct student{        // 学生情報\n",
    "    int no;                   // 学生番号\n",
    "    char name[10];   // 氏名\n",
    "    double average;  // 平均点\n",
    "};\n",
    "\n",
    "void func();\n",
    "\n",
    "int main()\n",
    "{\n",
    "    \n",
    "    // main関数内で宣言と初期化\n",
    "    struct student seito1 = {5, \"Yamada\", 85.3};\n",
    "    printf(\"学生番号: %d,  氏名: %s,  平均点: %f\\n\",seito1.no, seito1.name, seito1.average);\n",
    "    \n",
    "    func();\n",
    "    \n",
    "    return 0;\n",
    "}\n",
    "\n",
    "void func()\n",
    "{\n",
    "    // func関数内で宣言と初期化\n",
    "    struct student seito1 = {8, \"Tanaka\", 34.8};\n",
    "    printf(\"学生番号: %d,  氏名: %s,  平均点: %f\\n\",seito1.no, seito1.name, seito1.average);\n",
    "}\n",
    "```\n",
    "---"
   ]
  },
  {
   "cell_type": "markdown",
   "id": "5cd04c61",
   "metadata": {},
   "source": [
    "実行の可視化\n",
    "```\n",
    "学生番号: 5,  氏名: Yamada,  平均点: 85.300000\n",
    "学生番号: 8,  氏名: Tanaka,  平均点: 34.800000\n",
    "```"
   ]
  },
  {
   "cell_type": "markdown",
   "id": "0c47029c",
   "metadata": {},
   "source": [
    "[実行の可視化](https://pythontutor.com/visualize.html#code=%23include%20%3Cstdio.h%3E%0A%0A//%20%E9%96%A2%E6%95%B0%E5%A4%96%E3%81%A7%E6%9E%A0%E5%9E%8B%E3%81%AE%E5%AE%A3%E8%A8%80%0Astruct%20student%7B%20%20%20%20//%20%E5%AD%A6%E7%94%9F%E6%83%85%E5%A0%B1%0A%20%20%20%20int%20no%3B%20%20%20%20%20%20%20%20%20%20//%20%E5%AD%A6%E7%94%9F%E7%95%AA%E5%8F%B7%0A%20%20%20%20char%20name%5B10%5D%3B%20%20%20//%20%E6%B0%8F%E5%90%8D%0A%20%20%20%20double%20average%3B%20%20//%20%E5%B9%B3%E5%9D%87%E7%82%B9%0A%7D%3B%0A%0Avoid%20func%28%29%3B%0A%0Aint%20main%28%29%7B%0A%20%20%20%20%0A%20%20%20%20//%20main%E9%96%A2%E6%95%B0%E5%86%85%E3%81%A7%E5%AE%A3%E8%A8%80%E3%81%A8%E5%88%9D%E6%9C%9F%E5%8C%96%0A%20%20%20%20struct%20student%20seito1%20%3D%20%7B5,%20%22Yamada%22,%2085.3%7D%3B%0A%20%20%20%20printf%28%22%E5%AD%A6%E7%94%9F%E7%95%AA%E5%8F%B7%3A%20%25d,%20%20%E6%B0%8F%E5%90%8D%3A%20%25s,%20%20%E5%B9%B3%E5%9D%87%E7%82%B9%3A%20%25f%5Cn%22,seito1.no,%20seito1.name,%20seito1.average%29%3B%0A%20%20%20%20%0A%20%20%20%20func%28%29%3B%0A%20%20%20%20%0A%20%20%20%20return%200%3B%0A%7D%0A%0Avoid%20func%28%29%7B%0A%20%20%20%20%0A%20%20%20%20//%20func%E9%96%A2%E6%95%B0%E5%86%85%E3%81%A7%E5%AE%A3%E8%A8%80%E3%81%A8%E5%88%9D%E6%9C%9F%E5%8C%96%0A%20%20%20%20struct%20student%20seito1%20%3D%20%7B8,%20%22Tanaka%22,%2034.8%7D%3B%0A%20%20%20%20printf%28%22%E5%AD%A6%E7%94%9F%E7%95%AA%E5%8F%B7%3A%20%25d,%20%20%E6%B0%8F%E5%90%8D%3A%20%25s,%20%20%E5%B9%B3%E5%9D%87%E7%82%B9%3A%20%25f%5Cn%22,seito1.no,%20seito1.name,%20seito1.average%29%3B%0A%7D%0A&cumulative=false&curInstr=0&heapPrimitives=nevernest&mode=display&origin=opt-frontend.js&py=c_gcc9.3.0&rawInputLstJSON=%5B%5D&textReferences=false)"
   ]
  },
  {
   "cell_type": "markdown",
   "id": "4ba72508",
   "metadata": {},
   "source": [
    "- 例3\n",
    "    - 以下のsample5.cは枠型の宣言もオブジェクトの定義もmain関数内で行っている．\n",
    "    - そのため，func1関数，func2関数を呼び出すと（コンパイル時に）エラーが発生する．"
   ]
  },
  {
   "cell_type": "markdown",
   "id": "72837845",
   "metadata": {},
   "source": [
    "---\n",
    "sample5.c\n",
    "```c\n",
    "#include <stdio.h>\n",
    "\n",
    "void func1();\n",
    "void func2();\n",
    "\n",
    "int main()\n",
    "{\n",
    "    // 関数内で枠型の宣言\n",
    "    struct student{       // 学生情報\n",
    "        int no;                   // 学生番号\n",
    "        char name[10];   // 氏名\n",
    "        double average;  // 平均点\n",
    "    };\n",
    "    \n",
    "    // 関数内で宣言と初期化\n",
    "    struct student seito1 = {5, \"Yamada\", 85.3};\n",
    "    \n",
    "    // これらの関数を呼び出すとエラーが発生する\n",
    "    func1();\n",
    "    func2();\n",
    "    return 0;\n",
    "}\n",
    "\n",
    "void func1()\n",
    "{\n",
    "    seito1.no += 5;\n",
    "}\n",
    "\n",
    "void func2()\n",
    "{\n",
    "    struct student seito2 = {8, \"Tanaka\", 34.8};\n",
    "}\n",
    "```\n",
    "---"
   ]
  },
  {
   "cell_type": "markdown",
   "id": "bb13066f",
   "metadata": {},
   "source": [
    "コンパイル時に,\n",
    "以下のようなエラーが出力される．\n",
    "```\n",
    "error: use of undeclared identifier 'seito1'\n",
    "error: variable has incomplete type 'struct student'\n",
    "```"
   ]
  },
  {
   "cell_type": "markdown",
   "id": "76fa5cc4",
   "metadata": {},
   "source": [
    "## 枠型とオブジェクトの宣言を同時に行う\n",
    "\n",
    "構造体の枠型とオブジェクトの宣言は，下記のように同時に行うこともできる．\n",
    "```c\n",
    "struct student{\n",
    "    int no;\n",
    "    char name[10];\n",
    "    double average;\n",
    "} seito1;\n",
    "```\n",
    "さらに，初期化も一緒に行うことができる．\n",
    "```c\n",
    "struct student{\n",
    "    int no;\n",
    "    char name[10];\n",
    "    double average;\n",
    "} seito1 = {5, \"Yamada\", 85.3};\n",
    "```"
   ]
  },
  {
   "cell_type": "markdown",
   "id": "def7f451",
   "metadata": {},
   "source": [
    "以下のsample6.cは，構造体の枠型とオブジェクトの宣言および初期化を同時に行ったプログラムである．\n",
    "\n",
    "\n",
    "---\n",
    "sample6.c\n",
    "```c\n",
    "#include <stdio.h>\n",
    "\n",
    "struct student{\n",
    "    int no;\n",
    "    char name[10];\n",
    "    double average;\n",
    "} seito1 = {5, \"Yamada\", 85.3};\n",
    "\n",
    "int main()\n",
    "{\n",
    "    \n",
    "    printf(\"学生番号: %d,  氏名: %s,  平均点: %f\\n\",seito1.no, seito1.name, seito1.average);\n",
    "    return 0;\n",
    "}\n",
    "```\n",
    "---"
   ]
  },
  {
   "cell_type": "markdown",
   "id": "d3fff2bc",
   "metadata": {},
   "source": [
    "実行結果\n",
    "```\n",
    "学生番号: 5,  氏名: Yamada,  平均点: 85.300000\n",
    "```"
   ]
  },
  {
   "cell_type": "markdown",
   "id": "5d975331",
   "metadata": {},
   "source": [
    "# 構造体の配列"
   ]
  },
  {
   "cell_type": "markdown",
   "id": "4335b525",
   "metadata": {},
   "source": [
    "住所録や名簿などは，氏名，住所，電話番号といった，個々のデータのまとまりが複数集まって１つの大きなデータ(**データベース**)を作っている．\n",
    "\n",
    "氏名，住所，電話番号のような個々のデータを**フィールド**と呼び，フィールドが集まった1件分のデータを**レコード**と呼ぶ．\n",
    "\n",
    "C言語では，構造体の配列を利用してこのようなデータベースを作ることができる．\n",
    "\n",
    "<img style=\"float: left;\" src=\"./fig/database.png\" width=\"400\">"
   ]
  },
  {
   "cell_type": "markdown",
   "id": "ea4f0c91",
   "metadata": {},
   "source": [
    "構造体の配列は，下図のように**同じ型のメンバを持つオブジェクトの集合**が，メモリ上に連続して確保される．\n",
    "\n",
    "<img style=\"float: left;\" src=\"./fig/構造体配列.png\" width=\"680\">"
   ]
  },
  {
   "cell_type": "markdown",
   "id": "d4869867",
   "metadata": {},
   "source": [
    "以下のsample7.cは，構造体配列を用いたプログラムの例である．\n",
    "\n",
    "---\n",
    "sample7.c\n",
    "```c\n",
    "#include <stdio.h>\n",
    "\n",
    "struct student{\n",
    "    int no;\n",
    "    char name[5];\n",
    "    double average;\n",
    "};\n",
    "\n",
    "int main()\n",
    "{\n",
    "    int i;\n",
    "    // 構造体配列の宣言と初期化\n",
    "    struct student seito2[3] = {\n",
    "        {1, \"Taka\", 65.1},\n",
    "        {2, \"Kei\", 56.8},\n",
    "        {3, \"Taro\", 65.2},\n",
    "    };\n",
    "    \n",
    "    for(i = 0; i<3; i++)\n",
    "        printf(\"学生番号: %d,  氏名: %s,  平均点: %f\\n\",seito2[i].no, seito2[i].name, seito2[i].average);\n",
    "    \n",
    "    return 0;\n",
    "}\n",
    "```\n",
    "---"
   ]
  },
  {
   "cell_type": "markdown",
   "id": "7359b196",
   "metadata": {},
   "source": [
    "実行結果\n",
    "```\n",
    "学生番号: 1,  氏名: Taka,  平均点: 65.100000\n",
    "学生番号: 2,  氏名: Kei,  平均点: 56.800000\n",
    "学生番号: 3,  氏名: Taro,  平均点: 65.200000\n",
    "```"
   ]
  },
  {
   "cell_type": "markdown",
   "id": "abe4a40c",
   "metadata": {},
   "source": [
    "[実行の可視化](https://pythontutor.com/visualize.html#code=%23include%20%3Cstdio.h%3E%0A%20%0Astruct%20student%7B%20%20%20%20%0A%20%20int%20no%3B%20%20%20%20%20%20%20%20%20%20%0A%20%20char%20name%5B5%5D%3B%20%20%20%0A%20%20double%20average%3B%20%20%0A%7D%3B%0A%20%0Aint%20main%28%29%7B%0A%20%20int%20i%3B%0A%20%20struct%20student%20seito2%5B3%5D%20%3D%20%7B%0A%20%20%20%20%7B1,%20%22Taka%22,%2065.1%7D,%0A%20%20%20%20%7B2,%20%22Kei%22,%2056.8%7D,%0A%20%20%20%20%7B3,%20%22Taro%22,%2065.2%7D,%0A%20%20%7D%3B%0A%20%20%0A%20%20for%28i%20%3D%200%3B%20i%3C3%3B%20i%2B%2B%29%0A%20%20%20%20printf%28%22%E5%AD%A6%E7%94%9F%E7%95%AA%E5%8F%B7%3A%20%25d,%20%20%E6%B0%8F%E5%90%8D%3A%20%25s,%20%20%E5%B9%B3%E5%9D%87%E7%82%B9%3A%20%25f%5Cn%22,seito2%5Bi%5D.no,%20seito2%5Bi%5D.name,%20seito2%5Bi%5D.average%29%3B%0A%0A%20%20return%200%3B%0A%7D&cumulative=false&curInstr=0&heapPrimitives=nevernest&mode=display&origin=opt-frontend.js&py=c_gcc9.3.0&rawInputLstJSON=%5B%5D&textReferences=false)"
   ]
  },
  {
   "cell_type": "markdown",
   "id": "f5643915",
   "metadata": {},
   "source": [
    "# 構造体とポインタ\n",
    "\n",
    "以下のsample8.cは，構造体にポインタでアクセスして，各メンバの表示と平均給与の算出を行うプログラムである．"
   ]
  },
  {
   "cell_type": "markdown",
   "id": "fab524a8",
   "metadata": {},
   "source": [
    "---\n",
    "sample8.c    \n",
    "```c\n",
    "#include <stdio.h>\n",
    "\n",
    "struct syain_dt{  // 社員構造体\n",
    "    int no;         // 社員番号\n",
    "    char name[8];   // 氏名\n",
    "    double kyuuyo; // 給与\n",
    "};\n",
    "\n",
    "int main(){\n",
    "    int i;\n",
    "    struct syain_dt ics[3] = {\n",
    "        {1, \"Wada\", 300000},\n",
    "        {2, \"Tanaka\", 500000},\n",
    "        {3, \"Hayashi\", 450000},\n",
    "    };\n",
    "    struct syain_dt *sp;\n",
    "    double average=0;\n",
    "    \n",
    "    sp = ics;\n",
    "    printf(\"No. \\t 氏名 \\t 給与\\n\");\n",
    "    for(i = 0; i<3; i++)\n",
    "        printf(\"%d \\t %s \\t %.1f\\n\",(*(sp+i)).no,  (*(sp+i)).name,  (*(sp+i)).kyuuyo);\n",
    "    // printf(\"%d \\t %s \\t %1f\\n\",(sp+i)->no,  (sp+i)->name,  (sp+i)->kyuuyo);\n",
    "    \n",
    "    for(i = 0; i<3; i++){\n",
    "        average += sp->kyuuyo;\n",
    "        sp++;\n",
    "    }\n",
    "    printf(\"平均給与: %.1f\\n\", average/3);\n",
    "    \n",
    "    return 0;\n",
    "}\n",
    "```\n",
    "---"
   ]
  },
  {
   "cell_type": "markdown",
   "id": "c37b1a1e",
   "metadata": {},
   "source": [
    "実行結果\n",
    "```\n",
    "No. \t 氏名 \t 給与\n",
    "1 \t Wada \t 300000.0\n",
    "2 \t Tanaka \t 500000.0\n",
    "3 \t Hayashi \t 450000.0\n",
    "平均給与: 416666.7\n",
    "```"
   ]
  },
  {
   "cell_type": "markdown",
   "id": "e1a7ab0b",
   "metadata": {},
   "source": [
    "[実行の可視化](https://pythontutor.com/visualize.html#code=%23include%20%3Cstdio.h%3E%0A%0Astruct%20syain_dt%7B%20%20//%20%E7%A4%BE%E5%93%A1%E6%A7%8B%E9%80%A0%E4%BD%93%20%20%20%20%0A%20%20int%20no%3B%20%20%20%20%20%20%20%20%20//%20%E7%A4%BE%E5%93%A1%E7%95%AA%E5%8F%B7%20%20%0A%20%20char%20name%5B8%5D%3B%20%20%20//%20%E6%B0%8F%E5%90%8D%0A%20%20double%20kyuuyo%3B%20//%20%E7%B5%A6%E4%B8%8E%20%0A%7D%3B%0A%20%0Aint%20main%28%29%7B%0A%20%20int%20i%3B%0A%20%20struct%20syain_dt%20ics%5B3%5D%20%3D%20%7B%20%0A%20%20%20%20%7B1,%20%22Wada%22,%20300000%7D,%0A%20%20%20%20%7B2,%20%22Tanaka%22,%20500000%7D,%0A%20%20%20%20%7B3,%20%22Hayashi%22,%20450000%7D,%0A%20%20%7D%3B%0A%20%20struct%20syain_dt%20*sp%3B%0A%20%20double%20average%3D0%3B%0A%20%20%0A%20%20sp%20%3D%20ics%3B%0A%20%20printf%28%22No.%20%5Ct%20%E6%B0%8F%E5%90%8D%20%5Ct%20%E7%B5%A6%E4%B8%8E%5Cn%22%29%3B%0A%20%20for%28i%20%3D%200%3B%20i%3C3%3B%20i%2B%2B%29%0A%20%20%20%20printf%28%22%25d%20%5Ct%20%25s%20%5Ct%20%25.1f%5Cn%22,%28*%28sp%2Bi%29%29.no,%20%20%28*%28sp%2Bi%29%29.name,%20%20%28*%28sp%2Bi%29%29.kyuuyo%29%3B%0A%20%20%20%20//%20printf%28%22%25d%20%5Ct%20%25s%20%5Ct%20%25.1f%5Cn%22,%28sp%2Bi%29-%3Eno,%20%20%28sp%2Bi%29-%3Ename,%20%20%28sp%2Bi%29-%3Ekyuuyo%29%3B%0A%0A%20%20for%28i%20%3D%200%3B%20i%3C3%3B%20i%2B%2B%29%7B%0A%20%20%20%20average%20%2B%3D%20sp-%3Ekyuuyo%3B%0A%20%20%20%20sp%2B%2B%3B%0A%20%20%7D%0A%20%20printf%28%22%E5%B9%B3%E5%9D%87%E7%B5%A6%E4%B8%8E%3A%20%25.1f%5Cn%22,%20average/3%29%3B%0A%0A%20%20return%200%3B%0A%7D&cumulative=false&curInstr=0&heapPrimitives=nevernest&mode=display&origin=opt-frontend.js&py=c_gcc9.3.0&rawInputLstJSON=%5B%5D&textReferences=false)"
   ]
  },
  {
   "cell_type": "markdown",
   "id": "fca16e83",
   "metadata": {},
   "source": [
    "## 構造体のアドレスをポインタに設定\n",
    "構造体をポインタで扱う手順は，変数や配列をポインタで扱う手順と同様である．\n",
    "\n",
    "つまり，\n",
    "1. 宣言\n",
    "2. 値（アドレス）の設定\n",
    "3. 参照\n",
    "\n",
    "の3ステップで用いる．"
   ]
  },
  {
   "cell_type": "markdown",
   "id": "229f2c7f",
   "metadata": {},
   "source": [
    "構造体変数へのポインタの宣言は次のように行う．\n",
    "```\n",
    "struct 構造体タグ名 *ポインタ名;\n",
    "\n",
    "```\n",
    "\n",
    "よって，上記のsample8.cでは次のように宣言している．\n",
    "```c\n",
    "struct syain_dt *sp\n",
    "```\n",
    "\n",
    "構造体のアドレスの設定は，通常の変数や配列と同じようにアドレスを取り出す．\n",
    "\n",
    "つまり，アドレス演算子(`&`)を用いて，\n",
    "```\n",
    "&構造体の変数名\n",
    "```\n",
    "で表す．また，構造体の配列の**先頭要素**のアドレスは，\n",
    "```\n",
    "構造体の配列名\n",
    "```\n",
    "で表す．\n",
    "\n",
    "よって，ポインタに構造体のアドレスを代入するには，次のようになる．\n",
    "\n",
    "構造体を指すポインタの例\n",
    "```c\n",
    "struct syain_dt s1, s2[3];\n",
    "struct syain_dt *p1, *p2;\n",
    "p1 = &s1;  // 構造体のアドレスを代入\n",
    "p2 = s2;    // 構造体の配列の先頭要素のアドレスを代入\n",
    "```"
   ]
  },
  {
   "cell_type": "markdown",
   "id": "7f647cf8",
   "metadata": {},
   "source": [
    "## ポインタで構造体のメンバを指す"
   ]
  },
  {
   "cell_type": "markdown",
   "id": "160d309d",
   "metadata": {},
   "source": [
    "上記の例でポインタのメンバを指すには,\n",
    "```c\n",
    "printf(\"%d  %s %f\\n\",(*p1).no,  (*p1).name,  (*p1).kyuuyo);\n",
    "```\n",
    "のように行う．\n",
    "\n",
    "間接参照演算子`*`を用いて，`*p1`とすると，構造体の変数`s1`を指すので，更にそのメンバを指すために`(*p1).no`とする必要がある．\n",
    "\n",
    "`( )`を付けずに`*p1.no`とすると，`.`演算子の方が`*`演算子よりも優先順位が高いので`*(p1.no)`と解釈されてしまい，コンパイルエラーが出力される．\n",
    "\n",
    "Ｃ言語では，この`(*p1).no`という表記方法を，アロー演算子と呼ばれる`->`演算子を用いて\n",
    "```\n",
    "構造体へのポインタ -> メンバ名\n",
    "```\n",
    "つまり，\n",
    "```c\n",
    "p1 -> no\n",
    "```\n",
    "と書きかえることができる．\n",
    "\n",
    "また，構造体の配列のメンバを指すポインタの場合は，\n",
    "```c\n",
    "(p2+1) -> no\n",
    "```\n",
    "のように，`構造体+1`サイズのメンバをポインタで指すことができる．\n",
    "\n"
   ]
  },
  {
   "cell_type": "markdown",
   "id": "032dcb2a",
   "metadata": {},
   "source": [
    "---\n",
    "sample9.c\n",
    "```c\n",
    "#include <stdio.h>\n",
    "#include <string.h>\n",
    "struct syain_dt{    // 社員構造体\n",
    "    int no;                  // 社員番号\n",
    "    char name[10];   // 氏名\n",
    "    double kyuuyo;   // 給与\n",
    "};\n",
    "\n",
    "int main()\n",
    "{\n",
    "    int i;\n",
    "    \n",
    "    struct syain_dt s1;\n",
    "    struct syain_dt s2[3] = {\n",
    "        {1, \"Taka\", 250000},\n",
    "        {2, \"Kei\", 350000},\n",
    "        {3, \"Taro\", 450000},\n",
    "    };\n",
    "    struct syain_dt *p1, *p2;\n",
    "    char name[10] = \"Tanaka\";\n",
    "    \n",
    "    s1.no = 0;\n",
    "    strcpy(s1.name, name);     /* 文字型配列に文字型配列をコピー */\n",
    "    s1.kyuuyo = 20000;\n",
    "    \n",
    "    p1 = &s1;\n",
    "    p2 = s2;\n",
    "    \n",
    "    //  間接参照の場合はドット演算子を使う\n",
    "    printf(\"%d %s %0.f\\n\",(*p1).no,  (*p1).name,  (*p1).kyuuyo);\n",
    "    \n",
    "    for(i = 0; i<3; i++)\n",
    "        //  ポインタの場合はアロー演算子を使う\n",
    "        printf(\"%d %s %0.f\\n\", (p2+i)->no, (p2+i)->name, (p2+i)->kyuuyo);\n",
    "    //printf(\"%d %s %0.f\\n\", p2[i].no, p2[i].name, p2[i].kyuuyo);\n",
    "    \n",
    "    return 0;\n",
    "}\n",
    "```\n",
    "---"
   ]
  },
  {
   "cell_type": "markdown",
   "id": "bc62b1b4",
   "metadata": {},
   "source": [
    "実行結果\n",
    "```\n",
    "0 Tanaka 20000\n",
    "1 Taka 250000\n",
    "2 Kei 350000\n",
    "3 Taro 450000\n",
    "```    "
   ]
  },
  {
   "cell_type": "markdown",
   "id": "a0f0e2a8",
   "metadata": {},
   "source": [
    "[実行の可視化](https://pythontutor.com/visualize.html#code=%23include%20%3Cstdio.h%3E%0A%23include%20%3Cstring.h%3E%0A%0Astruct%20syain_dt%7B%20%20//%20%E7%A4%BE%E5%93%A1%E6%A7%8B%E9%80%A0%E4%BD%93%20%20%20%20%0A%20%20int%20no%3B%20%20%20%20%20%20%20%20%20//%20%E7%A4%BE%E5%93%A1%E7%95%AA%E5%8F%B7%20%20%0A%20%20char%20name%5B10%5D%3B%20%20//%20%E6%B0%8F%E5%90%8D%0A%20%20double%20kyuuyo%3B%20%20//%20%E7%B5%A6%E4%B8%8E%20%0A%7D%3B%0A%20%0Aint%20main%28%29%7B%0A%20%20int%20i%3B%0A%0A%20%20struct%20syain_dt%20s1%3B%0A%20%20struct%20syain_dt%20s2%5B3%5D%20%3D%20%7B%0A%20%20%20%20%7B1,%20%22Taka%22,%20250000%7D,%0A%20%20%20%20%7B2,%20%22Kei%22,%20350000%7D,%0A%20%20%20%20%7B3,%20%22Taro%22,%20450000%7D,%0A%20%20%7D%3B%0A%20%20struct%20syain_dt%20*p1,%20*p2%3B%0A%20%20char%20name%5B10%5D%20%3D%20%22Tanaka%22%3B%0A%20%20%0A%20%20s1.no%20%3D%200%3B%0A%20%20strcpy%28s1.name,%20name%29%3B%20%20%20%20%20/*%20%E6%96%87%E5%AD%97%E5%9E%8B%E9%85%8D%E5%88%97%E3%81%AB%E6%96%87%E5%AD%97%E5%9E%8B%E9%85%8D%E5%88%97%E3%82%92%E3%82%B3%E3%83%94%E3%83%BC%20*/%0A%20%20s1.kyuuyo%20%3D%2020000%3B%0A%20%20%0A%20%20p1%20%3D%20%26s1%3B%0A%20%20p2%20%3D%20s2%3B%0A%20%20%20%20%0A%20%20//%20%20%E9%96%93%E6%8E%A5%E5%8F%82%E7%85%A7%E3%81%AE%E5%A0%B4%E5%90%88%E3%81%AF%E3%83%89%E3%83%83%E3%83%88%E6%BC%94%E7%AE%97%E5%AD%90%E3%82%92%E4%BD%BF%E3%81%86%0A%20%20printf%28%22%25d%20%25s%20%250.f%5Cn%22,%28*p1%29.no,%20%20%28*p1%29.name,%20%20%28*p1%29.kyuuyo%29%3B%0A%20%20%0A%20%20for%28i%20%3D%200%3B%20i%3C3%3B%20i%2B%2B%29%0A%20%20%20%20//%20%20%E3%83%9D%E3%82%A4%E3%83%B3%E3%82%BF%E3%81%AE%E5%A0%B4%E5%90%88%E3%81%AF%E3%82%A2%E3%83%AD%E3%83%BC%E6%BC%94%E7%AE%97%E5%AD%90%E3%82%92%E4%BD%BF%E3%81%86%0A%20%20%20%20printf%28%22%25d%20%25s%20%250.f%5Cn%22,%20%28p2%2Bi%29-%3Eno,%20%28p2%2Bi%29-%3Ename,%20%28p2%2Bi%29-%3Ekyuuyo%29%3B%0A%20%20%20%20//printf%28%22%25d%20%25s%20%250.f%5Cn%22,%20p2%5Bi%5D.no,%20p2%5Bi%5D.name,%20p2%5Bi%5D.kyuuyo%29%3B%0A%0A%20%20return%200%3B%0A%7D&cumulative=false&curInstr=0&heapPrimitives=nevernest&mode=display&origin=opt-frontend.js&py=c_gcc9.3.0&rawInputLstJSON=%5B%5D&textReferences=false)"
   ]
  },
  {
   "cell_type": "markdown",
   "id": "df1671ce",
   "metadata": {},
   "source": [
    "sample9.cの次のコードでは，\n",
    "```c\n",
    "struct syain_dt s1;\n",
    "```\n",
    "で，構造体変数`s1`を定義し，各メンバの値（初期値）は以下で代入している．\n",
    "```c\n",
    "s1.no = 0;\n",
    "strcpy(s1.name, name);     /* 文字型配列に文字型配列をコピー */\n",
    "s1.kyuuyo = 20000;\n",
    "```"
   ]
  },
  {
   "cell_type": "markdown",
   "id": "22277476",
   "metadata": {},
   "source": [
    "## 構造体のメンバに値を代入する方法"
   ]
  },
  {
   "cell_type": "markdown",
   "id": "de95db33",
   "metadata": {},
   "source": [
    "以下のsample10.cでは，構造体にアロー演算子とドット演算子を使ってアクセスしている．\n",
    "\n",
    "---\n",
    "sample10.c\n",
    "```c    \n",
    "#include <stdio.h>\n",
    "\n",
    "// 枠型と実体を同時に宣言\n",
    "struct data{\n",
    "    int no;\n",
    "    double value;\n",
    "}db;\n",
    "\n",
    "int main(void)\n",
    "{\n",
    "    struct data *p;\n",
    "    \n",
    "    // 直接参照の場合はドット演算子を使う\n",
    "    db.no = 1;\n",
    "    db.value = 0.03;\n",
    "    \n",
    "    p = &db; // 構造体のアドレスをポインタに設定\n",
    "    \n",
    "    //  間接参照の場合はドット演算子を使う\n",
    "    (*p).no = 2;\n",
    "    (*p).value = -2.23;\n",
    "    \n",
    "    // ポインタの場合はアロー演算子を使う\n",
    "    p->no = 3;\n",
    "    p->value = 35.65;\n",
    "    \n",
    "    printf(\"no = %d, value = %0.2f\\n\",db.no,  db.value);\n",
    "    \n",
    "    return 0;\n",
    "}\n",
    "```\n",
    "---"
   ]
  },
  {
   "cell_type": "markdown",
   "id": "fc5263f8",
   "metadata": {},
   "source": [
    "実行結果\n",
    "```\n",
    "no = 3, value = 35.65\n",
    "```"
   ]
  },
  {
   "cell_type": "markdown",
   "id": "3569fd3a",
   "metadata": {},
   "source": [
    "[実行の可視化](https://pythontutor.com/visualize.html#code=%23include%20%3Cstdio.h%3E%0A%0A//%20%E6%9E%A0%E5%9E%8B%E3%81%A8%E5%AE%9F%E4%BD%93%E3%82%92%E5%90%8C%E6%99%82%E3%81%AB%E5%AE%A3%E8%A8%80%0Astruct%20data%7B%20%20%20%20%20%0A%20%20int%20no%3B%20%20%20%20%20%20%20%20%20%0A%20%20double%20value%3B%20%20%0A%7Ddb%3B%0A%20%0Aint%20main%28void%29%0A%7B%0A%20%20struct%20data%20*p%3B%0A%20%20%20%20%0A%20%20%20//%20%E7%9B%B4%E6%8E%A5%E5%8F%82%E7%85%A7%E3%81%AE%E5%A0%B4%E5%90%88%E3%81%AF%E3%83%89%E3%83%83%E3%83%88%E6%BC%94%E7%AE%97%E5%AD%90%E3%82%92%E4%BD%BF%E3%81%86%0A%20%20db.no%20%3D%201%3B%0A%20%20db.value%20%3D%200.03%3B%20%20%20%20%20%20%0A%20%20%20%20%0A%20%20p%20%3D%20%26db%3B%20//%20%E6%A7%8B%E9%80%A0%E4%BD%93%E3%81%AE%E3%82%A2%E3%83%89%E3%83%AC%E3%82%B9%E3%82%92%E3%83%9D%E3%82%A4%E3%83%B3%E3%82%BF%E3%81%AB%E8%A8%AD%E5%AE%9A%0A%20%20%20%20%0A%20%20//%20%20%E9%96%93%E6%8E%A5%E5%8F%82%E7%85%A7%E3%81%AE%E5%A0%B4%E5%90%88%E3%81%AF%E3%83%89%E3%83%83%E3%83%88%E6%BC%94%E7%AE%97%E5%AD%90%E3%82%92%E4%BD%BF%E3%81%86%0A%20%20%28*p%29.no%20%3D%202%3B%0A%20%20%28*p%29.value%20%3D%20-2.23%3B%20%20%0A%20%20%0A%20%20//%20%E3%83%9D%E3%82%A4%E3%83%B3%E3%82%BF%E3%81%AE%E5%A0%B4%E5%90%88%E3%81%AF%E3%82%A2%E3%83%AD%E3%83%BC%E6%BC%94%E7%AE%97%E5%AD%90%E3%82%92%E4%BD%BF%E3%81%86%0A%20%20p-%3Eno%20%3D%203%3B%0A%20%20p-%3Evalue%20%3D%2035.65%3B%0A%20%20%20%20%0A%20%20printf%28%22no%20%3D%20%25d,%20value%20%3D%20%250.2f%5Cn%22,db.no,%20%20db.value%29%3B%0A%0A%20%20return%200%3B%0A%7D&cumulative=false&curInstr=0&heapPrimitives=nevernest&mode=display&origin=opt-frontend.js&py=c_gcc9.3.0&rawInputLstJSON=%5B%5D&textReferences=false)"
   ]
  },
  {
   "cell_type": "markdown",
   "id": "cb991df8",
   "metadata": {},
   "source": [
    "以下のsample11.cでは，構造体配列にアロー演算子とドット演算子を使ってアクセスしている．\n",
    "\n",
    "`#define N 5`は [プリプロセッサ](https://jkushida.github.io/prog2/プリプロセッサ.html) を参照．\n",
    "\n",
    "---\n",
    "sample11.c\n",
    "```c\n",
    "#include <stdio.h>\n",
    "\n",
    "#define N 5 // 構造体配列の要素数\n",
    "\n",
    "// 枠型と実体を同時に宣言\n",
    "struct data{\n",
    "    int no;\n",
    "    double value;\n",
    "}db[N];\n",
    "\n",
    "int main(void)\n",
    "{\n",
    "    int i;\n",
    "    struct data *p;\n",
    "    \n",
    "    p = db; // 構造体のアドレスをポインタに設定\n",
    "    \n",
    "    //  間接参照の場合はドット演算子を使う\n",
    "    for(i=0; i<N; i++){\n",
    "        (*p).no = i;\n",
    "        (*p).value = i + 0.23;\n",
    "        p++;\n",
    "    }\n",
    "    \n",
    "    p = &db[0]; // 構造体のアドレスをポインタに設定\n",
    "    \n",
    "    //  ポインタの場合はアロー演算子を使う\n",
    "    for(i=0; i<N; i++){\n",
    "        printf(\"no = %d, value = %0.2f\\n\",p->no,  p->value);\n",
    "        p++;\n",
    "    }\n",
    "    \n",
    "    return 0;\n",
    "}\n",
    "```\n",
    "---"
   ]
  },
  {
   "cell_type": "markdown",
   "id": "193a2267",
   "metadata": {},
   "source": [
    "実行結果\n",
    "```\n",
    "no = 0, value = 0.23\n",
    "no = 1, value = 1.23\n",
    "no = 2, value = 2.23\n",
    "no = 3, value = 3.23\n",
    "no = 4, value = 4.23\n",
    "```"
   ]
  },
  {
   "cell_type": "markdown",
   "id": "b28d9296",
   "metadata": {},
   "source": [
    "[実行の可視化](https://pythontutor.com/visualize.html#code=%23include%20%3Cstdio.h%3E%0A%0A%23define%20N%205%20//%20%E6%A7%8B%E9%80%A0%E4%BD%93%E9%85%8D%E5%88%97%E3%81%AE%E8%A6%81%E7%B4%A0%E6%95%B0%0A%0A//%20%E6%9E%A0%E5%9E%8B%E3%81%A8%E5%AE%9F%E4%BD%93%E3%82%92%E5%90%8C%E6%99%82%E3%81%AB%E5%AE%A3%E8%A8%80%0Astruct%20data%7B%20%20%20%20%20%0A%20%20int%20no%3B%20%20%20%20%20%20%20%20%20%0A%20%20double%20value%3B%20%20%0A%7Ddb%5BN%5D%3B%0A%20%0Aint%20main%28void%29%0A%7B%0A%20%20int%20i%3B%0A%20%20struct%20data%20*p%3B%0A%20%20%0A%20%20p%20%3D%20db%3B%20//%20%E6%A7%8B%E9%80%A0%E4%BD%93%E3%81%AE%E3%82%A2%E3%83%89%E3%83%AC%E3%82%B9%E3%82%92%E3%83%9D%E3%82%A4%E3%83%B3%E3%82%BF%E3%81%AB%E8%A8%AD%E5%AE%9A%0A%20%20%0A%20%20//%20%20%E9%96%93%E6%8E%A5%E5%8F%82%E7%85%A7%E3%81%AE%E5%A0%B4%E5%90%88%E3%81%AF%E3%83%89%E3%83%83%E3%83%88%E6%BC%94%E7%AE%97%E5%AD%90%E3%82%92%E4%BD%BF%E3%81%86%0A%20%20for%28i%3D0%3B%20i%3CN%3B%20i%2B%2B%29%7B%20%0A%20%20%20%20%28*p%29.no%20%3D%20i%3B%0A%20%20%20%20%28*p%29.value%20%3D%20i%20%2B%200.23%3B%0A%20%20%20%20p%2B%2B%3B%0A%20%20%7D%0A%20%20%0A%20%20p%20%3D%20%26db%5B0%5D%3B%20//%20%E6%A7%8B%E9%80%A0%E4%BD%93%E3%81%AE%E3%82%A2%E3%83%89%E3%83%AC%E3%82%B9%E3%82%92%E3%83%9D%E3%82%A4%E3%83%B3%E3%82%BF%E3%81%AB%E8%A8%AD%E5%AE%9A%0A%20%20%0A%20%20//%20%20%E3%83%9D%E3%82%A4%E3%83%B3%E3%82%BF%E3%81%AE%E5%A0%B4%E5%90%88%E3%81%AF%E3%82%A2%E3%83%AD%E3%83%BC%E6%BC%94%E7%AE%97%E5%AD%90%E3%82%92%E4%BD%BF%E3%81%86%0A%20%20for%28i%3D0%3B%20i%3CN%3B%20i%2B%2B%29%7B%0A%20%20%20%20printf%28%22no%20%3D%20%25d,%20value%20%3D%20%250.2f%5Cn%22,p-%3Eno,%20%20p-%3Evalue%29%3B%0A%20%20%20%20p%2B%2B%3B%0A%20%20%7D%0A%0A%20%20return%200%3B%0A%7D&cumulative=false&curInstr=0&heapPrimitives=nevernest&mode=display&origin=opt-frontend.js&py=c_gcc9.3.0&rawInputLstJSON=%5B%5D&textReferences=false)"
   ]
  },
  {
   "cell_type": "markdown",
   "id": "11309756",
   "metadata": {},
   "source": [
    "なお，構造体では，同一の型であれば一括代入が可能である．"
   ]
  },
  {
   "cell_type": "markdown",
   "id": "4af17e1c",
   "metadata": {},
   "source": [
    "以下のsample12.cは，同じ形の構造体に内容を代入する（コピー）している．\n",
    "\n",
    "---\n",
    "sample12.c\n",
    "```c\n",
    "#include <stdio.h>\n",
    "#include <string.h>\n",
    "\n",
    "struct student{\n",
    "    int no;\n",
    "    char name[10];\n",
    "    double average;\n",
    "} seito1,seito2;\n",
    "\n",
    "int main()\n",
    "{\n",
    "    seito1.no = 5;\n",
    "    strcpy(seito1.name, \"Yamada\");\n",
    "    seito1.average = 56.7;\n",
    "    \n",
    "    printf(\"学生番号: %d,  氏名: %s,  平均点: %f\\n\",seito1.no, seito1.name, seito1.average);\n",
    "    \n",
    "    // seito1の各メンバの値を，  seito2に一括代入\n",
    "    seito2 = seito1;\n",
    "    \n",
    "    printf(\"学生番号: %d,  氏名: %s,  平均点: %f\\n\",seito2.no, seito2.name, seito2.average);\n",
    "    \n",
    "    return (0);\n",
    "}\n",
    "```\n",
    "---"
   ]
  },
  {
   "cell_type": "markdown",
   "id": "f98601e3",
   "metadata": {},
   "source": [
    "実行結果\n",
    "```\n",
    "学生番号: 5,  氏名: Yamada,  平均点: 56.700000\n",
    "学生番号: 5,  氏名: Yamada,  平均点: 56.700000\n",
    "```"
   ]
  },
  {
   "cell_type": "markdown",
   "id": "b6f042ff",
   "metadata": {},
   "source": [
    "[実行の可視化](https://pythontutor.com/visualize.html#code=%23include%20%3Cstdio.h%3E%0A%23include%20%3Cstring.h%3E%0A%0Astruct%20student%7B%20%20%20%20%0A%20%20int%20no%3B%20%20%20%20%20%20%20%20%20%20%0A%20%20char%20name%5B10%5D%3B%20%20%20%0A%20%20double%20average%3B%20%20%0A%7D%20seito1,seito2%3B%0A%20%0Aint%20main%28%29%0A%7B%0A%20%20seito1.no%20%3D%205%3B%0A%20%20strcpy%28seito1.name,%20%22Yamada%22%29%3B%0A%20%20seito1.average%20%3D%2056.7%3B%0A%0A%20%20printf%28%22%E5%AD%A6%E7%94%9F%E7%95%AA%E5%8F%B7%3A%20%25d,%20%20%E6%B0%8F%E5%90%8D%3A%20%25s,%20%20%E5%B9%B3%E5%9D%87%E7%82%B9%3A%20%25f%5Cn%22,seito1.no,%20seito1.name,%20seito1.average%29%3B%0A%20%20%0A%20%20seito2%20%3D%20seito1%3B%0A%20%20%0A%20%20printf%28%22%E5%AD%A6%E7%94%9F%E7%95%AA%E5%8F%B7%3A%20%25d,%20%20%E6%B0%8F%E5%90%8D%3A%20%25s,%20%20%E5%B9%B3%E5%9D%87%E7%82%B9%3A%20%25f%5Cn%22,seito2.no,%20seito2.name,%20seito2.average%29%3B%0A%20%20%0A%20%20return%20%280%29%3B%0A%7D&cumulative=false&curInstr=0&heapPrimitives=nevernest&mode=display&origin=opt-frontend.js&py=c_gcc9.3.0&rawInputLstJSON=%5B%5D&textReferences=false)"
   ]
  },
  {
   "cell_type": "markdown",
   "id": "8927bc27",
   "metadata": {},
   "source": [
    "## ポインタをメンバ変数とする構造体\n",
    "\n",
    "構造体では, 任意の型のまとまりを定義できるため，構造体の中にポインタを入れることも可能である．"
   ]
  },
  {
   "cell_type": "markdown",
   "id": "ef4dbbc6",
   "metadata": {},
   "source": [
    "以下のsample13.cでは, 構造体のメンバにint型のポインタ変数が含まれている．\n",
    "\n",
    "このポインタには`malloc関数`で確保したメモリ領域のアドレスが代入される．\n",
    "\n",
    "---\n",
    "sample13.c\n",
    "```c\n",
    "#include <stdio.h>\n",
    "#include <stdlib.h>\n",
    "#include <string.h>\n",
    "\n",
    "struct student{     \n",
    "    char name[10];    \n",
    "    int *score;   \n",
    "};\n",
    "\n",
    "int main()\n",
    "{\n",
    "    struct student sei;\n",
    "    strcpy(sei.name, \"Satou\");\n",
    "    \n",
    "    int n = 2;\n",
    "    sei.score = (int *)malloc(n * sizeof(int));      // メモリ領域の確保\n",
    "    sei.score[0] = 70;\n",
    "    sei.score[1] = 80;\n",
    "\n",
    "    printf(\"氏名: %s,  score[0]: %d, score[1]: %d \\n\", sei.name, sei.score[0], sei.score[1]);\n",
    "\n",
    "    return 0;\n",
    "}\n",
    "```\n",
    "---\n",
    "\n",
    "実行結果\n",
    "```\n",
    "氏名: Satou,  score[0]: 70, score[1]: 80 \n",
    "```"
   ]
  },
  {
   "cell_type": "markdown",
   "id": "f1f77333",
   "metadata": {},
   "source": [
    "[実行の可視化](https://pythontutor.com/visualize.html#code=%23include%20%3Cstdio.h%3E%0A%23include%20%3Cstdlib.h%3E%0A%23include%20%3Cstring.h%3E%0A%0Astruct%20student%7B%20%20%20%20%20%0A%20%20%20%20char%20name%5B10%5D%3B%20%20%20%20%0A%20%20%20%20int%20*score%3B%20%20%20%0A%7D%3B%0A%0Aint%20main%28%29%0A%7B%0A%20%20%20%20struct%20student%20sei%3B%0A%20%20%20%20strcpy%28sei.name,%20%22Satou%22%29%3B%0A%0A%20%20%20%20int%20n%20%3D%202%3B%0A%20%20%20%20sei.score%20%3D%20%28int%20*%29malloc%28n%20*%20sizeof%28int%29%29%3B%20%20%20%20%20%20//%20%E3%83%A1%E3%83%A2%E3%83%AA%E9%A0%98%E5%9F%9F%E3%81%AE%E7%A2%BA%E4%BF%9D%0A%20%20%20%20sei.score%5B0%5D%20%3D%2070%3B%0A%20%20%20%20sei.score%5B1%5D%20%3D%2080%3B%0A%0A%20%20%20%20printf%28%22%E6%B0%8F%E5%90%8D%3A%20%25s,%20%20score%5B0%5D%3A%20%25d,%20score%5B1%5D%3A%20%25d%20%5Cn%22,%20sei.name,%20sei.score%5B0%5D,%20sei.score%5B1%5D%29%3B%0A%0A%20%20%20%20return%200%3B%0A%7D&cumulative=false&curInstr=0&heapPrimitives=nevernest&mode=display&origin=opt-frontend.js&py=c_gcc9.3.0&rawInputLstJSON=%5B%5D&textReferences=false)"
   ]
  },
  {
   "cell_type": "markdown",
   "id": "0248a24f",
   "metadata": {},
   "source": [
    "# 構造体と関数\n",
    "\n",
    "構造体も，通常の変数のように，値渡しとアドレス渡しの２つの方法で関数の引数として指定できる．\n",
    "\n",
    "以下は，**構造体の値渡し**と**構造体のアドレス渡し**のプログラムである．"
   ]
  },
  {
   "cell_type": "markdown",
   "id": "07c1963d",
   "metadata": {},
   "source": [
    "## 構造体の値渡し"
   ]
  },
  {
   "cell_type": "markdown",
   "id": "058faf05",
   "metadata": {},
   "source": [
    "- 構造体の値渡しのプログラムの例\n",
    "\n",
    "---\n",
    "sample14.c    \n",
    "```c\n",
    "#include <stdio.h>\n",
    " \n",
    "struct student{      // 学生情報\n",
    "  int no;                    // 学生番号\n",
    "  char name[10];    // 氏名\n",
    "  double average;   // 平均点\n",
    "};\n",
    "\n",
    "void func_v(struct student sei);\n",
    " \n",
    "int main()\n",
    "{\n",
    "  struct student seito = {9, \"Ogata\", 73.9};\n",
    "  func_v(seito); // 構造体の値渡し\n",
    "  return 0;\n",
    "}\n",
    "\n",
    "void func_v(struct student sei)\n",
    "{\n",
    "  printf(\"学生番号: %d,  氏名: %s,  平均点: %f\\n\",sei.no, sei.name, sei.average);\n",
    "}\n",
    "```\n",
    "---"
   ]
  },
  {
   "cell_type": "markdown",
   "id": "e9f64d75",
   "metadata": {},
   "source": [
    "実行結果\n",
    "```\n",
    "学生番号: 9,  氏名: Ogata,  平均点: 73.900000\n",
    "```"
   ]
  },
  {
   "cell_type": "markdown",
   "id": "60be6bd9",
   "metadata": {},
   "source": [
    "[実行の可視化](https://pythontutor.com/visualize.html#code=%23include%20%3Cstdio.h%3E%0A%20%0Astruct%20student%7B%20%20%20%20%20//%20%E5%AD%A6%E7%94%9F%E6%83%85%E5%A0%B1%0A%20%20int%20no%3B%20%20%20%20%20%20%20%20%20%20%20//%20%E5%AD%A6%E7%94%9F%E7%95%AA%E5%8F%B7%0A%20%20char%20name%5B10%5D%3B%20%20%20%20//%20%E6%B0%8F%E5%90%8D%0A%20%20double%20average%3B%20%20%20//%20%E5%B9%B3%E5%9D%87%E7%82%B9%0A%7D%3B%0A%0Avoid%20func%28struct%20student%20sei%29%3B%0A%20%0Aint%20main%28%29%0A%7B%0A%20%20struct%20student%20seito%20%3D%20%7B9,%20%22Ogata%22,%2073.9%7D%3B%0A%20%20func%28seito%29%3B%0A%20%20return%200%3B%0A%7D%0A%0A%0Avoid%20func%28struct%20student%20sei%29%0A%7B%0A%20%20printf%28%22%E5%AD%A6%E7%94%9F%E7%95%AA%E5%8F%B7%3A%20%25d,%20%20%E6%B0%8F%E5%90%8D%3A%20%25s,%20%20%E5%B9%B3%E5%9D%87%E7%82%B9%3A%20%25f%5Cn%22,sei.no,%20sei.name,%20sei.average%29%3B%0A%7D&cumulative=false&curInstr=0&heapPrimitives=nevernest&mode=display&origin=opt-frontend.js&py=c_gcc9.3.0&rawInputLstJSON=%5B%5D&textReferences=false)"
   ]
  },
  {
   "cell_type": "markdown",
   "id": "6aedec32",
   "metadata": {},
   "source": [
    "- 値渡しでは，対象となる構造体の内容をすべてコピーするため，大きな構造体では無駄な時間が多くなる．\n",
    "\n",
    "- 値渡しでは，`.`演算子を用いて関数側で構造体のメンバを参照する．\n",
    "\n",
    "<img style=\"float: left;\" src=\"./fig/a_t1.png\" width=\"400\">"
   ]
  },
  {
   "cell_type": "markdown",
   "id": "12441b86",
   "metadata": {},
   "source": [
    "## 構造体のアドレス渡し"
   ]
  },
  {
   "cell_type": "markdown",
   "id": "ef9bcbbb",
   "metadata": {},
   "source": [
    "### 構造体のアドレス渡しの例1\n",
    "---\n",
    "sample15.c\n",
    "```c\n",
    "#include <stdio.h>\n",
    "\n",
    "struct student{        // 学生情報\n",
    "    int no;                    // 学生番号\n",
    "    char name[10];    // 氏名\n",
    "    double average;   // 平均点\n",
    "};\n",
    "\n",
    "void func_a(struct student *sei);\n",
    "\n",
    "int main()\n",
    "{\n",
    "    struct student seito = {9, \"Ogata\", 73.9};\n",
    "    func_a(&seito); // 構造体のアドレス渡し\n",
    "    return 0;\n",
    "}\n",
    "\n",
    "void func_a(struct student *sei)\n",
    "{\n",
    "    printf(\"学生番号: %d,  氏名: %s,  平均点: %f\\n\",sei->no, sei->name, sei->average);\n",
    "}\n",
    "```\n",
    "---"
   ]
  },
  {
   "cell_type": "markdown",
   "id": "490084df",
   "metadata": {},
   "source": [
    "実行結果\n",
    "```\n",
    "学生番号: 9,  氏名: Ogata,  平均点: 73.900000\n",
    "```"
   ]
  },
  {
   "cell_type": "markdown",
   "id": "ce9771cd",
   "metadata": {},
   "source": [
    "[実行の可視化](https://pythontutor.com/visualize.html#code=//%20%E6%A7%8B%E9%80%A0%E4%BD%93%E3%81%AE%E3%82%A2%E3%83%89%E3%83%AC%E3%82%B9%E6%B8%A1%E3%81%97%0A%23include%20%3Cstdio.h%3E%0A%20%0Astruct%20student%7B%20%20%20%20%20//%20%E5%AD%A6%E7%94%9F%E6%83%85%E5%A0%B1%0A%20%20int%20no%3B%20%20%20%20%20%20%20%20%20%20%20//%20%E5%AD%A6%E7%94%9F%E7%95%AA%E5%8F%B7%0A%20%20char%20name%5B10%5D%3B%20%20%20%20//%20%E6%B0%8F%E5%90%8D%0A%20%20double%20average%3B%20%20%20//%20%E5%B9%B3%E5%9D%87%E7%82%B9%0A%7D%3B%0A%0Avoid%20func_a%28struct%20student%20*sei%29%3B%0A%20%0Aint%20main%28%29%0A%7B%0A%20%20struct%20student%20seito%20%3D%20%7B9,%20%22Ogata%22,%2073.9%7D%3B%0A%20%20func_a%28%26seito%29%3B%0A%20%20return%200%3B%0A%7D%0A%0Avoid%20func_a%28struct%20student%20*sei%29%0A%7B%0A%20%20printf%28%22%E5%AD%A6%E7%94%9F%E7%95%AA%E5%8F%B7%3A%20%25d,%20%20%E6%B0%8F%E5%90%8D%3A%20%25s,%20%20%E5%B9%B3%E5%9D%87%E7%82%B9%3A%20%25f%5Cn%22,sei-%3Eno,%20sei-%3Ename,%20sei-%3Eaverage%29%3B%0A%7D&cumulative=false&curInstr=0&heapPrimitives=nevernest&mode=display&origin=opt-frontend.js&py=c_gcc9.3.0&rawInputLstJSON=%5B%5D&textReferences=false)"
   ]
  },
  {
   "cell_type": "markdown",
   "id": "5e4461e3",
   "metadata": {},
   "source": [
    "- アドレス渡しでは，構造体をコピーすることなく，構造体のアドレスを引数で渡すため，サイズの大きな構造体を扱うのに向いている．\n",
    "\n",
    "- アドレス渡しでは，メンバの参照の際は`->`演算子を用いる．\n",
    "\n",
    "<img style=\"float: left;\" src=\"./fig/a_t2.png\" width=\"450\">"
   ]
  },
  {
   "cell_type": "markdown",
   "id": "174a8142",
   "metadata": {},
   "source": [
    "### 構造体のアドレス渡しの例2\n",
    "---\n",
    "sample16.c\n",
    "```c\n",
    "#include <stdio.h>\n",
    "\n",
    "struct student{\n",
    "    int no;\n",
    "    char name[5];\n",
    "    double average;\n",
    "};\n",
    "\n",
    "void func_a(struct student *sei);\n",
    "\n",
    "int main()\n",
    "{\n",
    "    \n",
    "    struct student seito2[3] = {\n",
    "        {1, \"Taka\", 65.1},\n",
    "        {2, \"Kei\", 56.8},\n",
    "        {3, \"Taro\", 65.2},\n",
    "    };\n",
    "    \n",
    "    // 構造体配列の先頭アドレス渡す\n",
    "    func_a(seito2);\n",
    "    // func_a(&seito2[0]);\n",
    "    \n",
    "    return 0;\n",
    "}\n",
    "\n",
    "void func_a(struct student *sei)\n",
    "{\n",
    "    int i;\n",
    "    for(i = 0; i<3; i++)\n",
    "        printf(\"学生番号: %d,  氏名: %s,  平均点: %f\\n\",sei[i].no, sei[i].name, sei[i].average);\n",
    "    \n",
    "    printf(\"\\n\");\n",
    "    \n",
    "    for(i = 0; i<3; i++){\n",
    "        printf(\"学生番号: %d,  氏名: %s,  平均点: %f\\n\",sei->no, sei->name, sei->average);\n",
    "        sei++;\n",
    "    }\n",
    "}\n",
    "```\n",
    "---"
   ]
  },
  {
   "cell_type": "markdown",
   "id": "4b65ebcb",
   "metadata": {},
   "source": [
    "実行結果\n",
    "```\n",
    "学生番号: 1,  氏名: Taka,  平均点: 65.100000\n",
    "学生番号: 2,  氏名: Kei,  平均点: 56.800000\n",
    "学生番号: 3,  氏名: Taro,  平均点: 65.200000\n",
    "\n",
    "学生番号: 1,  氏名: Taka,  平均点: 65.100000\n",
    "学生番号: 2,  氏名: Kei,  平均点: 56.800000\n",
    "学生番号: 3,  氏名: Taro,  平均点: 65.200000\n",
    "```    "
   ]
  },
  {
   "cell_type": "markdown",
   "id": "e5221468",
   "metadata": {},
   "source": [
    "[実行の可視化](https://pythontutor.com/visualize.html#code=//%20%E6%A7%8B%E9%80%A0%E4%BD%93%E3%81%AE%E3%82%A2%E3%83%89%E3%83%AC%E3%82%B9%E6%B8%A1%E3%81%97%20%E4%BE%8B2%0A%23include%20%3Cstdio.h%3E%0A%20%0Astruct%20student%7B%20%20%20%20%0A%20%20int%20no%3B%20%20%20%20%20%20%20%20%20%20%0A%20%20char%20name%5B5%5D%3B%20%20%20%0A%20%20double%20average%3B%20%20%0A%7D%3B%0A%0Avoid%20func_a%28struct%20student%20*sei%29%3B%0A%0Aint%20main%28%29%7B%0A%0A%20%20struct%20student%20seito2%5B3%5D%20%3D%20%7B%0A%20%20%20%20%7B1,%20%22Taka%22,%2065.1%7D,%0A%20%20%20%20%7B2,%20%22Kei%22,%2056.8%7D,%0A%20%20%20%20%7B3,%20%22Taro%22,%2065.2%7D,%0A%20%20%7D%3B%0A%20%20%0A%20%20//%20%E6%A7%8B%E9%80%A0%E4%BD%93%E9%85%8D%E5%88%97%E3%81%AE%E5%85%88%E9%A0%AD%E3%82%A2%E3%83%89%E3%83%AC%E3%82%B9%E6%B8%A1%E3%81%99%0A%20%20func_a%28seito2%29%3B%0A%20%20//%20func_a%28%26seito2%5B0%5D%29%3B%20%0A%0A%20%20return%200%3B%0A%7D%0A%0Avoid%20func_a%28struct%20student%20*sei%29%0A%7B%0A%20%20int%20i%3B%0A%20%20for%28i%20%3D%200%3B%20i%3C3%3B%20i%2B%2B%29%0A%20%20%20%20printf%28%22%E5%AD%A6%E7%94%9F%E7%95%AA%E5%8F%B7%3A%20%25d,%20%20%E6%B0%8F%E5%90%8D%3A%20%25s,%20%20%E5%B9%B3%E5%9D%87%E7%82%B9%3A%20%25f%5Cn%22,sei%5Bi%5D.no,%20sei%5Bi%5D.name,%20sei%5Bi%5D.average%29%3B%0A%20%20%0A%20%20printf%28%22%5Cn%22%29%3B%0A%20%20%0A%20%20for%28i%20%3D%200%3B%20i%3C3%3B%20i%2B%2B%29%7B%0A%20%20%20%20printf%28%22%E5%AD%A6%E7%94%9F%E7%95%AA%E5%8F%B7%3A%20%25d,%20%20%E6%B0%8F%E5%90%8D%3A%20%25s,%20%20%E5%B9%B3%E5%9D%87%E7%82%B9%3A%20%25f%5Cn%22,sei-%3Eno,%20sei-%3Ename,%20sei-%3Eaverage%29%3B%0A%20%20%20%20sei%2B%2B%3B%0A%20%20%7D%0A%7D&cumulative=false&curInstr=0&heapPrimitives=nevernest&mode=display&origin=opt-frontend.js&py=c_gcc9.3.0&rawInputLstJSON=%5B%5D&textReferences=false)"
   ]
  },
  {
   "cell_type": "markdown",
   "id": "90a42c3f",
   "metadata": {},
   "source": [
    "sample16.cでは，`func_c`関数内で２通りの方法で構造体配列の中身を表示している．"
   ]
  },
  {
   "cell_type": "markdown",
   "id": "8bd250dc",
   "metadata": {},
   "source": [
    "## 関数から構造体を返す\n",
    "\n",
    "構造体もreturn文で関数から返却することができる．\n",
    "\n",
    "このとき，返却値は構造体となる．\n",
    "\n",
    "<img style=\"float: left;\" src=\"./fig/返却値.png\" width=\"300\">"
   ]
  },
  {
   "cell_type": "markdown",
   "id": "ecba2575",
   "metadata": {},
   "source": [
    "以下のsample17.cは，`func`関数で構造体のオブジェクトを宣言し，値を代入したあとに，`main`関数に返却している．\n",
    "\n",
    "---\n",
    "sample17.c\n",
    "```c\n",
    "#include <stdio.h>\n",
    "#include <string.h>\n",
    "\n",
    "struct student{      // 学生情報\n",
    "    int no;                    // 学生番号\n",
    "    char name[10];    // 氏名\n",
    "    double average;   // 平均点\n",
    "};\n",
    "\n",
    "struct student func();\n",
    "\n",
    "int main()\n",
    "{\n",
    "    struct student sei;\n",
    "    sei = func();\n",
    "    \n",
    "    printf(\"学生番号: %d,  氏名: %s,  平均点: %f\\n\",sei.no, sei.name, sei.average);\n",
    "    \n",
    "    return 0;\n",
    "}\n",
    "\n",
    "struct student func()\n",
    "{\n",
    "    struct student s;\n",
    "    s.no = 1002;\n",
    "    strcpy(s.name, \"Satou\");\n",
    "    s.average = 35.3;\n",
    "    return s;\n",
    "}\n",
    "```\n",
    "---"
   ]
  },
  {
   "cell_type": "markdown",
   "id": "ccbb0c83",
   "metadata": {},
   "source": [
    "実行結果\n",
    "```\n",
    "学生番号: 1002,  氏名: Satou,  平均点: 35.300000\n",
    "```"
   ]
  },
  {
   "cell_type": "markdown",
   "id": "d4f8f9db",
   "metadata": {},
   "source": [
    "[実行の可視化](https://pythontutor.com/visualize.html#code=%23include%20%3Cstdio.h%3E%0A%23include%20%3Cstring.h%3E%0A%0Astruct%20student%7B%20%20%20%20%20//%20%E5%AD%A6%E7%94%9F%E6%83%85%E5%A0%B1%0A%20%20int%20no%3B%20%20%20%20%20%20%20%20%20%20%20//%20%E5%AD%A6%E7%94%9F%E7%95%AA%E5%8F%B7%0A%20%20char%20name%5B10%5D%3B%20%20%20%20//%20%E6%B0%8F%E5%90%8D%0A%20%20double%20average%3B%20%20%20//%20%E5%B9%B3%E5%9D%87%E7%82%B9%0A%7D%3B%0A%0Astruct%20student%20func%28%29%3B%0A%20%0Aint%20main%28%29%0A%7B%0A%20%20struct%20student%20sei%3B%0A%20%20sei%20%3D%20func%28%29%3B%0A%20%20%0A%20%20printf%28%22%E5%AD%A6%E7%94%9F%E7%95%AA%E5%8F%B7%3A%20%25d,%20%20%E6%B0%8F%E5%90%8D%3A%20%25s,%20%20%E5%B9%B3%E5%9D%87%E7%82%B9%3A%20%25f%5Cn%22,sei.no,%20sei.name,%20sei.average%29%3B%0A%0A%20%20return%200%3B%0A%7D%0A%0Astruct%20student%20func%28%29%0A%7B%0A%20%20struct%20student%20s%3B%0A%20%20s.no%20%3D%201002%3B%0A%20%20strcpy%28s.name,%20%22Satou%22%29%3B%0A%20%20s.average%20%3D%2035.3%3B%0A%20%20return%20s%3B%0A%7D&cumulative=false&curInstr=0&heapPrimitives=nevernest&mode=display&origin=opt-frontend.js&py=c_gcc9.3.0&rawInputLstJSON=%5B%5D&textReferences=false)"
   ]
  },
  {
   "cell_type": "markdown",
   "id": "443eb5e0",
   "metadata": {},
   "source": [
    "このコードでは，`func`関数から返却された構造体は，呼び出し元の`main`関数で構造体変数`sei`に代入されている．\n",
    "<img style=\"float: left;\" src=\"./fig/返却値2.png\" width=\"400\">"
   ]
  },
  {
   "cell_type": "markdown",
   "id": "3418ce4e",
   "metadata": {},
   "source": [
    "また，次のsample18.cでは，関数内で複数の構造体を編集している．"
   ]
  },
  {
   "cell_type": "markdown",
   "id": "f945aad2",
   "metadata": {},
   "source": [
    "---\n",
    "sample18.c   \n",
    "```c\n",
    "#include <stdio.h>\n",
    "#include <string.h>\n",
    "\n",
    "#define N 2\n",
    "\n",
    "struct student{      // 学生情報\n",
    "    int no;                    // 学生番号\n",
    "    char name[10];    // 氏名\n",
    "    double average;   // 平均点\n",
    "};\n",
    "\n",
    "void func2(struct student *sp);\n",
    "\n",
    "int main()\n",
    "{\n",
    "    struct student sei[N];\n",
    "    int i;\n",
    "    \n",
    "    func2(sei);\n",
    "    \n",
    "    for(i = 0; i<N; i++)\n",
    "        printf(\"学生番号: %d,  氏名: %s,  平均点: %0.2f\\n\",sei[i].no, sei[i].name, sei[i].average);\n",
    "    \n",
    "    return 0;\n",
    "}\n",
    "\n",
    "void func2(struct student *sp)\n",
    "{\n",
    "    int i;\n",
    "    struct student s[N] = {\n",
    "        {1001, \"Yoshida\", 72.12},\n",
    "        {1002, \"Wada\", 39.24},\n",
    "    };\n",
    "    \n",
    "    for(i = 0; i<N; i++){\n",
    "        *sp = s[i];\n",
    "        sp++;\n",
    "    }\n",
    "}\n",
    "```\n",
    "---"
   ]
  },
  {
   "cell_type": "markdown",
   "id": "09c90f0c",
   "metadata": {},
   "source": [
    "実行結果\n",
    "```\n",
    "学生番号: 1001,  氏名: Yoshida,  平均点: 72.12\n",
    "学生番号: 1002,  氏名: Wada,  平均点: 39.24\n",
    "```"
   ]
  },
  {
   "cell_type": "markdown",
   "id": "4b230463",
   "metadata": {},
   "source": [
    "[実行の可視化](https://pythontutor.com/visualize.html#code=%23include%20%3Cstdio.h%3E%0A%23include%20%3Cstring.h%3E%0A%0A%23define%20N%202%0A%0Astruct%20student%7B%20%20%20%20%20//%20%E5%AD%A6%E7%94%9F%E6%83%85%E5%A0%B1%0A%20%20int%20no%3B%20%20%20%20%20%20%20%20%20%20%20//%20%E5%AD%A6%E7%94%9F%E7%95%AA%E5%8F%B7%0A%20%20char%20name%5B10%5D%3B%20%20%20%20//%20%E6%B0%8F%E5%90%8D%0A%20%20double%20average%3B%20%20%20//%20%E5%B9%B3%E5%9D%87%E7%82%B9%0A%7D%3B%0A%0Avoid%20func2%28struct%20student%20*sp%29%3B%0A%20%0Aint%20main%28%29%7B%0A%20%20struct%20student%20sei%5BN%5D%3B%0A%20%20int%20i%3B%0A%20%20%0A%20%20func2%28sei%29%3B%0A%20%20%0A%20%20for%28i%20%3D%200%3B%20i%3CN%3B%20i%2B%2B%29%0A%20%20%20%20printf%28%22%E5%AD%A6%E7%94%9F%E7%95%AA%E5%8F%B7%3A%20%25d,%20%20%E6%B0%8F%E5%90%8D%3A%20%25s,%20%20%E5%B9%B3%E5%9D%87%E7%82%B9%3A%20%250.2f%5Cn%22,sei%5Bi%5D.no,%20sei%5Bi%5D.name,%20sei%5Bi%5D.average%29%3B%0A%20%20%0A%20%20return%200%3B%0A%7D%0A%0Avoid%20func2%28struct%20student%20*sp%29%7B%0A%20%20int%20i%3B%20%0A%20%20struct%20student%20s%5BN%5D%20%3D%20%7B%0A%20%20%20%20%7B1001,%20%22Yoshida%22,%2072.12%7D,%0A%20%20%20%20%7B1002,%20%22Wada%22,%2039.24%7D,%0A%20%20%7D%3B%0A%20%20%0A%20%20for%28i%20%3D%200%3B%20i%3CN%3B%20i%2B%2B%29%7B%0A%20%20%20%20*sp%20%3D%20s%5Bi%5D%3B%0A%20%20%20%20sp%2B%2B%3B%0A%20%20%7D%0A%7D&cumulative=false&curInstr=0&heapPrimitives=nevernest&mode=display&origin=opt-frontend.js&py=c_gcc9.3.0&rawInputLstJSON=%5B%5D&textReferences=false)"
   ]
  },
  {
   "cell_type": "markdown",
   "id": "6103699a",
   "metadata": {},
   "source": [
    "このコードでは，`main`関数で構造体の配列`sei[N]`を用意し，その先頭アドレスを引数で渡している．\n",
    "\n",
    "`func2`関数では新たに構造体の配列`s[N]`を用意し，`s[N]`の情報をポインタを使って`sei[N]`にコピーしている．\n",
    "\n",
    "<img style=\"float: left;\" src=\"./fig/返却値3.png\" width=\"480\">"
   ]
  },
  {
   "cell_type": "markdown",
   "id": "4c7b3c63",
   "metadata": {},
   "source": [
    "## 構造体を動的に確保する関数\n",
    "\n",
    "以下のsample19.cでは, 関数内で構造体のためのメモリ領域を動的に確保し, そのアドレスをmain関数に返している．\n",
    "\n",
    "---\n",
    "sample19.c\n",
    "```c\n",
    "#include <stdio.h>\n",
    "#include <stdlib.h>\n",
    "#include <string.h>\n",
    "\n",
    "struct student{      // 学生情報\n",
    "    int no;           // 学生番号\n",
    "    char name[10];    // 氏名\n",
    "    double average;   // 平均点\n",
    "};\n",
    "\n",
    "struct student *func();\n",
    "\n",
    "int main()\n",
    "{\n",
    "    struct student *sei;\n",
    "    \n",
    "    sei = func();\n",
    "    printf(\"学生番号: %d,  氏名: %s,  平均点: %f\\n\",sei->no, sei->name, sei->average);\n",
    "\n",
    "    return 0;\n",
    "}\n",
    "\n",
    "struct student *func()\n",
    "{\n",
    "    struct student *sei;\n",
    "    sei = malloc(sizeof(struct student));  // 構造体のためのメモリ領域を動的に確保\n",
    "\n",
    "    sei->no = 1001;\n",
    "    strcpy(sei->name, \"Satou\");\n",
    "    sei->average = 35.3;\n",
    "    return sei;\n",
    "}\n",
    "```\n",
    "---\n",
    "\n",
    "実行結果\n",
    "```\n",
    "学生番号: 1001,  氏名: Satou,  平均点: 35.300000\n",
    "```"
   ]
  },
  {
   "cell_type": "markdown",
   "id": "60499ba6",
   "metadata": {},
   "source": [
    "[実行の可視化](https://pythontutor.com/visualize.html#code=%23include%20%3Cstdio.h%3E%0A%23include%20%3Cstdlib.h%3E%0A%23include%20%3Cstring.h%3E%0A%0Astruct%20student%7B%20%20%20%20%20%20//%20%E5%AD%A6%E7%94%9F%E6%83%85%E5%A0%B1%0A%20%20%20%20int%20no%3B%20%20%20%20%20%20%20%20%20%20%20//%20%E5%AD%A6%E7%94%9F%E7%95%AA%E5%8F%B7%0A%20%20%20%20char%20name%5B10%5D%3B%20%20%20%20//%20%E6%B0%8F%E5%90%8D%0A%20%20%20%20double%20average%3B%20%20%20//%20%E5%B9%B3%E5%9D%87%E7%82%B9%0A%7D%3B%0A%0Astruct%20student%20*func%28%29%3B%0A%0Aint%20main%28%29%0A%7B%0A%20%20%20%20struct%20student%20*sei%3B%0A%20%20%20%20%0A%20%20%20%20sei%20%3D%20func%28%29%3B%0A%20%20%20%20printf%28%22%E5%AD%A6%E7%94%9F%E7%95%AA%E5%8F%B7%3A%20%25d,%20%20%E6%B0%8F%E5%90%8D%3A%20%25s,%20%20%E5%B9%B3%E5%9D%87%E7%82%B9%3A%20%25f%5Cn%22,sei-%3Eno,%20sei-%3Ename,%20sei-%3Eaverage%29%3B%0A%0A%20%20%20%20return%200%3B%0A%7D%0A%0Astruct%20student%20*func%28%29%0A%7B%0A%20%20%20%20struct%20student%20*sei%3B%0A%20%20%20%20sei%20%3D%20malloc%28sizeof%28struct%20student%29%29%3B%20%20//%20%E6%A7%8B%E9%80%A0%E4%BD%93%E3%81%AE%E3%81%9F%E3%82%81%E3%81%AE%E3%83%A1%E3%83%A2%E3%83%AA%E9%A0%98%E5%9F%9F%E3%82%92%E5%8B%95%E7%9A%84%E3%81%AB%E7%A2%BA%E4%BF%9D%0A%0A%20%20%20%20sei-%3Eno%20%3D%201001%3B%0A%20%20%20%20strcpy%28sei-%3Ename,%20%22Satou%22%29%3B%0A%20%20%20%20sei-%3Eaverage%20%3D%2035.3%3B%0A%20%20%20%20return%20sei%3B%0A%7D&cumulative=false&curInstr=0&heapPrimitives=nevernest&mode=display&origin=opt-frontend.js&py=c_gcc9.3.0&rawInputLstJSON=%5B%5D&textReferences=false)"
   ]
  }
 ],
 "metadata": {
  "kernelspec": {
   "display_name": "C",
   "language": "c",
   "name": "c"
  },
  "language_info": {
   "file_extension": ".c",
   "mimetype": "text/x-csrc",
   "name": "text/x-csrc"
  },
  "toc": {
   "base_numbering": 1,
   "nav_menu": {},
   "number_sections": true,
   "sideBar": true,
   "skip_h1_title": false,
   "title_cell": "Table of Contents",
   "title_sidebar": "Contents",
   "toc_cell": false,
   "toc_position": {
    "height": "calc(100% - 180px)",
    "left": "10px",
    "top": "150px",
    "width": "229.797px"
   },
   "toc_section_display": true,
   "toc_window_display": true
  }
 },
 "nbformat": 4,
 "nbformat_minor": 5
}
