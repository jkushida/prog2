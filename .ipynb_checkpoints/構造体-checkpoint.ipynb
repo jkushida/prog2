{
 "cells": [
  {
   "cell_type": "markdown",
   "id": "7583acea",
   "metadata": {},
   "source": [
    "http://c-lang.sevendays-study.com/ex-day5.html"
   ]
  },
  {
   "cell_type": "markdown",
   "id": "53607e4e",
   "metadata": {},
   "source": [
    "# 構造体\n",
    "\n",
    "プログラムがある程度大規模になってくると，一つの概念に対して複数の変数が割り当てられることがある．\n",
    "\n",
    "例えば，学校で学生のデータベースを作る時、その学生の`int型`の学生番号，`char型`の名前，`double型`の平均点などのデータをひとまとめにして扱う事になる．\n",
    "\n",
    "このようなプログラムを作成する際は，複数の変数をひとまとめにする**構造体**を用いる．\n",
    "\n",
    "\n",
    "<img src=\"./fig/配列と構造体.png\" width=\"500\">"
   ]
  },
  {
   "cell_type": "markdown",
   "id": "452a169c",
   "metadata": {},
   "source": [
    "次のプログラムは，構造体を使って学生情報を表示するものである．"
   ]
  },
  {
   "cell_type": "code",
   "execution_count": 18,
   "id": "36569389",
   "metadata": {},
   "outputs": [
    {
     "name": "stdout",
     "output_type": "stream",
     "text": [
      "学生番号: 5,  氏名: Yamada,  平均点: 85.300000\n"
     ]
    }
   ],
   "source": [
    "#include <stdio.h>\n",
    " \n",
    "struct student{    // 学生情報\n",
    "  int no;          // 学生番号\n",
    "  char name[10];   // 氏名\n",
    "  double average;  // 平均点\n",
    "};\n",
    " \n",
    "int main(){\n",
    "    struct student seito1 = {5, \"Yamada\", 85.3};\n",
    "\n",
    "    printf(\"学生番号: %d,  氏名: %s,  平均点: %f\\n\",seito1.no, seito1.name, seito1.average);\n",
    "    return (0);\n",
    "}"
   ]
  },
  {
   "cell_type": "markdown",
   "id": "12f3133e",
   "metadata": {},
   "source": [
    "[実行の可視化](http://pythontutor.com/visualize.html#code=%23include%20%3Cstdio.h%3E%0A%20%0Astruct%20student%7B%20%20%20%20%20%20//%20%E5%AD%A6%E7%94%9F%E6%83%85%E5%A0%B1%0A%20%20%20%20int%20no%3B%20%20%20%20%20%20%20%20%20%20//%20%E5%AD%A6%E7%94%9F%E7%95%AA%E5%8F%B7%0A%20%20%20%20char%20name%5B10%5D%3B%20%20%20//%20%E6%B0%8F%E5%90%8D%0A%20%20%20%20double%20average%3B%20%20//%20%E5%B9%B3%E5%9D%87%E7%82%B9%0A%7D%3B%0A%20%0Aint%20main%28%29%7B%0A%20%20%20%20struct%20student%20seito1%20%3D%20%7B5,%20%22Yamada%22,%2085.3%7D%3B%0A%0A%20%20%20%20//%20%20%E3%83%87%E3%83%BC%E3%82%BF%E3%81%AE%E5%86%85%E8%A8%B3%E3%82%92%E8%A1%A8%E7%A4%BA%0A%20%20%20%20printf%28%22%E5%AD%A6%E7%94%9F%E7%95%AA%E5%8F%B7%3A%20%25d,%20%20%E6%B0%8F%E5%90%8D%3A%20%25s,%20%20%E5%B9%B3%E5%9D%87%E7%82%B9%3A%20%25f%5Cn%22,seito1.no,%20seito1.name,%20seito1.average%29%3B%0A%20%20%20%20return%20%280%29%3B%0A%7D&cumulative=false&curInstr=0&heapPrimitives=nevernest&mode=display&origin=opt-frontend.js&py=c_gcc9.3.0&rawInputLstJSON=%5B%5D&textReferences=false)"
   ]
  },
  {
   "cell_type": "markdown",
   "id": "0c95dcc5",
   "metadata": {},
   "source": [
    "## 構造体の型枠の作成\n",
    "構造体を使うにはまず型枠(テンプレート)を作成する必要がある．\n",
    "\n",
    "構造体のテンプレートは次の書式で宣言を行う．\n",
    "\n",
    "<img style=\"float: left;\"　src=\"./fig/構造体テンプレート.png\" width=\"280\">"
   ]
  },
  {
   "cell_type": "markdown",
   "id": "60231079",
   "metadata": {},
   "source": [
    "上記のコードは，\n",
    "- `int型`の学生番号\n",
    "- `char型配列`の氏名\n",
    "- `double型`の平均点\n",
    "\n",
    "をまとめて構造体の型枠を作り，名前を`student`としている．\n",
    "\n",
    "このとき，`student`を**タグ名**と呼び，`no`, `name`, `average`を**メンバ名**と呼ぶ．\n",
    "\n",
    "<img style=\"float: left;\" src=\"./fig/構造体1.png\" width=\"350\">"
   ]
  },
  {
   "cell_type": "markdown",
   "id": "02505d6a",
   "metadata": {},
   "source": [
    "これで，`student`という名前の構造体の型枠が作成されたことになる．\n",
    "\n",
    "\n",
    "- この状態では，タグ名の型を作っただけなので，中身はまだ空のまま\n",
    "- 「メンバ名」という表現をしてるが，変数名と同様\n",
    "- 最後の `}` の後に`；`が必要\n",
    "\n",
    "なお，構造体も型を置く場所によって有効範囲が変化する．\n",
    "\n",
    "- 関数の外で宣言するとグローバル変数のようにプログラム全体で使用することができる．\n",
    "- 関数の中で宣言するとローカル変数のようにその関数内のみでしか使用できない．"
   ]
  },
  {
   "cell_type": "markdown",
   "id": "a9010790",
   "metadata": {},
   "source": [
    "## 構造体のオブジェクトの宣言\n",
    "\n",
    "枠型を作成したあとは，次の構文で構造体のオブジェクトを宣言する．\n",
    "\n",
    "```c\n",
    "struct 構造体タグ名 オブジェクト名の並び;\n",
    "```\n",
    "\n",
    "よって，上記コードのように\n",
    "```c\n",
    "struct student seito1; //構造体の変数を定義\n",
    "```\n",
    "と定義すると，メモリ上に`seito1`という名前の**構造体の変数**が確保される．\n",
    "\n",
    "また，\n",
    "```c\n",
    "struct student seito2[5]; //構造体の配列を定義\n",
    "```\n",
    "とすると，`seito2`という名前の**構造体の配列**が確保される．\n",
    "\n",
    "<BR>\n",
    "\n",
    "\n",
    "<img style=\"float: left;\"  src= \"./fig/構造体2.png\" width=\"400\">"
   ]
  },
  {
   "cell_type": "markdown",
   "id": "69bcca9f",
   "metadata": {},
   "source": [
    "構造体を使う上で，**枠型の宣言**と**オブジェクトの定義**は別の作業となる．\n",
    "\n",
    "つまり，構造体はオリジナルな型を使ってオブジェクトを定義することになる．\n",
    "\n",
    "<BR>\n",
    "\n",
    "<img style=\"float: left;\" src=\"./fig/構造体3.png\" width=\"400\">"
   ]
  },
  {
   "cell_type": "markdown",
   "id": "aa4a3425",
   "metadata": {},
   "source": [
    "## 構造体の初期化\n",
    "\n",
    "構造体は一般の変数同様，宣言時に初期化を行うことができる，\n",
    "\n",
    "構造体の初期化は，次のように`{ }`の間に各メンバの値をカンマで区切って記述する．\n",
    "\n",
    "\n",
    "<img style=\"float: left;\" src=\"./fig/構造体初期化.png\" width=\"400\">\n",
    "\n"
   ]
  },
  {
   "cell_type": "markdown",
   "id": "4f4cac6c",
   "metadata": {},
   "source": [
    "- 例1: 構造体変数の初期化\n",
    "    ```c\n",
    "    struct student seito1 = {5, \"Yamada\", 85.3};\n",
    "    ```\n",
    "\n",
    "- 例2:  構造体配列の初期化\n",
    "    ```c\n",
    "    struct student seito2[5] = {\n",
    "        {1, \"Yamada\", 65.1},\n",
    "        {2, \"Tanaka\", 56.8},\n",
    "        {3, \"Nagano\", 65.2},\n",
    "    };\n",
    "    ```\n",
    "このとき， 初期化子の与えられてない要素は`0`もしくは`'\\0'`で埋められる."
   ]
  },
  {
   "cell_type": "code",
   "execution_count": 16,
   "id": "a8a8816b",
   "metadata": {},
   "outputs": [
    {
     "name": "stdout",
     "output_type": "stream",
     "text": [
      "学生番号: 1,  氏名: Yamada,  平均点: 65.100000\n",
      "学生番号: 0,  氏名: ,  平均点: 0.000000\n"
     ]
    }
   ],
   "source": [
    "#include <stdio.h>\n",
    "#include <string.h>\n",
    " \n",
    "struct student{    // 学生情報\n",
    "  int no;          // 学生番号\n",
    "  char name[10];   // 氏名\n",
    "  double average;  // 平均点\n",
    "};\n",
    " \n",
    "int main(){\n",
    "  struct student seito2[5] = {\n",
    "    {1, \"Yamada\", 65.1},\n",
    "    {2, \"Tanaka\", 56.8},\n",
    "    {3, \"Nagano\", 65.2},\n",
    "  };\n",
    "  \n",
    "  printf(\"学生番号: %d,  氏名: %s,  平均点: %f\\n\",seito2[0].no, seito2[0].name, seito2[0].average);\n",
    "  printf(\"学生番号: %d,  氏名: %s,  平均点: %f\\n\",seito2[4].no, seito2[4].name, seito2[4].average);\n",
    "\n",
    "  return (0);\n",
    "}"
   ]
  },
  {
   "cell_type": "markdown",
   "id": "553bb9a0",
   "metadata": {},
   "source": [
    "[実行の可視化](http://pythontutor.com/visualize.html#code=%23include%20%3Cstdio.h%3E%0A%23include%20%3Cstring.h%3E%0A%20%0Astruct%20student%7B%20%20%20%20//%20%E5%AD%A6%E7%94%9F%E6%83%85%E5%A0%B1%0A%20%20int%20no%3B%20%20%20%20%20%20%20%20%20%20//%20%E5%AD%A6%E7%94%9F%E7%95%AA%E5%8F%B7%0A%20%20char%20name%5B10%5D%3B%20%20%20//%20%E6%B0%8F%E5%90%8D%0A%20%20double%20average%3B%20%20//%20%E5%B9%B3%E5%9D%87%E7%82%B9%0A%7D%3B%0A%20%0Aint%20main%28%29%7B%0A%20%20struct%20student%20seito2%5B5%5D%20%3D%20%7B%0A%20%20%20%20%7B1,%20%22Yamada%22,%2065.1%7D,%0A%20%20%20%20%7B2,%20%22Tanaka%22,%2056.8%7D,%0A%20%20%20%20%7B3,%20%22Nagano%22,%2065.2%7D,%0A%20%20%7D%3B%0A%20%20%0A%20%20printf%28%22%E5%AD%A6%E7%94%9F%E7%95%AA%E5%8F%B7%3A%20%25d,%20%20%E6%B0%8F%E5%90%8D%3A%20%25s,%20%20%E5%B9%B3%E5%9D%87%E7%82%B9%3A%20%25f%5Cn%22,seito2%5B0%5D.no,%20seito2%5B0%5D.name,%20seito2%5B0%5D.average%29%3B%0A%20%20printf%28%22%E5%AD%A6%E7%94%9F%E7%95%AA%E5%8F%B7%3A%20%25d,%20%20%E6%B0%8F%E5%90%8D%3A%20%25s,%20%20%E5%B9%B3%E5%9D%87%E7%82%B9%3A%20%25f%5Cn%22,seito2%5B4%5D.no,%20seito2%5B4%5D.name,%20seito2%5B4%5D.average%29%3B%0A%0A%20%20return%20%280%29%3B%0A%7D&cumulative=false&curInstr=0&heapPrimitives=nevernest&mode=display&origin=opt-frontend.js&py=c_gcc9.3.0&rawInputLstJSON=%5B%5D&textReferences=false)"
   ]
  },
  {
   "cell_type": "markdown",
   "id": "9338b7ef",
   "metadata": {},
   "source": [
    "[実行の可視化](http://pythontutor.com/visualize.html#code=%23include%20%3Cstdio.h%3E%0A%23include%20%3Cstring.h%3E%0A%20%0A//%20%20%E5%AD%A6%E7%94%9F%E3%81%AE%E3%83%87%E3%83%BC%E3%82%BF%E3%82%92%E5%85%A5%E3%82%8C%E3%82%8B%E6%A7%8B%E9%80%A0%E4%BD%93%0Astruct%20student%7B%0A%20%20%20%20int%20id%3B%20//%20%20%E5%AD%A6%E7%94%9F%E7%95%AA%E5%8F%B7%0A%20%20%20%20char%20name%5B15%5D%3B%20//%20%20%E5%90%8D%E5%89%8D%0A%20%20%20%20int%20age%3B%20%20%20%20%20%20%20%20//%20%20%E5%B9%B4%E9%BD%A2%0A%7D%3B%0A%20%0A//%20%20%E6%A7%8B%E9%80%A0%E4%BD%93%E3%81%AE%E5%90%8D%E5%89%8D%E3%82%92typedef%E3%81%A7%E5%AE%9A%E7%BE%A9%0Atypedef%20struct%20student%20student_data%3B%0A%20%0Aint%20main%28%29%7B%0A%20%20%20%20int%20i%3B%0A%20%20%20%20student_data%20data%5B%5D%20%3D%20%7B%0A%20%20%20%20%20%20%20%20%7B%201,%22%E5%B1%B1%E7%94%B0%E5%A4%AA%E9%83%8E%22,18%20%7D,%0A%20%20%20%20%20%20%20%20%7B%202,%22%E4%BD%90%E8%97%A4%E8%89%AF%E5%AD%90%22,19%20%7D,%0A%20%20%20%20%20%20%20%20%7B%203,%22%E5%A4%AA%E7%94%B0%E9%9A%86%22,18%20%7D,%0A%20%20%20%20%20%20%20%20%7B%204,%22%E4%B8%AD%E7%94%B0%E5%84%AA%E5%AD%90%22,18%20%7D%0A%20%20%20%20%7D%3B%0A%20%20%20%20//%20%20%E3%83%87%E3%83%BC%E3%82%BF%E3%81%AE%E5%86%85%E8%A8%B3%E3%82%92%E8%A1%A8%E7%A4%BA%0A%20%20%20%20for%28i%20%3D%200%3B%20i%20%3C%204%3B%20i%2B%2B%29%7B%0A%20%20%20%20%20%20%20%20printf%28%22%E5%AD%A6%E7%94%9F%E7%95%AA%E5%8F%B7%3A%25d%20%E5%90%8D%E5%89%8D%3A%25s%20%E5%B9%B4%E9%BD%A2%3A%25d%5Cn%22,data%5Bi%5D.id,data%5Bi%5D.name,data%5Bi%5D.age%29%3B%0A%20%20%20%20%7D%0A%20%20%20%20return%20%280%29%3B%0A%7D&cumulative=false&curInstr=0&heapPrimitives=nevernest&mode=display&origin=opt-frontend.js&py=c_gcc9.3.0&rawInputLstJSON=%5B%5D&textReferences=false)"
   ]
  },
  {
   "cell_type": "markdown",
   "id": "51ecf6e6",
   "metadata": {},
   "source": [
    "## 構造体メンバの参照(直接参照)\n",
    "\n",
    "構造体型の各メンバを参照（アクセス）するには，オブジェクト名とメンバ名を， `ドット演算子`\"`.`\" でつないで行う．\n",
    "\n",
    "\n",
    "- 例1: 構造体変数の場合\n",
    "    ```c\n",
    "    seito1.no = 10;   　　　　　　　　　　　　　　　　　　　　　 //　メンバに値を代入\n",
    "    printf(\"%s\\n\", seito1.name);   // メンバの表示\n",
    "    ```\n",
    "- 例2: 構造体配列の場合\n",
    "    ```c\n",
    "    for(i =0; i < 3; i++){\n",
    "        seito2[i].no = i;   　　　　　　　　　　　　　　　　　　　　　    //　メンバに値を代入\n",
    "        printf(\"%s\\n\", seito2[i].name);   // メンバの表示\n",
    "    }\n",
    "    ```\n",
    "     <font color='Red'>配列の添え字用 `[ ]` と，構造体用の`．`の順序に注意!</font>\n",
    "   \n",
    "        \n"
   ]
  },
  {
   "cell_type": "markdown",
   "id": "32ca36fd",
   "metadata": {},
   "source": [
    "## 宣言と有効範囲\n",
    "\n",
    "構造体の場合は，枠型の宣言とオブジェクトの定義の両方で有効範囲を考慮する必要がある．\n",
    "\n",
    "\n",
    "- 例1\n",
    "    - 以下のコードは枠型の宣言とオブジェクトの定義を関数外で行っている．\n",
    "    - この場合，枠型，オブジェクトともにファイル有効範囲が与えられる．"
   ]
  },
  {
   "cell_type": "code",
   "execution_count": 33,
   "id": "69a47002",
   "metadata": {},
   "outputs": [
    {
     "name": "stdout",
     "output_type": "stream",
     "text": [
      "学生番号: 10,  氏名: Yamada,  平均点: 85.300000\n"
     ]
    }
   ],
   "source": [
    "#include <stdio.h>\n",
    "\n",
    "// 関数外で枠型の宣言\n",
    "struct student{    // 学生情報\n",
    "  int no;          // 学生番号\n",
    "  char name[10];   // 氏名\n",
    "  double average;  // 平均点\n",
    "};\n",
    "\n",
    "// 関数外で宣言と初期化\n",
    "struct student seito1 = {5, \"Yamada\", 85.3};\n",
    "\n",
    "void func();\n",
    " \n",
    "int main()\n",
    "{\n",
    "  func();\n",
    "  return (0);\n",
    "}\n",
    "\n",
    "void func()\n",
    "{\n",
    "  seito1.no += 5;\n",
    "  printf(\"学生番号: %d,  氏名: %s,  平均点: %f\\n\",seito1.no, seito1.name, seito1.average);\n",
    "}"
   ]
  },
  {
   "cell_type": "markdown",
   "id": "f1bc0223",
   "metadata": {},
   "source": [
    "[実行の可視化](http://pythontutor.com/visualize.html#code=%23include%20%3Cstdio.h%3E%0A%20%0Astruct%20student%7B%20%20%20%20//%20%E5%AD%A6%E7%94%9F%E6%83%85%E5%A0%B1%0A%20%20int%20no%3B%20%20%20%20%20%20%20%20%20%20//%20%E5%AD%A6%E7%94%9F%E7%95%AA%E5%8F%B7%0A%20%20char%20name%5B10%5D%3B%20%20%20//%20%E6%B0%8F%E5%90%8D%0A%20%20double%20average%3B%20%20//%20%E5%B9%B3%E5%9D%87%E7%82%B9%0A%7D%3B%0A%0A//%20%E9%96%A2%E6%95%B0%E5%A4%96%E3%81%A7%E5%AE%A3%E8%A8%80%E3%81%A8%E5%88%9D%E6%9C%9F%E5%8C%96%0Astruct%20student%20seito1%20%3D%20%7B5,%20%22Yamada%22,%2085.3%7D%3B%0A%0Avoid%20func%28%29%3B%0A%20%0Aint%20main%28%29%0A%7B%0A%20%20func%28%29%3B%0A%20%20return%20%280%29%3B%0A%7D%0A%0Avoid%20func%28%29%0A%7B%0A%20%20seito1.no%20%2B%3D%205%3B%0A%20%20printf%28%22%E5%AD%A6%E7%94%9F%E7%95%AA%E5%8F%B7%3A%20%25d,%20%20%E6%B0%8F%E5%90%8D%3A%20%25s,%20%20%E5%B9%B3%E5%9D%87%E7%82%B9%3A%20%25f%5Cn%22,seito1.no,%20seito1.name,%20seito1.average%29%3B%0A%7D&cumulative=false&curInstr=0&heapPrimitives=nevernest&mode=display&origin=opt-frontend.js&py=c_gcc9.3.0&rawInputLstJSON=%5B%5D&textReferences=false)"
   ]
  },
  {
   "cell_type": "markdown",
   "id": "24a50763",
   "metadata": {},
   "source": [
    "- 例2\n",
    "    - 以下のコードは枠型の宣言がmain関数外で，main関数とfunc関数でそれぞれオブジェクトの定義を行っている．\n",
    "    - 同一の構造体変数`seito1`を定義しているが，メモリ上では別々に確保されている．"
   ]
  },
  {
   "cell_type": "code",
   "execution_count": 34,
   "id": "e1aada84",
   "metadata": {},
   "outputs": [
    {
     "name": "stdout",
     "output_type": "stream",
     "text": [
      "学生番号: 5,  氏名: Yamada,  平均点: 85.300000\n",
      "学生番号: 8,  氏名: Tanaka,  平均点: 34.800000\n"
     ]
    }
   ],
   "source": [
    "#include <stdio.h>\n",
    "\n",
    "  // 関数外で枠型の宣言\n",
    "  struct student{    // 学生情報\n",
    "  int no;          // 学生番号\n",
    "  char name[10];   // 氏名\n",
    "  double average;  // 平均点\n",
    "  };\n",
    "\n",
    "void func();\n",
    " \n",
    "int main()\n",
    "{\n",
    "\n",
    "  // main関数内で宣言と初期化\n",
    "  struct student seito1 = {5, \"Yamada\", 85.3};\n",
    "  printf(\"学生番号: %d,  氏名: %s,  平均点: %f\\n\",seito1.no, seito1.name, seito1.average);\n",
    "\n",
    "  func();\n",
    "\n",
    "  return (0);\n",
    "}\n",
    "\n",
    "void func()\n",
    "{\n",
    "  // func関数内で宣言と初期化\n",
    "  struct student seito1 = {8, \"Tanaka\", 34.8};\n",
    "  printf(\"学生番号: %d,  氏名: %s,  平均点: %f\\n\",seito1.no, seito1.name, seito1.average);\n",
    "}"
   ]
  },
  {
   "cell_type": "markdown",
   "id": "0c47029c",
   "metadata": {},
   "source": [
    "[実行の可視化](http://pythontutor.com/visualize.html#code=%23include%20%3Cstdio.h%3E%0A%0A%20%20//%20%E9%96%A2%E6%95%B0%E5%A4%96%E3%81%A7%E6%9E%A0%E5%9E%8B%E3%81%AE%E5%AE%A3%E8%A8%80%0A%20%20struct%20student%7B%20%20%20%20//%20%E5%AD%A6%E7%94%9F%E6%83%85%E5%A0%B1%0A%20%20int%20no%3B%20%20%20%20%20%20%20%20%20%20//%20%E5%AD%A6%E7%94%9F%E7%95%AA%E5%8F%B7%0A%20%20char%20name%5B10%5D%3B%20%20%20//%20%E6%B0%8F%E5%90%8D%0A%20%20double%20average%3B%20%20//%20%E5%B9%B3%E5%9D%87%E7%82%B9%0A%20%20%7D%3B%0A%0Avoid%20func%28%29%3B%0A%20%0Aint%20main%28%29%0A%7B%0A%0A%20%20//%20main%E9%96%A2%E6%95%B0%E5%86%85%E3%81%A7%E5%AE%A3%E8%A8%80%E3%81%A8%E5%88%9D%E6%9C%9F%E5%8C%96%0A%20%20struct%20student%20seito1%20%3D%20%7B5,%20%22Yamada%22,%2085.3%7D%3B%0A%20%20printf%28%22%E5%AD%A6%E7%94%9F%E7%95%AA%E5%8F%B7%3A%20%25d,%20%20%E6%B0%8F%E5%90%8D%3A%20%25s,%20%20%E5%B9%B3%E5%9D%87%E7%82%B9%3A%20%25f%5Cn%22,seito1.no,%20seito1.name,%20seito1.average%29%3B%0A%0A%20%20func%28%29%3B%0A%0A%20%20return%20%280%29%3B%0A%7D%0A%0Avoid%20func%28%29%0A%7B%0A%20%20//%20func%E9%96%A2%E6%95%B0%E5%86%85%E3%81%A7%E5%AE%A3%E8%A8%80%E3%81%A8%E5%88%9D%E6%9C%9F%E5%8C%96%0A%20%20struct%20student%20seito1%20%3D%20%7B8,%20%22Tanaka%22,%2034.8%7D%3B%0A%20%20printf%28%22%E5%AD%A6%E7%94%9F%E7%95%AA%E5%8F%B7%3A%20%25d,%20%20%E6%B0%8F%E5%90%8D%3A%20%25s,%20%20%E5%B9%B3%E5%9D%87%E7%82%B9%3A%20%25f%5Cn%22,seito1.no,%20seito1.name,%20seito1.average%29%3B%0A%7D&cumulative=false&curInstr=0&heapPrimitives=nevernest&mode=display&origin=opt-frontend.js&py=c_gcc9.3.0&rawInputLstJSON=%5B%5D&textReferences=false)"
   ]
  },
  {
   "cell_type": "markdown",
   "id": "4ba72508",
   "metadata": {},
   "source": [
    "- 例3\n",
    "    - 以下のコードは枠型の宣言もオブジェクトの定義もmain関数内で行っている．\n",
    "    - そのため，func1関数，func2関数を呼び出すとエラーが発生する．"
   ]
  },
  {
   "cell_type": "code",
   "execution_count": 35,
   "id": "d673966e",
   "metadata": {},
   "outputs": [
    {
     "name": "stderr",
     "output_type": "stream",
     "text": [
      "/var/folders/17/1fkqsg691_3flnsv7g5_wrz80000gn/T/tmpuy7bgmvr.c:16:18: warning: unused variable 'seito1' [-Wunused-variable]\n",
      "  struct student seito1 = {5, \"Yamada\", 85.3};\n",
      "                 ^\n",
      "/var/folders/17/1fkqsg691_3flnsv7g5_wrz80000gn/T/tmpuy7bgmvr.c:26:3: error: use of undeclared identifier 'seito1'\n",
      "  seito1.no += 5;\n",
      "  ^\n",
      "/var/folders/17/1fkqsg691_3flnsv7g5_wrz80000gn/T/tmpuy7bgmvr.c:31:18: error: variable has incomplete type 'struct student'\n",
      "  struct student seito2 = {8, \"Tanaka\", 34.8};\n",
      "                 ^\n",
      "/var/folders/17/1fkqsg691_3flnsv7g5_wrz80000gn/T/tmpuy7bgmvr.c:31:10: note: forward declaration of 'struct student'\n",
      "  struct student seito2 = {8, \"Tanaka\", 34.8};\n",
      "         ^\n",
      "/var/folders/17/1fkqsg691_3flnsv7g5_wrz80000gn/T/tmpuy7bgmvr.c:31:47: error: expected '}'\n",
      "  struct student seito2 = {8, \"Tanaka\", 34.8};\n",
      "                                              ^\n",
      "/var/folders/17/1fkqsg691_3flnsv7g5_wrz80000gn/T/tmpuy7bgmvr.c:30:1: note: to match this '{'\n",
      "{\n",
      "^\n",
      "1 warning and 3 errors generated.\n",
      "[C kernel] GCC exited with code 1, the executable will not be executed"
     ]
    }
   ],
   "source": [
    "#include <stdio.h>\n",
    "\n",
    "void func1();\n",
    "void func2();\n",
    "\n",
    "int main()\n",
    "{\n",
    "  // 関数内で枠型の宣言\n",
    "  struct student{    // 学生情報\n",
    "  int no;          // 学生番号\n",
    "  char name[10];   // 氏名\n",
    "  double average;  // 平均点\n",
    "  };\n",
    "\n",
    "  // 関数内で宣言と初期化\n",
    "  struct student seito1 = {5, \"Yamada\", 85.3};\n",
    "  \n",
    "  // これらの関数を呼び出すとエラーが発生する\n",
    "  func1();\n",
    "  func2();\n",
    "  return (0);\n",
    "}\n",
    "\n",
    "void func1()\n",
    "{\n",
    "  seito1.no += 5;\n",
    "}\n",
    "\n",
    "void func2()\n",
    "{\n",
    "  struct student seito2 = {8, \"Tanaka\", 34.8};"
   ]
  },
  {
   "cell_type": "markdown",
   "id": "76fa5cc4",
   "metadata": {},
   "source": [
    "## 枠型とオブジェクトの宣言を一緒に宣言する\n",
    "\n",
    "構造体の枠型とオブジェクトの宣言は同時に行うこともできる．\n",
    "```c\n",
    "  struct student{    \n",
    "  int no;          \n",
    "  char name[10];   \n",
    "  double average;  \n",
    "  } seito1;\n",
    "```\n",
    "さらに，初期化も一緒に行うことができる．\n",
    "```c\n",
    "  struct student{    \n",
    "  int no;          \n",
    "  char name[10];   \n",
    "  double average;  \n",
    "  } seito1 = {5, \"Yamada\", 85.3};\n",
    "```"
   ]
  },
  {
   "cell_type": "code",
   "execution_count": 37,
   "id": "6e7175dc",
   "metadata": {},
   "outputs": [
    {
     "name": "stdout",
     "output_type": "stream",
     "text": [
      "学生番号: 5,  氏名: Yamada,  平均点: 85.300000\n"
     ]
    }
   ],
   "source": [
    "#include <stdio.h>\n",
    " \n",
    "struct student{    \n",
    "  int no;          \n",
    "  char name[10];   \n",
    "  double average;  \n",
    "} seito1 = {5, \"Yamada\", 85.3};\n",
    " \n",
    "int main(){\n",
    "\n",
    "  printf(\"学生番号: %d,  氏名: %s,  平均点: %f\\n\",seito1.no, seito1.name, seito1.average);\n",
    "  return (0);\n",
    "}"
   ]
  },
  {
   "cell_type": "markdown",
   "id": "5d975331",
   "metadata": {},
   "source": [
    "# 構造体の配列"
   ]
  },
  {
   "cell_type": "markdown",
   "id": "9491496e",
   "metadata": {},
   "source": [
    "住所録や名簿などは，氏名，住所，電話番号といった，個々のデータのまとまりが複数集まって１つの大きなデータ(**データベース**)を作っている．\n",
    "\n",
    "氏名，住所，電話番号のような個々のデータを**フィールド**と呼び，フィールドが集まった1件分のデータを**レコード**と呼ぶ．\n",
    "\n",
    "C言語では，構造体の配列を利用してこのようなデータベースを作ることができる．\n",
    "\n",
    "<img style=\"float: left;\" src=\"./fig/database.png\" width=\"400\">"
   ]
  },
  {
   "cell_type": "markdown",
   "id": "a4244c2f",
   "metadata": {},
   "source": [
    "構造体の配列は，下図のように同じ型のメンバを持つオブジェクトの集合が，メモリ上に連続して確保される．\n",
    "\n",
    "<img style=\"float: left;\" src=\"./fig/構造体配列.png\" width=\"650\">"
   ]
  },
  {
   "cell_type": "code",
   "execution_count": 45,
   "id": "cf25a67c",
   "metadata": {},
   "outputs": [
    {
     "name": "stdout",
     "output_type": "stream",
     "text": [
      "学生番号: 1,  氏名: TK,  平均点: 65.100000\n",
      "学生番号: 2,  氏名: ST,  平均点: 56.800000\n",
      "学生番号: 3,  氏名: DJ,  平均点: 65.200000\n"
     ]
    }
   ],
   "source": [
    "#include <stdio.h>\n",
    " \n",
    "struct student{    \n",
    "  int no;          \n",
    "  char name[5];   \n",
    "  double average;  \n",
    "};\n",
    " \n",
    "int main(){\n",
    "  int i;\n",
    "  // 構造体配列の宣言と初期化\n",
    "  struct student seito2[3] = {\n",
    "    {1, \"Taka\", 65.1},\n",
    "    {2, \"Kei\", 56.8},\n",
    "    {3, \"Taro\", 65.2},\n",
    "  };\n",
    "  \n",
    "  for(i = 0; i<3; i++)\n",
    "    printf(\"学生番号: %d,  氏名: %s,  平均点: %f\\n\",seito2[i].no, seito2[i].name, seito2[i].average);\n",
    "\n",
    "  return (0);\n",
    "}"
   ]
  },
  {
   "cell_type": "markdown",
   "id": "42543448",
   "metadata": {},
   "source": [
    "[実行の可視化](http://pythontutor.com/visualize.html#code=%23include%20%3Cstdio.h%3E%0A%20%0Astruct%20student%7B%20%20%20%20%0A%20%20int%20no%3B%20%20%20%20%20%20%20%20%20%20%0A%20%20char%20name%5B5%5D%3B%20%20%20%0A%20%20double%20average%3B%20%20%0A%7D%3B%0A%20%0Aint%20main%28%29%7B%0A%20%20int%20i%3B%0A%20%20struct%20student%20seito2%5B3%5D%20%3D%20%7B%0A%20%20%20%20%7B1,%20%22Taka%22,%2065.1%7D,%0A%20%20%20%20%7B2,%20%22Kei%22,%2056.8%7D,%0A%20%20%20%20%7B3,%20%22Taro%22,%2065.2%7D,%0A%20%20%7D%3B%0A%20%20%0A%20%20for%28i%20%3D%200%3B%20i%3C3%3B%20i%2B%2B%29%0A%20%20%20%20printf%28%22%E5%AD%A6%E7%94%9F%E7%95%AA%E5%8F%B7%3A%20%25d,%20%20%E6%B0%8F%E5%90%8D%3A%20%25s,%20%20%E5%B9%B3%E5%9D%87%E7%82%B9%3A%20%25f%5Cn%22,seito2%5Bi%5D.no,%20seito2%5Bi%5D.name,%20seito2%5Bi%5D.average%29%3B%0A%0A%20%20return%20%280%29%3B%0A%7D&cumulative=false&curInstr=0&heapPrimitives=nevernest&mode=display&origin=opt-frontend.js&py=c_gcc9.3.0&rawInputLstJSON=%5B%5D&textReferences=false)"
   ]
  },
  {
   "cell_type": "markdown",
   "id": "30b54e1e",
   "metadata": {},
   "source": [
    "# 構造体とポインタ\n",
    "\n",
    "以下のコードは，構造体にポインタでアクセスして，各メンバの表示と平均給与の算出を行う．"
   ]
  },
  {
   "cell_type": "code",
   "execution_count": 61,
   "id": "e473ffab",
   "metadata": {},
   "outputs": [
    {
     "name": "stdout",
     "output_type": "stream",
     "text": [
      "No. \t 氏名 \t 給与\n",
      "1 \t Wada \t 300000.000000\n",
      "2 \t Tanaka \t 500000.000000\n",
      "3 \t Hayashi \t 450000.000000\n",
      "平均給与: 416666.7\n"
     ]
    }
   ],
   "source": [
    "#include <stdio.h>\n",
    "\n",
    "struct syain_dt{  // 社員構造体    \n",
    "  int no;         // 社員番号  \n",
    "  char name[10];   // 氏名\n",
    "  double kyuuyo; // 給与 \n",
    "};\n",
    " \n",
    "int main(){\n",
    "  int i;\n",
    "  struct syain_dt ics[3] = { \n",
    "    {1, \"Wada\", 300000},\n",
    "    {2, \"Tanaka\", 500000},\n",
    "    {3, \"Hayashi\", 450000},\n",
    "  };\n",
    "  struct syain_dt *sp;\n",
    "  double average=0;\n",
    "  \n",
    "  sp = ics;\n",
    "  printf(\"No. \\t 氏名 \\t 給与\\n\");\n",
    "  for(i = 0; i<3; i++)\n",
    "    printf(\"%d \\t %s \\t %1f\\n\",(*(sp+i)).no,  (*(sp+i)).name,  (*(sp+i)).kyuuyo);\n",
    "    // printf(\"%d \\t %s \\t %1f\\n\",(sp+i)->no,  (sp+i)->name,  (sp+i)->kyuuyo);\n",
    "\n",
    "\n",
    "  for(i = 0; i<3; i++){\n",
    "    average += sp->kyuuyo;\n",
    "    sp++;\n",
    "  }\n",
    "  printf(\"平均給与: %0.1f\\n\", average/3);\n",
    "\n",
    "  return (0);\n",
    "}"
   ]
  },
  {
   "cell_type": "markdown",
   "id": "d9cdefcf",
   "metadata": {},
   "source": [
    "[実行の可視化](http://pythontutor.com/visualize.html#code=%23include%20%3Cstdio.h%3E%0A%0Astruct%20syain_dt%7B%20%20//%20%E7%A4%BE%E5%93%A1%E6%A7%8B%E9%80%A0%E4%BD%93%20%20%20%20%0A%20%20int%20no%3B%20%20%20%20%20%20%20%20%20//%20%E7%A4%BE%E5%93%A1%E7%95%AA%E5%8F%B7%20%20%0A%20%20char%20name%5B10%5D%3B%20%20%20//%20%E6%B0%8F%E5%90%8D%0A%20%20double%20kyuuyo%3B%20//%20%E7%B5%A6%E4%B8%8E%20%0A%7D%3B%0A%20%0Aint%20main%28%29%7B%0A%20%20int%20i%3B%0A%20%20struct%20syain_dt%20ics%5B3%5D%20%3D%20%7B%20%0A%20%20%20%20%7B1,%20%22Wada%22,%20300000%7D,%0A%20%20%20%20%7B2,%20%22Tanaka%22,%20500000%7D,%0A%20%20%20%20%7B3,%20%22Hayashi%22,%20450000%7D,%0A%20%20%7D%3B%0A%20%20struct%20syain_dt%20*sp%3B%0A%20%20double%20average%3D0%3B%0A%20%20%0A%20%20sp%20%3D%20ics%3B%0A%20%20printf%28%22No.%20%5Ct%20%E6%B0%8F%E5%90%8D%20%5Ct%20%E7%B5%A6%E4%B8%8E%5Cn%22%29%3B%0A%20%20for%28i%20%3D%200%3B%20i%3C3%3B%20i%2B%2B%29%0A%20%20%20%20printf%28%22%25d%20%5Ct%20%25s%20%5Ct%20%251f%5Cn%22,%28*%28sp%2Bi%29%29.no,%20%20%28*%28sp%2Bi%29%29.name,%20%20%28*%28sp%2Bi%29%29.kyuuyo%29%3B%0A%20%20%20%20//%20printf%28%22%25d%20%5Ct%20%25s%20%5Ct%20%251f%5Cn%22,%28sp%2Bi%29-%3Eno,%20%20%28sp%2Bi%29-%3Ename,%20%20%28sp%2Bi%29-%3Ekyuuyo%29%3B%0A%0A%0A%20%20for%28i%20%3D%200%3B%20i%3C3%3B%20i%2B%2B%29%7B%0A%20%20%20%20average%20%2B%3D%20sp-%3Ekyuuyo%3B%0A%20%20%20%20sp%2B%2B%3B%0A%20%20%7D%0A%20%20printf%28%22%E5%B9%B3%E5%9D%87%E7%B5%A6%E4%B8%8E%3A%20%250.1f%5Cn%22,%20average/3%29%3B%0A%0A%20%20return%20%280%29%3B%0A%7D&cumulative=false&curInstr=0&heapPrimitives=nevernest&mode=display&origin=opt-frontend.js&py=c_gcc9.3.0&rawInputLstJSON=%5B%5D&textReferences=false)"
   ]
  },
  {
   "cell_type": "markdown",
   "id": "688a177a",
   "metadata": {},
   "source": [
    "## 構造体のアドレスをポインタに設定\n",
    "構造体をポインタで扱う手順は，変数や配列をポインタで扱う手順と同様である．\n",
    "\n",
    "つまり，\n",
    "1. 宣言\n",
    "2. 値(アドレス)の設定\n",
    "3. 参照\n",
    "\n",
    "の3ステップで用いる．"
   ]
  },
  {
   "cell_type": "markdown",
   "id": "6d19dcac",
   "metadata": {},
   "source": [
    "構造体変数へのポインタの宣言は次のように行う．\n",
    "```c\n",
    "struct 構造体タグ名 *ポインタ名;\n",
    "\n",
    "```\n",
    "\n",
    "よって，上記のコードでは以下のように宣言している．\n",
    "```c\n",
    "struct syain_dt *sp\n",
    "```\n",
    "\n",
    "構造体のアドレスの設定は，通常の変数や配列と同じようにアドレスを取り出す．\n",
    "\n",
    "つまり，アドレス演算子(`&`)を用いて，\n",
    "```c\n",
    "&構造体の変数名\n",
    "```\n",
    "で表す．また，構造体の配列の**先頭要素**のアドレスは，\n",
    "```c\n",
    "構造体の配列名\n",
    "```\n",
    "で表す．\n",
    "\n",
    "よって，ポインタに構造体のアドレスを代入するには，次のようになる．\n",
    "\n",
    "- 例\n",
    "    ```c\n",
    "    struct syain_dt s1, s2[3];\n",
    "    struct syain_dt *p1, p2;\n",
    "    p1 = &s1;  // 構造体のアドレスを代入\n",
    "    p2 = s2;    // 構造体の配列の先頭要素のアドレスを代入\n",
    "    ```"
   ]
  },
  {
   "cell_type": "markdown",
   "id": "6cc9b56d",
   "metadata": {},
   "source": [
    "## ポインタで構造体のメンバを指す"
   ]
  },
  {
   "cell_type": "markdown",
   "id": "86208916",
   "metadata": {},
   "source": [
    "上記の例でポインタのメンバを指すには,\n",
    "```c\n",
    "printf(\"%d  %s %f\\n\",(*p1).no,  (*p1).name,  (*p1).kyuuyo);\n",
    "```\n",
    "のように行う．\n",
    "\n",
    "間接参照演算子`*`を用いて，`*p1`とすると，構造体の変数`s1`を指すので，更にそのメンバを指すために`(*p1).no`とする必要がある．\n",
    "\n",
    "`( )`を付けずに`*p1.no`とすると，`.`演算子の方が`*`演算子よりも優先順位が高いので`*(p1.no)`と解釈されてしまい，コンパイルエラーが出力される．\n",
    "\n",
    "Ｃ言語では，この`(*p1).no`という表記方法を，アロー演算子と呼ばれる`->`演算子を用いて\n",
    "```c\n",
    "構造体へのポインタ -> メンバ名\n",
    "```\n",
    "つまり，\n",
    "```c\n",
    "p1 -> no\n",
    "```\n",
    "と書きかえることができる．\n",
    "\n",
    "また，構造体の配列のメンバを指すポインタの場合は，\n",
    "```c\n",
    "(p2+1) -> no\n",
    "```\n",
    "のように，`構造体+1`サイズのメンバをポインタで指すことができる．\n",
    "\n"
   ]
  },
  {
   "cell_type": "code",
   "execution_count": 65,
   "id": "657f3d20",
   "metadata": {},
   "outputs": [
    {
     "name": "stdout",
     "output_type": "stream",
     "text": [
      "0 Tanaka 20000\n",
      "1 Taka 250000\n",
      "2 Kei 350000\n",
      "3 Taro 450000\n"
     ]
    }
   ],
   "source": [
    "#include <stdio.h>\n",
    "\n",
    "struct syain_dt{  // 社員構造体    \n",
    "  int no;         // 社員番号  \n",
    "  char name[10];   // 氏名\n",
    "  double kyuuyo; // 給与 \n",
    "};\n",
    " \n",
    "int main(){\n",
    "  int i;\n",
    "\n",
    "  struct syain_dt s1;\n",
    "  struct syain_dt s2[3] = {\n",
    "    {1, \"Taka\", 250000},\n",
    "    {2, \"Kei\", 350000},\n",
    "    {3, \"Taro\", 450000},\n",
    "  };\n",
    "  struct syain_dt *p1, *p2;\n",
    "  char name[10] = \"Tanaka\";\n",
    "  \n",
    "  s1.no = 0;\n",
    "  strcpy(s1.name, name);     /* 文字型配列に文字型配列をコピー */\n",
    "  s1.kyuuyo = 20000;\n",
    "  \n",
    "  p1 = &s1;\n",
    "  p2 = s2;\n",
    "    \n",
    "  //  間接参照の場合はドット演算子を使う\n",
    "  printf(\"%d %s %0.f\\n\",(*p1).no,  (*p1).name,  (*p1).kyuuyo);\n",
    "  \n",
    "  for(i = 0; i<3; i++)\n",
    "    //  ポインタの場合はアロー演算子を使う\n",
    "    printf(\"%d %s %0.f\\n\", (p2+i)->no, (p2+i)->name, (p2+i)->kyuuyo);\n",
    "    //printf(\"%d %s %0.f\\n\", p2[i].no, p2[i].name, p2[i].kyuuyo);\n",
    "\n",
    "  return (0);\n",
    "}"
   ]
  },
  {
   "cell_type": "markdown",
   "id": "fd5009d5",
   "metadata": {},
   "source": [
    "[実行の可視化](http://pythontutor.com/visualize.html#code=%23include%20%3Cstdio.h%3E%0A%0Astruct%20syain_dt%7B%20%20//%20%E7%A4%BE%E5%93%A1%E6%A7%8B%E9%80%A0%E4%BD%93%20%20%20%20%0A%20%20int%20no%3B%20%20%20%20%20%20%20%20%20//%20%E7%A4%BE%E5%93%A1%E7%95%AA%E5%8F%B7%20%20%0A%20%20char%20name%5B10%5D%3B%20%20%20//%20%E6%B0%8F%E5%90%8D%0A%20%20double%20kyuuyo%3B%20//%20%E7%B5%A6%E4%B8%8E%20%0A%7D%3B%0A%20%0Aint%20main%28%29%7B%0A%20%20int%20i%3B%0A%0A%20%20struct%20syain_dt%20s1%3B%0A%20%20struct%20syain_dt%20s2%5B3%5D%20%3D%20%7B%0A%20%20%20%20%7B1,%20%22Taka%22,%20250000%7D,%0A%20%20%20%20%7B2,%20%22Kei%22,%20350000%7D,%0A%20%20%20%20%7B3,%20%22Taro%22,%20450000%7D,%0A%20%20%7D%3B%0A%20%20struct%20syain_dt%20*p1,%20*p2%3B%0A%20%20char%20name%5B10%5D%20%3D%20%22Tanaka%22%3B%0A%20%20%0A%20%20s1.no%20%3D%200%3B%0A%20%20strcpy%28s1.name,%20name%29%3B%20%20%20%20%20/*%20%E6%96%87%E5%AD%97%E5%9E%8B%E9%85%8D%E5%88%97%E3%81%AB%E6%96%87%E5%AD%97%E5%9E%8B%E9%85%8D%E5%88%97%E3%82%92%E3%82%B3%E3%83%94%E3%83%BC%20*/%0A%20%20s1.kyuuyo%20%3D%2020000%3B%0A%20%20%0A%20%20p1%20%3D%20%26s1%3B%0A%20%20p2%20%3D%20s2%3B%0A%20%20%20%20%0A%20%20//%20%20%E9%96%93%E6%8E%A5%E5%8F%82%E7%85%A7%E3%81%AE%E5%A0%B4%E5%90%88%E3%81%AF%E3%83%89%E3%83%83%E3%83%88%E6%BC%94%E7%AE%97%E5%AD%90%E3%82%92%E4%BD%BF%E3%81%86%0A%20%20printf%28%22%25d%20%25s%20%250.f%5Cn%22,%28*p1%29.no,%20%20%28*p1%29.name,%20%20%28*p1%29.kyuuyo%29%3B%0A%20%20%0A%20%20for%28i%20%3D%200%3B%20i%3C3%3B%20i%2B%2B%29%0A%20%20%20%20//%20%20%E3%83%9D%E3%82%A4%E3%83%B3%E3%82%BF%E3%81%AE%E5%A0%B4%E5%90%88%E3%81%AF%E3%82%A2%E3%83%AD%E3%83%BC%E6%BC%94%E7%AE%97%E5%AD%90%E3%82%92%E4%BD%BF%E3%81%86%0A%20%20%20%20printf%28%22%25d%20%25s%20%250.f%5Cn%22,%20%28p2%2Bi%29-%3Eno,%20%28p2%2Bi%29-%3Ename,%20%28p2%2Bi%29-%3Ekyuuyo%29%3B%0A%20%20%20%20//printf%28%22%25d%20%25s%20%250.f%5Cn%22,%20p2%5Bi%5D.no,%20p2%5Bi%5D.name,%20p2%5Bi%5D.kyuuyo%29%3B%0A%0A%20%20return%20%280%29%3B%0A%7D&cumulative=false&curInstr=0&heapPrimitives=nevernest&mode=display&origin=opt-frontend.js&py=c_gcc9.3.0&rawInputLstJSON=%5B%5D&textReferences=false)"
   ]
  },
  {
   "cell_type": "markdown",
   "id": "db876e0a",
   "metadata": {},
   "source": [
    "上記のコードでは，\n",
    "```c\n",
    "struct syain_dt s1;\n",
    "```\n",
    "で，構造体変数`s1`を定義し，各メンバの値(初期値)は以下で代入している．\n",
    "```c\n",
    "s1.no = 0;\n",
    "strcpy(s1.name, name);     /* 文字型配列に文字型配列をコピー */\n",
    "s1.kyuuyo = 20000;\n",
    "```"
   ]
  },
  {
   "cell_type": "markdown",
   "id": "4dbf3663",
   "metadata": {},
   "source": [
    "## 構造体のメンバに値を代入する方法"
   ]
  },
  {
   "cell_type": "code",
   "execution_count": 92,
   "id": "322d773b",
   "metadata": {},
   "outputs": [
    {
     "name": "stdout",
     "output_type": "stream",
     "text": [
      "no = 3, value = 35.65\n"
     ]
    }
   ],
   "source": [
    "#include <stdio.h>\n",
    "\n",
    "// 枠型と実体を同時に宣言\n",
    "struct data{     \n",
    "  int no;         \n",
    "  double value;  \n",
    "}db;\n",
    " \n",
    "int main(void)\n",
    "{\n",
    "  struct data *p;\n",
    "    \n",
    "   // 直接参照の場合はドット演算子を使う\n",
    "  db.no = 1;\n",
    "  db.value = 0.03;      \n",
    "    \n",
    "  p = &db; // 構造体のアドレスをポインタに設定\n",
    "    \n",
    "  //  間接参照の場合はドット演算子を使う\n",
    "  (*p).no = 2;\n",
    "  (*p).value = -2.23;  \n",
    "  \n",
    "  // ポインタの場合はアロー演算子を使う\n",
    "  p->no = 3;\n",
    "  p->value = 35.65;\n",
    "    \n",
    "  printf(\"no = %d, value = %0.2f\\n\",db.no,  db.value);\n",
    "\n",
    "  return 0;\n",
    "}"
   ]
  },
  {
   "cell_type": "code",
   "execution_count": 89,
   "id": "638fe79b",
   "metadata": {},
   "outputs": [
    {
     "name": "stdout",
     "output_type": "stream",
     "text": [
      "no = 0, value = 0.23\n",
      "no = 1, value = 1.23\n",
      "no = 2, value = 2.23\n",
      "no = 3, value = 3.23\n",
      "no = 4, value = 4.23\n"
     ]
    }
   ],
   "source": [
    "#include <stdio.h>\n",
    "\n",
    "#define N 5 // 構造体配列の要素数\n",
    "\n",
    "// 枠型と実体を同時に宣言\n",
    "struct data{     \n",
    "  int no;         \n",
    "  double value;  \n",
    "}db[N];\n",
    " \n",
    "int main(void)\n",
    "{\n",
    "  int i;\n",
    "  struct data *p;\n",
    "  \n",
    "  p = db; // 構造体のアドレスをポインタに設定\n",
    "  \n",
    "  //  間接参照の場合はドット演算子を使う\n",
    "  for(i=0; i<N; i++){ \n",
    "    (*p).no = i;\n",
    "    (*p).value = i + 0.23;\n",
    "    p++;\n",
    "  }\n",
    "  \n",
    "  p = &db[0]; // 構造体のアドレスをポインタに設定\n",
    "  \n",
    "  //  ポインタの場合はアロー演算子を使う\n",
    "  for(i=0; i<N; i++){\n",
    "    printf(\"no = %d, value = %0.2f\\n\",p->no,  p->value);\n",
    "    p++;\n",
    "  }\n",
    "\n",
    "  return 0;\n",
    "}"
   ]
  },
  {
   "cell_type": "markdown",
   "id": "e0149bf7",
   "metadata": {},
   "source": [
    "なお，構造体では，同一の型であれば一括代入が可能である．"
   ]
  },
  {
   "cell_type": "code",
   "execution_count": 99,
   "id": "179dcb83",
   "metadata": {},
   "outputs": [
    {
     "name": "stdout",
     "output_type": "stream",
     "text": [
      "学生番号: 5,  氏名: Yamada,  平均点: 56.700000\n",
      "学生番号: 5,  氏名: Yamada,  平均点: 56.700000\n"
     ]
    }
   ],
   "source": [
    "#include <stdio.h>\n",
    "#include <string.h>\n",
    "\n",
    "struct student{    \n",
    "  int no;          \n",
    "  char name[10];   \n",
    "  double average;  \n",
    "} seito1,seito2;\n",
    " \n",
    "int main()\n",
    "{\n",
    "  seito1.no = 5;\n",
    "  strcpy(seito1.name, \"Yamada\");\n",
    "  seito1.average = 56.7;\n",
    "\n",
    "  printf(\"学生番号: %d,  氏名: %s,  平均点: %f\\n\",seito1.no, seito1.name, seito1.average);\n",
    "  \n",
    "  // seito1の各メンバの値を，  seito2に一括代入\n",
    "  seito2 = seito1;\n",
    "  \n",
    "  printf(\"学生番号: %d,  氏名: %s,  平均点: %f\\n\",seito2.no, seito2.name, seito2.average);\n",
    "  \n",
    "  return (0);\n",
    "}"
   ]
  },
  {
   "cell_type": "markdown",
   "id": "cf722b36",
   "metadata": {},
   "source": [
    "[実行の可視化](http://pythontutor.com/visualize.html#code=%23include%20%3Cstdio.h%3E%0A%23include%20%3Cstring.h%3E%0A%0Astruct%20student%7B%20%20%20%20%0A%20%20int%20no%3B%20%20%20%20%20%20%20%20%20%20%0A%20%20char%20name%5B10%5D%3B%20%20%20%0A%20%20double%20average%3B%20%20%0A%7D%20seito1,seito2%3B%0A%20%0Aint%20main%28%29%0A%7B%0A%20%20seito1.no%20%3D%205%3B%0A%20%20strcpy%28seito1.name,%20%22Yamada%22%29%3B%0A%20%20seito1.average%20%3D%2056.7%3B%0A%0A%20%20printf%28%22%E5%AD%A6%E7%94%9F%E7%95%AA%E5%8F%B7%3A%20%25d,%20%20%E6%B0%8F%E5%90%8D%3A%20%25s,%20%20%E5%B9%B3%E5%9D%87%E7%82%B9%3A%20%25f%5Cn%22,seito1.no,%20seito1.name,%20seito1.average%29%3B%0A%20%20%0A%20%20seito2%20%3D%20seito1%3B%0A%20%20%0A%20%20printf%28%22%E5%AD%A6%E7%94%9F%E7%95%AA%E5%8F%B7%3A%20%25d,%20%20%E6%B0%8F%E5%90%8D%3A%20%25s,%20%20%E5%B9%B3%E5%9D%87%E7%82%B9%3A%20%25f%5Cn%22,seito2.no,%20seito2.name,%20seito2.average%29%3B%0A%20%20%0A%20%20return%20%280%29%3B%0A%7D&cumulative=false&curInstr=0&heapPrimitives=nevernest&mode=display&origin=opt-frontend.js&py=c_gcc9.3.0&rawInputLstJSON=%5B%5D&textReferences=false)"
   ]
  },
  {
   "cell_type": "markdown",
   "id": "aae93974",
   "metadata": {},
   "source": [
    "# 構造体と関数\n",
    "\n",
    "構造体も，通常の変数のように，値渡しとアドレス渡しの２つの方法で引数を指定することができる．\n",
    "\n",
    "以下は，構造体の値渡しと構造体のアドレス渡しのコードである．"
   ]
  },
  {
   "cell_type": "markdown",
   "id": "f5dbc27a",
   "metadata": {},
   "source": [
    "## 構造体の値渡し"
   ]
  },
  {
   "cell_type": "code",
   "execution_count": 71,
   "id": "eedb4a38",
   "metadata": {},
   "outputs": [
    {
     "name": "stdout",
     "output_type": "stream",
     "text": [
      "学生番号: 9,  氏名: Ogata,  平均点: 73.900000\n"
     ]
    }
   ],
   "source": [
    "// 構造体の値渡し\n",
    "#include <stdio.h>\n",
    " \n",
    "struct student{      // 学生情報\n",
    "  int no;                    // 学生番号\n",
    "  char name[10];    // 氏名\n",
    "  double average;   // 平均点\n",
    "};\n",
    "\n",
    "void func_v(struct student sei);\n",
    " \n",
    "int main()\n",
    "{\n",
    "  struct student seito = {9, \"Ogata\", 73.9};\n",
    "  func_v(seito);\n",
    "  return (0);\n",
    "}\n",
    "\n",
    "void func_v(struct student sei)\n",
    "{\n",
    "  printf(\"学生番号: %d,  氏名: %s,  平均点: %f\\n\",sei.no, sei.name, sei.average);\n",
    "}"
   ]
  },
  {
   "cell_type": "markdown",
   "id": "e3dcd6ea",
   "metadata": {},
   "source": [
    "[実行の可視化](http://pythontutor.com/visualize.html#code=%23include%20%3Cstdio.h%3E%0A%20%0Astruct%20student%7B%20%20%20%20%20//%20%E5%AD%A6%E7%94%9F%E6%83%85%E5%A0%B1%0A%20%20int%20no%3B%20%20%20%20%20%20%20%20%20%20%20//%20%E5%AD%A6%E7%94%9F%E7%95%AA%E5%8F%B7%0A%20%20char%20name%5B10%5D%3B%20%20%20%20//%20%E6%B0%8F%E5%90%8D%0A%20%20double%20average%3B%20%20%20//%20%E5%B9%B3%E5%9D%87%E7%82%B9%0A%7D%3B%0A%0Avoid%20func%28struct%20student%20sei%29%3B%0A%20%0Aint%20main%28%29%0A%7B%0A%20%20struct%20student%20seito%20%3D%20%7B9,%20%22Ogata%22,%2073.9%7D%3B%0A%20%20func%28seito%29%3B%0A%20%20return%20%280%29%3B%0A%7D%0A%0A%0Avoid%20func%28struct%20student%20sei%29%0A%7B%0A%20%20printf%28%22%E5%AD%A6%E7%94%9F%E7%95%AA%E5%8F%B7%3A%20%25d,%20%20%E6%B0%8F%E5%90%8D%3A%20%25s,%20%20%E5%B9%B3%E5%9D%87%E7%82%B9%3A%20%25f%5Cn%22,sei.no,%20sei.name,%20sei.average%29%3B%0A%7D&cumulative=false&curInstr=0&heapPrimitives=nevernest&mode=display&origin=opt-frontend.js&py=c_gcc9.3.0&rawInputLstJSON=%5B%5D&textReferences=false)"
   ]
  },
  {
   "cell_type": "markdown",
   "id": "2d8f62b8",
   "metadata": {},
   "source": [
    "- 値渡しでは，対象となる構造体の内容をすべてコピーするため，大きな構造体では無駄な時間が多くなる．\n",
    "\n",
    "- 値渡しでは，`.`演算子を用いて関数側で構造体のメンバを参照する．\n",
    "\n",
    "<img style=\"float: left;\" src=\"./fig/値渡しとアドレス渡し1.png\" width=\"400\">"
   ]
  },
  {
   "cell_type": "markdown",
   "id": "033daca3",
   "metadata": {},
   "source": [
    "## 構造体のアドレス渡し"
   ]
  },
  {
   "cell_type": "code",
   "execution_count": 75,
   "id": "1df16d82",
   "metadata": {},
   "outputs": [
    {
     "name": "stdout",
     "output_type": "stream",
     "text": [
      "学生番号: 9,  氏名: Ogata,  平均点: 73.900000\n"
     ]
    }
   ],
   "source": [
    "// 構造体のアドレス渡し 例1\n",
    "#include <stdio.h>\n",
    " \n",
    "struct student{      // 学生情報\n",
    "  int no;                    // 学生番号\n",
    "  char name[10];    // 氏名\n",
    "  double average;   // 平均点\n",
    "};\n",
    "\n",
    "void func_a(struct student *sei);\n",
    " \n",
    "int main()\n",
    "{\n",
    "  struct student seito = {9, \"Ogata\", 73.9};\n",
    "  func_a(&seito);\n",
    "  return (0);\n",
    "}\n",
    "\n",
    "void func_a(struct student *sei)\n",
    "{\n",
    "  printf(\"学生番号: %d,  氏名: %s,  平均点: %f\\n\",sei->no, sei->name, sei->average);\n",
    "}"
   ]
  },
  {
   "cell_type": "markdown",
   "id": "520b4042",
   "metadata": {},
   "source": [
    "[実行の可視化](http://pythontutor.com/visualize.html#code=//%20%E6%A7%8B%E9%80%A0%E4%BD%93%E3%81%AE%E3%82%A2%E3%83%89%E3%83%AC%E3%82%B9%E6%B8%A1%E3%81%97%0A%23include%20%3Cstdio.h%3E%0A%20%0Astruct%20student%7B%20%20%20%20%20//%20%E5%AD%A6%E7%94%9F%E6%83%85%E5%A0%B1%0A%20%20int%20no%3B%20%20%20%20%20%20%20%20%20%20%20//%20%E5%AD%A6%E7%94%9F%E7%95%AA%E5%8F%B7%0A%20%20char%20name%5B10%5D%3B%20%20%20%20//%20%E6%B0%8F%E5%90%8D%0A%20%20double%20average%3B%20%20%20//%20%E5%B9%B3%E5%9D%87%E7%82%B9%0A%7D%3B%0A%0Avoid%20func_a%28struct%20student%20*sei%29%3B%0A%20%0Aint%20main%28%29%0A%7B%0A%20%20struct%20student%20seito%20%3D%20%7B9,%20%22Ogata%22,%2073.9%7D%3B%0A%20%20func_a%28%26seito%29%3B%0A%20%20return%20%280%29%3B%0A%7D%0A%0Avoid%20func_a%28struct%20student%20*sei%29%0A%7B%0A%20%20printf%28%22%E5%AD%A6%E7%94%9F%E7%95%AA%E5%8F%B7%3A%20%25d,%20%20%E6%B0%8F%E5%90%8D%3A%20%25s,%20%20%E5%B9%B3%E5%9D%87%E7%82%B9%3A%20%25f%5Cn%22,sei-%3Eno,%20sei-%3Ename,%20sei-%3Eaverage%29%3B%0A%7D&cumulative=false&curInstr=0&heapPrimitives=nevernest&mode=display&origin=opt-frontend.js&py=c_gcc9.3.0&rawInputLstJSON=%5B%5D&textReferences=false)"
   ]
  },
  {
   "cell_type": "markdown",
   "id": "538b0493",
   "metadata": {},
   "source": [
    "- アドレス渡しでは，構造体をコピーすることなく，構造体のアドレスを引数で渡すため，サイズの大きな構造体を扱うのに向いている．\n",
    "\n",
    "- アドレス渡しでは，メンバの参照の際は`->`演算子を用いる．\n",
    "\n",
    "<img style=\"float: left;\" src=\"./fig/値渡しとアドレス渡し2.png\" width=\"400\">"
   ]
  },
  {
   "cell_type": "code",
   "execution_count": 81,
   "id": "4c911570",
   "metadata": {},
   "outputs": [
    {
     "name": "stdout",
     "output_type": "stream",
     "text": [
      "学生番号: 1,  氏名: Taka,  平均点: 65.100000\n",
      "学生番号: 2,  氏名: Kei,  平均点: 56.800000\n",
      "学生番号: 3,  氏名: Taro,  平均点: 65.200000\n",
      "\n",
      "学生番号: 1,  氏名: Taka,  平均点: 65.100000\n",
      "学生番号: 2,  氏名: Kei,  平均点: 56.800000\n",
      "学生番号: 3,  氏名: Taro,  平均点: 65.200000\n"
     ]
    }
   ],
   "source": [
    "// 構造体のアドレス渡し 例2\n",
    "#include <stdio.h>\n",
    " \n",
    "struct student{    \n",
    "  int no;          \n",
    "  char name[5];   \n",
    "  double average;  \n",
    "};\n",
    "\n",
    "void func_a(struct student *sei);\n",
    "\n",
    "int main(){\n",
    "\n",
    "  struct student seito2[3] = {\n",
    "    {1, \"Taka\", 65.1},\n",
    "    {2, \"Kei\", 56.8},\n",
    "    {3, \"Taro\", 65.2},\n",
    "  };\n",
    "  \n",
    "  // 構造体配列の先頭アドレス渡す\n",
    "  func_a(seito2);\n",
    "  // func_a(&seito2[0]); \n",
    "\n",
    "  return (0);\n",
    "}\n",
    "\n",
    "void func_a(struct student *sei)\n",
    "{\n",
    "  int i;\n",
    "  for(i = 0; i<3; i++)\n",
    "    printf(\"学生番号: %d,  氏名: %s,  平均点: %f\\n\",sei[i].no, sei[i].name, sei[i].average);\n",
    "  \n",
    "  printf(\"\\n\");\n",
    "  \n",
    "  for(i = 0; i<3; i++){\n",
    "    printf(\"学生番号: %d,  氏名: %s,  平均点: %f\\n\",sei->no, sei->name, sei->average);\n",
    "    sei++;\n",
    "  }\n",
    "}"
   ]
  },
  {
   "cell_type": "markdown",
   "id": "f114227d",
   "metadata": {},
   "source": [
    "[実行の可視化](http://pythontutor.com/visualize.html#code=//%20%E6%A7%8B%E9%80%A0%E4%BD%93%E3%81%AE%E3%82%A2%E3%83%89%E3%83%AC%E3%82%B9%E6%B8%A1%E3%81%97%20%E4%BE%8B2%0A%23include%20%3Cstdio.h%3E%0A%20%0Astruct%20student%7B%20%20%20%20%0A%20%20int%20no%3B%20%20%20%20%20%20%20%20%20%20%0A%20%20char%20name%5B5%5D%3B%20%20%20%0A%20%20double%20average%3B%20%20%0A%7D%3B%0A%0Avoid%20func_a%28struct%20student%20*sei%29%3B%0A%0Aint%20main%28%29%7B%0A%0A%20%20struct%20student%20seito2%5B3%5D%20%3D%20%7B%0A%20%20%20%20%7B1,%20%22Taka%22,%2065.1%7D,%0A%20%20%20%20%7B2,%20%22Kei%22,%2056.8%7D,%0A%20%20%20%20%7B3,%20%22Taro%22,%2065.2%7D,%0A%20%20%7D%3B%0A%20%20%0A%20%20//%20%E6%A7%8B%E9%80%A0%E4%BD%93%E9%85%8D%E5%88%97%E3%81%AE%E5%85%88%E9%A0%AD%E3%82%A2%E3%83%89%E3%83%AC%E3%82%B9%E6%B8%A1%E3%81%99%0A%20%20func_a%28seito2%29%3B%0A%20%20//%20func_a%28%26seito2%5B0%5D%29%3B%20%0A%0A%20%20return%20%280%29%3B%0A%7D%0A%0Avoid%20func_a%28struct%20student%20*sei%29%0A%7B%0A%20%20int%20i%3B%0A%20%20for%28i%20%3D%200%3B%20i%3C3%3B%20i%2B%2B%29%0A%20%20%20%20printf%28%22%E5%AD%A6%E7%94%9F%E7%95%AA%E5%8F%B7%3A%20%25d,%20%20%E6%B0%8F%E5%90%8D%3A%20%25s,%20%20%E5%B9%B3%E5%9D%87%E7%82%B9%3A%20%25f%5Cn%22,sei%5Bi%5D.no,%20sei%5Bi%5D.name,%20sei%5Bi%5D.average%29%3B%0A%20%20%0A%20%20printf%28%22%5Cn%22%29%3B%0A%20%20%0A%20%20for%28i%20%3D%200%3B%20i%3C3%3B%20i%2B%2B%29%7B%0A%20%20%20%20printf%28%22%E5%AD%A6%E7%94%9F%E7%95%AA%E5%8F%B7%3A%20%25d,%20%20%E6%B0%8F%E5%90%8D%3A%20%25s,%20%20%E5%B9%B3%E5%9D%87%E7%82%B9%3A%20%25f%5Cn%22,sei-%3Eno,%20sei-%3Ename,%20sei-%3Eaverage%29%3B%0A%20%20%20%20sei%2B%2B%3B%0A%20%20%7D%0A%7D&cumulative=false&curInstr=0&heapPrimitives=nevernest&mode=display&origin=opt-frontend.js&py=c_gcc9.3.0&rawInputLstJSON=%5B%5D&textReferences=false)"
   ]
  },
  {
   "cell_type": "markdown",
   "id": "28907a26",
   "metadata": {},
   "source": [
    "\n"
   ]
  },
  {
   "cell_type": "code",
   "execution_count": null,
   "id": "febecd29",
   "metadata": {},
   "outputs": [],
   "source": [
    "#include <stdio.h>\n",
    " \n",
    "struct student{      // 学生情報\n",
    "  int no;                    // 学生番号\n",
    "  char name[10];    // 氏名\n",
    "  double average;   // 平均点\n",
    "};\n",
    "\n",
    "void func_v(struct student sei);\n",
    " \n",
    "int main()\n",
    "{\n",
    "  // 構造体のオブジェクトの宣言\n",
    "  struct student seito;\n",
    "    \n",
    "seito.no=3;\n",
    "    \n",
    "    seito.name = \n",
    "    \n",
    "\n",
    "    \n",
    "\n",
    "  func_v(seito);\n",
    "  return (0);\n",
    "}\n",
    "\n",
    "void func_v(struct student sei)\n",
    "{\n",
    "  printf(\"学生番号: %d,  氏名: %s,  平均点: %f\\n\",sei.no, sei.name, sei.average);\n",
    "}\n",
    "\n"
   ]
  },
  {
   "cell_type": "code",
   "execution_count": null,
   "id": "876c1529",
   "metadata": {},
   "outputs": [],
   "source": []
  },
  {
   "cell_type": "code",
   "execution_count": 3,
   "id": "4700dd35",
   "metadata": {},
   "outputs": [
    {
     "name": "stdout",
     "output_type": "stream",
     "text": [
      "record #1\n",
      "0.000 1.100 2.200 3.300 4.400 \n",
      "record #2\n",
      "12.300 23.400 34.500 \n",
      "record #3\n",
      "0.987 0.654 \n"
     ]
    }
   ],
   "source": [
    "#include <stdio.h>\n",
    "\n",
    "#define N 3\n",
    "\n",
    "/* 構造体data_recordを定義し、新たにそれをRECORD型として定義 */\n",
    "typedef struct data_record {  /* double型データを格納するための構造体 */\n",
    "\n",
    "         int id;                  /* 識別番号 */\n",
    "\n",
    "         int length;             /* 格納データの長さ */\n",
    "\n",
    "         double data[6];       /* データ格納用配列 */\n",
    "\n",
    "} RECORD;\n",
    "\n",
    "\n",
    "int main(void) {\n",
    "\n",
    "         /* RECORD型構造体の配列を宣言し、各要素の各メンバを初期化 */\n",
    "         RECORD tbl[N] = {{1, 5, {0.0, 1.1, 2.2, 3.3, 4.4}},\n",
    "                             {2, 3, {12.3, 23.4, 34.5}},\n",
    "                             {3, 2, {0.987, 0.654}}};\n",
    "         int i, j;\n",
    "         /* 配列tblの各要素（FILE型構造体オブジェクト）のメンバ変数data（配列）の各要素（double型実数）の値を表示 */\n",
    "         for (i = 0; i < N; i++) {\n",
    "\n",
    "                 printf(\"record #%d\\n\", tbl[i].id);\n",
    "\n",
    "                 for (j = 0; j < tbl[i].length; j++)\n",
    "\n",
    "                          printf(\"%5.3f \", tbl[i].data[j]);\n",
    "\n",
    "                 printf(\"\\n\");\n",
    "\n",
    "         }\n",
    "\n",
    "         return 0;\n",
    "\n",
    "}"
   ]
  },
  {
   "cell_type": "code",
   "execution_count": 8,
   "id": "a44319b3",
   "metadata": {},
   "outputs": [
    {
     "name": "stdout",
     "output_type": "stream",
     "text": [
      "学生番号:1 名前:山田太郎 年齢:18\n",
      "学生番号:2 名前:佐藤良子 年齢:19\n",
      "学生番号:3 名前:太田隆 年齢:18\n",
      "学生番号:4 名前:中田優子 年齢:18\n"
     ]
    }
   ],
   "source": [
    "#include <stdio.h>\n",
    "#include <string.h>\n",
    " \n",
    "//  学生のデータを入れる構造体\n",
    "struct student{\n",
    "    int id; //  学生番号\n",
    "    char name[15]; //  名前\n",
    "    int age;        //  年齢\n",
    "};\n",
    " \n",
    "//  構造体の名前をtypedefで定義\n",
    "typedef struct student student_data;\n",
    " \n",
    "int main(){\n",
    "    int i;\n",
    "    student_data data[] = {\n",
    "        { 1,\"山田太郎\",18 },\n",
    "        { 2,\"佐藤良子\",19 },\n",
    "        { 3,\"太田隆\",18 },\n",
    "        { 4,\"中田優子\",18 }\n",
    "    };\n",
    "    //  データの内訳を表示\n",
    "    for(i = 0; i < 4; i++){\n",
    "        printf(\"学生番号:%d 名前:%s 年齢:%d\\n\",data[i].id,data[i].name,data[i].age);\n",
    "    }\n",
    "    return (0);\n",
    "}"
   ]
  },
  {
   "cell_type": "markdown",
   "id": "b7a495d7",
   "metadata": {},
   "source": [
    "[実行の可視化](http://pythontutor.com/visualize.html#code=%23include%20%3Cstdio.h%3E%0A%0A%23define%20N%203%0A%0A/*%20%E6%A7%8B%E9%80%A0%E4%BD%93data_record%E3%82%92%E5%AE%9A%E7%BE%A9%E3%81%97%E3%80%81%E6%96%B0%E3%81%9F%E3%81%AB%E3%81%9D%E3%82%8C%E3%82%92RECORD%E5%9E%8B%E3%81%A8%E3%81%97%E3%81%A6%E5%AE%9A%E7%BE%A9%20*/%0Atypedef%20struct%20data_record%20%7B%20%20/*%20double%E5%9E%8B%E3%83%87%E3%83%BC%E3%82%BF%E3%82%92%E6%A0%BC%E7%B4%8D%E3%81%99%E3%82%8B%E3%81%9F%E3%82%81%E3%81%AE%E6%A7%8B%E9%80%A0%E4%BD%93%20*/%0A%0A%20%20%20%20%20%20%20%20%20int%20id%3B%20%20%20%20%20%20%20%20%20%20%20%20%20%20%20%20%20%20/*%20%E8%AD%98%E5%88%A5%E7%95%AA%E5%8F%B7%20*/%0A%0A%20%20%20%20%20%20%20%20%20int%20length%3B%20%20%20%20%20%20%20%20%20%20%20%20%20/*%20%E6%A0%BC%E7%B4%8D%E3%83%87%E3%83%BC%E3%82%BF%E3%81%AE%E9%95%B7%E3%81%95%20*/%0A%0A%20%20%20%20%20%20%20%20%20double%20data%5B6%5D%3B%20%20%20%20%20%20%20/*%20%E3%83%87%E3%83%BC%E3%82%BF%E6%A0%BC%E7%B4%8D%E7%94%A8%E9%85%8D%E5%88%97%20*/%0A%0A%7D%20RECORD%3B%0A%0A%0Aint%20main%28void%29%20%7B%0A%0A%20%20%20%20%20%20%20%20%20/*%20RECORD%E5%9E%8B%E6%A7%8B%E9%80%A0%E4%BD%93%E3%81%AE%E9%85%8D%E5%88%97%E3%82%92%E5%AE%A3%E8%A8%80%E3%81%97%E3%80%81%E5%90%84%E8%A6%81%E7%B4%A0%E3%81%AE%E5%90%84%E3%83%A1%E3%83%B3%E3%83%90%E3%82%92%E5%88%9D%E6%9C%9F%E5%8C%96%20*/%0A%20%20%20%20%20%20%20%20%20RECORD%20tbl%5BN%5D%20%3D%20%7B%7B1,%205,%20%7B0.0,%201.1,%202.2,%203.3,%204.4%7D%7D,%0A%20%20%20%20%20%20%20%20%20%20%20%20%20%20%20%20%20%20%20%20%20%20%20%20%20%20%20%20%20%7B2,%203,%20%7B12.3,%2023.4,%2034.5%7D%7D,%0A%20%20%20%20%20%20%20%20%20%20%20%20%20%20%20%20%20%20%20%20%20%20%20%20%20%20%20%20%20%7B3,%202,%20%7B0.987,%200.654%7D%7D%7D%3B%0A%20%20%20%20%20%20%20%20%20int%20i,%20j%3B%0A%20%20%20%20%20%20%20%20%20/*%20%E9%85%8D%E5%88%97tbl%E3%81%AE%E5%90%84%E8%A6%81%E7%B4%A0%EF%BC%88FILE%E5%9E%8B%E6%A7%8B%E9%80%A0%E4%BD%93%E3%82%AA%E3%83%96%E3%82%B8%E3%82%A7%E3%82%AF%E3%83%88%EF%BC%89%E3%81%AE%E3%83%A1%E3%83%B3%E3%83%90%E5%A4%89%E6%95%B0data%EF%BC%88%E9%85%8D%E5%88%97%EF%BC%89%E3%81%AE%E5%90%84%E8%A6%81%E7%B4%A0%EF%BC%88double%E5%9E%8B%E5%AE%9F%E6%95%B0%EF%BC%89%E3%81%AE%E5%80%A4%E3%82%92%E8%A1%A8%E7%A4%BA%20*/%0A%20%20%20%20%20%20%20%20%20for%20%28i%20%3D%200%3B%20i%20%3C%20N%3B%20i%2B%2B%29%20%7B%0A%0A%20%20%20%20%20%20%20%20%20%20%20%20%20%20%20%20%20printf%28%22record%20%23%25d%5Cn%22,%20tbl%5Bi%5D.id%29%3B%0A%0A%20%20%20%20%20%20%20%20%20%20%20%20%20%20%20%20%20for%20%28j%20%3D%200%3B%20j%20%3C%20tbl%5Bi%5D.length%3B%20j%2B%2B%29%0A%0A%20%20%20%20%20%20%20%20%20%20%20%20%20%20%20%20%20%20%20%20%20%20%20%20%20%20printf%28%22%255.3f%20%22,%20tbl%5Bi%5D.data%5Bj%5D%29%3B%0A%0A%20%20%20%20%20%20%20%20%20%20%20%20%20%20%20%20%20printf%28%22%5Cn%22%29%3B%0A%0A%20%20%20%20%20%20%20%20%20%7D%0A%0A%20%20%20%20%20%20%20%20%20return%200%3B%0A%0A%7D&cumulative=false&curInstr=0&heapPrimitives=nevernest&mode=display&origin=opt-frontend.js&py=c_gcc9.3.0&rawInputLstJSON=%5B%5D&textReferences=false)"
   ]
  },
  {
   "cell_type": "code",
   "execution_count": 4,
   "id": "da9e92bf",
   "metadata": {},
   "outputs": [
    {
     "name": "stdout",
     "output_type": "stream",
     "text": [
      "student #0: 0.000000\n",
      "student #1: 10.000000\n",
      "student #2: 20.000000\n",
      "student #3: 30.000000\n",
      "student #4: 40.000000\n"
     ]
    }
   ],
   "source": [
    "// 構造体の配列\n",
    "// http://www.den.t.u-tokyo.ac.jp/ad_prog/struct/#%E3%83%9D%E3%82%A4%E3%83%B3%E3%82%BF%E3%81%A8%E9%85%8D%E5%88%97%E3%81%AE%E5%8B%95%E7%9A%84%E7%A2%BA%E4%BF%9D\n",
    "\n",
    "\n",
    "#include <stdio.h>\n",
    "\n",
    "typedef struct {\n",
    "    int id;\n",
    "    double score;\n",
    "} student;\n",
    "\n",
    "// 静的配列の宣言\n",
    "#define N 5\n",
    "student students[N];\n",
    "\n",
    "int main() {\n",
    "    // 値を代入\n",
    "    for (int i = 0; i < N; i++) {\n",
    "        students[i].id = i;\n",
    "        students[i].score = i * 10.0;\n",
    "    }\n",
    "    \n",
    "    // 結果の出力\n",
    "    for (int i = 0; i < N; i++) {\n",
    "        printf(\"student #%d: %f\\n\", students[i].id, students[i].score);\n",
    "    }\n",
    "}"
   ]
  },
  {
   "cell_type": "markdown",
   "id": "1379d1ab",
   "metadata": {},
   "source": [
    "[実行の可視化](http://pythontutor.com/visualize.html#code=%23include%20%3Cstdio.h%3E%0A%0Atypedef%20struct%20%7B%0A%20%20%20%20int%20id%3B%0A%20%20%20%20double%20score%3B%0A%7D%20student%3B%0A%0A//%20%E9%9D%99%E7%9A%84%E9%85%8D%E5%88%97%E3%81%AE%E5%AE%A3%E8%A8%80%0A%23define%20N%205%0Astudent%20students%5BN%5D%3B%0A%0Aint%20main%28%29%20%7B%0A%20%20%20%20//%20%E5%80%A4%E3%82%92%E4%BB%A3%E5%85%A5%0A%20%20%20%20for%20%28int%20i%20%3D%200%3B%20i%20%3C%20N%3B%20i%2B%2B%29%20%7B%0A%20%20%20%20%20%20%20%20students%5Bi%5D.id%20%3D%20i%3B%0A%20%20%20%20%20%20%20%20students%5Bi%5D.score%20%3D%20i%20*%2010.0%3B%0A%20%20%20%20%7D%0A%20%20%20%20%0A%20%20%20%20//%20%E7%B5%90%E6%9E%9C%E3%81%AE%E5%87%BA%E5%8A%9B%0A%20%20%20%20for%20%28int%20i%20%3D%200%3B%20i%20%3C%20N%3B%20i%2B%2B%29%20%7B%0A%20%20%20%20%20%20%20%20printf%28%22student%20%23%25d%3A%20%25f%5Cn%22,%20students%5Bi%5D.id,%20students%5Bi%5D.score%29%3B%0A%20%20%20%20%7D%0A%7D%0A&cumulative=false&curInstr=27&heapPrimitives=nevernest&mode=display&origin=opt-frontend.js&py=c&rawInputLstJSON=%5B%5D&textReferences=false)"
   ]
  },
  {
   "cell_type": "code",
   "execution_count": 5,
   "id": "8f0cece9",
   "metadata": {},
   "outputs": [
    {
     "name": "stdout",
     "output_type": "stream",
     "text": [
      "student #0: 0.000000\n",
      "student #1: 10.000000\n",
      "student #2: 20.000000\n",
      "student #3: 30.000000\n",
      "student #4: 40.000000\n"
     ]
    }
   ],
   "source": [
    "#include <stdio.h>\n",
    "#include <stdlib.h>\n",
    "\n",
    "typedef struct {\n",
    "    int id;\n",
    "    double score;\n",
    "} student;\n",
    "\n",
    "int main() {\n",
    "    // メモリの動的確保\n",
    "    int n = 5;\n",
    "    student *students = (student*)malloc(n * sizeof(student));\n",
    "\n",
    "    // 値を代入\n",
    "    for (int i = 0; i < n; i++) {\n",
    "        students[i].id = i;\n",
    "        students[i].score = i * 10.0;\n",
    "    }\n",
    "\n",
    "    // 結果の出力\n",
    "    for (int i = 0; i < n; i++) {\n",
    "        printf(\"student #%d: %f\\n\", students[i].id, students[i].score);\n",
    "    }\n",
    "\n",
    "    // メモリの解放\n",
    "    free(students);\n",
    "}"
   ]
  },
  {
   "cell_type": "markdown",
   "id": "7308df5c",
   "metadata": {},
   "source": [
    "[実行の可視化](http://pythontutor.com/visualize.html#code=%23include%20%3Cstdio.h%3E%0A%23include%20%3Cstdlib.h%3E%0A%0Atypedef%20struct%20%7B%0A%20%20%20%20int%20id%3B%0A%20%20%20%20double%20score%3B%0A%7D%20student%3B%0A%0Aint%20main%28%29%20%7B%0A%20%20%20%20//%20%E3%83%A1%E3%83%A2%E3%83%AA%E3%81%AE%E5%8B%95%E7%9A%84%E7%A2%BA%E4%BF%9D%0A%20%20%20%20int%20n%20%3D%205%3B%0A%20%20%20%20student%20*students%20%3D%20%28student*%29malloc%28n%20*%20sizeof%28student%29%29%3B%0A%0A%20%20%20%20//%20%E5%80%A4%E3%82%92%E4%BB%A3%E5%85%A5%0A%20%20%20%20for%20%28int%20i%20%3D%200%3B%20i%20%3C%20n%3B%20i%2B%2B%29%20%7B%0A%20%20%20%20%20%20%20%20students%5Bi%5D.id%20%3D%20i%3B%0A%20%20%20%20%20%20%20%20students%5Bi%5D.score%20%3D%20i%20*%2010.0%3B%0A%20%20%20%20%7D%0A%0A%20%20%20%20//%20%E7%B5%90%E6%9E%9C%E3%81%AE%E5%87%BA%E5%8A%9B%0A%20%20%20%20for%20%28int%20i%20%3D%200%3B%20i%20%3C%20n%3B%20i%2B%2B%29%20%7B%0A%20%20%20%20%20%20%20%20printf%28%22student%20%23%25d%3A%20%25f%5Cn%22,%20students%5Bi%5D.id,%20students%5Bi%5D.score%29%3B%0A%20%20%20%20%7D%0A%0A%20%20%20%20//%20%E3%83%A1%E3%83%A2%E3%83%AA%E3%81%AE%E8%A7%A3%E6%94%BE%0A%20%20%20%20free%28students%29%3B%0A%7D%0A&cumulative=false&curInstr=0&heapPrimitives=nevernest&mode=display&origin=opt-frontend.js&py=c&rawInputLstJSON=%5B%5D&textReferences=false)"
   ]
  },
  {
   "cell_type": "code",
   "execution_count": 6,
   "id": "ce63220c",
   "metadata": {},
   "outputs": [
    {
     "name": "stdout",
     "output_type": "stream",
     "text": [
      "Total (Taro): 180\n"
     ]
    }
   ],
   "source": [
    "#include <stdio.h>\n",
    "#include <stdlib.h>\n",
    "\n",
    "typedef struct {\n",
    "    char name[32];\n",
    "    int *subjects;\n",
    "} student;\n",
    "\n",
    "int main() {\n",
    "    student taro;\n",
    "    sprintf(taro.name, \"Taro\");  // nameを\"Taro\"にする\n",
    "\n",
    "    // subjectsのメモリ確保と値の代入\n",
    "    int n = 2;\n",
    "    taro.subjects = (int*)calloc(n, sizeof(int));\n",
    "    taro.subjects[0] = 100;\n",
    "    taro.subjects[1] = 80;\n",
    "\n",
    "    // 結果の出力\n",
    "    printf(\"Total (%s): %d\\n\", taro.name, taro.subjects[0] + taro.subjects[1]);\n",
    "\n",
    "    // メモリの解放\n",
    "    free(taro.subjects);\n",
    "}"
   ]
  },
  {
   "cell_type": "markdown",
   "id": "82704d3e",
   "metadata": {},
   "source": [
    "[実行の可視化](http://pythontutor.com/visualize.html#code=%23include%20%3Cstdio.h%3E%0A%23include%20%3Cstdlib.h%3E%0A%0Atypedef%20struct%20%7B%0A%20%20%20%20char%20name%5B10%5D%3B%0A%20%20%20%20int%20*subjects%3B%0A%7D%20student%3B%0A%0Aint%20main%28%29%20%7B%0A%20%20%20%20student%20taro%3B%0A%20%20%20%20sprintf%28taro.name,%20%22Taro%22%29%3B%20%20//%20name%E3%82%92%22Taro%22%E3%81%AB%E3%81%99%E3%82%8B%0A%0A%20%20%20%20//%20subjects%E3%81%AE%E3%83%A1%E3%83%A2%E3%83%AA%E7%A2%BA%E4%BF%9D%E3%81%A8%E5%80%A4%E3%81%AE%E4%BB%A3%E5%85%A5%0A%20%20%20%20int%20n%20%3D%202%3B%0A%20%20%20%20taro.subjects%20%3D%20%28int*%29malloc%28n%20*%20sizeof%28int%29%29%3B%0A%20%20%20%20taro.subjects%5B0%5D%20%3D%20100%3B%0A%20%20%20%20taro.subjects%5B1%5D%20%3D%2080%3B%0A%0A%20%20%20%20//%20%E7%B5%90%E6%9E%9C%E3%81%AE%E5%87%BA%E5%8A%9B%0A%20%20%20%20printf%28%22Total%20%28%25s%29%3A%20%25d%5Cn%22,%20taro.name,%20taro.subjects%5B0%5D%20%2B%20taro.subjects%5B1%5D%29%3B%0A%0A%20%20%20%20//%20%E3%83%A1%E3%83%A2%E3%83%AA%E3%81%AE%E8%A7%A3%E6%94%BE%0A%20%20%20%20free%28taro.subjects%29%3B%0A%7D&cumulative=false&curInstr=0&heapPrimitives=nevernest&mode=display&origin=opt-frontend.js&py=c&rawInputLstJSON=%5B%5D&textReferences=false)"
   ]
  },
  {
   "cell_type": "code",
   "execution_count": 7,
   "id": "e81a1403",
   "metadata": {},
   "outputs": [
    {
     "name": "stdout",
     "output_type": "stream",
     "text": [
      "Total (Taro): 180\n"
     ]
    }
   ],
   "source": [
    "#include <stdio.h>\n",
    "#include <stdlib.h>\n",
    "\n",
    "typedef struct {\n",
    "    char name[10];\n",
    "    int *subjects;\n",
    "} student;\n",
    "\n",
    "int main() {\n",
    "    // 構造体のポインタを準備\n",
    "    student taro;\n",
    "    student *taro_ptr;\n",
    "    taro_ptr = &taro;\n",
    "\n",
    "    // アクセス方法が値とポインタで異なることに注意\n",
    "    sprintf(taro_ptr->name, \"Taro\");  // nameを\"Taro\"にする\n",
    "\n",
    "    // subjectsのメモリ確保と値の代入\n",
    "    const int n = 2;\n",
    "    taro_ptr->subjects = (int*)malloc(n *sizeof(int));\n",
    "    taro_ptr->subjects[0] = 100;\n",
    "    taro_ptr->subjects[1] = 80;\n",
    "\n",
    "    // 結果の出力\n",
    "    printf(\"Total (%s): %d\\n\", taro_ptr->name, taro_ptr->subjects[0] + taro_ptr->subjects[1]);\n",
    "\n",
    "    // メモリの解放\n",
    "    free(taro.subjects);\n",
    "}"
   ]
  },
  {
   "cell_type": "markdown",
   "id": "2ab4de62",
   "metadata": {},
   "source": [
    "[実行の可視化](http://pythontutor.com/visualize.html#code=%23include%20%3Cstdio.h%3E%0A%23include%20%3Cstdlib.h%3E%0A%0Atypedef%20struct%20%7B%0A%20%20%20%20char%20name%5B10%5D%3B%0A%20%20%20%20int%20*subjects%3B%0A%7D%20student%3B%0A%0Aint%20main%28%29%20%7B%0A%20%20%20%20//%20%E6%A7%8B%E9%80%A0%E4%BD%93%E3%81%AE%E3%83%9D%E3%82%A4%E3%83%B3%E3%82%BF%E3%82%92%E6%BA%96%E5%82%99%0A%20%20%20%20student%20taro%3B%0A%20%20%20%20student%20*taro_ptr%3B%0A%20%20%20%20taro_ptr%20%3D%20%26taro%3B%0A%0A%20%20%20%20//%20%E3%82%A2%E3%82%AF%E3%82%BB%E3%82%B9%E6%96%B9%E6%B3%95%E3%81%8C%E5%80%A4%E3%81%A8%E3%83%9D%E3%82%A4%E3%83%B3%E3%82%BF%E3%81%A7%E7%95%B0%E3%81%AA%E3%82%8B%E3%81%93%E3%81%A8%E3%81%AB%E6%B3%A8%E6%84%8F%0A%20%20%20%20sprintf%28taro_ptr-%3Ename,%20%22Taro%22%29%3B%20%20//%20name%E3%82%92%22Taro%22%E3%81%AB%E3%81%99%E3%82%8B%0A%0A%20%20%20%20//%20subjects%E3%81%AE%E3%83%A1%E3%83%A2%E3%83%AA%E7%A2%BA%E4%BF%9D%E3%81%A8%E5%80%A4%E3%81%AE%E4%BB%A3%E5%85%A5%0A%20%20%20%20const%20int%20n%20%3D%202%3B%0A%20%20%20%20taro_ptr-%3Esubjects%20%3D%20%28int*%29malloc%28n%20*sizeof%28int%29%29%3B%0A%20%20%20%20taro_ptr-%3Esubjects%5B0%5D%20%3D%20100%3B%0A%20%20%20%20taro_ptr-%3Esubjects%5B1%5D%20%3D%2080%3B%0A%0A%20%20%20%20//%20%E7%B5%90%E6%9E%9C%E3%81%AE%E5%87%BA%E5%8A%9B%0A%20%20%20%20printf%28%22Total%20%28%25s%29%3A%20%25d%5Cn%22,%20taro_ptr-%3Ename,%20taro_ptr-%3Esubjects%5B0%5D%20%2B%20taro_ptr-%3Esubjects%5B1%5D%29%3B%0A%0A%20%20%20%20//%20%E3%83%A1%E3%83%A2%E3%83%AA%E3%81%AE%E8%A7%A3%E6%94%BE%0A%20%20%20%20free%28taro.subjects%29%3B%0A%7D&cumulative=false&curInstr=0&heapPrimitives=nevernest&mode=display&origin=opt-frontend.js&py=c_gcc9.3.0&rawInputLstJSON=%5B%5D&textReferences=false)"
   ]
  },
  {
   "cell_type": "code",
   "execution_count": null,
   "id": "fb5dd231",
   "metadata": {},
   "outputs": [],
   "source": []
  }
 ],
 "metadata": {
  "kernelspec": {
   "display_name": "C",
   "language": "c",
   "name": "c"
  },
  "language_info": {
   "file_extension": ".c",
   "mimetype": "text/x-csrc",
   "name": "text/x-csrc"
  },
  "toc": {
   "base_numbering": 1,
   "nav_menu": {},
   "number_sections": true,
   "sideBar": true,
   "skip_h1_title": false,
   "title_cell": "Table of Contents",
   "title_sidebar": "Contents",
   "toc_cell": false,
   "toc_position": {
    "height": "calc(100% - 180px)",
    "left": "10px",
    "top": "150px",
    "width": "239.797px"
   },
   "toc_section_display": true,
   "toc_window_display": true
  }
 },
 "nbformat": 4,
 "nbformat_minor": 5
}
