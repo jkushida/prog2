{
 "cells": [
  {
   "cell_type": "markdown",
   "id": "23e2357d",
   "metadata": {},
   "source": [
    "# 変数とは"
   ]
  },
  {
   "cell_type": "markdown",
   "id": "e40057c7",
   "metadata": {},
   "source": [
    "- プログラムでデータを扱う場合，データの入れ物である変数を用意する．\n",
    "- **変数は，値や文字などを持つことができる入れ物**といえる．\n",
    "- 変数にデータを記憶させる際には，メモリの空いている空間に変数を配置させる．"
   ]
  },
  {
   "cell_type": "markdown",
   "id": "f14005f3",
   "metadata": {},
   "source": [
    "<img src=\"./fig/変数.png\" width=\"450\">\n"
   ]
  },
  {
   "cell_type": "markdown",
   "id": "908d406a",
   "metadata": {},
   "source": [
    "## 変数の宣言\n",
    "変数を活用する場合，最初に変数の宣言を行う．\n",
    "\n",
    "変数の宣言は以下の書式で行う．\n",
    "\n",
    "```\n",
    "データ型 変数名；\n",
    "```\n",
    "\n",
    "\n",
    "例えば，`int型`で変数名が`value`の変数をプログラムで使用するのであれば次のように記述する．\n",
    "```c\n",
    "int value;\n",
    "```\n",
    "\n",
    "同じ変数の型の変数であれば，まとめて宣言することが可能である．\n",
    "```\n",
    "データ型 変数名, 変数名, ...;\n",
    "```"
   ]
  },
  {
   "cell_type": "markdown",
   "id": "4f622ba8",
   "metadata": {},
   "source": [
    "## 変数の型\n",
    "\n",
    "C言語では指定できるデータの種類を型と呼ばれるもので定義する．\n",
    "\n",
    "以下は変数の主な型である．\n",
    "\n",
    "|種類  |  型名  |バイト幅|\n",
    "| :--- | :---| :---: | \n",
    "|  文字型  |  char | 1|\n",
    "|  整数型  |   int| 2 (4) |\n",
    "|  倍長整数型  |  long | 4 |\n",
    "|  単精度浮動小数点数  |  float | 4 |\n",
    "|  倍精度浮動小数点数  |  double | 8 |\n",
    "\n",
    "\n",
    "- 型ごとに割り当てられるサイズが異なる．\n",
    "\n",
    "- また，バイト幅および扱える数値の範囲は処理系により異なる．\n",
    "\n",
    "- データサイズは`sizeof演算子`で確認できる．\n",
    "\n"
   ]
  },
  {
   "cell_type": "markdown",
   "id": "949b2588",
   "metadata": {},
   "source": [
    "## 変数の代入\n",
    "\n",
    "変数宣言をした後，変数に型にあった定数を自由に記憶させることができる．\n",
    "\n",
    "変数に値を代入することは， (変数の定義によって確保された)メモリに値を書き込む作業である．\n",
    "\n",
    "C言語では，以下の代入文で行う．\n",
    "\n",
    "```bash\n",
    "変数名 = 定数;\n",
    "```\n",
    "\n",
    "■ 変数の代入例\n",
    "```c\n",
    "int data;\n",
    "data = 10;\n",
    "```\n",
    "\n",
    "代入文は， **左辺の変数に右辺の式の値を格納（代入）する**こと表す．"
   ]
  },
  {
   "cell_type": "markdown",
   "id": "616c841a",
   "metadata": {},
   "source": [
    "変数には定数だけではなく，変数の値も代入することができる．\n",
    "\n",
    "また，演算子を用いた式の値も代入できる．\n",
    "\n",
    "```\n",
    "変数名 = 変数名;\n",
    "```\n",
    "\n",
    "■ 代入例\n",
    "```c\n",
    "double x, y, z;\n",
    "x  = 9.5;\n",
    "y = x;\n",
    "z = x + y + 1;\n",
    "```"
   ]
  },
  {
   "cell_type": "markdown",
   "id": "c7453b32",
   "metadata": {},
   "source": [
    "***\n",
    "sample1.c  "
   ]
  },
  {
   "cell_type": "markdown",
   "id": "14fc0223",
   "metadata": {},
   "source": [
    "```c\n",
    "#include <stdio.h>\n",
    "\n",
    "int main(void) {\n",
    "  int data;\n",
    "  double x, y, z;\n",
    "  \n",
    "  data = 10;\n",
    "  printf(\"data = %d\\n\", data);\n",
    "\n",
    "  x  = 9.5;\n",
    "  y = x;\n",
    "  z = x + y + 1;\n",
    "\n",
    "  printf(\"x = %f y = %f z = %f\\n\", x, y, z);\n",
    "\n",
    "  return 0;\n",
    "}\n",
    "```"
   ]
  },
  {
   "cell_type": "markdown",
   "id": "155b7547",
   "metadata": {},
   "source": [
    "<hr>"
   ]
  },
  {
   "cell_type": "markdown",
   "id": "36f30e12",
   "metadata": {},
   "source": [
    "[実行の可視化](http://pythontutor.com/visualize.html#code=%23include%20%3Cstdio.h%3E%0A%0Aint%20main%28void%29%20%7B%0A%20%20int%20data%3B%0A%20%20double%20x,%20y,%20z%3B%0A%20%20%0A%20%20data%20%3D%2010%3B%0A%20%20printf%28%22data%20%3D%20%25d%5Cn%22,%20data%29%3B%0A%0A%20%20x%20%20%3D%209.5%3B%0A%20%20y%20%3D%20x%3B%0A%20%20z%20%3D%20x%20%2B%20y%20%2B%201%3B%0A%0A%20%20printf%28%22x%20%3D%20%25f%20y%20%3D%20%25f%20z%20%3D%20%25f%5Cn%22,%20x,%20y,%20z%29%3B%0A%0A%20%20return%200%3B%0A%7D&cumulative=false&curInstr=0&heapPrimitives=nevernest&mode=display&origin=opt-frontend.js&py=c_gcc9.3.0&rawInputLstJSON=%5B%5D&textReferences=false)"
   ]
  },
  {
   "cell_type": "markdown",
   "id": "20722b5c",
   "metadata": {},
   "source": [
    "# 算術演算子\n",
    "\n",
    "C言語の算術演算子(演算記号）には以下のものがある．\n",
    " \n",
    "|演算名|  演算子  |  意味  |\n",
    "| :---: | :---: | :---: | \n",
    "|加算|  +  |  和 (足し算)  |\n",
    "|減算|  -  |   差   (引き算)|\n",
    "|乗算|  *  |  積 (掛け算) |\n",
    "|除算|  /  |  商 (割り算)  |\n",
    "|剰余|  %  |  整数の割り算の余り |\n",
    "\n",
    "以下のコードはこれらの演算子を使ったプログラムの例である．"
   ]
  },
  {
   "cell_type": "code",
   "execution_count": 2,
   "id": "55e257a3",
   "metadata": {},
   "outputs": [
    {
     "name": "stdout",
     "output_type": "stream",
     "text": [
      "10 + 3 = 13\n",
      "10 - 3 = 7\n",
      "10 * 3 = 30\n",
      "10 / 3 = 3\n",
      "10 mod 3 = 1\n"
     ]
    }
   ],
   "source": [
    "// 四則演算\n",
    "#include <stdio.h>\n",
    "\n",
    "int main() \n",
    "{\n",
    "  printf(\"10 + 3 = %d\\n\", 10 + 3);\n",
    "  printf(\"10 - 3 = %d\\n\", 10 - 3);\n",
    "  printf(\"10 * 3 = %d\\n\", 10 * 3);\n",
    "  printf(\"10 / 3 = %d\\n\", 10 / 3);\n",
    "  printf(\"10 mod 3 = %d\\n\", 10 % 3);\n",
    "  return 0;\n",
    "}"
   ]
  },
  {
   "cell_type": "markdown",
   "id": "c97bddc1",
   "metadata": {},
   "source": [
    "C言語では，演算子の左右の項が共に整数であると，除算の結果も整数となる．\n",
    "\n",
    "そのため，除算の結果は，小数点以下を切り捨てて3となっている．"
   ]
  },
  {
   "cell_type": "markdown",
   "id": "427bc4e4",
   "metadata": {},
   "source": [
    "# 変数の値を出力"
   ]
  },
  {
   "cell_type": "markdown",
   "id": "32201665",
   "metadata": {},
   "source": [
    "- printf 関数を使って，文字列を出力する場合は次のように記述する．\n",
    "```\n",
    "printf(\"標準出力の書式\");\n",
    "```\n",
    "\n",
    "- 変数の値を出力する場合には，「標準出力の書式」の後ろにカンマ`,`をつけて，「式や変数」を続る．\n",
    "```\n",
    "printf(\"標準出力の書式\",式や変数);\n",
    "```\n",
    "\n",
    "- 式や変数が複数ある場合はカンマ`,`で区切って，「式や変数」を続ける．\n",
    "```\n",
    "printf(\"標準出力の書式\",式や変数1,式や変数2,式や変数3);\n",
    "```\n",
    "\n",
    "- printf 関数を使って変数の値を出力する場合には`%`からはじまる「変換指定子」を使う．\n",
    "\n",
    "    変換指定子の使用例\n",
    "    ```c\n",
    "    printf(\"%d, %d, %d \\n\", a, a+b, c);\n",
    "    ```\n",
    "\n",
    "    変換指定子は「変数の型」によって異なる．\n",
    "\n",
    "|変数の型\t| 宣言例\t|画面への出力\t|キーボードからの入力|\n",
    "| :---: | :---: | :---: | :---: | \n",
    "|整数\t| int  a;\t| printf(\"%d\",a);\t| scanf(\"%d\",&a);|\n",
    "|実数\t| double  a; |\tprintf(\"%f\",a);\t| scanf(\"%lf\",&a);|\n",
    "|文字(1文字) |\tchar  a; |\tprintf(\"%c\",a); |\tscanf(\"%c\",&a);|\n",
    "|文字列 |\tchar  a[20];\t| printf(\"%s\",a);\t| scanf(\"%s\",a);|\n",
    "    \n",
    "    \n"
   ]
  },
  {
   "cell_type": "code",
   "execution_count": 3,
   "id": "55c81735",
   "metadata": {},
   "outputs": [
    {
     "name": "stdout",
     "output_type": "stream",
     "text": [
      "A\n",
      "abc\n",
      "1, 3, 4\n",
      "33.333000\n"
     ]
    }
   ],
   "source": [
    "// 変換指定子の使用例\n",
    "#include <stdio.h>\n",
    " \n",
    "int main(void)\n",
    "{\n",
    "  // 文字\n",
    "  char str1;\n",
    "  str1 = 'A';\n",
    "  printf(\"%c\\n\", str1);\n",
    "    \n",
    "  char str2[] = \"abc\";\n",
    "  printf(\"%s\\n\", str2);    \n",
    "\n",
    "  // 整数\n",
    "  int a, b, c;\n",
    "  a = 1;\n",
    "  b = 2;\n",
    "  c = 4;\n",
    "  printf(\"%d, %d, %d\\n\", a, a+b, c);\n",
    " \n",
    "  // 実数\n",
    "  float x;\n",
    "  x = 33.333;\n",
    "  printf(\"%f\\n\", x);\n",
    " \n",
    "  return 0;\n",
    "}"
   ]
  },
  {
   "cell_type": "code",
   "execution_count": null,
   "id": "88794261",
   "metadata": {},
   "outputs": [],
   "source": []
  }
 ],
 "metadata": {
  "kernelspec": {
   "display_name": "C",
   "language": "c",
   "name": "c"
  },
  "language_info": {
   "file_extension": ".c",
   "mimetype": "text/x-csrc",
   "name": "text/x-csrc"
  },
  "toc": {
   "base_numbering": 1,
   "nav_menu": {},
   "number_sections": true,
   "sideBar": true,
   "skip_h1_title": false,
   "title_cell": "Table of Contents",
   "title_sidebar": "Contents",
   "toc_cell": false,
   "toc_position": {
    "height": "calc(100% - 180px)",
    "left": "10px",
    "top": "150px",
    "width": "184.391px"
   },
   "toc_section_display": true,
   "toc_window_display": true
  }
 },
 "nbformat": 4,
 "nbformat_minor": 5
}
