{
 "cells": [
  {
   "cell_type": "markdown",
   "id": "ea4976eb",
   "metadata": {},
   "source": [
    "# 変数"
   ]
  },
  {
   "cell_type": "markdown",
   "id": "2cbbc899",
   "metadata": {},
   "source": [
    "## \n",
    "\n",
    "printf 関数と次の出力フォーマット指定子を使用して，自分の誕生日を表示するプログラムを作成せよ．\n",
    "\n",
    "```\n",
    "\"%d年 %d月 %d日\"\n",
    "```"
   ]
  },
  {
   "cell_type": "code",
   "execution_count": 1,
   "id": "a40740b5",
   "metadata": {},
   "outputs": [
    {
     "name": "stderr",
     "output_type": "stream",
     "text": [
      "In file included from /var/folders/17/1fkqsg691_3flnsv7g5_wrz80000gn/T/tmp2lhbq0pu.c:1:\n",
      "/Users/kushida/Desktop/tmp/jupyter-c-kernel/jupyter_c_kernel/resources/stdio_wrap.h:279:47: warning: token pasting of ',' and __VA_ARGS__ is a GNU extension [-Wgnu-zero-variadic-macro-arguments]\n",
      "#define scanf(format, ...) scanf_wrap(format, ##__VA_ARGS__, &scanf_wrap_number_read)\n",
      "                                              ^\n",
      "/Users/kushida/Desktop/tmp/jupyter-c-kernel/jupyter_c_kernel/resources/stdio_wrap.h:279:47: warning: token pasting of ',' and __VA_ARGS__ is a GNU extension [-Wgnu-zero-variadic-macro-arguments]\n",
      "/Users/kushida/Desktop/tmp/jupyter-c-kernel/jupyter_c_kernel/resources/stdio_wrap.h:279:47: warning: token pasting of ',' and __VA_ARGS__ is a GNU extension [-Wgnu-zero-variadic-macro-arguments]\n",
      "3 warnings generated.\n"
     ]
    },
    {
     "name": "stdout",
     "output_type": "stream",
     "text": [
      "2000\n",
      "3\n",
      "4\n",
      "2000年 3月 4日\n"
     ]
    }
   ],
   "source": [
    "#include <stdio.h>\n",
    "\n",
    "int main(){\n",
    "    int y, m, d;\n",
    "    \n",
    "    scanf( \"%d\", &y );\n",
    "    scanf( \"%d\", &m );\n",
    "    scanf( \"%d\", &d );\n",
    "    \n",
    "    printf(\"%d年 %d月 %d日\\n\", y ,m, d);\n",
    "    return 0;\n",
    "}"
   ]
  },
  {
   "cell_type": "markdown",
   "id": "a03f7a62",
   "metadata": {},
   "source": [
    "## \n",
    "\n",
    "int 型の変数 x, y に数値 9, 8 を代入し, x, y の値を \n",
    "\n",
    "```x=9， y=8```\n",
    "\n",
    "のように表示するプログラムを作成せよ．"
   ]
  },
  {
   "cell_type": "code",
   "execution_count": 2,
   "id": "284e06b7",
   "metadata": {},
   "outputs": [
    {
     "name": "stdout",
     "output_type": "stream",
     "text": [
      "x = 9, y = 8\n"
     ]
    }
   ],
   "source": [
    "#include <stdio.h>\n",
    "\n",
    "int main(){\n",
    "    int x, y;\n",
    "    \n",
    "    x = 9;\n",
    "    y = 8;\n",
    "    \n",
    "    printf(\"x = %d, y = %d\\n\", x ,y);\n",
    "    return 0;   \n",
    "}"
   ]
  },
  {
   "cell_type": "markdown",
   "id": "9483b432",
   "metadata": {},
   "source": [
    "## \n",
    "\n",
    "身長と体重を入力し, 肥満度を判定する指標である BMI (Body Mass Index) を計算し表示するプログラムを作成せよ．\n",
    "\n",
    "なお，BMIは以下の式で算出される．\n",
    "\n",
    "$$\n",
    "BMI＝体重(kg)\\div 身長(m)^2\n",
    "$$\n",
    "\n",
    "\n",
    "hint: [BMIの計算サイト](https://keisan.casio.jp/exec/system/1161228732)"
   ]
  },
  {
   "cell_type": "code",
   "execution_count": 3,
   "id": "4d0f7d70",
   "metadata": {},
   "outputs": [
    {
     "name": "stderr",
     "output_type": "stream",
     "text": [
      "In file included from /var/folders/17/1fkqsg691_3flnsv7g5_wrz80000gn/T/tmpf7r0v54e.c:1:\n",
      "/Users/kushida/Desktop/tmp/jupyter-c-kernel/jupyter_c_kernel/resources/stdio_wrap.h:279:47: warning: token pasting of ',' and __VA_ARGS__ is a GNU extension [-Wgnu-zero-variadic-macro-arguments]\n",
      "#define scanf(format, ...) scanf_wrap(format, ##__VA_ARGS__, &scanf_wrap_number_read)\n",
      "                                              ^\n",
      "/Users/kushida/Desktop/tmp/jupyter-c-kernel/jupyter_c_kernel/resources/stdio_wrap.h:279:47: warning: token pasting of ',' and __VA_ARGS__ is a GNU extension [-Wgnu-zero-variadic-macro-arguments]\n",
      "2 warnings generated.\n"
     ]
    },
    {
     "name": "stdout",
     "output_type": "stream",
     "text": [
      "体重は？[kg] 60\n",
      "身長は？[m] 1.70\n",
      "BMI = 20.761246\n"
     ]
    }
   ],
   "source": [
    "#include <stdio.h>\n",
    "\n",
    "int main(){\n",
    "    double weight, height, BMI;\n",
    "\n",
    "    printf(\"体重は？[kg] \");\n",
    "    scanf(\"%lf\", &weight);\n",
    "    printf(\"身長は？[m] \");\n",
    "    scanf(\"%lf\", &height);\n",
    "\n",
    "    BMI = weight / height / height;\n",
    "    printf(\"BMI = %f\\n\", BMI );\n",
    "\n",
    "    return 0;\n",
    "}"
   ]
  },
  {
   "cell_type": "markdown",
   "id": "82e3999d",
   "metadata": {},
   "source": [
    "# 分岐処理"
   ]
  },
  {
   "cell_type": "markdown",
   "id": "cd549f3c",
   "metadata": {},
   "source": [
    "https://kitako.tokyo/lib/CExercise.aspx?id=104"
   ]
  },
  {
   "cell_type": "markdown",
   "id": "ed78df03",
   "metadata": {},
   "source": [
    "## \n",
    "\n",
    "int 型の変数 x, y にそれぞれ数値を入力し, x が y より大きい場合に, \n",
    "```\n",
    "xはyより大きい\n",
    "```\n",
    "という文を表示するプログラムを作成せよ."
   ]
  },
  {
   "cell_type": "code",
   "execution_count": 4,
   "id": "3dc475e9",
   "metadata": {},
   "outputs": [
    {
     "name": "stderr",
     "output_type": "stream",
     "text": [
      "In file included from /var/folders/17/1fkqsg691_3flnsv7g5_wrz80000gn/T/tmp298odqks.c:1:\n",
      "/Users/kushida/Desktop/tmp/jupyter-c-kernel/jupyter_c_kernel/resources/stdio_wrap.h:279:47: warning: token pasting of ',' and __VA_ARGS__ is a GNU extension [-Wgnu-zero-variadic-macro-arguments]\n",
      "#define scanf(format, ...) scanf_wrap(format, ##__VA_ARGS__, &scanf_wrap_number_read)\n",
      "                                              ^\n",
      "/Users/kushida/Desktop/tmp/jupyter-c-kernel/jupyter_c_kernel/resources/stdio_wrap.h:279:47: warning: token pasting of ',' and __VA_ARGS__ is a GNU extension [-Wgnu-zero-variadic-macro-arguments]\n",
      "2 warnings generated.\n"
     ]
    },
    {
     "name": "stdout",
     "output_type": "stream",
     "text": [
      "5\n",
      "8\n"
     ]
    }
   ],
   "source": [
    "#include <stdio.h>\n",
    "\n",
    "int main(){\n",
    "int x;\n",
    "int y;\n",
    "\n",
    "scanf( \"%d\", &x );\n",
    "scanf( \"%d\", &y );\n",
    "\n",
    "if( x > y )\n",
    "    printf( \"xはyより大きい\" );\n",
    "}"
   ]
  },
  {
   "cell_type": "markdown",
   "id": "df78f149",
   "metadata": {},
   "source": [
    "## \n",
    "int 型の変数 x, y にそれぞれ数値を入力し,\n",
    "\n",
    "x が ｙ より大きい場合には,\n",
    "\n",
    "```\n",
    "xはyより大きい\n",
    "```\n",
    "\n",
    "x が y より小さい場合には，\n",
    "\n",
    "```\n",
    "xはyより小さい\n",
    "```\n",
    "\n",
    "と表示するプログラムを作成せよ."
   ]
  },
  {
   "cell_type": "code",
   "execution_count": 5,
   "id": "8447f51f",
   "metadata": {},
   "outputs": [
    {
     "name": "stderr",
     "output_type": "stream",
     "text": [
      "In file included from /var/folders/17/1fkqsg691_3flnsv7g5_wrz80000gn/T/tmpwa8fo2md.c:1:\n",
      "/Users/kushida/Desktop/tmp/jupyter-c-kernel/jupyter_c_kernel/resources/stdio_wrap.h:279:47: warning: token pasting of ',' and __VA_ARGS__ is a GNU extension [-Wgnu-zero-variadic-macro-arguments]\n",
      "#define scanf(format, ...) scanf_wrap(format, ##__VA_ARGS__, &scanf_wrap_number_read)\n",
      "                                              ^\n",
      "/Users/kushida/Desktop/tmp/jupyter-c-kernel/jupyter_c_kernel/resources/stdio_wrap.h:279:47: warning: token pasting of ',' and __VA_ARGS__ is a GNU extension [-Wgnu-zero-variadic-macro-arguments]\n",
      "2 warnings generated.\n"
     ]
    },
    {
     "name": "stdout",
     "output_type": "stream",
     "text": [
      "4\n",
      "5\n",
      "xはyより小さい"
     ]
    }
   ],
   "source": [
    "#include <stdio.h>\n",
    "\n",
    "int main(){\n",
    "int x;\n",
    "int y;\n",
    "\n",
    "scanf( \"%d\", &x );\n",
    "scanf( \"%d\", &y );\n",
    "\n",
    "if( x > y )\n",
    "    printf( \"xはyより大きい\" );\n",
    "else if( x < y )\n",
    "    printf( \"xはyより小さい\" );\n",
    "}"
   ]
  },
  {
   "cell_type": "markdown",
   "id": "b3cc60ca",
   "metadata": {},
   "source": [
    "## \n",
    "\n",
    "正の整数値を１つ入力し， それが偶数か奇数かを判定するプログラムを作成せよ．\n",
    "\n",
    "hint: 剰余演算\n",
    "\n"
   ]
  },
  {
   "cell_type": "code",
   "execution_count": 6,
   "id": "3ff28141",
   "metadata": {},
   "outputs": [
    {
     "name": "stderr",
     "output_type": "stream",
     "text": [
      "In file included from /var/folders/17/1fkqsg691_3flnsv7g5_wrz80000gn/T/tmpijjpfs5h.c:1:\n",
      "/Users/kushida/Desktop/tmp/jupyter-c-kernel/jupyter_c_kernel/resources/stdio_wrap.h:279:47: warning: token pasting of ',' and __VA_ARGS__ is a GNU extension [-Wgnu-zero-variadic-macro-arguments]\n",
      "#define scanf(format, ...) scanf_wrap(format, ##__VA_ARGS__, &scanf_wrap_number_read)\n",
      "                                              ^\n",
      "1 warning generated.\n"
     ]
    },
    {
     "name": "stdout",
     "output_type": "stream",
     "text": [
      "input\n",
      "5\n",
      "奇数です\n"
     ]
    }
   ],
   "source": [
    "#include <stdio.h>\n",
    "\n",
    "int main(){\n",
    "    int x;\n",
    "    \n",
    "    printf(\"input\\n\");\n",
    "    scanf( \"%d\", &x );\n",
    "    \n",
    "    if( ( x % 2 ) == 0 )\n",
    "        printf( \"偶数です\\n\" );\n",
    "    else\n",
    "        printf( \"奇数です\\n\" );\n",
    "    return 0;\n",
    "}\n"
   ]
  },
  {
   "cell_type": "markdown",
   "id": "6f594790",
   "metadata": {},
   "source": [
    "## \n",
    "整数値を入力し, 以下の4つの分類から該当するものを表示するプログラムを作成しなさい.\n",
    "\n",
    "“正の偶数”, “正の奇数”, “負の偶数”, “負の奇数”"
   ]
  },
  {
   "cell_type": "code",
   "execution_count": 7,
   "id": "5307f124",
   "metadata": {},
   "outputs": [
    {
     "name": "stderr",
     "output_type": "stream",
     "text": [
      "In file included from /var/folders/17/1fkqsg691_3flnsv7g5_wrz80000gn/T/tmp3fyazhk5.c:1:\n",
      "/Users/kushida/Desktop/tmp/jupyter-c-kernel/jupyter_c_kernel/resources/stdio_wrap.h:279:47: warning: token pasting of ',' and __VA_ARGS__ is a GNU extension [-Wgnu-zero-variadic-macro-arguments]\n",
      "#define scanf(format, ...) scanf_wrap(format, ##__VA_ARGS__, &scanf_wrap_number_read)\n",
      "                                              ^\n",
      "1 warning generated.\n"
     ]
    },
    {
     "name": "stdout",
     "output_type": "stream",
     "text": [
      "input\n",
      "4\n",
      "正の偶数です\n"
     ]
    }
   ],
   "source": [
    "#include <stdio.h>\n",
    "\n",
    "int main(){\n",
    "    int x;\n",
    "    printf(\"input\\n\");\n",
    "    scanf( \"%d\", &x );\n",
    "    \n",
    "    if( x >= 0 )\n",
    "    {\n",
    "        if( ( x % 2 ) == 0 )\n",
    "            printf( \"正の偶数です\\n\" );\n",
    "        else\n",
    "            printf( \"正の奇数です\\n\" );\n",
    "    }\n",
    "    else\n",
    "    {\n",
    "        if( ( x % 2 ) == 0 )\n",
    "            printf( \"負の偶数です\\n\" );\n",
    "        else\n",
    "            printf( \"負の奇数です\\n\" );\n",
    "    }\n",
    "    return 0;\n",
    "}\n"
   ]
  },
  {
   "cell_type": "markdown",
   "id": "d450fef5",
   "metadata": {},
   "source": [
    "## \n",
    "中間試験と, 期末試験の点数（それぞれ 0 から 100 点）を入力し, 次の条件に従って合格, 不合格を判定するプログラムを作成せよ．\n",
    "\n",
    "- 両方とも 60 点以上の場合は合格\n",
    "- 合計が 130 点以上の場合は合格\n",
    "- 合計が 100 点以上で，どちらかの試験が 90 点以上であれば合格\n",
    "- 上記以外は不合格"
   ]
  },
  {
   "cell_type": "code",
   "execution_count": 18,
   "id": "c3d1c97d",
   "metadata": {},
   "outputs": [
    {
     "name": "stderr",
     "output_type": "stream",
     "text": [
      "In file included from /var/folders/17/1fkqsg691_3flnsv7g5_wrz80000gn/T/tmp9wzhjdts.c:1:\n",
      "/Users/kushida/Desktop/tmp/jupyter-c-kernel/jupyter_c_kernel/resources/stdio_wrap.h:279:47: warning: token pasting of ',' and __VA_ARGS__ is a GNU extension [-Wgnu-zero-variadic-macro-arguments]\n",
      "#define scanf(format, ...) scanf_wrap(format, ##__VA_ARGS__, &scanf_wrap_number_read)\n",
      "                                              ^\n",
      "/Users/kushida/Desktop/tmp/jupyter-c-kernel/jupyter_c_kernel/resources/stdio_wrap.h:279:47: warning: token pasting of ',' and __VA_ARGS__ is a GNU extension [-Wgnu-zero-variadic-macro-arguments]\n",
      "2 warnings generated.\n"
     ]
    },
    {
     "name": "stdout",
     "output_type": "stream",
     "text": [
      "中間試験の点数 = 60\n",
      "期末試験の点数 = 30\n",
      "不合格\n"
     ]
    }
   ],
   "source": [
    "#include <stdio.h>\n",
    "\n",
    "int main(){\n",
    "    int score1;\n",
    "    int score2;\n",
    "    \n",
    "    printf(\"中間試験の点数 = \");\n",
    "    scanf( \"%d\", &score1 );\n",
    "    printf(\"期末試験の点数 = \");\n",
    "    scanf( \"%d\", &score2 );\n",
    "    \n",
    "    if( score1 >= 60 && score2 >= 60 )\n",
    "        printf( \"合格\\n\" );\n",
    "    else if( ( score1 + score2 ) >= 130 )\n",
    "        printf( \"合格\\n\" );\n",
    "    else if( ( score1 + score2 ) >= 100 && ( score1 >= 90 || score2 >= 90 ) )\n",
    "        printf( \"合格\\n\" );\n",
    "    else\n",
    "        printf( \"不合格\\n\" );\n",
    "    return 0;\n",
    "}"
   ]
  },
  {
   "cell_type": "markdown",
   "id": "463da8eb",
   "metadata": {},
   "source": [
    "## \n",
    "3つの整数を入力し，その中の最小の数を出力するプログラムを作成せよ．\n"
   ]
  },
  {
   "cell_type": "code",
   "execution_count": 9,
   "id": "216383e9",
   "metadata": {},
   "outputs": [
    {
     "name": "stderr",
     "output_type": "stream",
     "text": [
      "In file included from /var/folders/17/1fkqsg691_3flnsv7g5_wrz80000gn/T/tmp2lfwlut9.c:1:\n",
      "/Users/kushida/Desktop/tmp/jupyter-c-kernel/jupyter_c_kernel/resources/stdio_wrap.h:279:47: warning: token pasting of ',' and __VA_ARGS__ is a GNU extension [-Wgnu-zero-variadic-macro-arguments]\n",
      "#define scanf(format, ...) scanf_wrap(format, ##__VA_ARGS__, &scanf_wrap_number_read)\n",
      "                                              ^\n",
      "/Users/kushida/Desktop/tmp/jupyter-c-kernel/jupyter_c_kernel/resources/stdio_wrap.h:279:47: warning: token pasting of ',' and __VA_ARGS__ is a GNU extension [-Wgnu-zero-variadic-macro-arguments]\n",
      "/Users/kushida/Desktop/tmp/jupyter-c-kernel/jupyter_c_kernel/resources/stdio_wrap.h:279:47: warning: token pasting of ',' and __VA_ARGS__ is a GNU extension [-Wgnu-zero-variadic-macro-arguments]\n",
      "3 warnings generated.\n"
     ]
    },
    {
     "name": "stdout",
     "output_type": "stream",
     "text": [
      "三つの整数を入力してください。\n",
      "整数1： 5\n",
      "整数2： 6\n",
      "整数3： 9\n",
      "入力した最小値は5です。\n"
     ]
    }
   ],
   "source": [
    "#include<stdio.h>\n",
    "\n",
    "int main(void)\n",
    "{\n",
    "    int n1, n2, n3, min;\n",
    "    \n",
    "    puts(\"三つの整数を入力してください。\");\n",
    "    printf(\"整数1： \"); scanf(\"%d\",&n1);\n",
    "    printf(\"整数2： \"); scanf(\"%d\",&n2);\n",
    "    printf(\"整数3： \"); scanf(\"%d\",&n3);\n",
    "    \n",
    "    min = n1;\n",
    "    if( n2 < min)\n",
    "        min = n2;\n",
    "    if( n3 < min)\n",
    "        min = n3;\n",
    "    \n",
    "    printf(\"入力した最小値は%dです。\\n\", min);\n",
    "    \n",
    "    return 0;\n",
    "}"
   ]
  },
  {
   "cell_type": "markdown",
   "id": "18b3d16b",
   "metadata": {},
   "source": [
    "# 繰り返し処理"
   ]
  },
  {
   "cell_type": "markdown",
   "id": "af8919c6",
   "metadata": {},
   "source": [
    "## \n",
    "九九の五の段を表示するプログラムを作成せよ．"
   ]
  },
  {
   "cell_type": "code",
   "execution_count": 21,
   "id": "aebd06ac",
   "metadata": {},
   "outputs": [
    {
     "name": "stdout",
     "output_type": "stream",
     "text": [
      "5 10 15 20 25 30 35 40 45 \n"
     ]
    }
   ],
   "source": [
    "#include<stdio.h>\n",
    "\n",
    "int main(void)\n",
    "{\n",
    "    int i;\n",
    "\n",
    "    for( i = 1 ; i <= 9 ; i++ )\n",
    "        printf( \"%d \", 5 * i );\n",
    "    printf(\"\\n\");\n",
    "    return 0;\n",
    "}"
   ]
  },
  {
   "cell_type": "markdown",
   "id": "e19cdeda",
   "metadata": {},
   "source": [
    "## \n",
    "6 の階乗を計算し，表示するプログラムを作成せよ．\n",
    "\n",
    "hint: [6 の階乗](https://www.google.com/search?q=6+%E3%81%AE%E9%9A%8E%E4%B9%97&rlz=1C5CHFA_enJP942JP943&oq=6+%E3%81%AE%E9%9A%8E%E4%B9%97&aqs=chrome..69i57j35i39i362l8j0i333...8.246j0j7&sourceid=chrome&ie=UTF-8)"
   ]
  },
  {
   "cell_type": "code",
   "execution_count": 22,
   "id": "a684629d",
   "metadata": {},
   "outputs": [
    {
     "name": "stdout",
     "output_type": "stream",
     "text": [
      "720\n"
     ]
    }
   ],
   "source": [
    "#include<stdio.h>\n",
    "\n",
    "int main(void)\n",
    "{\n",
    "    int x = 1;\n",
    "    int i;\n",
    "\n",
    "    for( i = 2 ; i <= 6 ; i++ )\n",
    "        x *= i;\n",
    "    printf( \"%d\\n\", x );\n",
    "    return 0;\n",
    "}\n"
   ]
  },
  {
   "cell_type": "markdown",
   "id": "c201bb1e",
   "metadata": {},
   "source": [
    "## \n",
    "\n",
    "1 から 10 までの数値の和と積を求め，それぞれを表示するプログラムを作成せよ．\n",
    "\n",
    "実行結果\n",
    "```\n",
    "和 = 55\n",
    "積 = 3628800\n",
    "```"
   ]
  },
  {
   "cell_type": "code",
   "execution_count": 23,
   "id": "cfddbce0",
   "metadata": {},
   "outputs": [
    {
     "name": "stdout",
     "output_type": "stream",
     "text": [
      "和 = 55\n",
      "積 = 3628800\n"
     ]
    }
   ],
   "source": [
    "#include<stdio.h>\n",
    "\n",
    "int main(void)\n",
    "{\n",
    "    int i, sum = 0;\n",
    "    int mul=1;\n",
    "\n",
    "    for( i = 1 ; i <= 10 ; i++ ){\n",
    "        sum += i;\n",
    "        mul *= i;\n",
    "    }\n",
    "\n",
    "    printf( \"和 = %d\\n\", sum );\n",
    "    printf( \"積 = %d\\n\", mul );\n",
    "\n",
    "    return 0;\n",
    "}"
   ]
  },
  {
   "cell_type": "markdown",
   "id": "a256c748",
   "metadata": {},
   "source": [
    "## \n",
    "\n",
    "for 文を使って 0 から 10 の偶数を表示させよ．"
   ]
  },
  {
   "cell_type": "code",
   "execution_count": 24,
   "id": "4f8aeedc",
   "metadata": {},
   "outputs": [
    {
     "name": "stdout",
     "output_type": "stream",
     "text": [
      "0 2 4 6 8 10 \n"
     ]
    }
   ],
   "source": [
    "#include<stdio.h>\n",
    "\n",
    "int main(void)\n",
    "{\n",
    "    int i;\n",
    "    \n",
    "    for(i =0; i<=10; i+=2)\n",
    "        printf(\"%d \",i);\n",
    "\n",
    "    printf(\"\\n\");\n",
    "    return 0;\n",
    "}"
   ]
  },
  {
   "cell_type": "markdown",
   "id": "9b61f399",
   "metadata": {},
   "source": [
    "## \n",
    "\n",
    "for 文を使って 100 から 0 までの数値を，降順に20おきに表示させよ．"
   ]
  },
  {
   "cell_type": "code",
   "execution_count": 25,
   "id": "3c080c87",
   "metadata": {},
   "outputs": [
    {
     "name": "stdout",
     "output_type": "stream",
     "text": [
      "100 80 60 40 20 0 \n"
     ]
    }
   ],
   "source": [
    "#include<stdio.h>\n",
    "\n",
    "int main(void)\n",
    "{\n",
    "    int i;\n",
    "    \n",
    "    for(i =100; i>=0; i-=20)\n",
    "        printf(\"%d \",i);\n",
    "\n",
    "    printf(\"\\n\");\n",
    "    return 0;\n",
    "}\n"
   ]
  },
  {
   "cell_type": "markdown",
   "id": "0b9e81ac",
   "metadata": {},
   "source": [
    "## \n",
    "\n",
    "アスタリスク「*」を，以下のように三角に並べて表示させるプログラムを作成せよ．\n",
    "\n",
    "実行結果\n",
    "\n",
    "```\n",
    "*\n",
    "**\n",
    "***\n",
    "****\n",
    "*****\n",
    "```"
   ]
  },
  {
   "cell_type": "code",
   "execution_count": 26,
   "id": "29ee31d6",
   "metadata": {},
   "outputs": [
    {
     "name": "stdout",
     "output_type": "stream",
     "text": [
      "*\n",
      "**\n",
      "***\n",
      "****\n",
      "*****\n"
     ]
    }
   ],
   "source": [
    "#include <stdio.h>\n",
    "\n",
    "int main(void)\n",
    "{\n",
    "    int x, y;\n",
    "        \n",
    "    for (y=1; y<=5; y++) {\n",
    "        for (x=1; x<=y; x++) {\n",
    "            printf(\"*\");\n",
    "        }\n",
    "        printf(\"\\n\");\n",
    "    }\n",
    "    return 0;\n",
    "}"
   ]
  },
  {
   "cell_type": "markdown",
   "id": "ae60e91a",
   "metadata": {},
   "source": [
    "## \n",
    "\n",
    "forの二重ループを使い，以下のような図形を表示させるプログラムを作成せよ．\n",
    "\n",
    "実行結果\n",
    "\n",
    "```\n",
    "□■■■■\n",
    "■□■■■\n",
    "■■□■■\n",
    "■■■□■\n",
    "■■■■□\n",
    "```"
   ]
  },
  {
   "cell_type": "code",
   "execution_count": 27,
   "id": "d4454f8e",
   "metadata": {},
   "outputs": [
    {
     "name": "stdout",
     "output_type": "stream",
     "text": [
      "□■■■■\n",
      "■□■■■\n",
      "■■□■■\n",
      "■■■□■\n",
      "■■■■□\n"
     ]
    }
   ],
   "source": [
    "#include <stdio.h>\n",
    "\n",
    "int main(void)\n",
    "{\n",
    "    for (int i = 0; i < 5; i++) {\n",
    "        for (int j = 0; j < 5; j++) {\n",
    "            if (i == j)\n",
    "                printf(\"□\");\n",
    "            if (i != j)\n",
    "                printf(\"■\");\n",
    "\n",
    "        }\n",
    "        printf(\"\\n\");\n",
    "    }\n",
    "    return 0;\n",
    "}\n"
   ]
  },
  {
   "cell_type": "markdown",
   "id": "3edfaec9",
   "metadata": {},
   "source": [
    "## \n",
    "forの二重ループを使い，以下のような図形を表示させるプログラムを作成せよ．\n",
    "\n",
    "実行結果\n",
    "\n",
    "```\n",
    "□■□■□\n",
    "■□■□■\n",
    "□■□■□\n",
    "■□■□■\n",
    "□■□■□\n",
    "```"
   ]
  },
  {
   "cell_type": "code",
   "execution_count": 17,
   "id": "e8bba48d",
   "metadata": {},
   "outputs": [
    {
     "name": "stdout",
     "output_type": "stream",
     "text": [
      "□■□■□\n",
      "■□■□■\n",
      "□■□■□\n",
      "■□■□■\n",
      "□■□■□\n"
     ]
    }
   ],
   "source": [
    "#include <stdio.h>\n",
    "\n",
    "int main(void)\n",
    "{\n",
    "    for (int i = 0; i < 5; i++) {\n",
    "        for (int j = 0; j < 5; j++) {\n",
    "            if (i  % 2 ==0){\n",
    "                if (j  % 2 ==0)\n",
    "                    printf(\"□\");\n",
    "                else\n",
    "                    printf(\"■\");\n",
    "            }\n",
    "            else{\n",
    "                if (j  % 2 ==0)\n",
    "                    printf(\"■\");\n",
    "                else\n",
    "                    printf(\"□\");\n",
    "            }\n",
    "            \n",
    "        }\n",
    "        printf(\"\\n\");\n",
    "    }\n",
    "    return 0;\n",
    "}"
   ]
  },
  {
   "cell_type": "markdown",
   "id": "a9b83be5",
   "metadata": {},
   "source": [
    "金利が1年あたり10％かつ複利で増える預金がある．\n",
    "\n",
    "この預金でお金を10倍にするには，最低何年かかるか計算するプログラムを作成せよ．\n",
    "\n",
    "なお，答えは整数で表示すること．\n",
    "\n",
    "hint:\n",
    "\n",
    "```\n",
    "複利: 前年の利子分も含めて利子がつくこと\n",
    "```\n",
    "たとえば, 元金が100万円あり, この100万円を金利2％で1年間預金すると，1年後には102万円となる．再び金利2％で1年間預けると，1年後には104万400円となる．\n",
    "\n",
    "```\n",
    "1,000,000 × 1.02=1,020,000 (1年後の金額)\n",
    "\n",
    "1,020,000 × 1.02=1,040,400 (更に1年後の金額)\n",
    "```\n"
   ]
  },
  {
   "cell_type": "code",
   "execution_count": null,
   "id": "eb270b5b",
   "metadata": {},
   "outputs": [],
   "source": []
  }
 ],
 "metadata": {
  "kernelspec": {
   "display_name": "C",
   "language": "c",
   "name": "c"
  },
  "language_info": {
   "file_extension": ".c",
   "mimetype": "text/x-csrc",
   "name": "text/x-csrc"
  },
  "toc": {
   "base_numbering": 1,
   "nav_menu": {},
   "number_sections": true,
   "sideBar": true,
   "skip_h1_title": false,
   "title_cell": "Table of Contents",
   "title_sidebar": "Contents",
   "toc_cell": false,
   "toc_position": {
    "height": "calc(100% - 180px)",
    "left": "10px",
    "top": "150px",
    "width": "206px"
   },
   "toc_section_display": true,
   "toc_window_display": true
  }
 },
 "nbformat": 4,
 "nbformat_minor": 5
}
