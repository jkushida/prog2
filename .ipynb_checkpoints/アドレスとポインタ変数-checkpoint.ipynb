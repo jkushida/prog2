{
 "cells": [
  {
   "cell_type": "markdown",
   "id": "dc94e367",
   "metadata": {},
   "source": [
    "# メモリ モデル (memory model)\n",
    "\n",
    "- プログラム中の変数や配列などの値は，コンピュータのメインメモリ上に記憶されている．\n",
    "\n",
    "- このメモリには，場所を表す**アドレス**という連続した通し番号がついている．\n",
    "\n",
    "- 変数名とアドレスの組み合わせは，OS（Operating System）により管理されている\n",
    "\n",
    "以下の図は， `int型`の`変数 a` が4バイト分のメモリを割り当てられていることを示す．\n",
    "\n",
    "<img src=\"./fig/アドレス.png\" width=\"200\">"
   ]
  },
  {
   "cell_type": "markdown",
   "id": "df5a19c0",
   "metadata": {},
   "source": [
    "以下のコードは，各型のサイズを確認するためのコードである．\n",
    "\n",
    "`sizeof` はデータサイズ（バイト数）を調べるための演算子である．"
   ]
  },
  {
   "cell_type": "markdown",
   "id": "8bd1ca1f",
   "metadata": {},
   "source": [
    "---\n",
    "sample1.c\n",
    "```c\n",
    "#include <stdio.h>\n",
    " \n",
    "int main()\n",
    "{\n",
    "    int vi;\n",
    "    double vd;\n",
    "    char vc;\n",
    "    printf(\"データの種類によるメモリ領域の大きさの違い\\n\");\n",
    "    printf(\"sizeof(vi)  = %d\\n\", sizeof(vi));\n",
    "    printf(\"sizeof(vd)  = %d\\n\", sizeof(vd));\n",
    "    printf(\"sizeof(vc)  = %d\\n\", sizeof(vc));\n",
    "    \n",
    "    return 0;\n",
    "}\n",
    "```"
   ]
  },
  {
   "cell_type": "markdown",
   "id": "81f19ffa",
   "metadata": {},
   "source": [
    "実行結果\n",
    "```\n",
    "データの種類によるメモリ領域の大きさの違い\n",
    "sizeof(vi)  = 4\n",
    "sizeof(vd)  = 8\n",
    "sizeof(vc)  = 1\n",
    "```    "
   ]
  },
  {
   "cell_type": "markdown",
   "id": "5a546a82",
   "metadata": {},
   "source": [
    "# アドレス"
   ]
  },
  {
   "cell_type": "markdown",
   "id": "64e99a3b",
   "metadata": {},
   "source": [
    "\n",
    "たとえば，C言語プログラム中で `int a; `として整数の変数を１つ定義すると，整数の値１個を格納する場所がメインメモリ上に確保さる．\n",
    "\n",
    "また，`a` という名前を使ってこの場所に値を書き込んだり，参照したりすることができる．"
   ]
  },
  {
   "cell_type": "markdown",
   "id": "7846c49d",
   "metadata": {},
   "source": [
    "変数の宣言を意味する，\n",
    "```c\n",
    "int a = 10;\n",
    "```\n",
    "は，「メモリ上のあるアドレスに，`変数a`という領域を確保し，その領域に 10 を代入する」\n",
    "という処理となる．\n",
    "\n",
    "\n",
    "<img src=\"./fig/アドレス2.png\" width=\"400\">\n",
    "\n",
    "\n",
    "また，`&` は変数が割り当てられているメモリのアドレスを得る演算子であり，**アドレス演算子**と呼ばれる．\n",
    "\n",
    "図のように変数 `a` が 1000番地に割り当てられていたとすると `&a` の値は 1000 となる．\n",
    "\n",
    "\n",
    "| 表現| 意味 |\n",
    "| :---: | :--- | \n",
    "| a | 変数aの値(10)を示す |\n",
    "| &a | 変数aのアドレス(1000)を示す |"
   ]
  },
  {
   "cell_type": "markdown",
   "id": "886d9d18",
   "metadata": {},
   "source": [
    "以下のsample2.cは`%p`で変数のアドレスを表示するが，<span style=\"color: red; \">アドレスの値は実行環境により変化する．</span>\n",
    "\n",
    "---\n",
    "sample2.c\n",
    "```c\n",
    "#include <stdio.h>\n",
    " \n",
    "int main()\n",
    "{\n",
    "    int a = 10;\n",
    "    \n",
    "    printf(\"aの値は %d\\n\",  a);            // 普通に値を表示\n",
    "    printf(\"aのアドレスは %p\\n\", &a);  //  %p はアドレスを16進数8桁で表示する\n",
    "    \n",
    "    return(0);\n",
    "}\n",
    "```\n",
    "---"
   ]
  },
  {
   "cell_type": "markdown",
   "id": "969c6180",
   "metadata": {},
   "source": [
    "実行結果\n",
    "```\n",
    "aの値は 10\n",
    "aのアドレスは 0x30c934568\n",
    "```"
   ]
  },
  {
   "cell_type": "markdown",
   "id": "506c3f47",
   "metadata": {},
   "source": [
    "## 1次元配列とアドレス\n",
    "\n",
    "`char型` の１次元配列の宣言\n",
    "```\n",
    "char str1[4] = \"ABC\";\n",
    "```\n",
    "を実行したとき，`配列str1`の要素はメモリ上には，`str1[0]`~`str1[3]`までの連続した領域が確保される．\n",
    "\n",
    "<img src=\"./fig/アドレス3.png\" width=\"300\">\n"
   ]
  },
  {
   "cell_type": "markdown",
   "id": "8a9a762e",
   "metadata": {},
   "source": [
    "以下のsample3.cは, 1次元配列の各要素の値とアドレスを表示するコードである．\n",
    "\n",
    "---\n",
    "sample3.c\n",
    "```c\n",
    "#include <stdio.h>\n",
    " \n",
    "int main()\n",
    "{\n",
    "    char str1[4] = \"ABC\";    \n",
    "    \n",
    "    // 配列の値\n",
    "    printf(\"str1[0] = %c\\n\",  str1[0]);\n",
    "    printf(\"str1[1] = %c\\n\",  str1[1]);\n",
    "    printf(\"str1[2] = %c\\n\",  str1[2]);\n",
    "    \n",
    "    // 配列のアドレス\n",
    "    printf(\"str1 =  %p\\n\",  &str1);\n",
    "    printf(\"&str1[0] = %p\\n\",  &str1[0]);\n",
    "    printf(\"&str1[1] = %p\\n\",  &str1[1]);\n",
    "    printf(\"&str1[2] =  %p\\n\",  &str1[2]);\n",
    "    \n",
    "    return(0);\n",
    "}\n",
    "```\n",
    "---"
   ]
  },
  {
   "cell_type": "markdown",
   "id": "5f8b3dce",
   "metadata": {},
   "source": [
    "実行結果\n",
    "```\n",
    "str1[0] = A\n",
    "str1[1] = B\n",
    "str1[2] = C\n",
    "str1 =  0x30551d568\n",
    "&str1[0] = 0x30551d568\n",
    "&str1[1] = 0x30551d569\n",
    "&str1[2] =  0x30551d56a\n",
    "```"
   ]
  },
  {
   "cell_type": "markdown",
   "id": "0e905931",
   "metadata": {},
   "source": [
    " よって，1次元配列の値とアドレスは以下のよう説明できる．\n",
    " \n",
    "| 表現|意味  |\n",
    "| :---: | :--- | \n",
    "| 配列名 | 配列の先頭要素のアドレスを示す |\n",
    "| 配列名[添字] | 配列要素の値を示す|\n",
    "| &配列名[添字] | 配列要素のアドレスを示す |\n",
    "\n",
    " "
   ]
  },
  {
   "cell_type": "markdown",
   "id": "9d7580f7",
   "metadata": {},
   "source": [
    "## 2次元配列とアドレス\n",
    "\n",
    "`char型` の2次元配列の宣言\n",
    "\n",
    "```c\n",
    "char str2[3][5] = {\"ABC\", \"DEFG\",\"HI\"};\n",
    "```\n",
    "を実行したとき，`配列str2`の要素はメモリ上には，`str2[0][0]`~`str2[3][4]`までの<span style=\"color: red; \">連続した領域</span>が確保される．\n",
    "\n",
    "<img src=\"./fig/アドレス4.png\" width=\"500\">\n"
   ]
  },
  {
   "cell_type": "markdown",
   "id": "b0723f69",
   "metadata": {},
   "source": [
    "以下のsample4.cは, 2次元配列の各要素の値とアドレスを表示するコードである．\n",
    "\n",
    "---\n",
    "sample4.c\n",
    "```c\n",
    "#include <stdio.h>\n",
    " \n",
    "int main()\n",
    "{\n",
    "    char str2[3][5] = {\"ABC\", \"DEFG\",\"HI\"};\n",
    "\n",
    "    // 配列の値\n",
    "    printf(\"%s\\n\", str2[0]); \n",
    "    printf(\"%s\\n\", str2[1]); \n",
    "    printf(\"%s\\n\", str2[2]); \n",
    "    \n",
    "    // 配列のアドレス\n",
    "    printf(\"&str2 = %p\\n\", &str2); \n",
    "    \n",
    "    printf(\"&str2[0] = %p\\n\", &str2[0]); \n",
    "    printf(\"&str2[1] = %p\\n\", &str2[1]); \n",
    "    printf(\"&str2[2] = %p\\n\", &str2[2]); \n",
    "    \n",
    "    printf(\"&str2[0][0] = %p\\n\", &str2[0][0]); \n",
    "    printf(\"&str2[0][1] = %p\\n\", &str2[0][1]); \n",
    "    printf(\"&str2[0][2] = %p\\n\", &str2[0][2]); \n",
    "    printf(\"&str2[0][3] = %p\\n\", &str2[0][3]); \n",
    "    printf(\"&str2[0][4] = %p\\n\", &str2[0][4]); \n",
    "    \n",
    "    return(0);\n",
    "}\n",
    "```\n",
    "---"
   ]
  },
  {
   "cell_type": "markdown",
   "id": "4c4cb757",
   "metadata": {},
   "source": [
    "実行結果\n",
    "```\n",
    "ABC\n",
    "DEFG\n",
    "HI\n",
    "&str2 = 0x30507f559\n",
    "&str2[0] = 0x30507f559\n",
    "&str2[1] = 0x30507f55e\n",
    "&str2[2] = 0x30507f563\n",
    "&str2[0][0] = 0x30507f559\n",
    "&str2[0][1] = 0x30507f55a\n",
    "&str2[0][2] = 0x30507f55b\n",
    "&str2[0][3] = 0x30507f55c\n",
    "&str2[0][4] = 0x30507f55d\n",
    "```"
   ]
  },
  {
   "cell_type": "markdown",
   "id": "38918e73",
   "metadata": {},
   "source": [
    "[実行の可視化](https://pythontutor.com/visualize.html#code=%23include%20%3Cstdio.h%3E%0A%0Aint%20main%28%29%0A%7B%0A%20%20%20%20char%20str2%5B3%5D%5B5%5D%20%3D%20%7B%22ABC%22,%20%22DEFG%22,%22HI%22%7D%3B%0A%0A%20%20%20%20//%20%E9%85%8D%E5%88%97%E3%81%AE%E3%82%A2%E3%83%89%E3%83%AC%E3%82%B9%0A%20%20%20%20printf%28%22%26str2%20%3D%20%25p%5Cn%22,%20%26str2%29%3B%20%0A%0A%20%20%20%20printf%28%22%26str2%5B0%5D%20%3D%20%25p%5Cn%22,%20%26str2%5B0%5D%29%3B%20%0A%20%20%20%20printf%28%22%26str2%5B1%5D%20%3D%20%25p%5Cn%22,%20%26str2%5B1%5D%29%3B%20%0A%20%20%20%20printf%28%22%26str2%5B2%5D%20%3D%20%25p%5Cn%22,%20%26str2%5B2%5D%29%3B%20%0A%0A%20%20%20%20printf%28%22%26str2%5B0%5D%5B0%5D%20%3D%20%25p%5Cn%22,%20%26str2%5B0%5D%5B0%5D%29%3B%20%0A%20%20%20%20printf%28%22%26str2%5B0%5D%5B1%5D%20%3D%20%25p%5Cn%22,%20%26str2%5B0%5D%5B1%5D%29%3B%20%0A%20%20%20%20printf%28%22%26str2%5B0%5D%5B2%5D%20%3D%20%25p%5Cn%22,%20%26str2%5B0%5D%5B2%5D%29%3B%20%0A%20%20%20%20printf%28%22%26str2%5B0%5D%5B3%5D%20%3D%20%25p%5Cn%22,%20%26str2%5B0%5D%5B3%5D%29%3B%20%0A%20%20%20%20printf%28%22%26str2%5B0%5D%5B4%5D%20%3D%20%25p%5Cn%22,%20%26str2%5B0%5D%5B4%5D%29%3B%20%0A%0A%20%20%20%20return%280%29%3B%0A%7D&cumulative=false&curInstr=0&heapPrimitives=nevernest&mode=display&origin=opt-frontend.js&py=c_gcc9.3.0&rawInputLstJSON=%5B%5D&textReferences=false)"
   ]
  },
  {
   "cell_type": "markdown",
   "id": "a0784426",
   "metadata": {},
   "source": [
    " よって，2次元配列の値とアドレスは以下のよう説明できる．\n",
    "\n",
    "\n",
    "|表現 | 意味  |\n",
    "| :---: | :--- | \n",
    "| 配列名 | 配列の先頭要素のアドレスを示す |\n",
    "| 配列名[行] |行の 先頭要素のアドレスを示す|\n",
    "| 配列名[行] [列]| 配列要素の値を示す |\n",
    "| &配列名[行] [列]| 配列要素のアドレスを示す |"
   ]
  },
  {
   "cell_type": "markdown",
   "id": "f474a5f8",
   "metadata": {},
   "source": [
    "# ポインタ変数\n",
    "\n",
    "- アドレスを記憶する変数をポインタ変数と呼ぶ．\n",
    "- アドレスは整数値であるが，変数の型に応じて割り当てられる領域が異なるので，ポインタも中身の型にあわせて定義する．\n",
    "- ポインタは間接的に変数や配列の値を扱う．  \n",
    "\n",
    "ポインタ変数を宣言するためには，目印として変数名の前に`*`をつける。\n",
    "```c\n",
    "int *p;\n",
    "```\n",
    "ここで，変数名は`p`であり，`＊`は，ポインタ変数の目印である．\n",
    "\n",
    "\n",
    "<img src=\"./fig/ポインタ1.png\" width=\"300\">\n"
   ]
  },
  {
   "cell_type": "markdown",
   "id": "3b439973",
   "metadata": {},
   "source": [
    "## ポインタの宣言と使い方\n",
    "\n",
    "ポインタは下記のように宣言する．\n",
    "\n",
    "```\n",
    "データ型 *ポインタ名;\n",
    "```\n",
    "\n",
    "- アスタリスク`*`は**ポインタ演算子**と呼ばれ，ポインタを宣言するときに使われる．\n",
    "\n",
    "- 宣言型はアドレスを記憶する領域のデータ型にする必要がある．\n"
   ]
  },
  {
   "cell_type": "markdown",
   "id": "1bd31bed",
   "metadata": {},
   "source": [
    "ここでは，以下のsample5.cをもとにポインタの使い方を説明する．\n",
    "\n",
    "ポインタは必ず，宣言，アドレスの設定，参照，の３ステップで用いる．"
   ]
  },
  {
   "cell_type": "markdown",
   "id": "dbe44d8d",
   "metadata": {},
   "source": [
    "---\n",
    "sample5.c    \n",
    "```c\n",
    "#include <stdio.h>\n",
    "\n",
    "int main()\n",
    "{\n",
    "    int a; \n",
    "    int *p;     // 宣言\n",
    "    \n",
    "    printf(\"aのアドレス = %p\\n\", &a); \n",
    "    printf(\"pのアドレス = %p\\n\", &p); \n",
    "    \n",
    "    p = &a;         // アドレスの設定\n",
    "    *p = 123;     // 参照\n",
    "        \n",
    "    printf(\"*p = %d\\n\", *p);   // 参照\n",
    "    \n",
    "    printf(\"pの指しているアドレス = %p\\n\", p); \n",
    "\n",
    "    return 0;\n",
    "}\n",
    "```"
   ]
  },
  {
   "cell_type": "markdown",
   "id": "b2b53db5",
   "metadata": {},
   "source": [
    "実行結果\n",
    "```\n",
    "aのアドレス = 0x308cba568\n",
    "pのアドレス = 0x308cba560\n",
    "*p = 123\n",
    "pの指しているアドレス = 0x308cba568\n",
    "```"
   ]
  },
  {
   "cell_type": "markdown",
   "id": "3555eb3a",
   "metadata": {},
   "source": [
    "[実行の可視化](https://pythontutor.com/visualize.html#code=%23include%20%3Cstdio.h%3E%0A%0Aint%20main%28%29%0A%7B%0A%20%20int%20a%3B%20%0A%20%20int%20*p%3B%20%20%20%20%20//%20%E5%AE%A3%E8%A8%80%0A%0A%20%20printf%28%22a%E3%81%AE%E3%82%A2%E3%83%89%E3%83%AC%E3%82%B9%20%3D%20%25p%5Cn%22,%20%26a%29%3B%20%0A%20%20printf%28%22p%E3%81%AE%E3%82%A2%E3%83%89%E3%83%AC%E3%82%B9%20%3D%20%25p%5Cn%22,%20%26p%29%3B%20%0A%0A%20%20p%20%3D%20%26a%3B%20%20%20%20%20%20%20%20%20//%20%E3%82%A2%E3%83%89%E3%83%AC%E3%82%B9%E3%81%AE%E8%A8%AD%E5%AE%9A%0A%20%20*p%20%3D%20123%3B%20%20%20%20%20%20%20//%20%E5%8F%82%E7%85%A7%0A%0A%20%20printf%28%22*p%20%3D%20%25d%5Cn%22,%20*p%29%3B%20%20%20//%20%E5%8F%82%E7%85%A7%0A%0A%20%20printf%28%22p%E3%81%AE%E6%8C%87%E3%81%97%E3%81%A6%E3%81%84%E3%82%8B%E3%82%A2%E3%83%89%E3%83%AC%E3%82%B9%20%3D%20%25p%5Cn%22,%20p%29%3B%20%0A%0A%20%20return%200%3B%0A%7D&cumulative=false&curInstr=0&heapPrimitives=nevernest&mode=display&origin=opt-frontend.js&py=c_gcc9.3.0&rawInputLstJSON=%5B%5D&textReferences=false)"
   ]
  },
  {
   "cell_type": "markdown",
   "id": "d1710048",
   "metadata": {},
   "source": [
    "■ **ポインタの宣言**\n",
    "\n",
    "この行は，\n",
    "\n",
    "```c\n",
    "int *p;\n",
    "```\n",
    "\n",
    "`int型`の領域のアドレスを記憶する，`p`という名前のポインタの宣言となる．\n",
    "\n",
    "<img src=\"./fig/ポインタ2.png\" width=\"500\">\n",
    "\n",
    "\n",
    "\n",
    "■ **アドレスの設定**\n",
    "\n",
    "\n",
    "宣言したポインタに，変数のアドレスを代入する．\n",
    "```c\n",
    "p = &a;\n",
    "```\n",
    "ここで， `&a`は変数`a`のアドレスである．\n",
    "\n",
    "<img src=\"./fig/ポインタ3.png\" width=\"530\">\n",
    "\n",
    "なお，ポインタの宣言時に初期化して，下記のように宣言とアドレスの設定をまとめることもできる．\n",
    "```\n",
    "データ型 *ポインタ名 = 変数のアドレス; \n",
    "```\n",
    "\n",
    "つまり，上記の例は，\n",
    "```c\n",
    "int *p = &a;\n",
    "```\n",
    "と書くことができる．\n",
    "\n",
    "■ **参照**\n",
    "\n",
    "参照は，\n",
    "```c\n",
    "*ポインタ名\n",
    "```\n",
    "で行う．\n",
    "\n",
    "\n",
    "- この`*`は，間接参照演算子と呼ばれ，<span style=\"color: red; \">「ポインタの指すアドレスの中身」</span>を表す．\n",
    "\n",
    "- `*`は宣言と参照では意味が異なる．\n",
    "\n",
    "```c\n",
    "*p = 123;\n",
    "```\n",
    "で，`ポインタp`の指すアドレスの中身，つまり`1000番地`に123を代入する．\n",
    "\n",
    "\n",
    "次に，\n",
    "```c\n",
    "printf(\"%d\\n\", *p);\n",
    "```\n",
    "で，`ポインタp`の指すアドレス中身である`1000番地`の値(123)を表示する．\n",
    "\n",
    "<img src=\"./fig/ポインタ4.png\" width=\"600\">\n",
    "\n"
   ]
  },
  {
   "cell_type": "markdown",
   "id": "a7c0ca92",
   "metadata": {},
   "source": [
    "## ポインタと文字列\n",
    "\n",
    "以下のsample6.cは，1つの文字列をポインタで表すコードである．\n",
    "\n",
    "まずメモリ上のどこかに`文字列 \"ABC\"` がとられ，その先頭アドレスが`ポインタp`に設定(代入)される．"
   ]
  },
  {
   "cell_type": "markdown",
   "id": "432314e0",
   "metadata": {},
   "source": [
    "---\n",
    "sample6.c\n",
    "```c\n",
    "#include <stdio.h>\n",
    "\n",
    "int main(void){\n",
    "    char *p;                        // ポインタの宣言\n",
    "    char tmp[] = \"ABC\";  //文字列の宣言\n",
    "    p = tmp;                      // pにtmpのアドレスを設定 (p=&tmp[0]; と書いても同様)\n",
    "    \n",
    "    puts(p);                      // 文字列を出力する関数\n",
    "\n",
    "    return 0;\n",
    "}\n",
    "```\n",
    "---"
   ]
  },
  {
   "cell_type": "markdown",
   "id": "225c0f55",
   "metadata": {},
   "source": [
    "また，以下sample7.cの\n",
    "```c\n",
    "    p = \"ABC\";\n",
    "```\n",
    "も，`文字列\"ABC\"`のアドレスを`ポインタp`に代入することになる．\n"
   ]
  },
  {
   "cell_type": "markdown",
   "id": "10675e60",
   "metadata": {},
   "source": [
    "---\n",
    "sample7.c\n",
    "```c\n",
    "#include <stdio.h>\n",
    "\n",
    "int main(void){\n",
    "    char *p;\n",
    "    p = \"ABC\";   \n",
    "    \n",
    "    // この書き方も可能 (宣言とアドレスの設定)\n",
    "    // char *p =  \"ABC\";\n",
    "    \n",
    "    puts(p); // 文字列を出力する関数\n",
    "\n",
    "    return 0;\n",
    "}\n",
    "```\n",
    "---"
   ]
  },
  {
   "cell_type": "markdown",
   "id": "3192fe97",
   "metadata": {},
   "source": [
    "実行結果\n",
    "```\n",
    "ABC\n",
    "```"
   ]
  },
  {
   "cell_type": "markdown",
   "id": "b5cfc265",
   "metadata": {},
   "source": [
    "[実行の可視化](https://pythontutor.com/visualize.html#code=%23include%20%3Cstdio.h%3E%0A%0Aint%20main%28void%29%7B%0A%20%20char%20*p%3B%20%20//%20%E3%83%9D%E3%82%A4%E3%83%B3%E3%82%BF%E3%81%AE%E5%AE%A3%E8%A8%80%0A%20%20char%20tmp%5B%5D%20%3D%20%22ABC%22%3B%20%20//%E6%96%87%E5%AD%97%E5%88%97%E3%81%AE%E5%AE%A3%E8%A8%80%0A%20%20p%20%3D%20tmp%3B%20%20//%20p%E3%81%ABtmp%E3%81%AE%E3%82%A2%E3%83%89%E3%83%AC%E3%82%B9%E3%82%92%E8%A8%AD%E5%AE%9A%20%28p%3D%26tmp%5B0%5D%3B%20%E3%81%A8%E6%9B%B8%E3%81%84%E3%81%A6%E3%82%82%E5%90%8C%E6%A7%98%29%0A%20%20%20%20%0A%20%20puts%28p%29%3B%20//%20%E6%96%87%E5%AD%97%E5%88%97%E3%82%92%E5%87%BA%E5%8A%9B%E3%81%99%E3%82%8B%E9%96%A2%E6%95%B0%0A%0A%20%20return%200%3B%0A%7D&cumulative=false&curInstr=0&heapPrimitives=nevernest&mode=display&origin=opt-frontend.js&py=c_gcc9.3.0&rawInputLstJSON=%5B%5D&textReferences=false)"
   ]
  },
  {
   "cell_type": "markdown",
   "id": "c3b55ccc",
   "metadata": {},
   "source": [
    "## 配列とポインタの関係"
   ]
  },
  {
   "cell_type": "markdown",
   "id": "ddbe7efc",
   "metadata": {},
   "source": [
    "---\n",
    "sample8.c\n",
    "```c\n",
    "#include <stdio.h>\n",
    "\n",
    "int main(void){\n",
    "    int i, *p, a[4] = {2, 4, 6, 8};\n",
    "    \n",
    "    // 配列の先頭アドレスをポインタに代入\n",
    "    p = a;\n",
    "    for(i=0; i<4; i++)\n",
    "      printf(\"a[%d] = %d \\t address = %p\\n\", i, a[i], &a[i]);\n",
    "    \n",
    "    printf(\"\\n\");\n",
    "    \n",
    "    for(i=0; i<4; i++)\n",
    "      printf(\"a[%d] = %d \\t address = %p\\n\", i , *(p+i), p+i);\n",
    "    \n",
    "    printf(\"\\n\");\n",
    "\n",
    "    return 0;\n",
    "}\n",
    "```\n",
    "---"
   ]
  },
  {
   "cell_type": "markdown",
   "id": "adb52253",
   "metadata": {},
   "source": [
    "実行結果\n",
    "```\n",
    "a[0] = 2 \t address = 0x3056a2550\n",
    "a[1] = 4 \t address = 0x3056a2554\n",
    "a[2] = 6 \t address = 0x3056a2558\n",
    "a[3] = 8 \t address = 0x3056a255c\n",
    "\n",
    "a[0] = 2 \t address = 0x3056a2550\n",
    "a[1] = 4 \t address = 0x3056a2554\n",
    "a[2] = 6 \t address = 0x3056a2558\n",
    "a[3] = 8 \t address = 0x3056a255c\n",
    "```"
   ]
  },
  {
   "cell_type": "markdown",
   "id": "3f4d7aaf",
   "metadata": {},
   "source": [
    "[実行の可視化](https://pythontutor.com/visualize.html#code=%23include%20%3Cstdio.h%3E%0A%0Aint%20main%28void%29%7B%0A%20%20int%20i,%20*p1,%20a%5B4%5D%20%3D%20%7B2,4,6,8%7D%3B%0A%20%20char%20*p2,b%5B%20%5D%20%3D%20%22abc%22%3B%0A%20%20%20%20%0A%20%20//%20%E9%85%8D%E5%88%97%E3%81%AE%E5%85%88%E9%A0%AD%E3%82%A2%E3%83%89%E3%83%AC%E3%82%B9%E3%82%92%E3%83%9D%E3%82%A4%E3%83%B3%E3%82%BF%E3%81%AB%E4%BB%A3%E5%85%A5%0A%20%20p1%20%3D%20a%3B%0A%20%20p2%20%3D%20b%3B%0A%20%20for%28i%3D0%3Bi%3C4%3Bi%2B%2B%29%0A%20%20%20%20printf%28%22a%5B%25d%5D%20%3D%20%25d%20address%20%3D%20%25p%5Cn%22,i,a%5Bi%5D,%20%26a%5Bi%5D%29%3B%0A%0A%20%20printf%28%22%5Cn%22%29%3B%0A%20%20%0A%20%20for%28i%3D0%3Bi%3C3%3Bi%2B%2B%29%0A%20%20%20%20printf%28%22b%5B%25d%5D%20%3D%20%25c%20address%20%3D%20%25p%5Cn%22,i,b%5Bi%5D,%20%26b%5Bi%5D%29%3B%0A%0A%20%20return%200%3B%0A%7D&cumulative=false&curInstr=0&heapPrimitives=nevernest&mode=display&origin=opt-frontend.js&py=c_gcc9.3.0&rawInputLstJSON=%5B%5D&textReferences=false)"
   ]
  },
  {
   "cell_type": "markdown",
   "id": "2c079522",
   "metadata": {},
   "source": [
    "以下のように，配列の先頭のアドレスがポインタ`p1`に代入されると\n",
    "```c\n",
    "p1 = a;\n",
    "```\n",
    "配列の要素は，ポインタ変数を使って次のように表される．\n",
    "\n",
    "- `a[0]`と`*p`は同じものを表す\n",
    "- `a[1]`と`*(p + 1)`は同じものを表す\n",
    "- `a[2]`と`*(p + 2)　`は同じものを表す\n",
    "-  　　　　　　　　　　︙\n",
    "- `a[n]`と`*(p + n)`は同じものを表す\n",
    "\n",
    "\n",
    "`p+1`などの計算は，指しているのが`int型`のデータなので，自動的に`　p + 1 * int型`のサイズの計算がなされる．\n",
    "\n",
    "<img src=\"./fig/int型.png\" width=\"450\">\n",
    "\n",
    "\n",
    "よって，\n",
    "- ポインタ変数に+1すると，ポインタ変数の値は「ポインタに格納されているアドレス + 変数の型サイズ」となる．\n",
    "- ポインタ変数に-1すると，ポインタ変数の値は「ポインタに格納されているアドレス - 変数の型サイズ」となる．"
   ]
  },
  {
   "cell_type": "markdown",
   "id": "9e5be1cb",
   "metadata": {},
   "source": [
    "また，以下の行のように\n",
    "```c\n",
    "      printf(\"a[%d] = %d  \\t address = %p\\n\",i , p1[i], &p1[i]);\n",
    "```\n",
    "**ポインタ変数を配列のように使用することもできる．**"
   ]
  },
  {
   "cell_type": "markdown",
   "id": "c1d30806",
   "metadata": {},
   "source": [
    "以下のsample9.cでは，ポインタ変数を配列のように使用して配列の要素を出力している．\n",
    "\n",
    "---\n",
    "sample9.c\n",
    "```c\n",
    "#include <stdio.h>\n",
    "\n",
    "int main(void){\n",
    "    int i, *p1, a[4] = {2, 4, 6, 8};\n",
    "    char *p2, b[ ] = \"abc\";\n",
    "    \n",
    "    // 配列の先頭アドレスをポインタに代入\n",
    "    p1 = a;\n",
    "    p2 = b;\n",
    "    \n",
    "    printf(\"int型  (2 or 4 byte)\\n\"); \n",
    "    for(i=0; i<4; i++)\n",
    "      printf(\"a[%d] = %d  \\t address = %p\\n\",i , a[i], &a[i]);\n",
    "    printf(\"\\n\");\n",
    "    \n",
    "    // ポインタ変数を配列のように使用\n",
    "    for(i=0; i<4; i++)\n",
    "      printf(\"a[%d] = %d  \\t address = %p\\n\",i , p1[i], &p1[i]);\n",
    "    printf(\"\\n\");\n",
    "    \n",
    "    printf(\"\\n\");\n",
    "    \n",
    "    printf(\"char型  (1 byte)\\n\"); \n",
    "    for(i=0; i<3; i++)\n",
    "      printf(\"b[%d] = %d  \\t  address = %p\\n\",i , b[i], &b[i]);\n",
    "    printf(\"\\n\");\n",
    "    \n",
    "    \n",
    "    // ポインタ変数を配列のように使用する例\n",
    "    for(i=0; i<3; i++)\n",
    "      printf(\"b[%d] = %d  \\t  address = %p\\n\",i , p2[i], &p2[i]);\n",
    "    printf(\"\\n\");\n",
    "\n",
    "    return 0;\n",
    "}\n",
    "```\n",
    "---"
   ]
  },
  {
   "cell_type": "markdown",
   "id": "d043b11d",
   "metadata": {},
   "source": [
    "実行結果\n",
    "```\n",
    "int型  (2 or 4 byte)\n",
    "a[0] = 2  \t address = 0x305023550\n",
    "a[1] = 4  \t address = 0x305023554\n",
    "a[2] = 6  \t address = 0x305023558\n",
    "a[3] = 8  \t address = 0x30502355c\n",
    "\n",
    "a[0] = 2  \t address = 0x305023550\n",
    "a[1] = 4  \t address = 0x305023554\n",
    "a[2] = 6  \t address = 0x305023558\n",
    "a[3] = 8  \t address = 0x30502355c\n",
    "\n",
    "\n",
    "char型  (1 byte)\n",
    "b[0] = 97  \t  address = 0x305023534\n",
    "b[1] = 98  \t  address = 0x305023535\n",
    "b[2] = 99  \t  address = 0x305023536\n",
    "\n",
    "b[0] = 97  \t  address = 0x305023534\n",
    "b[1] = 98  \t  address = 0x305023535\n",
    "b[2] = 99  \t  address = 0x305023536\n",
    "```"
   ]
  },
  {
   "cell_type": "markdown",
   "id": "562f96e9",
   "metadata": {},
   "source": [
    "## ポインタによる配列のアクセス\n"
   ]
  },
  {
   "cell_type": "markdown",
   "id": "ce48cda7",
   "metadata": {},
   "source": [
    "---\n",
    "sample10.c    \n",
    "```c\n",
    "#include <stdio.h>\n",
    "\n",
    "int main(void){\n",
    "    char st[]= \"Summer\";\n",
    "    char *p1, *p2;                             // ポインタp1,p2の宣言\n",
    "    \n",
    "    p1= st;                                         // p1にstのアドレスを設定 (p1=&st[0]; と書いても同様)\n",
    "    printf(\"%c\", *p1);                      // p1によるstの表示 （ポインタの値を変えずに参照）\n",
    "    printf(\"%c\", *(p1+1));              \n",
    "    printf(\"%c\\n\", *(p1+2));\n",
    "\n",
    "    p2= st;                                        // p2にstのアドレスを設定 (p2=&st[0]; と書いても同様)\n",
    "    printf(\"%c\", *p2);                    // p2によるstの表示 (ポインタの値を更新して参照)\n",
    "    p2++;\n",
    "    printf(\"%c\", *p2);\n",
    "    p2++;\n",
    "    printf(\"%c\\n\", *p2);   \n",
    "    \n",
    "return 0;\n",
    "}\n",
    "```\n",
    "---"
   ]
  },
  {
   "cell_type": "markdown",
   "id": "a0ac78e3",
   "metadata": {},
   "source": [
    "実行結果\n",
    "```\n",
    "Sum\n",
    "Sum\n",
    "```"
   ]
  },
  {
   "cell_type": "markdown",
   "id": "f8128bc2",
   "metadata": {},
   "source": [
    "[実行の可視化](https://pythontutor.com/visualize.html#code=%23include%20%3Cstdio.h%3E%0A%0Aint%20main%28void%29%7B%0A%20%20%20%20char%20st%5B%5D%3D%20%22Summer%22%3B%0A%20%20%20%20char%20*p1,%20*p2%3B%20%20%20%20%20%20%20%20//%20%E3%83%9D%E3%82%A4%E3%83%B3%E3%82%BFp1,p2%E3%81%AE%E5%AE%A3%E8%A8%80%0A%0A%20%20%20%20p1%3D%20st%3B%20%20%20%20%20%20%20%20%20%20%20%20%20%20%20//%20p1%E3%81%ABst%E3%81%AE%E3%82%A2%E3%83%89%E3%83%AC%E3%82%B9%E3%82%92%E8%A8%AD%E5%AE%9A%20%28p1%3D%26st%5B0%5D%3B%20%E3%81%A8%E6%9B%B8%E3%81%84%E3%81%A6%E3%82%82%E5%90%8C%E6%A7%98%29%0A%20%20%20%20printf%28%22%25c%22,%20*p1%29%3B%20%20%20%20//%20p1%E3%81%AB%E3%82%88%E3%82%8Bst%E3%81%AE%E8%A1%A8%E7%A4%BA%20%EF%BC%88%E3%83%9D%E3%82%A4%E3%83%B3%E3%82%BF%E3%81%AE%E5%80%A4%E3%82%92%E5%A4%89%E3%81%88%E3%81%9A%E3%81%AB%E5%8F%82%E7%85%A7%EF%BC%89%0A%20%20%20%20printf%28%22%25c%22,%20*%28p1%2B1%29%29%3B%20%20%20%20%20%20%20%20%20%20%20%20%20%20%0A%20%20%20%20printf%28%22%25c%5Cn%22,%20*%28p1%2B2%29%29%3B%0A%0A%20%20%20%20p2%3D%20st%3B%20%20%20%20%20%20%20%20%20%20%20%20%20%20%20//%20p2%E3%81%ABst%E3%81%AE%E3%82%A2%E3%83%89%E3%83%AC%E3%82%B9%E3%82%92%E8%A8%AD%E5%AE%9A%20%28p2%3D%26st%5B0%5D%3B%20%E3%81%A8%E6%9B%B8%E3%81%84%E3%81%A6%E3%82%82%E5%90%8C%E6%A7%98%29%0A%20%20%20%20printf%28%22%25c%22,%20*p2%29%3B%20%20%20%20//%20p2%E3%81%AB%E3%82%88%E3%82%8Bst%E3%81%AE%E8%A1%A8%E7%A4%BA%20%28%E3%83%9D%E3%82%A4%E3%83%B3%E3%82%BF%E3%81%AE%E5%80%A4%E3%82%92%E6%9B%B4%E6%96%B0%E3%81%97%E3%81%A6%E5%8F%82%E7%85%A7%29%0A%20%20%20%20p2%2B%2B%3B%0A%20%20%20%20printf%28%22%25c%22,%20*p2%29%3B%0A%20%20%20%20p2%2B%2B%3B%0A%20%20%20%20printf%28%22%25c%5Cn%22,%20*p2%29%3B%20%20%20%0A%0Areturn%200%3B%0A%7D&cumulative=false&curInstr=0&heapPrimitives=nevernest&mode=display&origin=opt-frontend.js&py=c&rawInputLstJSON=%5B%5D&textReferences=false)"
   ]
  },
  {
   "cell_type": "markdown",
   "id": "26f2f4b3",
   "metadata": {},
   "source": [
    "■ポインタの値を変えずに参照\n",
    "\n",
    "<img style=\"float: left;\" src=\"./fig/array_pointer2.png\" width=\"560\">"
   ]
  },
  {
   "cell_type": "markdown",
   "id": "48ae51c4",
   "metadata": {},
   "source": [
    "■ポインタの値を更新して参照\n",
    "\n",
    "<img style=\"float: left;\" src=\"./fig/array_pointer.png\" width=\"660\">"
   ]
  },
  {
   "cell_type": "markdown",
   "id": "ffa0830f",
   "metadata": {},
   "source": [
    "## ポインタの配列\n",
    "\n",
    "ポインタも一種の変数のため，配列として定義することもできる．\n",
    "\n",
    "以下のsample11.cでは，複数の文字列をポインタの配列で表している．\n"
   ]
  },
  {
   "cell_type": "markdown",
   "id": "dbc48ce5",
   "metadata": {},
   "source": [
    "---\n",
    "sample11.c   \n",
    "```c\n",
    "#include <stdio.h>\n",
    "int main()\n",
    "{ \n",
    "    char str[3][5] = {\"ABC\", \"DEFG\",\"HI\"};\n",
    "    // ポインタpの配列\n",
    "    char *p[3] =  {\"abc\", \"defg\",\"hi\"};\n",
    "    int i;\n",
    "    \n",
    "    for (i =0; i<3; i++)\n",
    "        puts(str[i]);\n",
    "    \n",
    "    // strの各行の先頭アドレス\n",
    "    printf(\"&str[0] = %p\\n\", &str[0]);\n",
    "    printf(\"&str[1] = %p\\n\", &str[1]);\n",
    "    printf(\"&str[2] = %p\\n\", &str[2]);\n",
    "\n",
    "    for (i =0; i<3; i++)\n",
    "        puts(p[i]); \n",
    "    \n",
    "    // ポインタ配列pの中身(アドレス)\n",
    "    printf(\"p[0] = %p\\n\", p[0]);\n",
    "    printf(\"p[1] = %p\\n\", p[1]);\n",
    "    printf(\"p[2] = %p\\n\", p[2]);\n",
    "        \n",
    "    return (0);\n",
    "}\n",
    "```\n",
    "---"
   ]
  },
  {
   "cell_type": "markdown",
   "id": "c1fc1a0e",
   "metadata": {},
   "source": [
    "実行結果\n",
    "```\n",
    "ABC\n",
    "DEFG\n",
    "HI\n",
    "&str[0] = 0x30c795559\n",
    "&str[1] = 0x30c79555e\n",
    "&str[2] = 0x30c795563\n",
    "abc\n",
    "defg\n",
    "hi\n",
    "p[0] = 0x10c5c1f40\n",
    "p[1] = 0x10c5c1f44\n",
    "p[2] = 0x10c5c1f49\n",
    "```"
   ]
  },
  {
   "cell_type": "markdown",
   "id": "78c87861",
   "metadata": {},
   "source": [
    "[実行の可視化](http://www.pythontutor.com/visualize.html#code=%23include%20%3Cstdio.h%3E%0Aint%20main%28%29%0A%7B%20%0A%20%20%20%20char%20str%5B3%5D%5B5%5D%20%3D%20%7B%22ABC%22,%20%22DEFG%22,%22HI%22%7D%3B%0A%20%20%20%20//%20%E3%83%9D%E3%82%A4%E3%83%B3%E3%82%BFp%E3%81%AE%E9%85%8D%E5%88%97%0A%20%20%20%20char%20*p%5B3%5D%20%3D%20%20%7B%22abc%22,%20%22defg%22,%22hi%22%7D%3B%0A%20%20%20%20int%20i%3B%0A%20%20%20%20%0A%20%20%20%20for%20%28i%20%3D0%3B%20i%3C3%3B%20i%2B%2B%29%0A%20%20%20%20%20%20%20%20puts%28str%5Bi%5D%29%3B%0A%20%20%20%20%0A%20%20%20%20//%20str%E3%81%AE%E5%90%84%E8%A1%8C%E3%81%AE%E5%85%88%E9%A0%AD%E3%82%A2%E3%83%89%E3%83%AC%E3%82%B9%0A%20%20%20%20printf%28%22%26str%5B0%5D%20%3D%20%25p%5Cn%22,%20%26str%5B0%5D%29%3B%0A%20%20%20%20printf%28%22%26str%5B1%5D%20%3D%20%25p%5Cn%22,%20%26str%5B1%5D%29%3B%0A%20%20%20%20printf%28%22%26str%5B2%5D%20%3D%20%25p%5Cn%22,%20%26str%5B2%5D%29%3B%0A%0A%20%20%20%20for%20%28i%20%3D0%3B%20i%3C3%3B%20i%2B%2B%29%0A%20%20%20%20%20%20%20%20puts%28p%5Bi%5D%29%3B%0A%20%20%20%20%0A%20%20%20%20//%20%E3%83%9D%E3%82%A4%E3%83%B3%E3%82%BF%E9%85%8D%E5%88%97p%E3%81%AE%E4%B8%AD%E8%BA%AB%28%E3%82%A2%E3%83%89%E3%83%AC%E3%82%B9%29%0A%20%20%20%20printf%28%22p%5B0%5D%20%3D%20%25p%5Cn%22,%20p%5B0%5D%29%3B%0A%20%20%20%20printf%28%22p%5B1%5D%20%3D%20%25p%5Cn%22,%20p%5B1%5D%29%3B%0A%20%20%20%20printf%28%22p%5B2%5D%20%3D%20%25p%5Cn%22,%20p%5B2%5D%29%3B%0A%20%20%20%20%20%20%20%20%0A%20%20%20%20return%20%280%29%3B%0A%7D&cumulative=false&curInstr=0&heapPrimitives=nevernest&mode=display&origin=opt-frontend.js&py=c_gcc9.3.0&rawInputLstJSON=%5B%5D&textReferences=false)"
   ]
  },
  {
   "cell_type": "markdown",
   "id": "d2ec6030",
   "metadata": {},
   "source": [
    "■ 文字列の格納\n",
    "\n",
    "```c\n",
    "char str[3][5] = {\"ABC\", \"DEFG\",\"HI\"};\n",
    "```\n",
    "は，２次元配列で複数の文字列を扱い，メモリ上では文字列を格納している．\n",
    "\n",
    "また，\n",
    "```c\n",
    "char *p[3] =  {\"abc\", \"defg\",\"hi\"};\n",
    "```\n",
    "は，ポインタを使って複数の文字列を扱い，`p`は文字列を指している．\n",
    "\n",
    "つまり，`p[0]`,`p[1]`,`p[2]`には，それぞれ文字列の先頭アドレスが代入されている．\n",
    "\n",
    "<img style=\"float: left;\" src=\"./fig/pointer_array.png\" width=\"370\">"
   ]
  },
  {
   "cell_type": "markdown",
   "id": "1bfe8bc1",
   "metadata": {},
   "source": [
    "■ 文字列の表示\n",
    "\n",
    "putsは文字列を出力する関数であり，引数には出力する文字列を指定する．\n",
    "\n",
    "`配列名[行]`で，行の先頭のアドレスを示す．\n",
    "\n",
    "```c\n",
    "    for (i =0; i<3; i++)\n",
    "        puts(str[i]);　　　// 配列\n",
    "```\n",
    "\n",
    "ポインタ配列`p`の各要素には文字列のアドレスが格納されている．\n",
    "```c\n",
    "    for (i =0; i<3; i++)\n",
    "        puts(p[i]);  // ポインタ\n",
    "```    "
   ]
  },
  {
   "cell_type": "markdown",
   "id": "76ddf35c",
   "metadata": {},
   "source": [
    "以下のsample12.cは，int型の２次元配列にポインタ配列を使ってアクセスするコードである．\n",
    "\n",
    "---\n",
    "sample12.c\n",
    "```c\n",
    "#include <stdio.h>\n",
    "int main()\n",
    "{ \n",
    "    int i, j, a[3][4] = {{0, 1, 2, 3},{5, 6, 7, 8},{10, 11, 12, 13}};\n",
    "    // ポインタpの配列\n",
    "    int *p[3];\n",
    "    // アドレスを設定\n",
    "    for (i =0; i<3; i++)\n",
    "        p[i] = a[i];\n",
    "\n",
    "    printf(\"直接参照\\n\");\n",
    "    for (i =0; i<3; i++){\n",
    "        for (j =0; j<4; j++)\n",
    "            printf(\"%d \", a[i][j]);\n",
    "        printf(\"\\n\");\n",
    "    }\n",
    "    printf(\"\\n\");\n",
    "\n",
    "    printf(\"ポインタを使った間接参照\\n\");\n",
    "    for (i =0; i<3; i++){\n",
    "        for (j =0; j<4; j++)\n",
    "            printf(\"%d \", p[i][j]);\n",
    "        printf(\"\\n\");\n",
    "    }\n",
    "    \n",
    "    return (0);\n",
    "}\n",
    "```\n",
    "---"
   ]
  },
  {
   "cell_type": "markdown",
   "id": "ba733e6a",
   "metadata": {},
   "source": [
    "実行結果\n",
    "```\n",
    "直接参照\n",
    "0 1 2 3 \n",
    "5 6 7 8 \n",
    "10 11 12 13 \n",
    "\n",
    "ポインタを使った間接参照\n",
    "0 1 2 3 \n",
    "5 6 7 8 \n",
    "10 11 12 13 \n",
    "```  "
   ]
  },
  {
   "cell_type": "markdown",
   "id": "4a1e63f3",
   "metadata": {},
   "source": [
    "[実行の可視化](https://pythontutor.com/visualize.html#code=%23include%20%3Cstdio.h%3E%0Aint%20main%28%29%0A%7B%20%0A%20%20%20%20int%20i,%20j,%20a%5B3%5D%5B4%5D%20%3D%20%7B%7B0,%201,%202,%203%7D,%7B5,%206,%207,%208%7D,%7B10,%2011,%2012,%2013%7D%7D%3B%0A%20%20%20%20//%20%E3%83%9D%E3%82%A4%E3%83%B3%E3%82%BFp%E3%81%AE%E9%85%8D%E5%88%97%0A%20%20%20%20int%20*p%5B3%5D%3B%0A%20%20%20%20//%20%E3%82%A2%E3%83%89%E3%83%AC%E3%82%B9%E3%82%92%E8%A8%AD%E5%AE%9A%0A%20%20%20%20for%20%28i%20%3D0%3B%20i%3C3%3B%20i%2B%2B%29%0A%20%20%20%20%20%20%20%20p%5Bi%5D%20%3D%20a%5Bi%5D%3B%0A%0A%20%20%20%20printf%28%22%E7%9B%B4%E6%8E%A5%E5%8F%82%E7%85%A7%5Cn%22%29%3B%0A%20%20%20%20for%20%28i%20%3D0%3B%20i%3C3%3B%20i%2B%2B%29%7B%0A%20%20%20%20%20%20%20%20for%20%28j%20%3D0%3B%20j%3C4%3B%20j%2B%2B%29%0A%20%20%20%20%20%20%20%20%20%20%20%20printf%28%22%25d%20%22,%20a%5Bi%5D%5Bj%5D%29%3B%0A%20%20%20%20%20%20%20%20printf%28%22%5Cn%22%29%3B%0A%20%20%20%20%7D%0A%20%20%20%20printf%28%22%5Cn%22%29%3B%0A%0A%20%20%20%20printf%28%22%E3%83%9D%E3%82%A4%E3%83%B3%E3%82%BF%E3%82%92%E4%BD%BF%E3%81%A3%E3%81%9F%E9%96%93%E6%8E%A5%E5%8F%82%E7%85%A7%5Cn%22%29%3B%0A%20%20%20%20for%20%28i%20%3D0%3B%20i%3C3%3B%20i%2B%2B%29%7B%0A%20%20%20%20%20%20%20%20for%20%28j%20%3D0%3B%20j%3C4%3B%20j%2B%2B%29%0A%20%20%20%20%20%20%20%20%20%20%20%20printf%28%22%25d%20%22,%20p%5Bi%5D%5Bj%5D%29%3B%0A%20%20%20%20%20%20%20%20printf%28%22%5Cn%22%29%3B%0A%20%20%20%20%7D%0A%0A%20%20%20%20return%20%280%29%3B%0A%7D&cumulative=false&curInstr=0&heapPrimitives=nevernest&mode=display&origin=opt-frontend.js&py=c&rawInputLstJSON=%5B%5D&textReferences=false)"
   ]
  },
  {
   "cell_type": "markdown",
   "id": "6320a006",
   "metadata": {},
   "source": [
    "以下のsample13.cは，int型の２次元配列にポインタを使ってアクセスするコードである．\n",
    "\n",
    "2次元配列の要素はメモリ上に連続して配置されているので，配列の先頭からポインタを進めていくことで各要素に順次アクセスできる．\n",
    "\n",
    "---\n",
    "sample13.c\n",
    "```c    \n",
    "#include <stdio.h>\n",
    "int main()\n",
    "{\n",
    "    int i, j, a[3][4] = {{0, 1, 2, 3},{5, 6, 7, 8},{10, 11, 12, 13}};\n",
    "    // ポインタpの配列\n",
    "    int *p1[3];\n",
    "    // アドレスを設定\n",
    "    for (i =0; i<3; i++)\n",
    "        p1[i] = a[i];\n",
    "    \n",
    "    // ポインタp2を宣言しアドレスを設定\n",
    "    int *p2 = a[0];\n",
    "\n",
    "    printf(\"ポインタ配列p1を使った間接参照\\n\");\n",
    "    for (i =0; i<3; i++){\n",
    "        for (j =0; j<4; j++)\n",
    "            printf(\"%d \", *(p1[i]++));\n",
    "        printf(\"\\n\");\n",
    "    }\n",
    "\n",
    "    printf(\"ポインタp2を使った間接参照\\n\");\n",
    "    for (i =0; i<3; i++){\n",
    "        for (j =0; j<4; j++)\n",
    "            printf(\"%d \", *(p2++));\n",
    "        printf(\"\\n\");\n",
    "    }\n",
    "\n",
    "    return (0);\n",
    "}\n",
    "```\n",
    "---"
   ]
  },
  {
   "cell_type": "markdown",
   "id": "186900cb",
   "metadata": {},
   "source": [
    "実行結果\n",
    "```\n",
    "直接参照\n",
    "0 1 2 3 \n",
    "5 6 7 8 \n",
    "10 11 12 13 \n",
    "\n",
    "ポインタを使った間接参照\n",
    "0 1 2 3 \n",
    "5 6 7 8 \n",
    "10 11 12 13 \n",
    "```"
   ]
  },
  {
   "cell_type": "markdown",
   "id": "faed0e01",
   "metadata": {},
   "source": [
    "[実行の可視化](https://pythontutor.com/visualize.html#code=%23include%20%3Cstdio.h%3E%0Aint%20main%28%29%0A%7B%0A%20%20%20%20int%20i,%20j,%20a%5B3%5D%5B4%5D%20%3D%20%7B%7B0,%201,%202,%203%7D,%7B5,%206,%207,%208%7D,%7B10,%2011,%2012,%2013%7D%7D%3B%0A%20%20%20%20//%20%E3%83%9D%E3%82%A4%E3%83%B3%E3%82%BFp%E3%81%AE%E9%85%8D%E5%88%97%0A%20%20%20%20int%20*p1%5B3%5D%3B%0A%20%20%20%20//%20%E3%82%A2%E3%83%89%E3%83%AC%E3%82%B9%E3%82%92%E8%A8%AD%E5%AE%9A%0A%20%20%20%20for%20%28i%20%3D0%3B%20i%3C3%3B%20i%2B%2B%29%0A%20%20%20%20%20%20%20%20p1%5Bi%5D%20%3D%20a%5Bi%5D%3B%0A%20%20%20%20%0A%20%20%20%20//%20%E3%83%9D%E3%82%A4%E3%83%B3%E3%82%BFp2%E3%82%92%E5%AE%A3%E8%A8%80%E3%81%97%E3%82%A2%E3%83%89%E3%83%AC%E3%82%B9%E3%82%92%E8%A8%AD%E5%AE%9A%0A%20%20%20%20int%20*p2%20%3D%20a%5B0%5D%3B%0A%0A%20%20%20%20printf%28%22%E3%83%9D%E3%82%A4%E3%83%B3%E3%82%BF%E9%85%8D%E5%88%97p1%E3%82%92%E4%BD%BF%E3%81%A3%E3%81%9F%E9%96%93%E6%8E%A5%E5%8F%82%E7%85%A7%5Cn%22%29%3B%0A%20%20%20%20for%20%28i%20%3D0%3B%20i%3C3%3B%20i%2B%2B%29%7B%0A%20%20%20%20%20%20%20%20for%20%28j%20%3D0%3B%20j%3C4%3B%20j%2B%2B%29%0A%20%20%20%20%20%20%20%20%20%20%20%20printf%28%22%25d%20%22,%20*%28p1%5Bi%5D%2B%2B%29%29%3B%0A%20%20%20%20%20%20%20%20printf%28%22%5Cn%22%29%3B%0A%20%20%20%20%7D%0A%0A%20%20%20%20printf%28%22%E3%83%9D%E3%82%A4%E3%83%B3%E3%82%BFp2%E3%82%92%E4%BD%BF%E3%81%A3%E3%81%9F%E9%96%93%E6%8E%A5%E5%8F%82%E7%85%A7%5Cn%22%29%3B%0A%20%20%20%20for%20%28i%20%3D0%3B%20i%3C3%3B%20i%2B%2B%29%7B%0A%20%20%20%20%20%20%20%20for%20%28j%20%3D0%3B%20j%3C4%3B%20j%2B%2B%29%0A%20%20%20%20%20%20%20%20%20%20%20%20printf%28%22%25d%20%22,%20*%28p2%2B%2B%29%29%3B%0A%20%20%20%20%20%20%20%20printf%28%22%5Cn%22%29%3B%0A%20%20%20%20%7D%0A%0A%20%20%20%20return%20%280%29%3B%0A%7D&cumulative=false&curInstr=0&heapPrimitives=nevernest&mode=display&origin=opt-frontend.js&py=c&rawInputLstJSON=%5B%5D&textReferences=false)"
   ]
  }
 ],
 "metadata": {
  "kernelspec": {
   "display_name": "C",
   "language": "c",
   "name": "c"
  },
  "language_info": {
   "file_extension": ".c",
   "mimetype": "text/x-csrc",
   "name": "text/x-csrc"
  },
  "toc": {
   "base_numbering": 1,
   "nav_menu": {},
   "number_sections": true,
   "sideBar": true,
   "skip_h1_title": false,
   "title_cell": "Table of Contents",
   "title_sidebar": "Contents",
   "toc_cell": false,
   "toc_position": {
    "height": "calc(100% - 180px)",
    "left": "10px",
    "top": "150px",
    "width": "216.391px"
   },
   "toc_section_display": true,
   "toc_window_display": true
  }
 },
 "nbformat": 4,
 "nbformat_minor": 5
}
