{
 "cells": [
  {
   "cell_type": "markdown",
   "id": "f1bbda9b",
   "metadata": {},
   "source": [
    "# ファイル入出力の基本\n",
    "\n",
    "ファイル入出力処理を行うためには次の手順でコーディングを行う．\n",
    "\n",
    "1. ファイルポインタの宣言\n",
    "2. ファイルのオープン\n",
    "3. ファイル入出力\n",
    "4. ファイルのクローズ"
   ]
  },
  {
   "cell_type": "markdown",
   "id": "82de20ce",
   "metadata": {},
   "source": [
    "以下のsample1.cはファイル(test.txt)を読み込み，その内容を出力するコードである．\n",
    "\n",
    "---\n",
    "sample1.c\n",
    "```c    \n",
    "#include <stdio.h>\n",
    "#include <stdlib.h>\n",
    "\n",
    "int main(void)\n",
    "{\n",
    "    FILE *fp;    // 1.ファイルポインタの宣言\n",
    "    int c;\n",
    "    \n",
    "    // 2.ファイルのオープン\n",
    "    //  ここで、ファイルポインタを取得する\n",
    "    if ((fp = fopen(\"test.txt\", \"r\")) == NULL) {\n",
    "        printf(\"file open error!!\\n\");\n",
    "        exit(EXIT_FAILURE);    // エラーの場合は通常、異常終了する\n",
    "    }\n",
    "    \n",
    "    // 3.ファイルの読み込み\n",
    "    while((c = fgetc(fp)) != EOF){\n",
    "        putchar(c);            // 1文字表示\n",
    "    }\n",
    "    \n",
    "    fclose(fp); // 4.ファイルのクローズ\n",
    "    \n",
    "    return 0;\n",
    "}\n",
    "```\n",
    "---"
   ]
  },
  {
   "cell_type": "markdown",
   "id": "d116adb6",
   "metadata": {},
   "source": [
    "実行結果（test.txtの中身）\n",
    "```\n",
    "abcd\n",
    "efg\n",
    "```"
   ]
  },
  {
   "cell_type": "markdown",
   "id": "78d14850",
   "metadata": {},
   "source": [
    "## ファイルポインタの宣言\n",
    "ファイルポインタとはFILE型構造体へのポインタである．\n",
    "```c\n",
    "FILE *fp;    // 1.ファイルポインタの宣言\n",
    "```\n",
    "FILE型構造体は，`stdio.h`ヘッダファイルに宣言されており，\n",
    "- 入出力の現在位置(ファイル位置指示子)\n",
    "- ファイルの終端に達したかの情報(ファイル終了指示子)\n",
    "- エラー情報(エラー指示子)\n",
    "- 関連するバッファへのポインタ\n",
    "\n",
    "などのファイルの入出力を行う上での必要不可欠な情報を管理している．\n",
    "\n"
   ]
  },
  {
   "cell_type": "markdown",
   "id": "a9e4745c",
   "metadata": {},
   "source": [
    "## ファイルのオープン\n",
    "\n",
    "ファイルを開くにはfopen関数を用いる．\n",
    "\n",
    "fopen関数の**第1引数に読み込むファイルのパス名**を入力し，**第2引数に読み込むモード**を入力する．\n",
    "sample1.cでは，\n",
    "```c\n",
    "fp = fopen(\"test.txt\", \"r\"))\n",
    "```\n",
    "としているため， ファイル`test.txt`を`r`(読み込みを示すモード)で開くことになる．\n",
    "\n",
    "このとき，（存在しないファイルに対して読み込みモードでオープンしようとした場合など），オープン操作に失敗しすると，fopenは無効のポインタを返すNULLを返却する．\n",
    "\n",
    "そのため，fopen関数を使う際は下記のコードのように戻り値がNULLかどうかを調べ，NULLだった場合にはエラーに対処する処理（異常終了）を行うようにする．\n",
    "```c\n",
    "if ((fp = fopen(\"test.txt\", \"r\")) == NULL) {\n",
    "    printf(\"file open error!!\\n\");\n",
    "    exit(EXIT_FAILURE);    // エラーの場合は通常、異常終了する\n",
    "}\n",
    "```"
   ]
  },
  {
   "cell_type": "markdown",
   "id": "b6c9edc6",
   "metadata": {},
   "source": [
    "## ファイルへの入出力\n",
    "\n",
    "sample１.cでは，`fgetc`関数によりファイルから読み出しを行っている．\n",
    "```c\n",
    "while((c = fgetc(fp)) != EOF){\n",
    "```\n",
    "`fgetc()` は，ファイルの現在の位置から1文字（1バイト）を読み込み，int型の値として返す．\n",
    "\n",
    "この関数の戻り値は `int =32bit` だが，ファイル読み込んだ数値はそのうちの下位 1 バイトに格納されている．\n",
    "したがって，戻り値を`char型`の変数に代入しても問題はない．\n",
    "\n",
    "sample1.cでは，文字を1文字標準出力に出力する`putchar`関数を使って読み込んだ文字を出力している．\n",
    "\n",
    "\n",
    "エラーの時（またはファイルの最後で読むものがなくなった時）は，EOF (End Of File: -1と定義されている) を返す．\n",
    "\n",
    "\n",
    "C言語には`fgetc`関数以外にも多くのファイルの入出力に関する標準関数が用意されている．"
   ]
  },
  {
   "cell_type": "markdown",
   "id": "56e79bc5",
   "metadata": {},
   "source": [
    "## ファイルのクローズ\n",
    "\n",
    "ファイルの処理が終了したら，必ずfclose関数を用いてファイルをクローズする．"
   ]
  },
  {
   "cell_type": "code",
   "execution_count": null,
   "id": "3378deb2",
   "metadata": {},
   "outputs": [],
   "source": []
  }
 ],
 "metadata": {
  "kernelspec": {
   "display_name": "C",
   "language": "c",
   "name": "c"
  },
  "language_info": {
   "file_extension": ".c",
   "mimetype": "text/x-csrc",
   "name": "text/x-csrc"
  },
  "toc": {
   "base_numbering": 1,
   "nav_menu": {},
   "number_sections": true,
   "sideBar": true,
   "skip_h1_title": false,
   "title_cell": "Table of Contents",
   "title_sidebar": "Contents",
   "toc_cell": false,
   "toc_position": {},
   "toc_section_display": true,
   "toc_window_display": true
  }
 },
 "nbformat": 4,
 "nbformat_minor": 5
}
