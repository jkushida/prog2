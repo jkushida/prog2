{
 "cells": [
  {
   "cell_type": "code",
   "execution_count": 19,
   "id": "810a115f",
   "metadata": {},
   "outputs": [
    {
     "name": "stdout",
     "output_type": "stream",
     "text": [
      "自然数(a, b) = (42, 28)\n",
      "最大公約数 = 14\n"
     ]
    }
   ],
   "source": [
    "#include <stdio.h>\n",
    "\n",
    "int gcd(int m, int n)\n",
    "{\n",
    "    int tmp;\n",
    "    while (n != 0){\n",
    "        tmp = m % n;\n",
    "        m = n;\n",
    "        n = tmp;\n",
    "    }\n",
    "    \n",
    "    return m;\n",
    "}\n",
    "\n",
    "int main(void)\n",
    "{\n",
    "    int a, b, ans;\n",
    "    \n",
    "    // a > b とする\n",
    "    a = 42;\n",
    "    b = 28;\n",
    "    printf(\"自然数(a, b) = (%d, %d)\\n\",a,b);\n",
    "\n",
    "    ans=gcd(a,b);\n",
    "    printf(\"最大公約数 = %d\\n\", ans);\n",
    "\n",
    "    return 0;\n",
    "}"
   ]
  },
  {
   "cell_type": "markdown",
   "id": "7080eed8",
   "metadata": {},
   "source": [
    "[実行の可視化](http://pythontutor.com/visualize.html#code=%23include%20%3Cstdio.h%3E%0A%0Aint%20gcd%28int%20m,%20int%20n%29%0A%7B%0A%20%20%20%20int%20tmp%3B%0A%20%20%20%20while%20%28n%20!%3D%200%29%7B%0A%20%20%20%20%20%20%20%20tmp%20%3D%20m%20%25%20n%3B%0A%20%20%20%20%20%20%20%20m%20%3D%20n%3B%0A%20%20%20%20%20%20%20%20n%20%3D%20tmp%3B%0A%20%20%20%20%7D%0A%20%20%20%20%0A%20%20%20%20return%20m%3B%0A%7D%0A%0Aint%20main%28void%29%0A%7B%0A%20%20%20%20int%20a,%20b,%20ans%3B%0A%20%20%20%20%0A%20%20%20%20//%20a%20%3E%20b%20%E3%81%A8%E3%81%99%E3%82%8B%0A%20%20%20%20a%20%3D%2042%3B%0A%20%20%20%20b%20%3D%2028%3B%0A%20%20%20%20printf%28%22%E8%87%AA%E7%84%B6%E6%95%B0%28a,%20b%29%20%3D%20%28%25d,%20%25d%29%5Cn%22,a,b%29%3B%0A%0A%20%20%20%20ans%3Dgcd%28a,b%29%3B%0A%20%20%20%20printf%28%22%E6%9C%80%E5%A4%A7%E5%85%AC%E7%B4%84%E6%95%B0%20%3D%20%25d%5Cn%22,%20ans%29%3B%0A%0A%20%20%20%20return%200%3B%0A%7D&cumulative=false&curInstr=0&heapPrimitives=nevernest&mode=display&origin=opt-frontend.js&py=c_gcc9.3.0&rawInputLstJSON=%5B%5D&textReferences=false)"
   ]
  },
  {
   "cell_type": "code",
   "execution_count": null,
   "id": "cdf8f3f1",
   "metadata": {},
   "outputs": [],
   "source": []
  }
 ],
 "metadata": {
  "kernelspec": {
   "display_name": "C",
   "language": "c",
   "name": "c"
  },
  "language_info": {
   "file_extension": ".c",
   "mimetype": "text/x-csrc",
   "name": "text/x-csrc"
  },
  "toc": {
   "base_numbering": 1,
   "nav_menu": {},
   "number_sections": true,
   "sideBar": true,
   "skip_h1_title": false,
   "title_cell": "Table of Contents",
   "title_sidebar": "Contents",
   "toc_cell": false,
   "toc_position": {},
   "toc_section_display": true,
   "toc_window_display": false
  }
 },
 "nbformat": 4,
 "nbformat_minor": 5
}
