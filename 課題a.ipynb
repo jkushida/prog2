{
 "cells": [
  {
   "cell_type": "markdown",
   "id": "8246b0ae",
   "metadata": {},
   "source": [
    "**課題a**\n",
    "\n",
    "変数，分岐処理，繰り返し処理\n",
    "\n",
    "https://pythontutor.com/\n",
    "\n",
    "https://replit.com/"
   ]
  },
  {
   "cell_type": "markdown",
   "id": "ea4976eb",
   "metadata": {},
   "source": [
    "# 変数"
   ]
  },
  {
   "cell_type": "markdown",
   "id": "2cbbc899",
   "metadata": {},
   "source": [
    "## \n",
    "\n",
    "printf 関数と次の出力フォーマット指定子を使用して，自分の誕生日を表示するプログラムを作成せよ．\n",
    "\n",
    "```\n",
    "\"%d年 %d月 %d日\"\n",
    "```"
   ]
  },
  {
   "cell_type": "markdown",
   "id": "a03f7a62",
   "metadata": {},
   "source": [
    "## \n",
    "\n",
    "int 型の変数`x`,`y`に数値 9, 8 を代入し, `x`, `y`の値を \n",
    "\n",
    "```x = 9， y = 8```\n",
    "\n",
    "のように表示するプログラムを作成せよ．"
   ]
  },
  {
   "cell_type": "markdown",
   "id": "062c4cf5",
   "metadata": {},
   "source": [
    "## \n",
    "\n",
    "身長と体重を入力し, 肥満度を判定する指標である BMI (Body Mass Index) を計算し表示するプログラムを作成せよ．\n",
    "\n",
    "なお，BMIは以下の式で算出される．\n",
    "\n",
    "$$\n",
    "BMI＝体重(kg)\\div 身長(m)^2\n",
    "$$\n",
    "\n",
    "\n",
    "hint: [BMIの計算サイト](https://keisan.casio.jp/exec/system/1161228732)"
   ]
  },
  {
   "cell_type": "markdown",
   "id": "c4d0f26a",
   "metadata": {},
   "source": [
    "- 入力例1\n",
    "```\n",
    "体重は？[kg] 60\n",
    "身長は？[m] 1.70\n",
    "BMI = 20.761246\n",
    "```    \n",
    "\n",
    "- 入力例2\n",
    "```\n",
    "体重は？[kg] 67\n",
    "身長は？[m] 1.78\n",
    "BMI = 21.146320\n",
    "```    "
   ]
  },
  {
   "cell_type": "markdown",
   "id": "8c00008d",
   "metadata": {},
   "source": [
    "## \n",
    "\n",
    "int 型の変数`x`, `y`に数値 3, 7 を代入し, その後`x`, `y`の値を交換し\n",
    "\n",
    "```\n",
    "x = 7， y = 3\n",
    "```\n",
    "のように表示するプログラムを作成せよ．"
   ]
  },
  {
   "cell_type": "markdown",
   "id": "82e3999d",
   "metadata": {},
   "source": [
    "# 分岐処理"
   ]
  },
  {
   "cell_type": "markdown",
   "id": "ed78df03",
   "metadata": {},
   "source": [
    "## \n",
    "\n",
    "int 型の変数`x`, `y`にそれぞれ数値を入力し, `x`が`y`より大きい場合に, \n",
    "```\n",
    "xはyより大きい\n",
    "```\n",
    "という文を表示するプログラムを作成せよ."
   ]
  },
  {
   "cell_type": "markdown",
   "id": "c377fa59",
   "metadata": {},
   "source": [
    "- 出力例1\n",
    "```\n",
    "input x 8\n",
    "input y 3\n",
    "xはyより大きい\n",
    "```\n",
    "\n",
    "- 出力例2\n",
    "```\n",
    "input x 4\n",
    "input y 9\n",
    "```\n"
   ]
  },
  {
   "cell_type": "markdown",
   "id": "df78f149",
   "metadata": {},
   "source": [
    "## \n",
    "int 型の変数`x`, `y`にそれぞれ数値を入力し,\n",
    "\n",
    "`x`が`ｙ`より大きい場合には,\n",
    "\n",
    "```\n",
    "xはyより大きい\n",
    "```\n",
    "\n",
    "`x`が`y`より小さい場合には，\n",
    "\n",
    "```\n",
    "xはyより小さい\n",
    "```\n",
    "\n",
    "と表示するプログラムを作成せよ."
   ]
  },
  {
   "cell_type": "markdown",
   "id": "06f79f68",
   "metadata": {},
   "source": [
    "- 出力例1\n",
    "```\n",
    "input x 6\n",
    "input y 4\n",
    "xはyより大きい\n",
    "```\n",
    "\n",
    "\n",
    "- 出力例2\n",
    "```\n",
    "input x 1\n",
    "input y 9\n",
    "xはyより小さい\n",
    "```\n"
   ]
  },
  {
   "cell_type": "markdown",
   "id": "e7fa2dbd",
   "metadata": {},
   "source": [
    "## \n",
    "\n",
    "正の整数値を１つ入力し, それが偶数か奇数かを判定するプログラムを作成せよ．\n",
    "\n",
    "hint: 剰余演算\n",
    "\n"
   ]
  },
  {
   "cell_type": "markdown",
   "id": "f500cd4d",
   "metadata": {},
   "source": [
    "## \n",
    "整数値を入力し, 以下の4つの分類から該当するものを表示するプログラムを作成しなさい.\n",
    "\n",
    "“正の偶数”, “正の奇数”, “負の偶数”, “負の奇数”"
   ]
  },
  {
   "cell_type": "markdown",
   "id": "553e4ccb",
   "metadata": {},
   "source": [
    "## \n",
    "中間試験と, 期末試験の点数（それぞれ 0 から 100 点）を入力し, 次の条件に従って合格, 不合格を判定するプログラムを作成せよ．\n",
    "\n",
    "- 両方とも 60 点以上の場合は合格\n",
    "- 合計が 130 点以上の場合は合格\n",
    "- 合計が 100 点以上で，どちらかの試験が 90 点以上であれば合格\n",
    "- 上記以外は不合格"
   ]
  },
  {
   "cell_type": "markdown",
   "id": "c9f491a6",
   "metadata": {},
   "source": [
    "- 出力例1\n",
    "```\n",
    "中間試験の点数 = 40\n",
    "期末試験の点数 = 80\n",
    "不合格\n",
    "```\n",
    "\n",
    "- 出力例2\n",
    "```\n",
    "中間試験の点数 = 65\n",
    "期末試験の点数 = 70\n",
    "合格\n",
    "```\n",
    "\n",
    "- 出力例3\n",
    "```\n",
    "中間試験の点数 = 30\n",
    "期末試験の点数 = 100\n",
    "合格\n",
    "```\n",
    "\n",
    "\n",
    "\n",
    "- 出力例4\n",
    "```\n",
    "中間試験の点数 = 90\n",
    "期末試験の点数 = 13\n",
    "合格\n",
    "```\n"
   ]
  },
  {
   "cell_type": "markdown",
   "id": "41b93d23",
   "metadata": {},
   "source": [
    "## \n",
    "3つの整数を入力し, その中の最小の数を出力するプログラムを作成せよ．\n"
   ]
  },
  {
   "cell_type": "markdown",
   "id": "9a7861e1",
   "metadata": {},
   "source": [
    "# 繰り返し処理"
   ]
  },
  {
   "cell_type": "markdown",
   "id": "fcf169e6",
   "metadata": {},
   "source": [
    "## \n",
    "九九の五の段を表示するプログラムを作成せよ．"
   ]
  },
  {
   "cell_type": "markdown",
   "id": "83145cc2",
   "metadata": {},
   "source": [
    "## \n",
    "6 の階乗を計算し，表示するプログラムを作成せよ．\n",
    "\n",
    "hint: [6 の階乗](https://www.google.com/search?q=6+%E3%81%AE%E9%9A%8E%E4%B9%97&rlz=1C5CHFA_enJP942JP943&oq=6+%E3%81%AE%E9%9A%8E%E4%B9%97&aqs=chrome..69i57j35i39i362l8j0i333...8.246j0j7&sourceid=chrome&ie=UTF-8)"
   ]
  },
  {
   "cell_type": "markdown",
   "id": "80231eb4",
   "metadata": {},
   "source": [
    "## \n",
    "\n",
    "1 から 10 までの数値の和と積を求め，それぞれを表示するプログラムを作成せよ．\n",
    "\n",
    "実行結果\n",
    "```\n",
    "和 = 55\n",
    "積 = 3628800\n",
    "```"
   ]
  },
  {
   "cell_type": "markdown",
   "id": "5c550956",
   "metadata": {},
   "source": [
    "## \n",
    "\n",
    "`for`文を使って 0 から 10 の偶数を表示させよ．"
   ]
  },
  {
   "cell_type": "markdown",
   "id": "8644424c",
   "metadata": {},
   "source": [
    "## \n",
    "\n",
    "`for`文を使って 100 から 0 までの数値を，**降順**に20おきに表示させよ．"
   ]
  },
  {
   "cell_type": "markdown",
   "id": "7156b99f",
   "metadata": {},
   "source": [
    "- 出力例\n",
    "\n",
    "100 80 60 40 20 0 "
   ]
  },
  {
   "cell_type": "markdown",
   "id": "f1546b1c",
   "metadata": {},
   "source": [
    "## \n",
    "\n",
    "アスタリスク「*」を，以下のように三角に並べて表示させるプログラムを作成せよ．\n",
    "\n",
    "実行結果\n",
    "\n",
    "```\n",
    "*\n",
    "**\n",
    "***\n",
    "****\n",
    "*****\n",
    "```"
   ]
  },
  {
   "cell_type": "markdown",
   "id": "80294acf",
   "metadata": {},
   "source": [
    "## \n",
    "\n",
    "`for`の二重ループを使い，以下のような図形を表示させるプログラムを作成せよ．\n",
    "\n",
    "実行結果\n",
    "\n",
    "```\n",
    "□■■■■\n",
    "■□■■■\n",
    "■■□■■\n",
    "■■■□■\n",
    "■■■■□\n",
    "```"
   ]
  },
  {
   "cell_type": "markdown",
   "id": "0f0d94e7",
   "metadata": {},
   "source": [
    "## \n",
    "`for`の二重ループを使い，以下のような図形を表示させるプログラムを作成せよ．\n",
    "\n",
    "実行結果\n",
    "\n",
    "```\n",
    "□■□■□\n",
    "■□■□■\n",
    "□■□■□\n",
    "■□■□■\n",
    "□■□■□\n",
    "```"
   ]
  },
  {
   "cell_type": "markdown",
   "id": "f14b32e4",
   "metadata": {},
   "source": [
    "## \n",
    "`while`文を用いて, 0 から 5 まで出力するプログラムを作成せよ．"
   ]
  },
  {
   "cell_type": "markdown",
   "id": "53c6e89b",
   "metadata": {},
   "source": [
    "## \n",
    "\n",
    "金利が1年あたり10％かつ複利で増える預金がある．\n",
    "\n",
    "この預金でお金を10倍にするには，最低何年かかるか計算するプログラムを作成せよ．\n",
    "\n",
    "なお，答えは整数で表示すること．\n",
    "\n",
    "hint:\n",
    "\n",
    "```\n",
    "複利: 前年の利子分も含めて利子がつくこと\n",
    "```\n",
    "たとえば, 元金が100万円あり, この100万円を金利2％で1年間預金すると，1年後には102万円となる．再び金利2％で1年間預けると，1年後には104万400円となる．\n",
    "\n",
    "```\n",
    "1,000,000 × 1.02=1,020,000 (1年後の金額)\n",
    "\n",
    "1,020,000 × 1.02=1,040,400 (更に1年後の金額)\n",
    "```\n"
   ]
  },
  {
   "cell_type": "markdown",
   "id": "7602ff75",
   "metadata": {},
   "source": [
    "## \n",
    "\n",
    "ある細胞 𝑀 がはじめ1個ある．細胞𝑀は培養すると1分毎に5倍に増殖する．\n",
    "\n",
    "例えば，培養を開始して1分後には5個に増殖し， 2分後には25個に増殖し， 3分後には125個に増殖する．この培養を開始して 𝑛 分後に初めて細胞 𝑀 が 100000 個以上になったとする．\n",
    "\n",
    "このとき自然数 𝑛 の値を求めて表示させるプログラムを作成せよ．\n",
    "\n",
    "なお，プログラムでは`while(1)`の無限ループと`break`を用いること．\n",
    "\n"
   ]
  },
  {
   "cell_type": "markdown",
   "id": "0b706cca",
   "metadata": {},
   "source": [
    "## \n",
    "\n",
    "何月かを整数で入力し，表のようにその季節を表示するプログラムを作成せよ．\n",
    "\n",
    "ただし，`switch`文を用いること．\n",
    "\n",
    "また， 1から12以外の数値を入力した場合は， \n",
    "```\n",
    "月が誤っています\n",
    "```\n",
    "と出力させること．\n",
    "\n",
    "|月 | 季節| \n",
    "| :--- | :---: | \n",
    "| 3, 4, 5 | 春 | \n",
    "| 6, 7, 8 | 夏 | \n",
    "| 9, 10, 11 | 秋 |\n",
    "| 12, 1, 2 | 冬 |"
   ]
  },
  {
   "cell_type": "markdown",
   "id": "0f3805ed",
   "metadata": {},
   "source": [
    "## \n",
    "サイコロ2つをふって, ２つのサイコロの値の差が1になる確率を求めるプログラムを作成せよ．"
   ]
  }
 ],
 "metadata": {
  "kernelspec": {
   "display_name": "C",
   "language": "c",
   "name": "c"
  },
  "language_info": {
   "file_extension": ".c",
   "mimetype": "text/x-csrc",
   "name": "text/x-csrc"
  },
  "toc": {
   "base_numbering": "1",
   "nav_menu": {},
   "number_sections": true,
   "sideBar": true,
   "skip_h1_title": false,
   "title_cell": "Table of Contents",
   "title_sidebar": "Contents",
   "toc_cell": false,
   "toc_position": {
    "height": "calc(100% - 180px)",
    "left": "10px",
    "top": "150px",
    "width": "206px"
   },
   "toc_section_display": true,
   "toc_window_display": true
  }
 },
 "nbformat": 4,
 "nbformat_minor": 5
}
