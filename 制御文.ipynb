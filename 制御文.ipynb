{
 "cells": [
  {
   "cell_type": "markdown",
   "id": "fe44c582",
   "metadata": {},
   "source": [
    "# if　文\n",
    "\n"
   ]
  },
  {
   "cell_type": "markdown",
   "id": "3d2edc60",
   "metadata": {},
   "source": [
    "条件が満たされているかいないかで，処理を場合分けするときに用いる．\n",
    "\n",
    "- 条件が満たされているときだけに，処理をしたいとき．\n",
    "\n",
    "```c\n",
    " if (条件式) {\n",
    "        条件が成立するときの処理\n",
    "    }\n",
    "```\n",
    "\n",
    "![alt text](./fig/if1.png \"Title\")\n",
    "\n",
    "\n",
    "- 条件が満たされているときと満たされていないときとで，違った処理がしたいとき．\n",
    "\n",
    "```\n",
    " if (条件式) {\n",
    "        条件が成立するときの処理Ａ\n",
    "    } else {\n",
    "        条件が成立しないときの処理Ｂ\n",
    "    }\n",
    "```\n",
    "\n",
    "![alt text](./fig/if2.png \"Title\")\n"
   ]
  },
  {
   "cell_type": "code",
   "execution_count": null,
   "id": "136e719a",
   "metadata": {},
   "outputs": [],
   "source": []
  }
 ],
 "metadata": {
  "kernelspec": {
   "display_name": "C",
   "language": "c",
   "name": "c"
  },
  "language_info": {
   "file_extension": ".c",
   "mimetype": "text/x-csrc",
   "name": "text/x-csrc"
  },
  "toc": {
   "base_numbering": 1,
   "nav_menu": {},
   "number_sections": true,
   "sideBar": true,
   "skip_h1_title": false,
   "title_cell": "Table of Contents",
   "title_sidebar": "Contents",
   "toc_cell": false,
   "toc_position": {
    "height": "calc(100% - 180px)",
    "left": "10px",
    "top": "150px",
    "width": "213.391px"
   },
   "toc_section_display": true,
   "toc_window_display": true
  }
 },
 "nbformat": 4,
 "nbformat_minor": 5
}
