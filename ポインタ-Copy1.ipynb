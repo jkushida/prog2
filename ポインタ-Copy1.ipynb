{
 "cells": [
  {
   "cell_type": "markdown",
   "id": "d090d70b",
   "metadata": {},
   "source": [
    "https://www.isc.meiji.ac.jp/~re00079/EX2.2011/20110518.html"
   ]
  },
  {
   "cell_type": "markdown",
   "id": "910ddefe",
   "metadata": {},
   "source": [
    "ポインタを使うとメモリアドレス（番地）を介して データにアクセスできる"
   ]
  },
  {
   "cell_type": "markdown",
   "id": "dc94e367",
   "metadata": {},
   "source": [
    "# メモリ モデル (memory model)\n",
    "\n",
    "- プログラム中の変数や配列などの値は，コンピュータのメインメモリ上に記憶されている．\n",
    "\n",
    "- このメモリには，場所を表す**アドレス**という連続した通し番号がついている．\n",
    "\n",
    "- 変数名とアドレスの組み合わせは，OS（Operating System）により管理されている\n",
    "\n",
    "以下の図は， `int型`の`変数 a` が4バイト分のメモリを割り当てられていることを示す．\n",
    "\n",
    "<img src=\"./fig/アドレス.png\" width=\"200\">"
   ]
  },
  {
   "cell_type": "markdown",
   "id": "5a546a82",
   "metadata": {},
   "source": [
    "# アドレス"
   ]
  },
  {
   "cell_type": "markdown",
   "id": "64e99a3b",
   "metadata": {},
   "source": [
    "\n",
    "たとえば，C言語プログラム中で `int a; `と整数の変数を１つ定義すると，整数の値１個を格納する場所がメインメモリ上に確保さる．\n",
    "\n",
    "また，`a` という名前を使ってこの場所に値を書き込んだり，参照したりすることができる．"
   ]
  },
  {
   "cell_type": "markdown",
   "id": "7846c49d",
   "metadata": {},
   "source": [
    "変数の宣言を意味する，\n",
    "```c\n",
    "int a = 10;\n",
    "```\n",
    "は，「メモリ上のあるアドレスに，`変数a`という領域を確保し，その領域に`10`を代入する」\n",
    "という処理となる．\n",
    "\n",
    "\n",
    "<img src=\"./fig/アドレス2.png\" width=\"400\">\n",
    "\n",
    "\n",
    "また，`&` は変数が割り当てられているメモリのアドレスを得る演算子であり，**アドレス演算子**と呼ばれる．図のように変数 `a` が 1000番地に割り当てられていたとすると `&a` の値は 1000 となる．\n",
    "\n",
    "\n",
    "| 表現| 意味 |\n",
    "| :---: | :--- | \n",
    "| a | 変数aの値(10)を示す |\n",
    "| &a | 変数aのアドレス(1000)を示す |"
   ]
  },
  {
   "cell_type": "code",
   "execution_count": 1,
   "id": "6b32bbc8",
   "metadata": {},
   "outputs": [
    {
     "name": "stdout",
     "output_type": "stream",
     "text": [
      "aの値は 10\n",
      "aのアドレスは 0x309be7568\n"
     ]
    }
   ],
   "source": [
    "#include <stdio.h>\n",
    " \n",
    "int main()\n",
    "{\n",
    "    int a = 10;\n",
    "    \n",
    "    printf(\"aの値は %d\\n\",  a);  /* 普通に値を表示  */\n",
    "    printf(\"aのアドレスは %p\\n\", &a);  /*  %p はアドレスを16進数8桁で表示する */\n",
    "    \n",
    "    return(0);\n",
    "}\n",
    "\n",
    "// アドレスの値は実行環境による"
   ]
  },
  {
   "cell_type": "markdown",
   "id": "506c3f47",
   "metadata": {},
   "source": [
    "## １次元配列とアドレス\n",
    "\n",
    "`char型` の１次元配列の宣言\n",
    "```\n",
    "char str1[4] = \"ABC\";\n",
    "```\n",
    "を実行したとき，`配列str1`の要素はメモリ上には，`str1[0]`~`str1[3]`までの連続した領域が確保される．\n",
    "\n",
    "<img src=\"./fig/アドレス3.png\" width=\"300\">\n"
   ]
  },
  {
   "cell_type": "code",
   "execution_count": 2,
   "id": "360518be",
   "metadata": {},
   "outputs": [
    {
     "name": "stdout",
     "output_type": "stream",
     "text": [
      "str1[0] = A\n",
      "str1[1] = B\n",
      "str1[2] = C\n",
      "str1 =  0x30c8ec568\n",
      "&str1[0] = 0x30c8ec568\n",
      "&str1[1] = 0x30c8ec569\n",
      "&str1[2] =  0x30c8ec56a\n"
     ]
    }
   ],
   "source": [
    "#include <stdio.h>\n",
    " \n",
    "int main()\n",
    "{\n",
    "    char str1[4] = \"ABC\";    \n",
    "    \n",
    "    // 配列の値\n",
    "    printf(\"str1[0] = %c\\n\",  str1[0]);\n",
    "    printf(\"str1[1] = %c\\n\",  str1[1]);\n",
    "    printf(\"str1[2] = %c\\n\",  str1[2]);\n",
    "    \n",
    "    // 配列のアドレス\n",
    "    printf(\"str1 =  %p\\n\",  &str1);\n",
    "    printf(\"&str1[0] = %p\\n\",  &str1[0]);\n",
    "    printf(\"&str1[1] = %p\\n\",  &str1[1]);\n",
    "    printf(\"&str1[2] =  %p\\n\",  &str1[2]);\n",
    "    \n",
    "    return(0);\n",
    "}\n",
    "\n",
    "// アドレスの値は実行環境による"
   ]
  },
  {
   "cell_type": "markdown",
   "id": "0e905931",
   "metadata": {},
   "source": [
    " よって，1次元配列の値とアドレスは以下のよう説明できる．\n",
    " \n",
    "| 表現|意味  |\n",
    "| :---: | :--- | \n",
    "| 配列名 | 配列の先頭要素のアドレスを示す |\n",
    "| 配列名[添字] | 配列要素の値を示す|\n",
    "| &配列名[添字] | 配列要素のアドレスを示す |\n",
    "\n",
    " "
   ]
  },
  {
   "cell_type": "markdown",
   "id": "9d7580f7",
   "metadata": {},
   "source": [
    "## 2次元配列とアドレス\n",
    "\n",
    "`char型` の2次元配列の宣言\n",
    "\n",
    "```c\n",
    "char str2[3][5] = {\"ABC\", \"DEFG\",\"HI\"};\n",
    "```\n",
    "を実行したとき，`配列str2`の要素はメモリ上には，`str2[0][0]`~`str2[3][4]`までの連続した領域が確保される．\n",
    "\n",
    "<img src=\"./fig/アドレス4.png\" width=\"500\">\n"
   ]
  },
  {
   "cell_type": "code",
   "execution_count": 3,
   "id": "644ddce2",
   "metadata": {},
   "outputs": [
    {
     "name": "stdout",
     "output_type": "stream",
     "text": [
      "ABC\n",
      "DEFG\n",
      "HI\n",
      "&str2 = 0x308d90559\n",
      "&str2[0] = 0x308d90559\n",
      "&str2[1] = 0x308d9055e\n",
      "&str2[2] = 0x308d90563\n",
      "&str2[0][0] = 0x308d90559\n",
      "&str2[0][1] = 0x308d9055a\n",
      "&str2[0][2] = 0x308d9055b\n",
      "&str2[0][3] = 0x308d9055c\n",
      "&str2[0][4] = 0x308d9055d\n"
     ]
    }
   ],
   "source": [
    "#include <stdio.h>\n",
    " \n",
    "int main()\n",
    "{\n",
    "    char str2[3][5] = {\"ABC\", \"DEFG\",\"HI\"};\n",
    "\n",
    "    // 配列の値\n",
    "    printf(\"%s\\n\", str2[0]); \n",
    "    printf(\"%s\\n\", str2[1]); \n",
    "    printf(\"%s\\n\", str2[2]); \n",
    "    \n",
    "    // 配列のアドレス\n",
    "    printf(\"&str2 = %p\\n\", &str2); \n",
    "    \n",
    "    printf(\"&str2[0] = %p\\n\", &str2[0]); \n",
    "    printf(\"&str2[1] = %p\\n\", &str2[1]); \n",
    "    printf(\"&str2[2] = %p\\n\", &str2[2]); \n",
    "    \n",
    "    printf(\"&str2[0][0] = %p\\n\", &str2[0][0]); \n",
    "    printf(\"&str2[0][1] = %p\\n\", &str2[0][1]); \n",
    "    printf(\"&str2[0][2] = %p\\n\", &str2[0][2]); \n",
    "    printf(\"&str2[0][3] = %p\\n\", &str2[0][3]); \n",
    "    printf(\"&str2[0][4] = %p\\n\", &str2[0][4]); \n",
    "    \n",
    "    return(0);\n",
    "}\n",
    "// アドレスの値は実行環境による"
   ]
  },
  {
   "cell_type": "markdown",
   "id": "38918e73",
   "metadata": {},
   "source": [
    "[実行の可視化](http://pythontutor.com/visualize.html#code=%23include%20%3Cstdio.h%3E%0A%20%0Aint%20main%28%29%0A%7B%0A%20%20%20%20char%20str2%5B3%5D%5B5%5D%20%3D%20%7B%22ABC%22,%20%22DEFG%22,%22HI%22%7D%3B%0A%0A%20%20%20%20printf%28%22%25s%5Cn%22,%20str2%5B0%5D%29%3B%20%0A%20%20%20%20printf%28%22%25s%5Cn%22,%20str2%5B1%5D%29%3B%20%0A%20%20%20%20printf%28%22%25s%5Cn%22,%20str2%5B2%5D%29%3B%20%0A%0A%20%20%20%20return%280%29%3B%0A%7D%0A%0A&cumulative=false&curInstr=0&heapPrimitives=nevernest&mode=display&origin=opt-frontend.js&py=c_gcc9.3.0&rawInputLstJSON=%5B%5D&textReferences=false)"
   ]
  },
  {
   "cell_type": "markdown",
   "id": "a0784426",
   "metadata": {},
   "source": [
    " よって，2次元配列の値とアドレスは以下のよう説明できる．\n",
    "\n",
    "\n",
    "|表現 | 意味  |\n",
    "| :---: | :--- | \n",
    "| 配列名 | 配列の先頭要素のアドレスを示す |\n",
    "| 配列名[行] |行の 先頭要素のアドレスを示す|\n",
    "| 配列名[行] [列]| 配列要素の値を示す |\n",
    "| &配列名[行] [列]| 配列要素のアドレスを示す |"
   ]
  },
  {
   "cell_type": "markdown",
   "id": "f474a5f8",
   "metadata": {},
   "source": [
    "# ポインタ変数\n",
    "\n",
    "- アドレスを記憶する変数をポインタ変数と呼ぶ．\n",
    "- アドレスは整数値であるが，変数の型に応じて割り当てられる領域が異なるので，ポインタも中身の型にあわせて定義する．\n",
    "- ポインタは間接的に変数や配列の値を扱う．  \n",
    "\n",
    "ポインタ変数を宣言するためには，目印として変数名の前に`*`をつける。\n",
    "```c\n",
    "int *p;\n",
    "```\n",
    "ここで，変数名は`p`であり，`＊`は，ポインタ変数の目印である．\n",
    "\n",
    "\n",
    "<img src=\"./fig/ポインタ1.png\" width=\"300\">\n"
   ]
  },
  {
   "cell_type": "markdown",
   "id": "3b439973",
   "metadata": {},
   "source": [
    "## ポインタの宣言と使い方\n",
    "\n",
    "ポインタは下記のように宣言する．\n",
    "\n",
    "```c\n",
    "データ型 *ポインタ名;\n",
    "```\n",
    "\n",
    "- アスタリスク`*`は**ポインタ演算子**と呼ばれ，ポインタを宣言するときに使われる．\n",
    "\n",
    "- 宣言型はアドレスを記憶する領域のデータ型にする必要がある．\n"
   ]
  },
  {
   "cell_type": "markdown",
   "id": "1bd31bed",
   "metadata": {},
   "source": [
    "以下のコードをもとにポインタの使い方を説明する．\n",
    "\n",
    "\n",
    "```c\n",
    "#include <stdio.h>\n",
    "\n",
    "int main()\n",
    "{\n",
    "    int a; \n",
    "    int *p;      // 宣言\n",
    "    \n",
    "    p =  &a;   // アドレスの設定\n",
    "    *p = 123; // 参照\n",
    "        \n",
    "    printf(\"%d\\n\", *p); // 参照\n",
    "    \n",
    "    return 0;\n",
    "}\n",
    "```\n",
    "ポインタは必ず，宣言，アドレスの設定，参照，の３ステップで用いる．\n"
   ]
  },
  {
   "cell_type": "markdown",
   "id": "d1710048",
   "metadata": {},
   "source": [
    "■ **ポインタの宣言**\n",
    "\n",
    "下記のコードは，\n",
    "\n",
    "```c\n",
    "int a;\n",
    "int *p;\n",
    "```\n",
    "\n",
    "`int型`の領域のアドレスを記憶する，`p`という名前のポインタの宣言となる．\n",
    "\n",
    "<img src=\"./fig/ポインタ2.png\" width=\"500\">\n",
    "\n",
    "\n",
    "\n",
    "■ **アドレスの設定**\n",
    "\n",
    "\n",
    "宣言したポインタに，変数のアドレスを代入する．\n",
    "```c\n",
    "p = &a;\n",
    "```\n",
    "ここで， `&a`は変数`a`のアドレスである．\n",
    "\n",
    "<img src=\"./fig/ポインタ3.png\" width=\"500\">\n",
    "\n",
    "なお，ポインタの宣言時に初期化して，下記のように宣言とアドレスの設定をまとめることもできる．\n",
    "```c\n",
    "データ型 *ポインタ名 = 変数のアドレス; \n",
    "```\n",
    "\n",
    "つまり，上記の例は，\n",
    "```c\n",
    "int *p = &a;\n",
    "```\n",
    "と書くことができる．\n",
    "\n",
    "■ **参照**\n",
    "\n",
    "参照は，\n",
    "```c\n",
    "*ポインタ名\n",
    "```\n",
    "で行う．\n",
    "\n",
    "- この`*`は，間接参照演算子と呼ばれ，「ポインタの指すアドレスの中身」を表す．\n",
    "\n",
    "- `*`は宣言と参照では意味が異なる．\n",
    "\n",
    "```c\n",
    "*p = 123;\n",
    "```\n",
    "で，`ポインタp`の指すアドレスの中身，つまり`1000番地`に`123`を代入する．\n",
    "\n",
    "\n",
    "次に，\n",
    "```c\n",
    "printf(\"%d\\n\", *p);\n",
    "```\n",
    "で，`ポインタp`の指すアドレス中身，つまり`1000番地`の値(`123`)を表示する．\n"
   ]
  },
  {
   "cell_type": "code",
   "execution_count": 9,
   "id": "269e2240",
   "metadata": {},
   "outputs": [
    {
     "name": "stdout",
     "output_type": "stream",
     "text": [
      "aのアドレス = 0x3052ce568\n",
      "pのアドレス = 0x3052ce560\n",
      "123\n"
     ]
    }
   ],
   "source": [
    "#include <stdio.h>\n",
    "\n",
    "int main()\n",
    "{\n",
    "    int a; \n",
    "    int *p;      // 宣言\n",
    "    \n",
    "    printf(\"aのアドレス = %p\\n\", &a); \n",
    "    printf(\"pのアドレス = %p\\n\", &p); \n",
    "    \n",
    "    p =  &a;   // アドレスの設定\n",
    "    *p = 123; // 参照\n",
    "        \n",
    "    printf(\"%d\\n\", *p); // 参照\n",
    "    \n",
    "    return 0;\n",
    "}"
   ]
  },
  {
   "cell_type": "code",
   "execution_count": 5,
   "id": "20ca52e1",
   "metadata": {},
   "outputs": [
    {
     "name": "stdout",
     "output_type": "stream",
     "text": [
      "&a = 0x304892568, &b = 0x304892564\n",
      " p = 0x304892568,  q = 0x304892564\n",
      "  a = 3,  b = 6\n",
      " *p = 3, *q = 6\n"
     ]
    }
   ],
   "source": [
    "#include <stdio.h>\n",
    "\n",
    "int main()\n",
    "{\n",
    "    // a, b はint型変数\n",
    "    int a, b;\n",
    "    // p, q は整数型を指すポインタ型変数\n",
    "    int *p, *q;\n",
    "    \n",
    "    // a, b のアドレスを表示\n",
    "    printf(\"&a = %p, &b = %p\\n\", &a, &b);\n",
    "    \n",
    "    //a のアドレスを p に代入\n",
    "    p = &a;\n",
    "    //b のアドレスを q に代入\n",
    "    q = &b;\n",
    "    \n",
    "    // p, q の値を表示\n",
    "    printf(\" p = %p,  q = %p\\n\", p, q);\n",
    "    \n",
    "    // p が指す場所にある変数（すなわち a）に 3 を代入\n",
    "    *p = 3;\n",
    "    \n",
    "    // q が指す場所にある変数（すなわち b）に\n",
    "    // p が指す場所にある変数（すなわち a）の値+3を代入\n",
    "    *q = *p + 3;\n",
    "    \n",
    "    // a, b の値を表示\n",
    "    printf(\"  a = %d,  b = %d\\n\", a, b);\n",
    "    printf(\" *p = %d, *q = %d\\n\", *p, *q);\n",
    "    return 0;\n",
    "}"
   ]
  },
  {
   "cell_type": "markdown",
   "id": "bf9852f4",
   "metadata": {},
   "source": [
    "\n",
    "[実行の可視化](http://pythontutor.com/visualize.html#code=%23include%20%3Cstdio.h%3E%0A%0Aint%20main%28%29%0A%7B%0A%20%20%20%20//%20a,%20b%20%E3%81%AFint%E5%9E%8B%E5%A4%89%E6%95%B0%0A%20%20%20%20int%20a,%20b%3B%0A%20%20%20%20//%20p,%20q%20%E3%81%AF%E6%95%B4%E6%95%B0%E5%9E%8B%E3%82%92%E6%8C%87%E3%81%99%E3%83%9D%E3%82%A4%E3%83%B3%E3%82%BF%E5%9E%8B%E5%A4%89%E6%95%B0%0A%20%20%20%20int%20*p,%20*q%3B%0A%20%20%20%20%0A%20%20%20%20//%20a,%20b%20%E3%81%AE%E3%82%A2%E3%83%89%E3%83%AC%E3%82%B9%E3%82%92%E8%A1%A8%E7%A4%BA%0A%20%20%20%20printf%28%22%26a%20%3D%20%25p,%20%26b%20%3D%20%25p%5Cn%22,%20%26a,%20%26b%29%3B%0A%20%20%20%20%0A%20%20%20%20//a%20%E3%81%AE%E3%82%A2%E3%83%89%E3%83%AC%E3%82%B9%E3%82%92%20p%20%E3%81%AB%E4%BB%A3%E5%85%A5%0A%20%20%20%20p%20%3D%20%26a%3B%0A%20%20%20%20//b%20%E3%81%AE%E3%82%A2%E3%83%89%E3%83%AC%E3%82%B9%E3%82%92%20q%20%E3%81%AB%E4%BB%A3%E5%85%A5%0A%20%20%20%20q%20%3D%20%26b%3B%0A%20%20%20%20%0A%20%20%20%20//%20p,%20q%20%E3%81%AE%E5%80%A4%E3%82%92%E8%A1%A8%E7%A4%BA%0A%20%20%20%20printf%28%22%20p%20%3D%20%25p,%20%20q%20%3D%20%25p%5Cn%22,%20p,%20q%29%3B%0A%20%20%20%20%0A%20%20%20%20//%20p%20%E3%81%8C%E6%8C%87%E3%81%99%E5%A0%B4%E6%89%80%E3%81%AB%E3%81%82%E3%82%8B%E5%A4%89%E6%95%B0%EF%BC%88%E3%81%99%E3%81%AA%E3%82%8F%E3%81%A1%20a%EF%BC%89%E3%81%AB%203%20%E3%82%92%E4%BB%A3%E5%85%A5%0A%20%20%20%20*p%20%3D%203%3B%0A%20%20%20%20%0A%20%20%20%20//%20q%20%E3%81%8C%E6%8C%87%E3%81%99%E5%A0%B4%E6%89%80%E3%81%AB%E3%81%82%E3%82%8B%E5%A4%89%E6%95%B0%EF%BC%88%E3%81%99%E3%81%AA%E3%82%8F%E3%81%A1%20b%EF%BC%89%E3%81%AB%0A%20%20%20%20//%20p%20%E3%81%8C%E6%8C%87%E3%81%99%E5%A0%B4%E6%89%80%E3%81%AB%E3%81%82%E3%82%8B%E5%A4%89%E6%95%B0%EF%BC%88%E3%81%99%E3%81%AA%E3%82%8F%E3%81%A1%20a%EF%BC%89%E3%81%AE%E5%80%A4%2B3%E3%82%92%E4%BB%A3%E5%85%A5%0A%20%20%20%20*q%20%3D%20*p%20%2B%203%3B%0A%20%20%20%20%0A%20%20%20%20//%20a,%20b%20%E3%81%AE%E5%80%A4%E3%82%92%E8%A1%A8%E7%A4%BA%0A%20%20%20%20printf%28%22%20%20a%20%3D%20%25d,%20%20b%20%3D%20%25d%5Cn%22,%20a,%20b%29%3B%0A%20%20%20%20printf%28%22%20*p%20%3D%20%25d,%20*q%20%3D%20%25d%5Cn%22,%20*p,%20*q%29%3B%0A%20%20%20%20return%200%3B%0A%7D%0A&cumulative=false&curInstr=0&heapPrimitives=nevernest&mode=display&origin=opt-frontend.js&py=c&rawInputLstJSON=%5B%5D&textReferences=false)"
   ]
  },
  {
   "cell_type": "markdown",
   "id": "11e3e6fa",
   "metadata": {},
   "source": [
    "```bash\n",
    "% ./a.out\n",
    "&a = 0x16dc775e8, &b = 0x16dc775e4\n",
    "   p = 0x16dc775e8,   q = 0x16dc775e4\n",
    "   a = 3,  b = 6\n",
    " *p = 3, *q = 6\n",
    "\n",
    "```"
   ]
  },
  {
   "cell_type": "markdown",
   "id": "562f96e9",
   "metadata": {},
   "source": [
    "# ポインタによる配列のアクセス\n"
   ]
  },
  {
   "cell_type": "code",
   "execution_count": 6,
   "id": "021d6aa6",
   "metadata": {},
   "outputs": [
    {
     "name": "stdout",
     "output_type": "stream",
     "text": [
      "0 1 2 3 4 "
     ]
    }
   ],
   "source": [
    "#include <stdio.h>\n",
    "\n",
    "int main()\n",
    "{\n",
    "    int array[5];\n",
    "    int *p;\n",
    "    int i;\n",
    "    \n",
    "    p = array;                 // p = &array[0] と同じ\n",
    "    for (i = 0; i < 5; i++) {\n",
    "        p[i] = i;                // array[i] = i と同じ\n",
    "    }\n",
    "    for (i = 0; i < 5; i++) {\n",
    "        printf(\"%d \", array[i]);\n",
    "    }\n",
    "    \n",
    "    return 0;\n",
    "}"
   ]
  },
  {
   "cell_type": "markdown",
   "id": "58708d0c",
   "metadata": {},
   "source": [
    "[実行の可視化](http://pythontutor.com/visualize.html#code=%23include%20%3Cstdio.h%3E%0A%0Aint%20main%28%29%0A%7B%0A%20%20%20%20int%20array%5B5%5D%3B%0A%20%20%20%20int%20*p%3B%0A%20%20%20%20int%20i%3B%0A%20%20%20%20%0A%20%20%20%20p%20%3D%20array%3B%20%20%20%20%20%20%20%20%20%20%20%20%20%20%20%20%20%20%20//%20p%20%3D%20%26array%5B0%5D%20%E3%81%A8%E5%90%8C%E3%81%98%0A%20%20%20%20for%20%28i%20%3D%200%3B%20i%20%3C%205%3B%20i%2B%2B%29%20%7B%0A%20%20%20%20%20%20%20%20p%5Bi%5D%20%3D%20i%3B%20%20%20%20%20%20%20%20%20%20%20%20%20%20%20%20//%20array%5Bi%5D%20%3D%20i%20%E3%81%A8%E5%90%8C%E3%81%98%0A%20%20%20%20%7D%0A%20%20%20%20for%20%28i%20%3D%200%3B%20i%20%3C%205%3B%20i%2B%2B%29%20%7B%0A%20%20%20%20%20%20%20%20printf%28%22%25d%20%22,%20array%5Bi%5D%29%3B%0A%20%20%20%20%7D%0A%20%20%20%20%0A%20%20%20%20return%200%3B%0A%7D%0A&cumulative=false&curInstr=0&heapPrimitives=nevernest&mode=display&origin=opt-frontend.js&py=c&rawInputLstJSON=%5B%5D&textReferences=false)"
   ]
  },
  {
   "cell_type": "code",
   "execution_count": null,
   "id": "a5f96d54",
   "metadata": {},
   "outputs": [],
   "source": []
  },
  {
   "cell_type": "markdown",
   "id": "498e858f",
   "metadata": {},
   "source": [
    "[ポインタと配列の動的確保](\n",
    "http://www.den.t.u-tokyo.ac.jp/ad_prog/struct/#%E3%83%9D%E3%82%A4%E3%83%B3%E3%82%BF%E3%81%A8%E9%85%8D%E5%88%97%E3%81%AE%E5%8B%95%E7%9A%84%E7%A2%BA%E4%BF%9D)"
   ]
  },
  {
   "cell_type": "markdown",
   "id": "01cb52c4",
   "metadata": {},
   "source": [
    "| 宣言方法 \t|  アドレスの表記方法 |  変数の表記方法 |\n",
    "| :---: | :---: | :---: |\n",
    "|  単一の変数 (```int a```)  |  ```$a```  |  ```a``` |\n",
    "|単一のポインタ (```int *p```) |\t```p```\t| ```*p``` |\n",
    "|配列 (```int a[10]```)\t | 先頭: ```a``` , 要素: ```a + 2```, ```&a[2]```  |\t```a[2]```　 |"
   ]
  },
  {
   "cell_type": "code",
   "execution_count": 7,
   "id": "e6b9bbca",
   "metadata": {},
   "outputs": [
    {
     "name": "stdout",
     "output_type": "stream",
     "text": [
      "a[0] = 1 \t a[1] = 2\n",
      "*p = 1 \t *(p +1) = 2\n"
     ]
    }
   ],
   "source": [
    "# include <stdio.h>\n",
    "# include <stdlib.h>\n",
    "\n",
    "int main(int argc, char **argv) {\n",
    "    int a[2];\n",
    "    int *p;\n",
    "\n",
    "    p = (int*)calloc(2, sizeof(int));\n",
    "    a[0] = 1;\n",
    "    a[1] = 2;\n",
    "    *p = a[0];\n",
    "    *(p+1)=a[1];\n",
    "    printf(\"a[0] = %d \\t a[1] = %d\\n\", a[0], a[1]);\n",
    "    printf(\"*p = %d \\t *(p +1) = %d\\n\", *p, *(p+1));\n",
    "\n",
    "    free(p);\n",
    "}"
   ]
  },
  {
   "cell_type": "markdown",
   "id": "4905ddf8",
   "metadata": {},
   "source": [
    "[実行の可視化](http://pythontutor.com/visualize.html#code=%23%20include%20%3Cstdio.h%3E%0A%23%20include%20%3Cstdlib.h%3E%0A%0Aint%20main%28%29%20%7B%0A%20%20%20%20int%20a%5B2%5D%3B%0A%20%20%20%20int%20*p%3B%0A%0A%20%20%20%20p%20%3D%20%28int*%29malloc%282%20*%20sizeof%28int%29%29%3B%0A%20%20%20%20a%5B0%5D%20%3D%201%3B%0A%20%20%20%20a%5B1%5D%20%3D%202%3B%0A%20%20%20%20*p%20%3D%20a%5B0%5D%3B%0A%20%20%20%20*%28p%2B1%29%3Da%5B1%5D%3B%0A%20%20%20%20printf%28%22a%5B0%5D%20%3D%20%25d%20%5Ct%20a%5B1%5D%20%3D%20%25d%5Cn%22,%20a%5B0%5D,%20a%5B1%5D%29%3B%0A%20%20%20%20printf%28%22*p%20%3D%20%25d%20%5Ct%20*%28p%20%2B1%29%20%3D%20%25d%5Cn%22,%20*p,%20*%28p%2B1%29%29%3B%0A%0A%20%20%20%20free%28p%29%3B%0A%7D%0A&cumulative=false&curInstr=0&heapPrimitives=nevernest&mode=display&origin=opt-frontend.js&py=c&rawInputLstJSON=%5B%5D&textReferences=false)"
   ]
  },
  {
   "cell_type": "code",
   "execution_count": null,
   "id": "8ab9cd01",
   "metadata": {},
   "outputs": [],
   "source": []
  }
 ],
 "metadata": {
  "kernelspec": {
   "display_name": "C",
   "language": "c",
   "name": "c"
  },
  "language_info": {
   "file_extension": ".c",
   "mimetype": "text/x-csrc",
   "name": "text/x-csrc"
  },
  "toc": {
   "base_numbering": 1,
   "nav_menu": {},
   "number_sections": true,
   "sideBar": true,
   "skip_h1_title": false,
   "title_cell": "Table of Contents",
   "title_sidebar": "Contents",
   "toc_cell": false,
   "toc_position": {
    "height": "calc(100% - 180px)",
    "left": "10px",
    "top": "150px",
    "width": "216.391px"
   },
   "toc_section_display": true,
   "toc_window_display": true
  }
 },
 "nbformat": 4,
 "nbformat_minor": 5
}
