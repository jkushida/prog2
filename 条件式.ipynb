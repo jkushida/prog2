{
 "cells": [
  {
   "cell_type": "markdown",
   "id": "00f94110",
   "metadata": {},
   "source": [
    "# 条件式の基本\n"
   ]
  },
  {
   "cell_type": "markdown",
   "id": "40235fa4",
   "metadata": {},
   "source": [
    "プログラミングで条件ごとに処理を分けるには，if文を用いる．\n",
    "\n",
    "条件が満たされているかいないかで，処理を場合分けするときに用いる．\n",
    "\n",
    "\n",
    "\n",
    "\n",
    "```c\n",
    "if (条件式) {\n",
    "\n",
    "    条件式が満足されるときに実行される命令\n",
    "    （命令は複数行あっても可能）\n",
    "\n",
    "}\n",
    "```"
   ]
  },
  {
   "cell_type": "markdown",
   "id": "a8288660",
   "metadata": {},
   "source": [
    "条件が満足されることを真になる，その逆に満足されないときに は偽になるという．\n",
    "\n",
    " 「真になる」場合には1が，「偽になる」場合には0が返される．"
   ]
  },
  {
   "cell_type": "markdown",
   "id": "1b728a06",
   "metadata": {},
   "source": [
    "|演算子\t|使い方\t|意味|\n",
    "| :---: | :---: | :---: | \n",
    "| == | a == b | aとbの値が等しければ1，そうでなければ（等しくない場合）0  |\n",
    "| != | a != b | aとbの値が等しくなければ1，そうでなければ（等しい場合）0 |\n",
    "|<|\ta < b | aがbより小さければ1，そうでなければ（等しいまたは大きい場合）0|\n",
    "|> |a > b | aがbより大きければ1，そうでなければ（等しいまたは小さい場合）0|\n",
    "|<= | a < b | aがb以下であれば1，そうでなければ（大きい場合）0|\n",
    "|>= | a >= b |aがb以上であれば1，そうでなければ（小さい場合）0|"
   ]
  },
  {
   "cell_type": "markdown",
   "id": "bfa91a14",
   "metadata": {},
   "source": [
    "```c\n",
    "if (a > b) {\n",
    "    printf(\"aはbより大きい\\n\");\n",
    "}\n",
    "```"
   ]
  },
  {
   "cell_type": "markdown",
   "id": "b7b93748",
   "metadata": {},
   "source": [
    "# 条件式を段階的に複数もうける場合\n"
   ]
  },
  {
   "cell_type": "markdown",
   "id": "6d5ba4cc",
   "metadata": {},
   "source": [
    "```\n",
    "if (条件式) {\n",
    "\n",
    "    条件式が満足されるときに実行される命令\n",
    "    （命令は複数行あっても可能）\n",
    "\n",
    "} else {\n",
    "\n",
    "    条件式が満足されないときに実行される命令\n",
    "    （命令は複数行あっても可能）\n",
    "\n",
    "}\n",
    "```"
   ]
  },
  {
   "cell_type": "markdown",
   "id": "dd87353f",
   "metadata": {},
   "source": [
    "# switch 文\n",
    "\n",
    "多数の場合に分けて処理を行うときには， switch 文を用いる．\n",
    "\n",
    "次のような switch 文の場合，値１，値２，値３の中で「式」の値と一致するものがあれば，そこに書かれている 処理が行われる．　\n",
    "\n",
    "その他の値の場合は， default のところに書かれている処理が行われる．\n",
    "\n",
    "\n",
    "``` c\n",
    "   switch (式) {\n",
    "    case 値１: \n",
    "        処理１\n",
    "        break;\n",
    "    case 値２:\n",
    "        処理２\n",
    "        break;\n",
    "    case 値３:\n",
    "        処理３\n",
    "        break;\n",
    "    default :\n",
    "        処理その他\n",
    "        break;\n",
    "    }\n",
    "```\n",
    "\n",
    "\n",
    "- caseラベルに続く各処理の最後には break を付ける必要がある． \n",
    "\n",
    "- break はそこで switch 文を終了するという意味になる．\n",
    "\n",
    "- break を付け忘れると，次のcaseラベルにある処理に入ってしまう．"
   ]
  },
  {
   "cell_type": "code",
   "execution_count": null,
   "id": "b0cfa64a",
   "metadata": {},
   "outputs": [],
   "source": []
  }
 ],
 "metadata": {
  "kernelspec": {
   "display_name": "C",
   "language": "c",
   "name": "c"
  },
  "language_info": {
   "file_extension": ".c",
   "mimetype": "text/x-csrc",
   "name": "text/x-csrc"
  },
  "toc": {
   "base_numbering": 1,
   "nav_menu": {},
   "number_sections": true,
   "sideBar": true,
   "skip_h1_title": false,
   "title_cell": "Table of Contents",
   "title_sidebar": "Contents",
   "toc_cell": false,
   "toc_position": {
    "height": "calc(100% - 180px)",
    "left": "10px",
    "top": "150px",
    "width": "216.391px"
   },
   "toc_section_display": true,
   "toc_window_display": true
  }
 },
 "nbformat": 4,
 "nbformat_minor": 5
}
