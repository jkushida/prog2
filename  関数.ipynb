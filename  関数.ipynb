{
 "cells": [
  {
   "cell_type": "markdown",
   "id": "864933c7",
   "metadata": {},
   "source": [
    "C言語をはじめとするプログラミング言語の仕様には，繰り返し現れる処理や頻繁に使われる処理を一箇所にまとめ，効率の良い記述を行う関数が用意されている。\n",
    "\n",
    "C言語の printf(), scanf(), sqrt(), getchar() は，実は全て関数である。 これらは「ライブラリ関数」と呼ばれ，C言語のコンパイラ（この演習で用いているのはBorland C）にあらかじめ付属しているものであり，必要な#include文の記述により，プログラム中から自由に呼び出すことができる。\n",
    "\n",
    "そしてmain()も関数であり，「この関数から全体の処理が開始される」ものとして規定されている．\n",
    "\n",
    "したがって，C言語のプログラムは関数の集合であるといえる． 関数はソースコード中においていくつも，何度も呼び出すことができる。"
   ]
  },
  {
   "cell_type": "markdown",
   "id": "00d7623f",
   "metadata": {},
   "source": [
    "# 関数とは\n",
    "\n",
    "関数とは，材料（引数）を渡すと，レシピ（関数の定義）に基づいて調理し，料理（戻り値）を届けてくれるようなものである．\n",
    "\n",
    "![alt text](./fig/関数.png \"Title\")\n"
   ]
  },
  {
   "cell_type": "markdown",
   "id": "f5c233c7",
   "metadata": {},
   "source": [
    "2つの数`a, b`を渡すと，`aのb乗`と`bのa乗`を計算してその和を返し，表示するプログラム.\n",
    "\n",
    "- 関数を用いないコード"
   ]
  },
  {
   "cell_type": "code",
   "execution_count": 1,
   "id": "e055e686",
   "metadata": {},
   "outputs": [
    {
     "name": "stderr",
     "output_type": "stream",
     "text": [
      "In file included from /var/folders/17/1fkqsg691_3flnsv7g5_wrz80000gn/T/tmp1y3x08l3.c:1:\n",
      "/Users/kushida/Desktop/tmp/jupyter-c-kernel/jupyter_c_kernel/resources/stdio_wrap.h:279:47: warning: token pasting of ',' and __VA_ARGS__ is a GNU extension [-Wgnu-zero-variadic-macro-arguments]\n",
      "#define scanf(format, ...) scanf_wrap(format, ##__VA_ARGS__, &scanf_wrap_number_read)\n",
      "                                              ^\n",
      "/Users/kushida/Desktop/tmp/jupyter-c-kernel/jupyter_c_kernel/resources/stdio_wrap.h:279:47: warning: token pasting of ',' and __VA_ARGS__ is a GNU extension [-Wgnu-zero-variadic-macro-arguments]\n",
      "2 warnings generated.\n"
     ]
    },
    {
     "name": "stdout",
     "output_type": "stream",
     "text": [
      "a = 3\n",
      "b = 2\n",
      "a^b + b^a = 17\n"
     ]
    }
   ],
   "source": [
    "#include <stdio.h>\n",
    "\n",
    "int main()\n",
    "{\n",
    "    int a,b,i,sum,tmp1=1,tmp2=1;\n",
    "    \n",
    "    printf(\"a = \");\n",
    "    scanf(\"%d\",&a);\n",
    "    printf(\"b = \");\n",
    "    scanf(\"%d\",&b);\n",
    "    \n",
    "    for(i=0;i<b;i++){        // a^bの計算\n",
    "        tmp1 *= a;\n",
    "    }\n",
    "    \n",
    "    for(i=0;i<a;i++){        // b^aの計算\n",
    "        tmp2 *= b;\n",
    "    }\n",
    "    \n",
    "    sum = tmp1 + tmp2;\n",
    "    printf(\"a^b + b^a = %d\\n\",sum);\n",
    "    return(0);\n",
    "}\n"
   ]
  },
  {
   "cell_type": "markdown",
   "id": "7b7283d9",
   "metadata": {},
   "source": [
    "```bash\n",
    "% ./a.out\n",
    "a = 2\n",
    "b = 3\n",
    "a^b + b^a = 17\n",
    "```"
   ]
  },
  {
   "cell_type": "markdown",
   "id": "8df8d3be",
   "metadata": {},
   "source": [
    "関数なしの場合，`aのb乗`の計算と`bのa乗`のように，同じようなプログラムを繰り返し記述している．"
   ]
  },
  {
   "cell_type": "markdown",
   "id": "e8470efa",
   "metadata": {},
   "source": [
    "- 関数を用いたコード"
   ]
  },
  {
   "cell_type": "code",
   "execution_count": 2,
   "id": "f0f975c3",
   "metadata": {},
   "outputs": [
    {
     "name": "stderr",
     "output_type": "stream",
     "text": [
      "In file included from /var/folders/17/1fkqsg691_3flnsv7g5_wrz80000gn/T/tmp8rfug_pc.c:1:\n",
      "/Users/kushida/Desktop/tmp/jupyter-c-kernel/jupyter_c_kernel/resources/stdio_wrap.h:279:47: warning: token pasting of ',' and __VA_ARGS__ is a GNU extension [-Wgnu-zero-variadic-macro-arguments]\n",
      "#define scanf(format, ...) scanf_wrap(format, ##__VA_ARGS__, &scanf_wrap_number_read)\n",
      "                                              ^\n",
      "/Users/kushida/Desktop/tmp/jupyter-c-kernel/jupyter_c_kernel/resources/stdio_wrap.h:279:47: warning: token pasting of ',' and __VA_ARGS__ is a GNU extension [-Wgnu-zero-variadic-macro-arguments]\n",
      "2 warnings generated.\n"
     ]
    },
    {
     "name": "stdout",
     "output_type": "stream",
     "text": [
      "a=3\n",
      "b=2\n",
      "a^b + b^a = 17\n"
     ]
    }
   ],
   "source": [
    "#include <stdio.h>\n",
    "// べき乗を計算するための関数定義\n",
    "int bekijo(int c,int d)\n",
    "{\n",
    "    int i, calc=1;\n",
    "    \n",
    "    for(i=0;i<d;i++){\n",
    "        calc *= c;\n",
    "    }\n",
    "    return calc; // 値を返すreturn文\n",
    "}\n",
    " \n",
    "int main()\n",
    "{\n",
    "    int a, b, sum;\n",
    " \n",
    "    printf(\"a=\");\n",
    "    scanf(\"%d\",&a);\n",
    "    printf(\"b=\");\n",
    "    scanf(\"%d\",&b);\n",
    "    \n",
    "    // 関数を呼び出す\n",
    "    sum = bekijo(a,b)+bekijo(b,a);\n",
    "    \n",
    "    printf(\"a^b + b^a = %d\\n\",sum);\n",
    "    return (0);\n",
    "}\n"
   ]
  },
  {
   "cell_type": "markdown",
   "id": "b9f52e2c",
   "metadata": {},
   "source": [
    "```bash\n",
    "% ./a.out\n",
    "a = 2\n",
    "b = 3\n",
    "a^b + b^a = 17\n",
    "```"
   ]
  },
  {
   "cell_type": "markdown",
   "id": "c636fe29",
   "metadata": {},
   "source": [
    "[実行の可視化](http://pythontutor.com/visualize.html#code=%23include%20%3Cstdio.h%3E%0A//%20%E3%81%B9%E3%81%8D%E4%B9%97%E3%82%92%E8%A8%88%E7%AE%97%E3%81%99%E3%82%8B%E3%81%9F%E3%82%81%E3%81%AE%E9%96%A2%E6%95%B0%E5%AE%9A%E7%BE%A9%0Aint%20bekijo%28int%20c,int%20d%29%0A%7B%0A%20%20%20%20int%20i,%20calc%3D1%3B%0A%20%20%20%20%0A%20%20%20%20for%28i%3D0%3Bi%3Cd%3Bi%2B%2B%29%7B%0A%20%20%20%20%20%20%20%20calc%20*%3D%20c%3B%0A%20%20%20%20%7D%0A%20%20%20%20return%20calc%3B%20//%20%E5%80%A4%E3%82%92%E8%BF%94%E3%81%99return%E6%96%87%0A%7D%0A%20%0Aint%20main%28%29%0A%7B%0A%20%20%20%20int%20a,%20b,%20sum%3B%0A%20%0A%20%20%20%20a%20%3D%202%3B%0A%20%20%20%20b%20%3D%203%3B%0A%20%20%20%20%0A%20%20%20%20//%20%E9%96%A2%E6%95%B0%E3%82%92%E5%91%BC%E3%81%B3%E5%87%BA%E3%81%99%0A%20%20%20%20sum%20%3D%20bekijo%28a,b%29%2Bbekijo%28b,a%29%3B%0A%20%20%20%20%0A%20%20%20%20printf%28%22a%5Eb%20%2B%20b%5Ea%20%3D%20%25d%5Cn%22,sum%29%3B%0A%20%20%20%20return%20%280%29%3B%0A%7D&cumulative=false&curInstr=0&heapPrimitives=nevernest&mode=display&origin=opt-frontend.js&py=c&rawInputLstJSON=%5B%5D&textReferences=false)\n",
    "(a=2, b=3 の場合)"
   ]
  },
  {
   "cell_type": "markdown",
   "id": "370a4d94",
   "metadata": {},
   "source": [
    "- 関数を使うと，べき乗を計算する箇所が`bekijo`という名前の関数の呼び出しになっている．\n",
    "\n",
    "- これにより，１つのループで２通りの計算ができている．\n",
    "\n",
    "- `bekijo`という名前の関数は，ソースコード上方で定義しており，整数型の「引数」を2つとり，整数型の「戻り値」を返す関数としている。"
   ]
  },
  {
   "cell_type": "markdown",
   "id": "8879dd33",
   "metadata": {},
   "source": [
    "# 関数の定義のしかた，関数の引数と戻り値\n",
    "\n",
    "整数型の数を2つ受けとり，計算結果を整数型で一つ返す関数の例\n",
    "\n",
    "\n",
    "```\n",
    "戻り値の型　関数名（引数１の型　変数名１，引数２の型　変数名２， ．．．）\n",
    "{\n",
    " \n",
    "    /*  ここに処理を記述  */\n",
    " \n",
    "    return xxx;    /*  xxxが戻り値  */\n",
    "}\n",
    "```\n",
    "\n",
    "\n",
    "関数の書き方のルール\n",
    "\n",
    "- 「引数」の個数は 0（なし）, 1個, 2個, 3個, ... 任意の数。\n",
    "- 「戻り値」の個数は 0個または1個，つまり戻り値「有り」か「無し」かのどちらか。\n",
    "- 関数の名前（関数名）は，変数名と同じく a-z, A-Z, 0-9, _ などの組み合わせ。\n",
    "- 関数名は予約語（int, float など）以外，既に定義されている関数名（main, sqrt など）以外のもの。\n",
    "- 関数内で宣言した変数（引数を含む）は，その関数内のみで有効．他の関数では使えない。\n",
    "- 関数を呼び出すより前（＝ソースコードの上の方）に関数の定義（本体）を書く。\n",
    "- 呼び出し元と呼び出し先の引数の「型」および「個数」を一致させる必要がある。"
   ]
  },
  {
   "cell_type": "markdown",
   "id": "a4f8e62b",
   "metadata": {},
   "source": [
    "# 関数の呼び出しにともない実行される処理の順序\n"
   ]
  },
  {
   "cell_type": "markdown",
   "id": "60521d55",
   "metadata": {},
   "source": [
    "```\n",
    "int main()\n",
    "{\n",
    "    int a, b, c, sum;\n",
    "    \n",
    "    \n",
    "    sum = bekijo(a, b)\n",
    "    \n",
    "        \n",
    "}\n",
    "\n",
    "\n",
    "int bekijo(int c, int d)\n",
    "{\n",
    "    int i, calc=1;\n",
    "    \n",
    "    \n",
    "    return calc;\n",
    "}\n",
    "```"
   ]
  },
  {
   "cell_type": "markdown",
   "id": "78d7a35f",
   "metadata": {},
   "source": [
    "![alt text](./fig/関数例.png \"Title\")\n",
    "\n",
    "1. 関数の呼び出し元（ここではmain関数内の bekijo(a, b) の部分）から「引数」a, b を伴って関数bekijoに処理が移る。\n",
    "2. 関数が呼び出された時点での変数 a, b の値がコピーされ， c, d として受け取る。\n",
    "3. 関数内でいろいろな処理をした後，return文に到達すると，値を返す（return文）動作が行われ，ここで関数の処理が終了する。（return文以降に記述された処理は実行されない）\n",
    "4. 関数の戻り値（ここでは関数bekijo 内の return で指定された変数 x の値）を，main内のwaに代入。"
   ]
  },
  {
   "cell_type": "code",
   "execution_count": null,
   "id": "081aabcb",
   "metadata": {},
   "outputs": [],
   "source": []
  }
 ],
 "metadata": {
  "kernelspec": {
   "display_name": "C",
   "language": "c",
   "name": "c"
  },
  "language_info": {
   "file_extension": ".c",
   "mimetype": "text/x-csrc",
   "name": "text/x-csrc"
  },
  "toc": {
   "base_numbering": 1,
   "nav_menu": {},
   "number_sections": true,
   "sideBar": true,
   "skip_h1_title": false,
   "title_cell": "Table of Contents",
   "title_sidebar": "Contents",
   "toc_cell": false,
   "toc_position": {},
   "toc_section_display": true,
   "toc_window_display": true
  }
 },
 "nbformat": 4,
 "nbformat_minor": 5
}
