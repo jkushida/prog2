{
 "cells": [
  {
   "cell_type": "markdown",
   "id": "7583acea",
   "metadata": {},
   "source": [
    "http://c-lang.sevendays-study.com/ex-day5.html"
   ]
  },
  {
   "cell_type": "code",
   "execution_count": 9,
   "id": "36569389",
   "metadata": {},
   "outputs": [
    {
     "name": "stdout",
     "output_type": "stream",
     "text": [
      "学生番号:1 名前:山田太郎 年齢:18\n"
     ]
    }
   ],
   "source": [
    "#include <stdio.h>\n",
    "#include <string.h>\n",
    " \n",
    "//  学生のデータを入れる構造体\n",
    "struct student{\n",
    "    int id;         //  学生番号\n",
    "    char name[15]; //  名前\n",
    "    int age;        //  年齢\n",
    "};\n",
    " \n",
    "int main(){\n",
    "    struct student data;\n",
    "    data.id = 1;    //  番号を設定\n",
    "    strcpy(data.name,\"山田太郎\");   //  名前を設定\n",
    "    data.age = 18;  //  年齢を設定\n",
    "    //  データの内訳を表示\n",
    "    printf(\"学生番号:%d 名前:%s 年齢:%d\\n\",data.id,data.name,data.age);\n",
    "    return (0);\n",
    "}"
   ]
  },
  {
   "cell_type": "markdown",
   "id": "12f3133e",
   "metadata": {},
   "source": [
    "[実行の可視化](http://pythontutor.com/visualize.html#code=%0A%23include%20%3Cstdio.h%3E%0A%23include%20%3Cstring.h%3E%0A%20%0A//%20%20%E5%AD%A6%E7%94%9F%E3%81%AE%E3%83%87%E3%83%BC%E3%82%BF%E3%82%92%E5%85%A5%E3%82%8C%E3%82%8B%E6%A7%8B%E9%80%A0%E4%BD%93%0Astruct%20student%7B%0A%20%20%20%20int%20id%3B%20%20%20%20%20%20%20%20%20//%20%20%E5%AD%A6%E7%94%9F%E7%95%AA%E5%8F%B7%0A%20%20%20%20char%20name%5B15%5D%3B%20//%20%20%E5%90%8D%E5%89%8D%0A%20%20%20%20int%20age%3B%20%20%20%20%20%20%20%20//%20%20%E5%B9%B4%E9%BD%A2%0A%7D%3B%0A%20%0Aint%20main%28%29%7B%0A%20%20%20%20struct%20student%20data%3B%0A%20%20%20%20data.id%20%3D%201%3B%20%20%20%20//%20%20%E7%95%AA%E5%8F%B7%E3%82%92%E8%A8%AD%E5%AE%9A%0A%20%20%20%20strcpy%28data.name,%22%E5%B1%B1%E7%94%B0%E5%A4%AA%E9%83%8E%22%29%3B%20%20%20//%20%20%E5%90%8D%E5%89%8D%E3%82%92%E8%A8%AD%E5%AE%9A%0A%20%20%20%20data.age%20%3D%2018%3B%20%20//%20%20%E5%B9%B4%E9%BD%A2%E3%82%92%E8%A8%AD%E5%AE%9A%0A%20%20%20%20//%20%20%E3%83%87%E3%83%BC%E3%82%BF%E3%81%AE%E5%86%85%E8%A8%B3%E3%82%92%E8%A1%A8%E7%A4%BA%0A%20%20%20%20printf%28%22%E5%AD%A6%E7%94%9F%E7%95%AA%E5%8F%B7%3A%25d%20%E5%90%8D%E5%89%8D%3A%25s%20%E5%B9%B4%E9%BD%A2%3A%25d%5Cn%22,data.id,data.name,data.age%29%3B%0A%20%20%20%20return%20%280%29%3B%0A%7D&cumulative=false&curInstr=0&heapPrimitives=nevernest&mode=display&origin=opt-frontend.js&py=c_gcc9.3.0&rawInputLstJSON=%5B%5D&textReferences=false)"
   ]
  },
  {
   "cell_type": "code",
   "execution_count": 12,
   "id": "a44319b3",
   "metadata": {},
   "outputs": [
    {
     "name": "stdout",
     "output_type": "stream",
     "text": [
      "学生番号:1 名前:山田太郎 年齢:18\n",
      "学生番号:2 名前:佐藤良子 年齢:19\n",
      "学生番号:3 名前:太田隆 年齢:18\n",
      "学生番号:4 名前:中田優子 年齢:18\n"
     ]
    }
   ],
   "source": [
    "#include <stdio.h>\n",
    "#include <string.h>\n",
    " \n",
    "//  学生のデータを入れる構造体\n",
    "struct student{\n",
    "    int id; //  学生番号\n",
    "    char name[15]; //  名前\n",
    "    int age;        //  年齢\n",
    "};\n",
    " \n",
    "//  構造体の名前をtypedefで定義\n",
    "typedef struct student student_data;\n",
    " \n",
    "int main(){\n",
    "    int i;\n",
    "    student_data data[] = {\n",
    "        { 1,\"山田太郎\",18 },\n",
    "        { 2,\"佐藤良子\",19 },\n",
    "        { 3,\"太田隆\",18 },\n",
    "        { 4,\"中田優子\",18 }\n",
    "    };\n",
    "    //  データの内訳を表示\n",
    "    for(i = 0; i < 4; i++){\n",
    "        printf(\"学生番号:%d 名前:%s 年齢:%d\\n\",data[i].id,data[i].name,data[i].age);\n",
    "    }\n",
    "    return (0);\n",
    "}"
   ]
  },
  {
   "cell_type": "markdown",
   "id": "9338b7ef",
   "metadata": {},
   "source": [
    "[実行の可視化](http://pythontutor.com/visualize.html#code=%23include%20%3Cstdio.h%3E%0A%23include%20%3Cstring.h%3E%0A%20%0A//%20%20%E5%AD%A6%E7%94%9F%E3%81%AE%E3%83%87%E3%83%BC%E3%82%BF%E3%82%92%E5%85%A5%E3%82%8C%E3%82%8B%E6%A7%8B%E9%80%A0%E4%BD%93%0Astruct%20student%7B%0A%20%20%20%20int%20id%3B%20//%20%20%E5%AD%A6%E7%94%9F%E7%95%AA%E5%8F%B7%0A%20%20%20%20char%20name%5B15%5D%3B%20//%20%20%E5%90%8D%E5%89%8D%0A%20%20%20%20int%20age%3B%20%20%20%20%20%20%20%20//%20%20%E5%B9%B4%E9%BD%A2%0A%7D%3B%0A%20%0A//%20%20%E6%A7%8B%E9%80%A0%E4%BD%93%E3%81%AE%E5%90%8D%E5%89%8D%E3%82%92typedef%E3%81%A7%E5%AE%9A%E7%BE%A9%0Atypedef%20struct%20student%20student_data%3B%0A%20%0Aint%20main%28%29%7B%0A%20%20%20%20int%20i%3B%0A%20%20%20%20student_data%20data%5B%5D%20%3D%20%7B%0A%20%20%20%20%20%20%20%20%7B%201,%22%E5%B1%B1%E7%94%B0%E5%A4%AA%E9%83%8E%22,18%20%7D,%0A%20%20%20%20%20%20%20%20%7B%202,%22%E4%BD%90%E8%97%A4%E8%89%AF%E5%AD%90%22,19%20%7D,%0A%20%20%20%20%20%20%20%20%7B%203,%22%E5%A4%AA%E7%94%B0%E9%9A%86%22,18%20%7D,%0A%20%20%20%20%20%20%20%20%7B%204,%22%E4%B8%AD%E7%94%B0%E5%84%AA%E5%AD%90%22,18%20%7D%0A%20%20%20%20%7D%3B%0A%20%20%20%20//%20%20%E3%83%87%E3%83%BC%E3%82%BF%E3%81%AE%E5%86%85%E8%A8%B3%E3%82%92%E8%A1%A8%E7%A4%BA%0A%20%20%20%20for%28i%20%3D%200%3B%20i%20%3C%204%3B%20i%2B%2B%29%7B%0A%20%20%20%20%20%20%20%20printf%28%22%E5%AD%A6%E7%94%9F%E7%95%AA%E5%8F%B7%3A%25d%20%E5%90%8D%E5%89%8D%3A%25s%20%E5%B9%B4%E9%BD%A2%3A%25d%5Cn%22,data%5Bi%5D.id,data%5Bi%5D.name,data%5Bi%5D.age%29%3B%0A%20%20%20%20%7D%0A%20%20%20%20return%20%280%29%3B%0A%7D&cumulative=false&curInstr=0&heapPrimitives=nevernest&mode=display&origin=opt-frontend.js&py=c_gcc9.3.0&rawInputLstJSON=%5B%5D&textReferences=false)"
   ]
  },
  {
   "cell_type": "code",
   "execution_count": 1,
   "id": "4700dd35",
   "metadata": {},
   "outputs": [
    {
     "name": "stdout",
     "output_type": "stream",
     "text": [
      "record #1\n",
      "0.000 1.100 2.200 3.300 4.400 \n",
      "record #2\n",
      "12.300 23.400 34.500 \n",
      "record #3\n",
      "0.987 0.654 \n"
     ]
    }
   ],
   "source": [
    "#include <stdio.h>\n",
    "\n",
    "#define N 3\n",
    "\n",
    "/* 構造体data_recordを定義し、新たにそれをRECORD型として定義 */\n",
    "typedef struct data_record {  /* double型データを格納するための構造体 */\n",
    "\n",
    "         int id;                  /* 識別番号 */\n",
    "\n",
    "         int length;             /* 格納データの長さ */\n",
    "\n",
    "         double data[6];       /* データ格納用配列 */\n",
    "\n",
    "} RECORD;\n",
    "\n",
    "\n",
    "int main(void) {\n",
    "\n",
    "         /* RECORD型構造体の配列を宣言し、各要素の各メンバを初期化 */\n",
    "         RECORD tbl[N] = {{1, 5, {0.0, 1.1, 2.2, 3.3, 4.4}},\n",
    "                             {2, 3, {12.3, 23.4, 34.5}},\n",
    "                             {3, 2, {0.987, 0.654}}};\n",
    "         int i, j;\n",
    "         /* 配列tblの各要素（FILE型構造体オブジェクト）のメンバ変数data（配列）の各要素（double型実数）の値を表示 */\n",
    "         for (i = 0; i < N; i++) {\n",
    "\n",
    "                 printf(\"record #%d\\n\", tbl[i].id);\n",
    "\n",
    "                 for (j = 0; j < tbl[i].length; j++)\n",
    "\n",
    "                          printf(\"%5.3f \", tbl[i].data[j]);\n",
    "\n",
    "                 printf(\"\\n\");\n",
    "\n",
    "         }\n",
    "\n",
    "         return 0;\n",
    "\n",
    "}"
   ]
  },
  {
   "cell_type": "markdown",
   "id": "b7a495d7",
   "metadata": {},
   "source": [
    "[実行の可視化](http://pythontutor.com/visualize.html#code=%23include%20%3Cstdio.h%3E%0A%0A%23define%20N%203%0A%0A/*%20%E6%A7%8B%E9%80%A0%E4%BD%93data_record%E3%82%92%E5%AE%9A%E7%BE%A9%E3%81%97%E3%80%81%E6%96%B0%E3%81%9F%E3%81%AB%E3%81%9D%E3%82%8C%E3%82%92RECORD%E5%9E%8B%E3%81%A8%E3%81%97%E3%81%A6%E5%AE%9A%E7%BE%A9%20*/%0Atypedef%20struct%20data_record%20%7B%20%20/*%20double%E5%9E%8B%E3%83%87%E3%83%BC%E3%82%BF%E3%82%92%E6%A0%BC%E7%B4%8D%E3%81%99%E3%82%8B%E3%81%9F%E3%82%81%E3%81%AE%E6%A7%8B%E9%80%A0%E4%BD%93%20*/%0A%0A%20%20%20%20%20%20%20%20%20int%20id%3B%20%20%20%20%20%20%20%20%20%20%20%20%20%20%20%20%20%20/*%20%E8%AD%98%E5%88%A5%E7%95%AA%E5%8F%B7%20*/%0A%0A%20%20%20%20%20%20%20%20%20int%20length%3B%20%20%20%20%20%20%20%20%20%20%20%20%20/*%20%E6%A0%BC%E7%B4%8D%E3%83%87%E3%83%BC%E3%82%BF%E3%81%AE%E9%95%B7%E3%81%95%20*/%0A%0A%20%20%20%20%20%20%20%20%20double%20data%5B6%5D%3B%20%20%20%20%20%20%20/*%20%E3%83%87%E3%83%BC%E3%82%BF%E6%A0%BC%E7%B4%8D%E7%94%A8%E9%85%8D%E5%88%97%20*/%0A%0A%7D%20RECORD%3B%0A%0A%0Aint%20main%28void%29%20%7B%0A%0A%20%20%20%20%20%20%20%20%20/*%20RECORD%E5%9E%8B%E6%A7%8B%E9%80%A0%E4%BD%93%E3%81%AE%E9%85%8D%E5%88%97%E3%82%92%E5%AE%A3%E8%A8%80%E3%81%97%E3%80%81%E5%90%84%E8%A6%81%E7%B4%A0%E3%81%AE%E5%90%84%E3%83%A1%E3%83%B3%E3%83%90%E3%82%92%E5%88%9D%E6%9C%9F%E5%8C%96%20*/%0A%20%20%20%20%20%20%20%20%20RECORD%20tbl%5BN%5D%20%3D%20%7B%7B1,%205,%20%7B0.0,%201.1,%202.2,%203.3,%204.4%7D%7D,%0A%20%20%20%20%20%20%20%20%20%20%20%20%20%20%20%20%20%20%20%20%20%20%20%20%20%20%20%20%20%7B2,%203,%20%7B12.3,%2023.4,%2034.5%7D%7D,%0A%20%20%20%20%20%20%20%20%20%20%20%20%20%20%20%20%20%20%20%20%20%20%20%20%20%20%20%20%20%7B3,%202,%20%7B0.987,%200.654%7D%7D%7D%3B%0A%20%20%20%20%20%20%20%20%20int%20i,%20j%3B%0A%20%20%20%20%20%20%20%20%20/*%20%E9%85%8D%E5%88%97tbl%E3%81%AE%E5%90%84%E8%A6%81%E7%B4%A0%EF%BC%88FILE%E5%9E%8B%E6%A7%8B%E9%80%A0%E4%BD%93%E3%82%AA%E3%83%96%E3%82%B8%E3%82%A7%E3%82%AF%E3%83%88%EF%BC%89%E3%81%AE%E3%83%A1%E3%83%B3%E3%83%90%E5%A4%89%E6%95%B0data%EF%BC%88%E9%85%8D%E5%88%97%EF%BC%89%E3%81%AE%E5%90%84%E8%A6%81%E7%B4%A0%EF%BC%88double%E5%9E%8B%E5%AE%9F%E6%95%B0%EF%BC%89%E3%81%AE%E5%80%A4%E3%82%92%E8%A1%A8%E7%A4%BA%20*/%0A%20%20%20%20%20%20%20%20%20for%20%28i%20%3D%200%3B%20i%20%3C%20N%3B%20i%2B%2B%29%20%7B%0A%0A%20%20%20%20%20%20%20%20%20%20%20%20%20%20%20%20%20printf%28%22record%20%23%25d%5Cn%22,%20tbl%5Bi%5D.id%29%3B%0A%0A%20%20%20%20%20%20%20%20%20%20%20%20%20%20%20%20%20for%20%28j%20%3D%200%3B%20j%20%3C%20tbl%5Bi%5D.length%3B%20j%2B%2B%29%0A%0A%20%20%20%20%20%20%20%20%20%20%20%20%20%20%20%20%20%20%20%20%20%20%20%20%20%20printf%28%22%255.3f%20%22,%20tbl%5Bi%5D.data%5Bj%5D%29%3B%0A%0A%20%20%20%20%20%20%20%20%20%20%20%20%20%20%20%20%20printf%28%22%5Cn%22%29%3B%0A%0A%20%20%20%20%20%20%20%20%20%7D%0A%0A%20%20%20%20%20%20%20%20%20return%200%3B%0A%0A%7D&cumulative=false&curInstr=0&heapPrimitives=nevernest&mode=display&origin=opt-frontend.js&py=c_gcc9.3.0&rawInputLstJSON=%5B%5D&textReferences=false)"
   ]
  },
  {
   "cell_type": "code",
   "execution_count": 3,
   "id": "da9e92bf",
   "metadata": {},
   "outputs": [
    {
     "name": "stdout",
     "output_type": "stream",
     "text": [
      "student #0: 0.000000\n",
      "student #1: 10.000000\n",
      "student #2: 20.000000\n",
      "student #3: 30.000000\n",
      "student #4: 40.000000\n"
     ]
    }
   ],
   "source": [
    "// 構造体の配列\n",
    "// http://www.den.t.u-tokyo.ac.jp/ad_prog/struct/#%E3%83%9D%E3%82%A4%E3%83%B3%E3%82%BF%E3%81%A8%E9%85%8D%E5%88%97%E3%81%AE%E5%8B%95%E7%9A%84%E7%A2%BA%E4%BF%9D\n",
    "\n",
    "\n",
    "#include <stdio.h>\n",
    "\n",
    "typedef struct {\n",
    "    int id;\n",
    "    double score;\n",
    "} student;\n",
    "\n",
    "// 静的配列の宣言\n",
    "#define N 5\n",
    "student students[N];\n",
    "\n",
    "int main() {\n",
    "    // 値を代入\n",
    "    for (int i = 0; i < N; i++) {\n",
    "        students[i].id = i;\n",
    "        students[i].score = i * 10.0;\n",
    "    }\n",
    "    \n",
    "    // 結果の出力\n",
    "    for (int i = 0; i < N; i++) {\n",
    "        printf(\"student #%d: %f\\n\", students[i].id, students[i].score);\n",
    "    }\n",
    "}"
   ]
  },
  {
   "cell_type": "markdown",
   "id": "1379d1ab",
   "metadata": {},
   "source": [
    "[実行の可視化](http://pythontutor.com/visualize.html#code=%23include%20%3Cstdio.h%3E%0A%0Atypedef%20struct%20%7B%0A%20%20%20%20int%20id%3B%0A%20%20%20%20double%20score%3B%0A%7D%20student%3B%0A%0A//%20%E9%9D%99%E7%9A%84%E9%85%8D%E5%88%97%E3%81%AE%E5%AE%A3%E8%A8%80%0A%23define%20N%205%0Astudent%20students%5BN%5D%3B%0A%0Aint%20main%28%29%20%7B%0A%20%20%20%20//%20%E5%80%A4%E3%82%92%E4%BB%A3%E5%85%A5%0A%20%20%20%20for%20%28int%20i%20%3D%200%3B%20i%20%3C%20N%3B%20i%2B%2B%29%20%7B%0A%20%20%20%20%20%20%20%20students%5Bi%5D.id%20%3D%20i%3B%0A%20%20%20%20%20%20%20%20students%5Bi%5D.score%20%3D%20i%20*%2010.0%3B%0A%20%20%20%20%7D%0A%20%20%20%20%0A%20%20%20%20//%20%E7%B5%90%E6%9E%9C%E3%81%AE%E5%87%BA%E5%8A%9B%0A%20%20%20%20for%20%28int%20i%20%3D%200%3B%20i%20%3C%20N%3B%20i%2B%2B%29%20%7B%0A%20%20%20%20%20%20%20%20printf%28%22student%20%23%25d%3A%20%25f%5Cn%22,%20students%5Bi%5D.id,%20students%5Bi%5D.score%29%3B%0A%20%20%20%20%7D%0A%7D%0A&cumulative=false&curInstr=27&heapPrimitives=nevernest&mode=display&origin=opt-frontend.js&py=c&rawInputLstJSON=%5B%5D&textReferences=false)"
   ]
  },
  {
   "cell_type": "code",
   "execution_count": 4,
   "id": "8f0cece9",
   "metadata": {},
   "outputs": [
    {
     "name": "stdout",
     "output_type": "stream",
     "text": [
      "student #0: 0.000000\n",
      "student #1: 10.000000\n",
      "student #2: 20.000000\n",
      "student #3: 30.000000\n",
      "student #4: 40.000000\n"
     ]
    }
   ],
   "source": [
    "#include <stdio.h>\n",
    "#include <stdlib.h>\n",
    "\n",
    "typedef struct {\n",
    "    int id;\n",
    "    double score;\n",
    "} student;\n",
    "\n",
    "int main() {\n",
    "    // メモリの動的確保\n",
    "    int n = 5;\n",
    "    student *students = (student*)malloc(n * sizeof(student));\n",
    "\n",
    "    // 値を代入\n",
    "    for (int i = 0; i < n; i++) {\n",
    "        students[i].id = i;\n",
    "        students[i].score = i * 10.0;\n",
    "    }\n",
    "\n",
    "    // 結果の出力\n",
    "    for (int i = 0; i < n; i++) {\n",
    "        printf(\"student #%d: %f\\n\", students[i].id, students[i].score);\n",
    "    }\n",
    "\n",
    "    // メモリの解放\n",
    "    free(students);\n",
    "}"
   ]
  },
  {
   "cell_type": "markdown",
   "id": "7308df5c",
   "metadata": {},
   "source": [
    "[実行の可視化](http://pythontutor.com/visualize.html#code=%23include%20%3Cstdio.h%3E%0A%23include%20%3Cstdlib.h%3E%0A%0Atypedef%20struct%20%7B%0A%20%20%20%20int%20id%3B%0A%20%20%20%20double%20score%3B%0A%7D%20student%3B%0A%0Aint%20main%28%29%20%7B%0A%20%20%20%20//%20%E3%83%A1%E3%83%A2%E3%83%AA%E3%81%AE%E5%8B%95%E7%9A%84%E7%A2%BA%E4%BF%9D%0A%20%20%20%20int%20n%20%3D%205%3B%0A%20%20%20%20student%20*students%20%3D%20%28student*%29malloc%28n%20*%20sizeof%28student%29%29%3B%0A%0A%20%20%20%20//%20%E5%80%A4%E3%82%92%E4%BB%A3%E5%85%A5%0A%20%20%20%20for%20%28int%20i%20%3D%200%3B%20i%20%3C%20n%3B%20i%2B%2B%29%20%7B%0A%20%20%20%20%20%20%20%20students%5Bi%5D.id%20%3D%20i%3B%0A%20%20%20%20%20%20%20%20students%5Bi%5D.score%20%3D%20i%20*%2010.0%3B%0A%20%20%20%20%7D%0A%0A%20%20%20%20//%20%E7%B5%90%E6%9E%9C%E3%81%AE%E5%87%BA%E5%8A%9B%0A%20%20%20%20for%20%28int%20i%20%3D%200%3B%20i%20%3C%20n%3B%20i%2B%2B%29%20%7B%0A%20%20%20%20%20%20%20%20printf%28%22student%20%23%25d%3A%20%25f%5Cn%22,%20students%5Bi%5D.id,%20students%5Bi%5D.score%29%3B%0A%20%20%20%20%7D%0A%0A%20%20%20%20//%20%E3%83%A1%E3%83%A2%E3%83%AA%E3%81%AE%E8%A7%A3%E6%94%BE%0A%20%20%20%20free%28students%29%3B%0A%7D%0A&cumulative=false&curInstr=0&heapPrimitives=nevernest&mode=display&origin=opt-frontend.js&py=c&rawInputLstJSON=%5B%5D&textReferences=false)"
   ]
  },
  {
   "cell_type": "code",
   "execution_count": null,
   "id": "ce63220c",
   "metadata": {},
   "outputs": [],
   "source": [
    "#include <stdio.h>\n",
    "#include <stdlib.h>\n",
    "\n",
    "typedef struct {\n",
    "    char name[32];\n",
    "    int *subjects;\n",
    "} student;\n",
    "\n",
    "int main() {\n",
    "    student taro;\n",
    "    sprintf(taro.name, \"Taro\");  // nameを\"Taro\"にする\n",
    "\n",
    "    // subjectsのメモリ確保と値の代入\n",
    "    int n = 2;\n",
    "    taro.subjects = (int*)calloc(n, sizeof(int));\n",
    "    taro.subjects[0] = 100;\n",
    "    taro.subjects[1] = 80;\n",
    "\n",
    "    // 結果の出力\n",
    "    printf(\"Total (%s): %d\\n\", taro.name, taro.subjects[0] + taro.subjects[1]);\n",
    "\n",
    "    // メモリの解放\n",
    "    free(taro.subjects);\n",
    "}"
   ]
  },
  {
   "cell_type": "markdown",
   "id": "82704d3e",
   "metadata": {},
   "source": [
    "[実行の可視化](http://pythontutor.com/visualize.html#code=%23include%20%3Cstdio.h%3E%0A%23include%20%3Cstdlib.h%3E%0A%0Atypedef%20struct%20%7B%0A%20%20%20%20char%20name%5B10%5D%3B%0A%20%20%20%20int%20*subjects%3B%0A%7D%20student%3B%0A%0Aint%20main%28%29%20%7B%0A%20%20%20%20student%20taro%3B%0A%20%20%20%20sprintf%28taro.name,%20%22Taro%22%29%3B%20%20//%20name%E3%82%92%22Taro%22%E3%81%AB%E3%81%99%E3%82%8B%0A%0A%20%20%20%20//%20subjects%E3%81%AE%E3%83%A1%E3%83%A2%E3%83%AA%E7%A2%BA%E4%BF%9D%E3%81%A8%E5%80%A4%E3%81%AE%E4%BB%A3%E5%85%A5%0A%20%20%20%20int%20n%20%3D%202%3B%0A%20%20%20%20taro.subjects%20%3D%20%28int*%29malloc%28n%20*%20sizeof%28int%29%29%3B%0A%20%20%20%20taro.subjects%5B0%5D%20%3D%20100%3B%0A%20%20%20%20taro.subjects%5B1%5D%20%3D%2080%3B%0A%0A%20%20%20%20//%20%E7%B5%90%E6%9E%9C%E3%81%AE%E5%87%BA%E5%8A%9B%0A%20%20%20%20printf%28%22Total%20%28%25s%29%3A%20%25d%5Cn%22,%20taro.name,%20taro.subjects%5B0%5D%20%2B%20taro.subjects%5B1%5D%29%3B%0A%0A%20%20%20%20//%20%E3%83%A1%E3%83%A2%E3%83%AA%E3%81%AE%E8%A7%A3%E6%94%BE%0A%20%20%20%20free%28taro.subjects%29%3B%0A%7D&cumulative=false&curInstr=0&heapPrimitives=nevernest&mode=display&origin=opt-frontend.js&py=c&rawInputLstJSON=%5B%5D&textReferences=false)"
   ]
  },
  {
   "cell_type": "code",
   "execution_count": 5,
   "id": "e81a1403",
   "metadata": {},
   "outputs": [
    {
     "name": "stdout",
     "output_type": "stream",
     "text": [
      "Total (Taro): 180\n"
     ]
    }
   ],
   "source": [
    "#include <stdio.h>\n",
    "#include <stdlib.h>\n",
    "\n",
    "typedef struct {\n",
    "    char name[10];\n",
    "    int *subjects;\n",
    "} student;\n",
    "\n",
    "int main() {\n",
    "    // 構造体のポインタを準備\n",
    "    student taro;\n",
    "    student *taro_ptr;\n",
    "    taro_ptr = &taro;\n",
    "\n",
    "    // アクセス方法が値とポインタで異なることに注意\n",
    "    sprintf(taro_ptr->name, \"Taro\");  // nameを\"Taro\"にする\n",
    "\n",
    "    // subjectsのメモリ確保と値の代入\n",
    "    const int n = 2;\n",
    "    taro_ptr->subjects = (int*)malloc(n *sizeof(int));\n",
    "    taro_ptr->subjects[0] = 100;\n",
    "    taro_ptr->subjects[1] = 80;\n",
    "\n",
    "    // 結果の出力\n",
    "    printf(\"Total (%s): %d\\n\", taro_ptr->name, taro_ptr->subjects[0] + taro_ptr->subjects[1]);\n",
    "\n",
    "    // メモリの解放\n",
    "    free(taro.subjects);\n",
    "}"
   ]
  },
  {
   "cell_type": "markdown",
   "id": "2ab4de62",
   "metadata": {},
   "source": [
    "[実行の可視化](http://pythontutor.com/visualize.html#code=%23include%20%3Cstdio.h%3E%0A%23include%20%3Cstdlib.h%3E%0A%0Atypedef%20struct%20%7B%0A%20%20%20%20char%20name%5B10%5D%3B%0A%20%20%20%20int%20*subjects%3B%0A%7D%20student%3B%0A%0Aint%20main%28%29%20%7B%0A%20%20%20%20//%20%E6%A7%8B%E9%80%A0%E4%BD%93%E3%81%AE%E3%83%9D%E3%82%A4%E3%83%B3%E3%82%BF%E3%82%92%E6%BA%96%E5%82%99%0A%20%20%20%20student%20taro%3B%0A%20%20%20%20student%20*taro_ptr%3B%0A%20%20%20%20taro_ptr%20%3D%20%26taro%3B%0A%0A%20%20%20%20//%20%E3%82%A2%E3%82%AF%E3%82%BB%E3%82%B9%E6%96%B9%E6%B3%95%E3%81%8C%E5%80%A4%E3%81%A8%E3%83%9D%E3%82%A4%E3%83%B3%E3%82%BF%E3%81%A7%E7%95%B0%E3%81%AA%E3%82%8B%E3%81%93%E3%81%A8%E3%81%AB%E6%B3%A8%E6%84%8F%0A%20%20%20%20sprintf%28taro_ptr-%3Ename,%20%22Taro%22%29%3B%20%20//%20name%E3%82%92%22Taro%22%E3%81%AB%E3%81%99%E3%82%8B%0A%0A%20%20%20%20//%20subjects%E3%81%AE%E3%83%A1%E3%83%A2%E3%83%AA%E7%A2%BA%E4%BF%9D%E3%81%A8%E5%80%A4%E3%81%AE%E4%BB%A3%E5%85%A5%0A%20%20%20%20const%20int%20n%20%3D%202%3B%0A%20%20%20%20taro_ptr-%3Esubjects%20%3D%20%28int*%29malloc%28n%20*sizeof%28int%29%29%3B%0A%20%20%20%20taro_ptr-%3Esubjects%5B0%5D%20%3D%20100%3B%0A%20%20%20%20taro_ptr-%3Esubjects%5B1%5D%20%3D%2080%3B%0A%0A%20%20%20%20//%20%E7%B5%90%E6%9E%9C%E3%81%AE%E5%87%BA%E5%8A%9B%0A%20%20%20%20printf%28%22Total%20%28%25s%29%3A%20%25d%5Cn%22,%20taro_ptr-%3Ename,%20taro_ptr-%3Esubjects%5B0%5D%20%2B%20taro_ptr-%3Esubjects%5B1%5D%29%3B%0A%0A%20%20%20%20//%20%E3%83%A1%E3%83%A2%E3%83%AA%E3%81%AE%E8%A7%A3%E6%94%BE%0A%20%20%20%20free%28taro.subjects%29%3B%0A%7D&cumulative=false&curInstr=0&heapPrimitives=nevernest&mode=display&origin=opt-frontend.js&py=c_gcc9.3.0&rawInputLstJSON=%5B%5D&textReferences=false)"
   ]
  },
  {
   "cell_type": "code",
   "execution_count": null,
   "id": "fb5dd231",
   "metadata": {},
   "outputs": [],
   "source": []
  }
 ],
 "metadata": {
  "kernelspec": {
   "display_name": "C",
   "language": "c",
   "name": "c"
  },
  "language_info": {
   "file_extension": ".c",
   "mimetype": "text/x-csrc",
   "name": "text/x-csrc"
  },
  "toc": {
   "base_numbering": 1,
   "nav_menu": {},
   "number_sections": true,
   "sideBar": true,
   "skip_h1_title": false,
   "title_cell": "Table of Contents",
   "title_sidebar": "Contents",
   "toc_cell": false,
   "toc_position": {},
   "toc_section_display": true,
   "toc_window_display": false
  }
 },
 "nbformat": 4,
 "nbformat_minor": 5
}
