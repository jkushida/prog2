{
 "cells": [
  {
   "cell_type": "markdown",
   "id": "14e80755",
   "metadata": {},
   "source": [
    "# typedef文"
   ]
  },
  {
   "cell_type": "markdown",
   "id": "bf1c5139",
   "metadata": {},
   "source": [
    "`typedef`を用いると，既に定義されている型に，別の新しい名前をつけて定義することができる．\n",
    "\n",
    "`typedef`は型(type)定義(definition)の略であり，次のように記述する．\n",
    "```c\n",
    "typedef　既にある型　定義する新しい型名;\n",
    "```"
   ]
  },
  {
   "cell_type": "code",
   "execution_count": 4,
   "id": "71752cb4",
   "metadata": {},
   "outputs": [
    {
     "name": "stdout",
     "output_type": "stream",
     "text": [
      "a = 3, b = 5"
     ]
    }
   ],
   "source": [
    "#include <stdio.h>\n",
    " \n",
    "typedef int seisu_t;\n",
    "\n",
    "int main()\n",
    "{\n",
    "  int a; //これは整数型変数の宣言\n",
    "  seisu_t b; //これも整数型変数の宣言\n",
    "  \n",
    "  a = 3;\n",
    "  b = 5;\n",
    "  \n",
    "  printf(\"a = %d, b = %d\", a, b);\n",
    "  return 0;\n",
    "}"
   ]
  },
  {
   "cell_type": "markdown",
   "id": "8452e164",
   "metadata": {},
   "source": [
    "このコードでは\n",
    "```c\n",
    "typedef int seisu_t;\n",
    "```\n",
    "で，`seisu_t`という名前の型は int 型であると定義している． \n",
    "\n",
    "この型定義をした後は， `seisu_t` を int の代わりに使うことができる． \n",
    "\n",
    "（当然，int も以前と同様に使うことができる．）"
   ]
  },
  {
   "cell_type": "markdown",
   "id": "f9be034b",
   "metadata": {},
   "source": [
    "# typedef structによる構造体の定義\n",
    "\n",
    "構造体の宣言では，頭に`struct`が付くため型名が長くなる．\n",
    "\n",
    "そのため，構造体を用いる際は`typedef`を使って宣言を簡潔にすることが多い．\n",
    "\n",
    "以下のコードは，**通常の構造体の宣言**と**typedefを使った構造体**の宣言である．"
   ]
  },
  {
   "cell_type": "code",
   "execution_count": 18,
   "id": "996f2cd8",
   "metadata": {},
   "outputs": [
    {
     "name": "stdout",
     "output_type": "stream",
     "text": [
      "学生番号: 1,  氏名: Yamada,  平均点: 67.300000\n"
     ]
    }
   ],
   "source": [
    "// 通常の構造体の宣言\n",
    "#include <stdio.h>\n",
    "#include <string.h>\n",
    " \n",
    "struct student{      // 学生情報\n",
    "  int no;                    // 学生番号\n",
    "  char name[10];   // 氏名\n",
    "  double average;  // 平均点\n",
    "};\n",
    " \n",
    "int main(){\n",
    "  struct student seito;\n",
    "  seito.no = 1;\n",
    "  strcpy(seito.name, \"Yamada\");   \n",
    "  seito.average = 67.3;\n",
    "  printf(\"学生番号: %d,  氏名: %s,  平均点: %f\\n\",seito.no, seito.name, seito.average);\n",
    "  return 0;\n",
    "}"
   ]
  },
  {
   "cell_type": "code",
   "execution_count": 17,
   "id": "3fb17981",
   "metadata": {
    "scrolled": true
   },
   "outputs": [
    {
     "name": "stdout",
     "output_type": "stream",
     "text": [
      "学生番号: 1,  氏名: Yamada,  平均点: 67.300000\n"
     ]
    }
   ],
   "source": [
    "// typedefを使った構造体の宣言\n",
    "#include <stdio.h>\n",
    "#include <string.h>\n",
    "\n",
    "typedef struct {            // 学生情報\n",
    "  int no;                          // 学生番号\n",
    "  char name[10];          // 氏名\n",
    "  double average;         // 平均点\n",
    "} student_t;\n",
    " \n",
    "int main()\n",
    "{\n",
    "  student_t seito;\n",
    "  seito.no = 1; \n",
    "  strcpy(seito.name, \"Yamada\");     \n",
    "  seito.average = 67.3;      \n",
    "  \n",
    "  printf(\"学生番号: %d,  氏名: %s,  平均点: %f\\n\",seito.no, seito.name, seito.average);\n",
    "\n",
    "  return 0;\n",
    "}"
   ]
  },
  {
   "cell_type": "markdown",
   "id": "c327e276",
   "metadata": {},
   "source": [
    "このように`typedef`を用いることで，短い記述で構造体を定義できる．\n",
    "\n",
    "コーディングの際は，「`typedef`で定義した型名には` _t` を付ける」など，ルールを決めておくと，` typedef` で定義された型名であることが判別できるので便利である．\n"
   ]
  },
  {
   "cell_type": "code",
   "execution_count": 16,
   "id": "0fa32c18",
   "metadata": {},
   "outputs": [
    {
     "name": "stdout",
     "output_type": "stream",
     "text": [
      "0 Tanaka 20000\n",
      "1 Taka 250000\n",
      "2 Kei 350000\n",
      "3 Taro 450000\n"
     ]
    }
   ],
   "source": [
    "// typedefを使った構造体のコード\n",
    "#include <stdio.h>\n",
    "#include <string.h>\n",
    "\n",
    "typedef struct {  // 社員構造体    \n",
    "  int no;         // 社員番号  \n",
    "  char name[10];   // 氏名\n",
    "  double kyuuyo; // 給与 \n",
    "}syain_t;\n",
    " \n",
    "int main()\n",
    "{\n",
    "  int i;\n",
    "\n",
    "  syain_t s1;\n",
    "  syain_t s2[3] = {\n",
    "    {1, \"Taka\", 250000},\n",
    "    {2, \"Kei\", 350000},\n",
    "    {3, \"Taro\", 450000},\n",
    "  };\n",
    "  syain_t *p1, *p2;\n",
    "  char name[10] = \"Tanaka\";\n",
    "  \n",
    "  s1.no = 0;\n",
    "  strcpy(s1.name, name);     /* 文字型配列に文字型配列をコピー */\n",
    "  s1.kyuuyo = 20000;\n",
    "  \n",
    "  p1 = &s1;\n",
    "  p2 = s2;\n",
    "    \n",
    "  //  間接参照の場合はドット演算子を使う\n",
    "  printf(\"%d %s %0.f\\n\",(*p1).no,  (*p1).name,  (*p1).kyuuyo);\n",
    "  \n",
    "  for(i = 0; i<3; i++)\n",
    "    //  ポインタの場合はアロー演算子を使う\n",
    "    printf(\"%d %s %0.f\\n\", (p2+i)->no, (p2+i)->name, (p2+i)->kyuuyo);\n",
    "    //printf(\"%d %s %0.f\\n\", p2[i].no, p2[i].name, p2[i].kyuuyo);\n",
    "\n",
    "  return 0;\n",
    "}"
   ]
  },
  {
   "cell_type": "code",
   "execution_count": null,
   "id": "e6c6b8d1",
   "metadata": {},
   "outputs": [],
   "source": []
  }
 ],
 "metadata": {
  "kernelspec": {
   "display_name": "C",
   "language": "c",
   "name": "c"
  },
  "language_info": {
   "file_extension": ".c",
   "mimetype": "text/x-csrc",
   "name": "text/x-csrc"
  },
  "toc": {
   "base_numbering": 1,
   "nav_menu": {},
   "number_sections": true,
   "sideBar": true,
   "skip_h1_title": false,
   "title_cell": "Table of Contents",
   "title_sidebar": "Contents",
   "toc_cell": false,
   "toc_position": {},
   "toc_section_display": true,
   "toc_window_display": true
  }
 },
 "nbformat": 4,
 "nbformat_minor": 5
}
