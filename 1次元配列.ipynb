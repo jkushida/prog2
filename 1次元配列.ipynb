{
 "cells": [
  {
   "cell_type": "markdown",
   "id": "9e9748d3",
   "metadata": {},
   "source": [
    "# 配列とは"
   ]
  },
  {
   "cell_type": "markdown",
   "id": "a07d6f96",
   "metadata": {},
   "source": [
    "- `配列（array）`とは，同一の型の複数個の変数を（メモリ上に）一列に並べたものである．\n",
    "\n",
    "- 違う型のデータを混在して並べて配列とすることはできない．\n",
    "\n",
    "- 配列中の各データを，`配列の要素（element）`という．\n",
    "\n",
    "- 配列には，その配列全体を指すための名前（配列名）がついている．"
   ]
  },
  {
   "cell_type": "markdown",
   "id": "edd6252d",
   "metadata": {},
   "source": [
    "<img src=\"./fig/配列1.png\" width=\"450\">\n"
   ]
  },
  {
   "cell_type": "markdown",
   "id": "e602a8ee",
   "metadata": {},
   "source": [
    "# 配列の要素\n",
    "\n",
    "- 配列の各要素には，先頭を0番として，0, 1, 2, 3, ...と，順に番号が付く．これらはメモリ上に隙間をあけずに一列に並んでいる．\n",
    "\n",
    "- 先頭が0番であることから，要素数が N 個の場合には配列の最後の要素は N-1番となる．\n",
    "\n",
    "- 配列の i 番目の要素は `配列名[i]` という書き方で表される．この`[ ]` の中にある数 `i` を， 配列に付けられた`添字(index)`と呼ぶ．\n",
    "\n"
   ]
  },
  {
   "cell_type": "markdown",
   "id": "c4bb9af5",
   "metadata": {},
   "source": [
    "<img src=\"./fig/配列2.png\" width=\"550\">"
   ]
  },
  {
   "cell_type": "markdown",
   "id": "1681632e",
   "metadata": {},
   "source": [
    "# 配列の宣言\n"
   ]
  },
  {
   "cell_type": "markdown",
   "id": "d3680bc6",
   "metadata": {},
   "source": [
    "配列の宣言は，\n",
    "```c\n",
    "  要素のデータ型　配列名[要素の個数];\n",
    "```\n",
    "ように書く．\n",
    "\n",
    "たとえば，int型（整数型）の要素を8個持つ，名前が `a` の配列は次のように宣言される．\n",
    "```c\n",
    "  int a[8];\n",
    "```\n",
    "\n",
    "\n"
   ]
  },
  {
   "cell_type": "markdown",
   "id": "83047410",
   "metadata": {},
   "source": [
    "# 配列の初期化\n",
    "\n",
    "配列を宣言したときに，\n",
    "```c\n",
    "int a[8] = {0, 1, 2, 3, 4, 5, 6, 7};\n",
    "```\n",
    "\n",
    "のようにして，その初期値を同時に設定する（初期化する）ことができる．\n",
    "\n",
    "この場合，8個のint型要素をもつ配列aが宣言されると同時に，その各要素の数値が，a[0], a[1], a[2],... の順に 0, 1, 2,... と設定される．\n",
    "\n",
    "また，宣言の際に配列の要素数を空欄にして\n",
    "```c\n",
    " int a[] = {0, 1, 2, 3, 4, 5, 6, 7};\n",
    "```\n",
    " と書くことも可能である．  => [確認](http://pythontutor.com/visualize.html#code=int%20main%28%29%20%7B%0A%20%20int%20a%5B5%5D%20%3D%20%7B0,1,2,3,4%7D%3B%0A%20%20%0A%20%20int%20b%5B%20%5D%20%3D%20%7B0,1,2,3,4%7D%3B%0A%0A%20%20return%200%3B%0A%7D&cumulative=false&curInstr=0&heapPrimitives=nevernest&mode=display&origin=opt-frontend.js&py=c_gcc9.3.0&rawInputLstJSON=%5B%5D&textReferences=false)"
   ]
  }
 ],
 "metadata": {
  "kernelspec": {
   "display_name": "C",
   "language": "c",
   "name": "c"
  },
  "language_info": {
   "file_extension": ".c",
   "mimetype": "text/x-csrc",
   "name": "text/x-csrc"
  },
  "toc": {
   "base_numbering": 1,
   "nav_menu": {},
   "number_sections": true,
   "sideBar": true,
   "skip_h1_title": false,
   "title_cell": "Table of Contents",
   "title_sidebar": "Contents",
   "toc_cell": false,
   "toc_position": {
    "height": "calc(100% - 180px)",
    "left": "10px",
    "top": "150px",
    "width": "222.188px"
   },
   "toc_section_display": true,
   "toc_window_display": true
  }
 },
 "nbformat": 4,
 "nbformat_minor": 5
}
