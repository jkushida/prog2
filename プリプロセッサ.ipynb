{
 "cells": [
  {
   "cell_type": "markdown",
   "id": "60cda112",
   "metadata": {},
   "source": [
    "# マクロ名定義\n",
    "\n",
    "C言語におけるマクロとは，プログラム中の文字列をあらかじめ定義した規則にしたがって置換する機能のことをいう．\n",
    "\n",
    "マクロは，**#define**というプリプロセッサ指令により定義する．\n",
    "\n",
    "マクロ名定義は次の書式で書き，\n",
    "```c\n",
    "#define マクロ名 置換文字列\n",
    "```\n",
    "**マクロ名を置換文字列で置き換える．**\n",
    "\n",
    "マクロ名は他の変数と区別するために，一般的に大文字で記述する． (末尾にはセミコロン`;`を付けない．)\n"
   ]
  },
  {
   "cell_type": "code",
   "execution_count": 5,
   "id": "ee35a2e3",
   "metadata": {},
   "outputs": [
    {
     "name": "stdout",
     "output_type": "stream",
     "text": [
      "0 5 10 15 20 \n"
     ]
    }
   ],
   "source": [
    "// マクロ名定義を使ったコード\n",
    "#include <stdio.h>\n",
    "\n",
    "#define SIZE 5\n",
    "\n",
    "int main() {\n",
    "  int a[SIZE];\n",
    "  int i;\n",
    "    \n",
    "    for (i = 0; i < SIZE; i++) \n",
    "        a[i] = SIZE * i;\n",
    "  \n",
    "  \n",
    "  for (i = 0; i < SIZE; i++) \n",
    "    printf(\"%d \", a[i]);\n",
    "  \n",
    "  printf(\"\\n\");\n",
    "  \n",
    "  return 0;\n",
    "}"
   ]
  },
  {
   "cell_type": "markdown",
   "id": "2d899c2d",
   "metadata": {},
   "source": [
    "この例では，プリプロセッサの働きで，コンパイル前にソースプログラムの中の`SIZE`がすべて5に置き換わる．\n",
    "\n",
    "このコードでは，配列`a`の大きさを`SIZE`で指定しているが，プログラムに変更が生じて大きさを変えたいときは，`#define `命令行を修正するだけで対応できる．"
   ]
  },
  {
   "cell_type": "code",
   "execution_count": null,
   "id": "9403a4ce",
   "metadata": {},
   "outputs": [],
   "source": []
  }
 ],
 "metadata": {
  "kernelspec": {
   "display_name": "C",
   "language": "c",
   "name": "c"
  },
  "language_info": {
   "file_extension": ".c",
   "mimetype": "text/x-csrc",
   "name": "text/x-csrc"
  },
  "toc": {
   "base_numbering": 1,
   "nav_menu": {},
   "number_sections": true,
   "sideBar": true,
   "skip_h1_title": false,
   "title_cell": "Table of Contents",
   "title_sidebar": "Contents",
   "toc_cell": false,
   "toc_position": {},
   "toc_section_display": true,
   "toc_window_display": false
  }
 },
 "nbformat": 4,
 "nbformat_minor": 5
}
