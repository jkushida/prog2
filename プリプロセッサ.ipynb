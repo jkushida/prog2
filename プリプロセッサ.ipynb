{
 "cells": [
  {
   "cell_type": "markdown",
   "id": "60cda112",
   "metadata": {},
   "source": [
    "# マクロ名定義\n",
    "\n",
    "C言語におけるマクロとは，プログラム中の文字列をあらかじめ定義した規則にしたがって置換する機能のことをいう．\n",
    "\n",
    "マクロは，**#define**というプリプロセッサ指令により定義する．\n",
    "\n",
    "マクロ名定義は次の書式で書き，\n",
    "```\n",
    "#define マクロ名 置換文字列\n",
    "```\n",
    "**マクロ名を置換文字列で置き換える．**\n",
    "\n",
    "マクロ名は他の変数と区別するために，一般的に大文字で記述する． (末尾にはセミコロン`;`を付けない．)\n"
   ]
  },
  {
   "cell_type": "markdown",
   "id": "c68411d9",
   "metadata": {},
   "source": [
    "以下のsample1.cは，マクロ名定義を使ったプログラムである．\n",
    "\n",
    "---\n",
    "sample1.c\n",
    "```c\n",
    "#include <stdio.h>\n",
    "\n",
    "#define SIZE 5\n",
    "\n",
    "int main() {\n",
    "    int a[SIZE];\n",
    "    int i;\n",
    "    \n",
    "    for (i = 0; i < SIZE ; i++)\n",
    "        a[i] = SIZE * i;\n",
    "    \n",
    "    \n",
    "    for (i = 0; i < SIZE ; i++)\n",
    "        printf(\"%d \", a[i]);\n",
    "    \n",
    "    printf(\"\\n\");\n",
    "    \n",
    "    return 0;\n",
    "}\n",
    "```\n",
    "---"
   ]
  },
  {
   "cell_type": "markdown",
   "id": "a12e5cac",
   "metadata": {},
   "source": [
    "実行結果\n",
    "```\n",
    "0 5 10 15 20 \n",
    "```"
   ]
  },
  {
   "cell_type": "markdown",
   "id": "2d899c2d",
   "metadata": {},
   "source": [
    "この例では，プリプロセッサの働きで，コンパイル前にソースプログラムの中の`SIZE`がすべて5に置き換わる．\n",
    "\n",
    "このコードでは，配列`a`の大きさを`SIZE`で指定しているが，プログラムに変更が生じて大きさを変えたいときは，`#define `命令行を修正するだけで対応できる．"
   ]
  },
  {
   "cell_type": "markdown",
   "id": "0d826391",
   "metadata": {},
   "source": [
    "# 関数型マクロ定義\n",
    "\n",
    "マクロ定義は引数を持ち，関数のように記述することができる．\n",
    "\n",
    "```\n",
    "#define  マクロ名(仮引数)  引数を含む文字列\n",
    "```\n",
    "\n",
    "sample2.cは引数の2乗を返すマクロ定義を用いたプログラムである．\n",
    "\n",
    "なお,`square(x)`と`calc_square(int x)`は同様の処理となる．\n",
    "\n",
    "---\n",
    "sample2.c\n",
    "```c\n",
    "#include <stdio.h>\n",
    "\n",
    "#define square(x) ((x)*(x))\n",
    "\n",
    "int calc_square(int x){\n",
    "    return x*x;\n",
    "}\n",
    "\n",
    "int main(void)\n",
    "{\n",
    "    \n",
    "    int i = 5;\n",
    "    \n",
    "    \n",
    "    printf(\"関数形式マクロ:  %dの２乗 %d\\n\", i, square(i));\n",
    "    \n",
    "    printf(\"ユーザ関数:        %dの２乗 %d\\n\", i, calc_square(i));\n",
    "    \n",
    "    return 0;\n",
    "}\n",
    "```\n",
    "---\n",
    "\n",
    "実行結果\n",
    "```\n",
    "関数形式マクロ:  5の２乗 25\n",
    "ユーザ関数:        5の２乗 25\n",
    "```"
   ]
  },
  {
   "cell_type": "markdown",
   "id": "1ec1d572",
   "metadata": {},
   "source": [
    "# ユーザ定義のヘッダファイル"
   ]
  },
  {
   "cell_type": "markdown",
   "id": "8b775b74",
   "metadata": {},
   "source": [
    "C言語では, `#include`プリプロセッサ指令を使ってヘッダファイルを取り込む．\n",
    "\n",
    "sample3.c はユーザ定義のヘッダファイル **student.h** を用いたプログラムである．\n",
    "\n",
    "<img src=\"./fig/ヘッダ.png\" width=\"600\">\n",
    "\n",
    "\n",
    "このプログラムでは, 自作のヘッダファイル （拡張子は 「.h」）を作成し, ソースプログラムでインクルードしている. \n",
    "\n",
    "ユーザ定義のヘッダファイルには， \n",
    "- マクロ名定義や関数型マクロ定義\n",
    "- 構造体の宣言\n",
    "- 関数のプロトタイプ宣言\n",
    "- グローバル関数の定義\n",
    "を記述するのが一般的である．\n",
    "\n"
   ]
  },
  {
   "cell_type": "markdown",
   "id": "9028c932",
   "metadata": {},
   "source": [
    "\n",
    "---\n",
    "**student.h**\n",
    "\n",
    "```c\n",
    "/* ユーザが定義した学生情報のヘッダファイル */\n",
    "struct student{     // 学生情報\n",
    "  int no;           // 学生番号\n",
    "  char name[10];    // 氏名\n",
    "  double average;   // 平均点\n",
    "};\n",
    "\n",
    "//関数プロトタイプ宣言\n",
    "void show_info(struct student sei); //情報の表示\n",
    "```\n",
    "---\n"
   ]
  },
  {
   "cell_type": "markdown",
   "id": "13ffed65",
   "metadata": {},
   "source": [
    "\n",
    "---\n",
    "**sample3.c**\n",
    "```c\n",
    "#include <stdio.h>     // 標準ヘッダファイルの組み込み\n",
    "#include \"student.h\"  // ユーザ定義のヘッダファイルの組み込み\n",
    "\n",
    "int main()\n",
    "{\n",
    "    struct student seito = {9, \"Ogata\", 73.9};\n",
    "    show_info(seito); // 構造体の値渡し\n",
    "    return 0;\n",
    "}\n",
    "\n",
    "void show_info(struct student sei)\n",
    "{\n",
    "    printf(\"学生番号: %d,  氏名: %s,  平均点: %.1f\\n\",sei.no, sei.name, sei.average);\n",
    "}\n",
    "\n",
    "```\n",
    "---\n",
    "\n",
    "\n",
    "実行結果\n",
    "```\n",
    "学生番号: 9,  氏名: Ogata,  平均点: 73.9\n",
    "\n",
    "```"
   ]
  },
  {
   "cell_type": "code",
   "execution_count": null,
   "id": "e52cfc5e",
   "metadata": {},
   "outputs": [],
   "source": []
  }
 ],
 "metadata": {
  "kernelspec": {
   "display_name": "C",
   "language": "c",
   "name": "c"
  },
  "language_info": {
   "file_extension": ".c",
   "mimetype": "text/x-csrc",
   "name": "text/x-csrc"
  },
  "toc": {
   "base_numbering": 1,
   "nav_menu": {},
   "number_sections": true,
   "sideBar": true,
   "skip_h1_title": false,
   "title_cell": "Table of Contents",
   "title_sidebar": "Contents",
   "toc_cell": false,
   "toc_position": {},
   "toc_section_display": true,
   "toc_window_display": true
  }
 },
 "nbformat": 4,
 "nbformat_minor": 5
}
