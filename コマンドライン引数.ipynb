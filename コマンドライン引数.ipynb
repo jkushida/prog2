{
 "cells": [
  {
   "cell_type": "markdown",
   "id": "030a611a",
   "metadata": {},
   "source": [
    "コマンドライン引数とは`main`関数の引数のことである．\n",
    "\n",
    "プログラムを実行するときに，コマンドラインからコマンドライン引数に値を与えることができる．\n",
    "\n",
    "これにより, コマンドライン引数の情報に応じて動作が変わるプログラムを作ることができる．"
   ]
  },
  {
   "cell_type": "markdown",
   "id": "14ad5774",
   "metadata": {},
   "source": [
    "# コマンドライン引数をもつプログラム\n"
   ]
  },
  {
   "cell_type": "markdown",
   "id": "ded19ec1",
   "metadata": {},
   "source": [
    "C言語のプログラム中でコマンドライン引数を利用するには, `main`関数の括弧の中に, 引数を受け取る変数名を書く．\n",
    "\n",
    "習慣上, 次のような変数名が使われる．\n",
    "\n",
    "```c\n",
    "main(int argc, char *argv[])\n",
    "{\n",
    "    ...\n",
    "```\n",
    "\n",
    "int型の`argc`は**コマンドライン引数の数**, 文字列配列`argv`には**コマンドライン引数**が格納される．\n",
    "\n",
    "\n",
    "- argc: \"argument count\" (引数の個数) の略\n",
    "- argv: \"argument vector\" (引数の配列) の略"
   ]
  },
  {
   "cell_type": "markdown",
   "id": "83887420",
   "metadata": {},
   "source": [
    "以下のsample1.cは, コマンドライン引数をもつプログラムである．\n",
    "\n",
    "---\n",
    "sample1.c\n",
    "```c\n",
    "#include <stdio.h>\n",
    "\n",
    "int main(int argc, char *argv[])\n",
    "{\n",
    "    printf(\"引数の数: %d\\n\", argc);    // argcの値を確認\n",
    "\n",
    "    for (int i = 0; i < argc; i++)\n",
    "    {\n",
    "        printf(\"%d: %s\\n\", i, argv[i]);  // argv[i]の値を確認\n",
    "    }\n",
    "    return 0;\n",
    "}\n",
    "```\n",
    "---"
   ]
  },
  {
   "cell_type": "markdown",
   "id": "2102430a",
   "metadata": {},
   "source": [
    "ここでは，sample1.cをコンパイルしコマンドライン引数として，`123` `5.7` `abcd`を指定した場合の実行結果を示す．\n",
    "\n",
    "```\n",
    "% gcc sample1.c\n",
    "% ./a.out 123 5.7 abcd\n",
    "引数の数: 4\n",
    "0: ./a.out\n",
    "1: 123\n",
    "2: 5.7\n",
    "3: abcd\n",
    "```\n",
    "\n",
    "`argv[0]`にはプログラム名(`a.out`)が格納される，そのため，`argc`は引数の個数3に1を加えた数になる.\n",
    "\n",
    "また， コマンドライン引数は常に**文字列**としてプログラムに取り込まれる．\n"
   ]
  },
  {
   "cell_type": "markdown",
   "id": "495e5110",
   "metadata": {},
   "source": []
  },
  {
   "cell_type": "markdown",
   "id": "b298ba63",
   "metadata": {},
   "source": [
    "以下のsample2.cは, ライブラリ関数 `atoi()` を用いることで, コマンドライン入力の文字列を数値に変換し, その値を２倍して表示するプログラムである。\n",
    "\n",
    "---\n",
    "sample2.c\n",
    "```c\n",
    "#include <stdio.h>\n",
    "#include <stdlib.h>\n",
    "\n",
    "int main(int argc, char *argv[]){\n",
    "    int i;\n",
    "    int n;\n",
    "    \n",
    "    for(i=1;i<argc;i++){\n",
    "        n=atoi(argv[i]);\n",
    "        printf(\"%d\\n\",n*2);\n",
    "    }\n",
    "    return 0;\n",
    "}\n",
    "```\n",
    "---"
   ]
  },
  {
   "cell_type": "markdown",
   "id": "a5ead339",
   "metadata": {},
   "source": [
    "http://www.ritsumei.ac.jp/~mmr14135/johoWeb/cmnds.html"
   ]
  }
 ],
 "metadata": {
  "kernelspec": {
   "display_name": "C",
   "language": "c",
   "name": "c"
  },
  "language_info": {
   "file_extension": ".c",
   "mimetype": "text/x-csrc",
   "name": "text/x-csrc"
  },
  "toc": {
   "base_numbering": 1,
   "nav_menu": {},
   "number_sections": true,
   "sideBar": true,
   "skip_h1_title": false,
   "title_cell": "Table of Contents",
   "title_sidebar": "Contents",
   "toc_cell": false,
   "toc_position": {},
   "toc_section_display": true,
   "toc_window_display": true
  }
 },
 "nbformat": 4,
 "nbformat_minor": 5
}
