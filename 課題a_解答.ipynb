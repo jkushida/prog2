{
 "cells": [
  {
   "cell_type": "markdown",
   "id": "8246b0ae",
   "metadata": {},
   "source": [
    "**課題a**\n",
    "\n",
    "変数，分岐処理，繰り返し処理\n",
    "\n",
    "https://pythontutor.com/\n",
    "\n",
    "https://replit.com/"
   ]
  },
  {
   "cell_type": "markdown",
   "id": "ea4976eb",
   "metadata": {},
   "source": [
    "# 変数"
   ]
  },
  {
   "cell_type": "markdown",
   "id": "2cbbc899",
   "metadata": {},
   "source": [
    "## \n",
    "\n",
    "printf 関数と次の出力フォーマット指定子を使用して，自分の誕生日を表示するプログラムを作成せよ．\n",
    "\n",
    "```\n",
    "\"%d年 %d月 %d日\"\n",
    "```"
   ]
  },
  {
   "cell_type": "code",
   "execution_count": 38,
   "id": "a40740b5",
   "metadata": {},
   "outputs": [
    {
     "name": "stderr",
     "output_type": "stream",
     "text": [
      "In file included from /var/folders/17/1fkqsg691_3flnsv7g5_wrz80000gn/T/tmppok4uwc0.c:2:\n",
      "/Users/kushida/Desktop/tmp/jupyter-c-kernel/jupyter_c_kernel/resources/stdio_wrap.h:279:47: warning: token pasting of ',' and __VA_ARGS__ is a GNU extension [-Wgnu-zero-variadic-macro-arguments]\n",
      "#define scanf(format, ...) scanf_wrap(format, ##__VA_ARGS__, &scanf_wrap_number_read)\n",
      "                                              ^\n",
      "/Users/kushida/Desktop/tmp/jupyter-c-kernel/jupyter_c_kernel/resources/stdio_wrap.h:279:47: warning: token pasting of ',' and __VA_ARGS__ is a GNU extension [-Wgnu-zero-variadic-macro-arguments]\n",
      "/Users/kushida/Desktop/tmp/jupyter-c-kernel/jupyter_c_kernel/resources/stdio_wrap.h:279:47: warning: token pasting of ',' and __VA_ARGS__ is a GNU extension [-Wgnu-zero-variadic-macro-arguments]\n",
      "3 warnings generated.\n"
     ]
    },
    {
     "name": "stdout",
     "output_type": "stream",
     "text": [
      "2000\n",
      "3\n",
      "4\n",
      "2000年 3月 4日\n"
     ]
    }
   ],
   "source": [
    "// a1-1.c 解答\n",
    "#include <stdio.h>\n",
    "\n",
    "int main()\n",
    "{\n",
    "    int y, m, d;\n",
    "    \n",
    "    scanf( \"%d\", &y );\n",
    "    scanf( \"%d\", &m );\n",
    "    scanf( \"%d\", &d );\n",
    "    \n",
    "    printf(\"%d年 %d月 %d日\\n\", y ,m, d);\n",
    "    return 0;\n",
    "}"
   ]
  },
  {
   "cell_type": "markdown",
   "id": "cda8b420",
   "metadata": {},
   "source": [
    "[補足]\n",
    "\n",
    "*このシートでは, scanfを使ったコードは上記のような警告が出ますが特に問題はありません．*\n",
    "\n",
    "(普通に端末でa.outで実行すると, この警告は出ません)"
   ]
  },
  {
   "cell_type": "markdown",
   "id": "a03f7a62",
   "metadata": {},
   "source": [
    "## \n",
    "\n",
    "int 型の変数`x`,`y`に数値 9, 8 を代入し, `x`, `y`の値を \n",
    "\n",
    "```x = 9， y = 8```\n",
    "\n",
    "のように表示するプログラムを作成せよ．"
   ]
  },
  {
   "cell_type": "code",
   "execution_count": 37,
   "id": "284e06b7",
   "metadata": {},
   "outputs": [
    {
     "name": "stdout",
     "output_type": "stream",
     "text": [
      "x = 9, y = 8\n"
     ]
    }
   ],
   "source": [
    "// a1-2.c 解答\n",
    "#include <stdio.h>\n",
    "\n",
    "int main()\n",
    "{\n",
    "    int x, y;\n",
    "    \n",
    "    x = 9;\n",
    "    y = 8;\n",
    "    \n",
    "    printf(\"x = %d, y = %d\\n\", x ,y);\n",
    "    return 0;   \n",
    "}"
   ]
  },
  {
   "cell_type": "markdown",
   "id": "062c4cf5",
   "metadata": {},
   "source": [
    "## \n",
    "\n",
    "身長と体重を入力し, 肥満度を判定する指標である BMI (Body Mass Index) を計算し表示するプログラムを作成せよ．\n",
    "\n",
    "なお，BMIは以下の式で算出される．\n",
    "\n",
    "$$\n",
    "BMI＝体重(kg)\\div 身長(m)^2\n",
    "$$\n",
    "\n",
    "\n",
    "hint: [BMIの計算サイト](https://keisan.casio.jp/exec/system/1161228732)"
   ]
  },
  {
   "cell_type": "code",
   "execution_count": 23,
   "id": "0b579e17",
   "metadata": {},
   "outputs": [
    {
     "name": "stderr",
     "output_type": "stream",
     "text": [
      "In file included from /var/folders/17/1fkqsg691_3flnsv7g5_wrz80000gn/T/tmp1t1vthv9.c:1:\n",
      "/Users/kushida/Desktop/tmp/jupyter-c-kernel/jupyter_c_kernel/resources/stdio_wrap.h:279:47: warning: token pasting of ',' and __VA_ARGS__ is a GNU extension [-Wgnu-zero-variadic-macro-arguments]\n",
      "#define scanf(format, ...) scanf_wrap(format, ##__VA_ARGS__, &scanf_wrap_number_read)\n",
      "                                              ^\n",
      "/Users/kushida/Desktop/tmp/jupyter-c-kernel/jupyter_c_kernel/resources/stdio_wrap.h:279:47: warning: token pasting of ',' and __VA_ARGS__ is a GNU extension [-Wgnu-zero-variadic-macro-arguments]\n",
      "2 warnings generated.\n"
     ]
    },
    {
     "name": "stdout",
     "output_type": "stream",
     "text": [
      "体重は？[kg] 60\n",
      "身長は？[m] 1.70\n",
      "BMI = 20.761246\n"
     ]
    }
   ],
   "source": [
    "// a1-3.c 解答\n",
    "#include <stdio.h>\n",
    "\n",
    "int main(){\n",
    "    double weight, height, BMI;\n",
    "\n",
    "    printf(\"体重は？[kg] \");\n",
    "    scanf(\"%lf\", &weight);\n",
    "    printf(\"身長は？[m] \");\n",
    "    scanf(\"%lf\", &height);\n",
    "\n",
    "    BMI = weight / height / height;\n",
    "    printf(\"BMI = %f\\n\", BMI );\n",
    "\n",
    "    return 0;\n",
    "}"
   ]
  },
  {
   "cell_type": "markdown",
   "id": "8c00008d",
   "metadata": {},
   "source": [
    "## \n",
    "\n",
    "int 型の変数`x`, `y`に数値 3, 7 を代入し, その後`x`, `y`の値を交換し\n",
    "\n",
    "```\n",
    "x = 7， y = 3\n",
    "```\n",
    "のように表示するプログラムを作成せよ．"
   ]
  },
  {
   "cell_type": "code",
   "execution_count": 43,
   "id": "6397b6bb",
   "metadata": {},
   "outputs": [
    {
     "name": "stdout",
     "output_type": "stream",
     "text": [
      "x = 7, y = 3\n"
     ]
    }
   ],
   "source": [
    "// a1-4.c 解答\n",
    "#include <stdio.h>\n",
    "\n",
    "int main()\n",
    "{\n",
    "    int x, y, tmp;\n",
    "    \n",
    "    x = 3;\n",
    "    y = 7;\n",
    "    \n",
    "    tmp = 3;\n",
    "    x = y;\n",
    "    y =tmp;\n",
    "    \n",
    "    printf(\"x = %d, y = %d\\n\", x ,y);\n",
    "    return 0;   \n",
    "}"
   ]
  },
  {
   "cell_type": "markdown",
   "id": "82e3999d",
   "metadata": {},
   "source": [
    "# 分岐処理"
   ]
  },
  {
   "cell_type": "markdown",
   "id": "ed78df03",
   "metadata": {},
   "source": [
    "## \n",
    "\n",
    "int 型の変数`x`, `y`にそれぞれ数値を入力し, `x`が`y`より大きい場合に, \n",
    "```\n",
    "xはyより大きい\n",
    "```\n",
    "という文を表示するプログラムを作成せよ."
   ]
  },
  {
   "cell_type": "code",
   "execution_count": 45,
   "id": "3dc475e9",
   "metadata": {},
   "outputs": [
    {
     "name": "stderr",
     "output_type": "stream",
     "text": [
      "In file included from /var/folders/17/1fkqsg691_3flnsv7g5_wrz80000gn/T/tmpm12tr30a.c:2:\n",
      "/Users/kushida/Desktop/tmp/jupyter-c-kernel/jupyter_c_kernel/resources/stdio_wrap.h:279:47: warning: token pasting of ',' and __VA_ARGS__ is a GNU extension [-Wgnu-zero-variadic-macro-arguments]\n",
      "#define scanf(format, ...) scanf_wrap(format, ##__VA_ARGS__, &scanf_wrap_number_read)\n",
      "                                              ^\n",
      "/Users/kushida/Desktop/tmp/jupyter-c-kernel/jupyter_c_kernel/resources/stdio_wrap.h:279:47: warning: token pasting of ',' and __VA_ARGS__ is a GNU extension [-Wgnu-zero-variadic-macro-arguments]\n",
      "2 warnings generated.\n"
     ]
    },
    {
     "name": "stdout",
     "output_type": "stream",
     "text": [
      "input x 8\n",
      "input y 3\n",
      "xはyより大きい"
     ]
    }
   ],
   "source": [
    "// a2-1.c 解答 \n",
    "#include <stdio.h>\n",
    "\n",
    "int main(){\n",
    "    int x;\n",
    "    int y;\n",
    "    \n",
    "    printf(\"input x \");\n",
    "    scanf( \"%d\", &x );\n",
    "    \n",
    "    printf(\"input y \");\n",
    "    scanf( \"%d\", &y );\n",
    "    \n",
    "    if( x > y )\n",
    "        printf( \"xはyより大きい\" );\n",
    "}"
   ]
  },
  {
   "cell_type": "markdown",
   "id": "df78f149",
   "metadata": {},
   "source": [
    "## \n",
    "int 型の変数`x`, `y`にそれぞれ数値を入力し,\n",
    "\n",
    "`x`が`ｙ`より大きい場合には,\n",
    "\n",
    "```\n",
    "xはyより大きい\n",
    "```\n",
    "\n",
    "`x`が`y`より小さい場合には，\n",
    "\n",
    "```\n",
    "xはyより小さい\n",
    "```\n",
    "\n",
    "と表示するプログラムを作成せよ."
   ]
  },
  {
   "cell_type": "code",
   "execution_count": 28,
   "id": "8447f51f",
   "metadata": {},
   "outputs": [
    {
     "name": "stderr",
     "output_type": "stream",
     "text": [
      "In file included from /var/folders/17/1fkqsg691_3flnsv7g5_wrz80000gn/T/tmpyp3oz5t8.c:1:\n",
      "/Users/kushida/Desktop/tmp/jupyter-c-kernel/jupyter_c_kernel/resources/stdio_wrap.h:279:47: warning: token pasting of ',' and __VA_ARGS__ is a GNU extension [-Wgnu-zero-variadic-macro-arguments]\n",
      "#define scanf(format, ...) scanf_wrap(format, ##__VA_ARGS__, &scanf_wrap_number_read)\n",
      "                                              ^\n",
      "/Users/kushida/Desktop/tmp/jupyter-c-kernel/jupyter_c_kernel/resources/stdio_wrap.h:279:47: warning: token pasting of ',' and __VA_ARGS__ is a GNU extension [-Wgnu-zero-variadic-macro-arguments]\n",
      "2 warnings generated.\n"
     ]
    },
    {
     "name": "stdout",
     "output_type": "stream",
     "text": [
      "input x 6\n",
      "input y 4\n",
      "xはyより大きい"
     ]
    }
   ],
   "source": [
    "// a2-2.c 解答\n",
    "#include <stdio.h>\n",
    "\n",
    "int main(){\n",
    "int x;\n",
    "int y;\n",
    "\n",
    "    printf(\"input x \");\n",
    "    scanf( \"%d\", &x );\n",
    "    \n",
    "    printf(\"input y \");\n",
    "    scanf( \"%d\", &y );\n",
    "\n",
    "if( x > y )\n",
    "    printf( \"xはyより大きい\" );\n",
    "else if( x < y )\n",
    "    printf( \"xはyより小さい\" );\n",
    "}"
   ]
  },
  {
   "cell_type": "markdown",
   "id": "e7fa2dbd",
   "metadata": {},
   "source": [
    "## \n",
    "\n",
    "正の整数値を１つ入力し, それが偶数か奇数かを判定するプログラムを作成せよ．\n",
    "\n",
    "hint: 剰余演算\n",
    "\n"
   ]
  },
  {
   "cell_type": "code",
   "execution_count": 42,
   "id": "b7d1618f",
   "metadata": {},
   "outputs": [
    {
     "name": "stderr",
     "output_type": "stream",
     "text": [
      "In file included from /var/folders/17/1fkqsg691_3flnsv7g5_wrz80000gn/T/tmpyj_9jwtp.c:2:\n",
      "/Users/kushida/Desktop/tmp/jupyter-c-kernel/jupyter_c_kernel/resources/stdio_wrap.h:279:47: warning: token pasting of ',' and __VA_ARGS__ is a GNU extension [-Wgnu-zero-variadic-macro-arguments]\n",
      "#define scanf(format, ...) scanf_wrap(format, ##__VA_ARGS__, &scanf_wrap_number_read)\n",
      "                                              ^\n",
      "1 warning generated.\n"
     ]
    },
    {
     "name": "stdout",
     "output_type": "stream",
     "text": [
      "input\n",
      "5\n",
      "奇数です\n"
     ]
    }
   ],
   "source": [
    "// a2-3.c 解答\n",
    "#include <stdio.h>\n",
    "\n",
    "int main(){\n",
    "    int x;\n",
    "    \n",
    "    printf(\"input\\n\");\n",
    "    scanf( \"%d\", &x );\n",
    "    \n",
    "    if( ( x % 2 ) == 0 )\n",
    "        printf( \"偶数です\\n\" );\n",
    "    else\n",
    "        printf( \"奇数です\\n\" );\n",
    "    return 0;\n",
    "}\n"
   ]
  },
  {
   "cell_type": "markdown",
   "id": "f500cd4d",
   "metadata": {},
   "source": [
    "## \n",
    "整数値を入力し, 以下の4つの分類から該当するものを表示するプログラムを作成しなさい.\n",
    "\n",
    "“正の偶数”, “正の奇数”, “負の偶数”, “負の奇数”"
   ]
  },
  {
   "cell_type": "code",
   "execution_count": 30,
   "id": "aae9a8ed",
   "metadata": {},
   "outputs": [
    {
     "name": "stderr",
     "output_type": "stream",
     "text": [
      "In file included from /var/folders/17/1fkqsg691_3flnsv7g5_wrz80000gn/T/tmp3gzgv2w2.c:1:\n",
      "/Users/kushida/Desktop/tmp/jupyter-c-kernel/jupyter_c_kernel/resources/stdio_wrap.h:279:47: warning: token pasting of ',' and __VA_ARGS__ is a GNU extension [-Wgnu-zero-variadic-macro-arguments]\n",
      "#define scanf(format, ...) scanf_wrap(format, ##__VA_ARGS__, &scanf_wrap_number_read)\n",
      "                                              ^\n",
      "1 warning generated.\n"
     ]
    },
    {
     "name": "stdout",
     "output_type": "stream",
     "text": [
      "input\n",
      "3\n",
      "正の奇数です\n"
     ]
    }
   ],
   "source": [
    "// a2-4.c 解答\n",
    "#include <stdio.h>\n",
    "\n",
    "int main(){\n",
    "    int x;\n",
    "    printf(\"input\\n\");\n",
    "    scanf( \"%d\", &x );\n",
    "    \n",
    "    if( x >= 0 )\n",
    "    {\n",
    "        if( ( x % 2 ) == 0 )\n",
    "            printf( \"正の偶数です\\n\" );\n",
    "        else\n",
    "            printf( \"正の奇数です\\n\" );\n",
    "    }\n",
    "    else\n",
    "    {\n",
    "        if( ( x % 2 ) == 0 )\n",
    "            printf( \"負の偶数です\\n\" );\n",
    "        else\n",
    "            printf( \"負の奇数です\\n\" );\n",
    "    }\n",
    "    return 0;\n",
    "}\n"
   ]
  },
  {
   "cell_type": "markdown",
   "id": "553e4ccb",
   "metadata": {},
   "source": [
    "## \n",
    "中間試験と, 期末試験の点数（それぞれ 0 から 100 点）を入力し, 次の条件に従って合格, 不合格を判定するプログラムを作成せよ．\n",
    "\n",
    "- 両方とも 60 点以上の場合は合格\n",
    "- 合計が 130 点以上の場合は合格\n",
    "- 合計が 100 点以上で，どちらかの試験が 90 点以上であれば合格\n",
    "- 上記以外は不合格"
   ]
  },
  {
   "cell_type": "code",
   "execution_count": 31,
   "id": "c5eb00b6",
   "metadata": {},
   "outputs": [
    {
     "name": "stderr",
     "output_type": "stream",
     "text": [
      "In file included from /var/folders/17/1fkqsg691_3flnsv7g5_wrz80000gn/T/tmp3cz73lj8.c:1:\n",
      "/Users/kushida/Desktop/tmp/jupyter-c-kernel/jupyter_c_kernel/resources/stdio_wrap.h:279:47: warning: token pasting of ',' and __VA_ARGS__ is a GNU extension [-Wgnu-zero-variadic-macro-arguments]\n",
      "#define scanf(format, ...) scanf_wrap(format, ##__VA_ARGS__, &scanf_wrap_number_read)\n",
      "                                              ^\n",
      "/Users/kushida/Desktop/tmp/jupyter-c-kernel/jupyter_c_kernel/resources/stdio_wrap.h:279:47: warning: token pasting of ',' and __VA_ARGS__ is a GNU extension [-Wgnu-zero-variadic-macro-arguments]\n",
      "2 warnings generated.\n"
     ]
    },
    {
     "name": "stdout",
     "output_type": "stream",
     "text": [
      "中間試験の点数 = 70\n",
      "期末試験の点数 = 40\n",
      "不合格\n"
     ]
    }
   ],
   "source": [
    "// a2-5.c 解答\n",
    "#include <stdio.h>\n",
    "\n",
    "int main()\n",
    "{\n",
    "    int score1;\n",
    "    int score2;\n",
    "    \n",
    "    printf(\"中間試験の点数 = \");\n",
    "    scanf( \"%d\", &score1 );\n",
    "    printf(\"期末試験の点数 = \");\n",
    "    scanf( \"%d\", &score2 );\n",
    "    \n",
    "    if( score1 >= 60 && score2 >= 60 )\n",
    "        printf( \"合格\\n\" );\n",
    "    else if( ( score1 + score2 ) >= 130 )\n",
    "        printf( \"合格\\n\" );\n",
    "    else if( ( score1 + score2 ) >= 100 && ( score1 >= 90 || score2 >= 90 ) )\n",
    "        printf( \"合格\\n\" );\n",
    "    else\n",
    "        printf( \"不合格\\n\" );\n",
    "    return 0;\n",
    "}"
   ]
  },
  {
   "cell_type": "markdown",
   "id": "41b93d23",
   "metadata": {},
   "source": [
    "## \n",
    "3つの整数を入力し，その中の最小の数を出力するプログラムを作成せよ．\n"
   ]
  },
  {
   "cell_type": "code",
   "execution_count": 47,
   "id": "7ac9874a",
   "metadata": {},
   "outputs": [
    {
     "name": "stderr",
     "output_type": "stream",
     "text": [
      "In file included from /var/folders/17/1fkqsg691_3flnsv7g5_wrz80000gn/T/tmp9npzy3yz.c:2:\n",
      "/Users/kushida/Desktop/tmp/jupyter-c-kernel/jupyter_c_kernel/resources/stdio_wrap.h:279:47: warning: token pasting of ',' and __VA_ARGS__ is a GNU extension [-Wgnu-zero-variadic-macro-arguments]\n",
      "#define scanf(format, ...) scanf_wrap(format, ##__VA_ARGS__, &scanf_wrap_number_read)\n",
      "                                              ^\n",
      "/Users/kushida/Desktop/tmp/jupyter-c-kernel/jupyter_c_kernel/resources/stdio_wrap.h:279:47: warning: token pasting of ',' and __VA_ARGS__ is a GNU extension [-Wgnu-zero-variadic-macro-arguments]\n",
      "/Users/kushida/Desktop/tmp/jupyter-c-kernel/jupyter_c_kernel/resources/stdio_wrap.h:279:47: warning: token pasting of ',' and __VA_ARGS__ is a GNU extension [-Wgnu-zero-variadic-macro-arguments]\n",
      "3 warnings generated.\n"
     ]
    },
    {
     "name": "stdout",
     "output_type": "stream",
     "text": [
      "3つの整数を入力してください。\n",
      "整数1： 5\n",
      "整数2： 2\n",
      "整数3： 9\n",
      "入力した最小値は2です。\n"
     ]
    }
   ],
   "source": [
    "// a2-6.c 解答\n",
    "#include<stdio.h>\n",
    "\n",
    "int main(void)\n",
    "{\n",
    "    int n1, n2, n3, min;\n",
    "    \n",
    "    puts(\"3つの整数を入力してください。\");\n",
    "    printf(\"整数1： \"); scanf(\"%d\",&n1);\n",
    "    printf(\"整数2： \"); scanf(\"%d\",&n2);\n",
    "    printf(\"整数3： \"); scanf(\"%d\",&n3);\n",
    "    \n",
    "    min = n1;\n",
    "    if( n2 < min)\n",
    "        min = n2;\n",
    "    if( n3 < min)\n",
    "        min = n3;\n",
    "    \n",
    "    printf(\"入力した最小値は%dです。\\n\", min);\n",
    "    \n",
    "    return 0;\n",
    "}"
   ]
  },
  {
   "cell_type": "markdown",
   "id": "9a7861e1",
   "metadata": {},
   "source": [
    "# 繰り返し処理"
   ]
  },
  {
   "cell_type": "markdown",
   "id": "fcf169e6",
   "metadata": {},
   "source": [
    "## \n",
    "九九の五の段を表示するプログラムを作成せよ．"
   ]
  },
  {
   "cell_type": "code",
   "execution_count": 48,
   "id": "ef9fbb10",
   "metadata": {},
   "outputs": [
    {
     "name": "stdout",
     "output_type": "stream",
     "text": [
      "5 10 15 20 25 30 35 40 45 \n"
     ]
    }
   ],
   "source": [
    "// a3-1.c 解答\n",
    "#include<stdio.h>\n",
    "\n",
    "int main(void)\n",
    "{\n",
    "    int i;\n",
    "\n",
    "    for( i = 1 ; i <= 9 ; i++ )\n",
    "        printf( \"%d \", 5 * i );\n",
    "    printf(\"\\n\");\n",
    "    return 0;\n",
    "}"
   ]
  },
  {
   "cell_type": "markdown",
   "id": "83145cc2",
   "metadata": {},
   "source": [
    "## \n",
    "6 の階乗を計算し，表示するプログラムを作成せよ．\n",
    "\n",
    "hint: [6 の階乗](https://www.google.com/search?q=6+%E3%81%AE%E9%9A%8E%E4%B9%97&rlz=1C5CHFA_enJP942JP943&oq=6+%E3%81%AE%E9%9A%8E%E4%B9%97&aqs=chrome..69i57j35i39i362l8j0i333...8.246j0j7&sourceid=chrome&ie=UTF-8)"
   ]
  },
  {
   "cell_type": "code",
   "execution_count": 49,
   "id": "9362cdb4",
   "metadata": {},
   "outputs": [
    {
     "name": "stdout",
     "output_type": "stream",
     "text": [
      "720\n"
     ]
    }
   ],
   "source": [
    "// a3-2.c 解答\n",
    "#include<stdio.h>\n",
    "\n",
    "int main(void)\n",
    "{\n",
    "    int x = 1;\n",
    "    int i;\n",
    "\n",
    "    for( i = 2 ; i <= 6 ; i++ ){\n",
    "        x *= i;\n",
    "        // printf(\"%d\\n\", x);\n",
    "    }\n",
    "    \n",
    "    printf( \"%d\\n\", x );\n",
    "    return 0;\n",
    "}\n"
   ]
  },
  {
   "cell_type": "markdown",
   "id": "80231eb4",
   "metadata": {},
   "source": [
    "## \n",
    "\n",
    "1 から 10 までの数値の和と積を求め，それぞれを表示するプログラムを作成せよ．\n",
    "\n",
    "実行結果\n",
    "```\n",
    "和 = 55\n",
    "積 = 3628800\n",
    "```"
   ]
  },
  {
   "cell_type": "code",
   "execution_count": 12,
   "id": "3ff0af2b",
   "metadata": {},
   "outputs": [
    {
     "name": "stdout",
     "output_type": "stream",
     "text": [
      "和 = 55\n",
      "積 = 3628800\n"
     ]
    }
   ],
   "source": [
    "// a3-3.c 解答\n",
    "#include<stdio.h>\n",
    "\n",
    "int main(void)\n",
    "{\n",
    "    int i, sum = 0;\n",
    "    int mul=1;\n",
    "\n",
    "    for( i = 1 ; i <= 10 ; i++ ){\n",
    "        sum += i;\n",
    "        mul *= i;\n",
    "    }\n",
    "\n",
    "    printf( \"和 = %d\\n\", sum );\n",
    "    printf( \"積 = %d\\n\", mul );\n",
    "\n",
    "    return 0;\n",
    "}"
   ]
  },
  {
   "cell_type": "markdown",
   "id": "5c550956",
   "metadata": {},
   "source": [
    "## \n",
    "\n",
    "`for`文を使って 0 から 10 の偶数を表示させよ．"
   ]
  },
  {
   "cell_type": "code",
   "execution_count": 52,
   "id": "cba1459e",
   "metadata": {},
   "outputs": [
    {
     "name": "stdout",
     "output_type": "stream",
     "text": [
      "0 2 4 6 8 10 \n"
     ]
    }
   ],
   "source": [
    "// a3-4.c 解答\n",
    "#include<stdio.h>\n",
    "\n",
    "int main(void)\n",
    "{\n",
    "    int i;\n",
    "    \n",
    "    for(i =0; i<=10; i+=2)\n",
    "        printf(\"%d \", i);\n",
    "\n",
    "    printf(\"\\n\");\n",
    "    return 0;\n",
    "}"
   ]
  },
  {
   "cell_type": "markdown",
   "id": "8644424c",
   "metadata": {},
   "source": [
    "## \n",
    "\n",
    "`for`文を使って 100 から 0 までの数値を，降順に20おきに表示させよ．"
   ]
  },
  {
   "cell_type": "code",
   "execution_count": 53,
   "id": "1c9940f1",
   "metadata": {},
   "outputs": [
    {
     "name": "stdout",
     "output_type": "stream",
     "text": [
      "100 80 60 40 20 0 \n"
     ]
    }
   ],
   "source": [
    "// a3-5.c 解答\n",
    "#include<stdio.h>\n",
    "\n",
    "int main(void)\n",
    "{\n",
    "    int i;\n",
    "    \n",
    "    for(i =100; i>=0; i-=20)\n",
    "        printf(\"%d \",i);\n",
    "\n",
    "    printf(\"\\n\");\n",
    "    return 0;\n",
    "}\n"
   ]
  },
  {
   "cell_type": "markdown",
   "id": "f1546b1c",
   "metadata": {},
   "source": [
    "## \n",
    "\n",
    "アスタリスク「*」を，以下のように三角に並べて表示させるプログラムを作成せよ．\n",
    "\n",
    "実行結果\n",
    "\n",
    "```\n",
    "*\n",
    "**\n",
    "***\n",
    "****\n",
    "*****\n",
    "```"
   ]
  },
  {
   "cell_type": "code",
   "execution_count": 54,
   "id": "0427b41b",
   "metadata": {},
   "outputs": [
    {
     "name": "stdout",
     "output_type": "stream",
     "text": [
      "*\n",
      "**\n",
      "***\n",
      "****\n",
      "*****\n"
     ]
    }
   ],
   "source": [
    "// a3-6.c 解答\n",
    "#include <stdio.h>\n",
    "\n",
    "int main(void)\n",
    "{\n",
    "    int x, y;\n",
    "        \n",
    "    for (y=1; y<=5; y++) {\n",
    "        for (x=1; x<=y; x++) {\n",
    "            printf(\"*\");\n",
    "        }\n",
    "        printf(\"\\n\");\n",
    "    }\n",
    "    return 0;\n",
    "}"
   ]
  },
  {
   "cell_type": "markdown",
   "id": "80294acf",
   "metadata": {},
   "source": [
    "## \n",
    "\n",
    "`for`の二重ループを使い，以下のような図形を表示させるプログラムを作成せよ．\n",
    "\n",
    "実行結果\n",
    "\n",
    "```\n",
    "□■■■■\n",
    "■□■■■\n",
    "■■□■■\n",
    "■■■□■\n",
    "■■■■□\n",
    "```"
   ]
  },
  {
   "cell_type": "code",
   "execution_count": 55,
   "id": "7aaed2d9",
   "metadata": {},
   "outputs": [
    {
     "name": "stdout",
     "output_type": "stream",
     "text": [
      "□■■■■\n",
      "■□■■■\n",
      "■■□■■\n",
      "■■■□■\n",
      "■■■■□\n"
     ]
    }
   ],
   "source": [
    "// a3-7.c 解答\n",
    "#include <stdio.h>\n",
    "\n",
    "int main(void)\n",
    "{\n",
    "    for (int i = 0; i < 5; i++) {\n",
    "        for (int j = 0; j < 5; j++) {\n",
    "            if (i == j)\n",
    "                printf(\"□\");\n",
    "            if (i != j)\n",
    "                printf(\"■\");\n",
    "\n",
    "        }\n",
    "        printf(\"\\n\");\n",
    "    }\n",
    "    return 0;\n",
    "}\n"
   ]
  },
  {
   "cell_type": "markdown",
   "id": "0f0d94e7",
   "metadata": {},
   "source": [
    "## \n",
    "`for`の二重ループを使い，以下のような図形を表示させるプログラムを作成せよ．\n",
    "\n",
    "実行結果\n",
    "\n",
    "```\n",
    "□■□■□\n",
    "■□■□■\n",
    "□■□■□\n",
    "■□■□■\n",
    "□■□■□\n",
    "```"
   ]
  },
  {
   "cell_type": "code",
   "execution_count": 56,
   "id": "c359c99a",
   "metadata": {},
   "outputs": [
    {
     "name": "stdout",
     "output_type": "stream",
     "text": [
      "□■□■□\n",
      "■□■□■\n",
      "□■□■□\n",
      "■□■□■\n",
      "□■□■□\n"
     ]
    }
   ],
   "source": [
    "// a3-8.c 解答\n",
    "#include <stdio.h>\n",
    "\n",
    "int main(void)\n",
    "{\n",
    "    for (int i = 0; i < 5; i++) {\n",
    "        for (int j = 0; j < 5; j++) {\n",
    "            if (i  % 2 ==0){\n",
    "                if (j  % 2 ==0)\n",
    "                    printf(\"□\");\n",
    "                else\n",
    "                    printf(\"■\");\n",
    "            }\n",
    "            else{\n",
    "                if (j  % 2 ==0)\n",
    "                    printf(\"■\");\n",
    "                else\n",
    "                    printf(\"□\");\n",
    "            }\n",
    "        }\n",
    "        printf(\"\\n\");\n",
    "    }\n",
    "    return 0;\n",
    "}"
   ]
  },
  {
   "cell_type": "markdown",
   "id": "f14b32e4",
   "metadata": {},
   "source": [
    "## \n",
    "`while`文を用いて, 0 から 5 まで出力するプログラムを作成せよ．"
   ]
  },
  {
   "cell_type": "code",
   "execution_count": 57,
   "id": "260e855d",
   "metadata": {},
   "outputs": [
    {
     "name": "stdout",
     "output_type": "stream",
     "text": [
      "0 1 2 3 4 5 \n"
     ]
    }
   ],
   "source": [
    "// a3-9.c 解答\n",
    "#include <stdio.h>\n",
    "\n",
    "int main(void)\n",
    "{\n",
    "    int i=0;\n",
    "    while (i<=5){\n",
    "        printf(\"%d \",i);\n",
    "        i++;\n",
    "    }\n",
    "    printf(\"\\n\");\n",
    "    return 0;\n",
    "}"
   ]
  },
  {
   "cell_type": "markdown",
   "id": "53c6e89b",
   "metadata": {},
   "source": [
    "## \n",
    "\n",
    "金利が1年あたり10％かつ複利で増える預金がある．\n",
    "\n",
    "この預金でお金を10倍にするには，最低何年かかるか計算するプログラムを作成せよ．\n",
    "\n",
    "なお，答えは整数で表示すること．\n",
    "\n",
    "hint:\n",
    "\n",
    "```\n",
    "複利: 前年の利子分も含めて利子がつくこと\n",
    "```\n",
    "たとえば, 元金が100万円あり, この100万円を金利2％で1年間預金すると，1年後には102万円となる．再び金利2％で1年間預けると，1年後には104万400円となる．\n",
    "\n",
    "```\n",
    "1,000,000 × 1.02=1,020,000 (1年後の金額)\n",
    "\n",
    "1,020,000 × 1.02=1,040,400 (更に1年後の金額)\n",
    "```\n"
   ]
  },
  {
   "cell_type": "code",
   "execution_count": 58,
   "id": "1c684d3f",
   "metadata": {},
   "outputs": [
    {
     "name": "stdout",
     "output_type": "stream",
     "text": [
      "25年かかる\n"
     ]
    }
   ],
   "source": [
    "// a3-10.c 解答\n",
    "#include <stdio.h>\n",
    "\n",
    "int main(void)\n",
    "{\n",
    "    int cnt=0;\n",
    "    int base = 100; // 元金 (どんな値でも良い)\n",
    "    double value = base;\n",
    "    \n",
    "    while (value<base*10){\n",
    "        value = value * 1.1;\n",
    "        // printf(\"%f\\n\",value);\n",
    "        cnt++;\n",
    "    }\n",
    "    printf(\"%d年かかる\\n\",cnt);\n",
    "    return 0;\n",
    "}"
   ]
  },
  {
   "cell_type": "markdown",
   "id": "7602ff75",
   "metadata": {},
   "source": [
    "## \n",
    "\n",
    "ある細胞 𝑀 がはじめ1個ある．細胞𝑀は培養すると1分毎に5倍に増殖する．\n",
    "\n",
    "例えば，培養を開始して1分後には5個に増殖し， 2分後には25個に増殖し， 3分後には125個に増殖する．この培養を開始して 𝑛 分後に初めて細胞 𝑀 が 100000 個以上になったとする．\n",
    "\n",
    "このとき自然数 𝑛 の値を求めて表示させるプログラムを作成せよ．\n",
    "\n",
    "なお，プログラムでは`while(1)`の無限ループと`break`を用いること．\n",
    "\n"
   ]
  },
  {
   "cell_type": "code",
   "execution_count": 59,
   "id": "b2528c56",
   "metadata": {},
   "outputs": [
    {
     "name": "stdout",
     "output_type": "stream",
     "text": [
      "1分後のM=5\n",
      "2分後のM=25\n",
      "3分後のM=125\n",
      "4分後のM=625\n",
      "5分後のM=3125\n",
      "6分後のM=15625\n",
      "7分後のM=78125\n",
      "8分後のM=390625\n",
      "n = 8\n"
     ]
    }
   ],
   "source": [
    "//a3-11.c 解答\n",
    "#include <stdio.h>\n",
    "#include <math.h>\n",
    "int main()\n",
    "{\n",
    "    int n = 0;\n",
    "    int M = 1; // 初期の細胞数\n",
    "    int limit = 1E+5;\n",
    "\n",
    "    while (1){\n",
    "        \n",
    "        M = M * 5;\n",
    "        n++;\n",
    "        printf(\"%d分後のM=%d\\n\",n,M);\n",
    "        \n",
    "        if(M>limit)\n",
    "            break;\n",
    "    }\n",
    " \n",
    "    printf(\"n = %d\\n\",n);\n",
    "    return 0;\n",
    "}"
   ]
  },
  {
   "cell_type": "markdown",
   "id": "0b706cca",
   "metadata": {},
   "source": [
    "## \n",
    "\n",
    "何月かを整数で入力し，表のようにその季節を表示するプログラムを作成せよ．\n",
    "\n",
    "ただし，`switch`文を用いること．\n",
    "\n",
    "また， 1から12以外の数値を入力した場合は， \n",
    "```\n",
    "月が誤っています\n",
    "```\n",
    "と出力させること．\n",
    "\n",
    "|月 | 季節| \n",
    "| :--- | :---: | \n",
    "| 3, 4, 5 | 春 | \n",
    "| 6, 7, 8 | 夏 | \n",
    "| 9, 10, 11 | 秋 |\n",
    "| 12, 1, 2 | 冬 |"
   ]
  },
  {
   "cell_type": "code",
   "execution_count": 61,
   "id": "02f8c13e",
   "metadata": {},
   "outputs": [
    {
     "name": "stderr",
     "output_type": "stream",
     "text": [
      "In file included from /var/folders/17/1fkqsg691_3flnsv7g5_wrz80000gn/T/tmpskr2k8jk.c:2:\n",
      "/Users/kushida/Desktop/tmp/jupyter-c-kernel/jupyter_c_kernel/resources/stdio_wrap.h:279:47: warning: token pasting of ',' and __VA_ARGS__ is a GNU extension [-Wgnu-zero-variadic-macro-arguments]\n",
      "#define scanf(format, ...) scanf_wrap(format, ##__VA_ARGS__, &scanf_wrap_number_read)\n",
      "                                              ^\n",
      "1 warning generated.\n"
     ]
    },
    {
     "name": "stdout",
     "output_type": "stream",
     "text": [
      "月を入力\n",
      "12\n",
      "冬です\n"
     ]
    }
   ],
   "source": [
    "// a3-12.c 解答\n",
    "#include <stdio.h>\n",
    "\n",
    "int main()\n",
    "{\n",
    "    int month;\n",
    "    \n",
    "    printf(\"月を入力\\n\");\n",
    "    scanf(\"%d\", &month);\n",
    "    switch (month) {\n",
    "        case 3: case 4: case 5:\n",
    "            printf(\"春です\\n\");\n",
    "            break;\n",
    "        case 6: case 7: case 8:\n",
    "            printf(\"夏です\\n\");\n",
    "            break;\n",
    "        case 9: case 10: case 11:\n",
    "            printf(\"秋です\\n\");\n",
    "            break;\n",
    "        case 12: case 1: case 2:\n",
    "            printf(\"冬です\\n\");\n",
    "            break;\n",
    "        default:\n",
    "            printf(\"月が誤っています\\n\");\n",
    "    }\n",
    "}  "
   ]
  },
  {
   "cell_type": "markdown",
   "id": "0f3805ed",
   "metadata": {},
   "source": [
    "## \n",
    "サイコロ2つをふって，２つのサイコロの値の差が1になる確率を求めるプログラムを作成せよ．"
   ]
  },
  {
   "cell_type": "code",
   "execution_count": 62,
   "id": "f41d11e8",
   "metadata": {},
   "outputs": [
    {
     "name": "stdout",
     "output_type": "stream",
     "text": [
      "確率 = 0.277778\n"
     ]
    }
   ],
   "source": [
    "// a3-13.c 解答\n",
    "#include <stdio.h>\n",
    "\n",
    "int main(){\n",
    "    int i, j, c1=0, c2=0;\n",
    "    double prob;\n",
    "    for(i=1; i<=6; i++){\n",
    "        for(j=1; j<=6; j++){\n",
    "            if(i - j == 1)\n",
    "                c1++;\n",
    "            if(i - j == -1)\n",
    "                c1++;\n",
    "            c2++;\n",
    "        }\n",
    "        \n",
    "    }\n",
    "    prob = c1/(double)c2;\n",
    "    \n",
    "    printf(\"確率 = %f\\n\", prob);\n",
    "}"
   ]
  }
 ],
 "metadata": {
  "kernelspec": {
   "display_name": "C",
   "language": "c",
   "name": "c"
  },
  "language_info": {
   "file_extension": ".c",
   "mimetype": "text/x-csrc",
   "name": "text/x-csrc"
  },
  "toc": {
   "base_numbering": "1",
   "nav_menu": {},
   "number_sections": true,
   "sideBar": true,
   "skip_h1_title": false,
   "title_cell": "Table of Contents",
   "title_sidebar": "Contents",
   "toc_cell": false,
   "toc_position": {
    "height": "calc(100% - 180px)",
    "left": "10px",
    "top": "150px",
    "width": "206px"
   },
   "toc_section_display": true,
   "toc_window_display": true
  }
 },
 "nbformat": 4,
 "nbformat_minor": 5
}
