{
 "cells": [
  {
   "cell_type": "markdown",
   "id": "d777a700",
   "metadata": {},
   "source": [
    "http://rainbow.pc.uec.ac.jp/edu/program/b1/programming-5.htm\n",
    "\n",
    "http://rainbow.pc.uec.ac.jp/edu/program/b1/index.htm"
   ]
  },
  {
   "cell_type": "code",
   "execution_count": 13,
   "id": "e6eea5c4",
   "metadata": {},
   "outputs": [
    {
     "name": "stdout",
     "output_type": "stream",
     "text": [
      "sum of data = 15\n"
     ]
    }
   ],
   "source": [
    "#include <stdio.h>\n",
    "\n",
    "int summation(int *array, int n);         /* 関数summationのプロトタイプ宣言 */\n",
    "\n",
    "int main(void) {\n",
    "    int data[5]={1,2,3,4,5};\n",
    "    int result;\n",
    "    \n",
    "    result = summation(data, 5); /* 関数summationの呼び出し */\n",
    "    \n",
    "    printf(\"sum of data = %d\\n\", result); /* 結果の表示 */\n",
    "    return 0;\n",
    "}\n",
    "\n",
    "\n",
    "/* 関数summationの定義 */\n",
    "/* dtの中のn個の要素の値の和を計算する */\n",
    "int summation(int *array, int n) {\n",
    "    int i, sum=0;\n",
    "    for (i = 0; i < n; i++) {\n",
    "        sum += *array;\n",
    "        array++;\n",
    "    }\n",
    "    return sum;\n",
    "}"
   ]
  },
  {
   "cell_type": "markdown",
   "id": "831120e5",
   "metadata": {},
   "source": [
    "[実行の可視化](http://pythontutor.com/visualize.html#code=%23include%20%3Cstdio.h%3E%0A%0Aint%20summation%28int%20*array,%20int%20n%29%3B%20%20%20%20%20%20%20%20%20/*%20%E9%96%A2%E6%95%B0summation%E3%81%AE%E3%83%97%E3%83%AD%E3%83%88%E3%82%BF%E3%82%A4%E3%83%97%E5%AE%A3%E8%A8%80%20*/%0A%0Aint%20main%28void%29%20%7B%0A%20%20%20%20int%20data%5B5%5D%3D%7B1,2,3,4,5%7D%3B%0A%20%20%20%20int%20result%3B%0A%20%20%20%20%0A%20%20%20%20result%20%3D%20summation%28data,%205%29%3B%20/*%20%E9%96%A2%E6%95%B0summation%E3%81%AE%E5%91%BC%E3%81%B3%E5%87%BA%E3%81%97%20*/%0A%20%20%20%20%0A%20%20%20%20printf%28%22sum%20of%20data%20%3D%20%25d%5Cn%22,%20result%29%3B%20/*%20%E7%B5%90%E6%9E%9C%E3%81%AE%E8%A1%A8%E7%A4%BA%20*/%0A%20%20%20%20return%200%3B%0A%7D%0A%0A%0A/*%20%E9%96%A2%E6%95%B0summation%E3%81%AE%E5%AE%9A%E7%BE%A9%20*/%0A/*%20dt%E3%81%AE%E4%B8%AD%E3%81%AEn%E5%80%8B%E3%81%AE%E8%A6%81%E7%B4%A0%E3%81%AE%E5%80%A4%E3%81%AE%E5%92%8C%E3%82%92%E8%A8%88%E7%AE%97%E3%81%99%E3%82%8B%20*/%0Aint%20summation%28int%20*array,%20int%20n%29%20%7B%0A%20%20%20%20int%20i,%20sum%3D0%3B%0A%20%20%20%20for%20%28i%20%3D%200%3B%20i%20%3C%20n%3B%20i%2B%2B%29%20%7B%0A%20%20%20%20%20%20%20%20sum%20%2B%3D%20*array%3B%0A%20%20%20%20%20%20%20%20array%2B%2B%3B%0A%20%20%20%20%7D%0A%20%20%20%20return%20sum%3B%0A%7D&cumulative=false&curInstr=0&heapPrimitives=nevernest&mode=display&origin=opt-frontend.js&py=c&rawInputLstJSON=%5B%5D&textReferences=false)"
   ]
  },
  {
   "cell_type": "code",
   "execution_count": 14,
   "id": "6f1e5004",
   "metadata": {},
   "outputs": [
    {
     "name": "stdout",
     "output_type": "stream",
     "text": [
      "address of element #0 = 0x30e18f5a0\n",
      "address of element #1 = 0x30e18f5a8\n",
      "address of element #2 = 0x30e18f5b0\n",
      "address of element #3 = 0x30e18f5b8\n"
     ]
    }
   ],
   "source": [
    "#include <stdio.h>\n",
    "\n",
    "int main(void) {\n",
    "\n",
    "         double data[4];         /* double型の配列dataを宣言 */\n",
    "         int i;\n",
    "\n",
    "         /* dataの各要素のアドレスを表示 */\n",
    "\n",
    "         for (i = 0;i < 4; i++) {\n",
    "                //double型の１つの変数には８つの引き出し（８バイト）が必要\n",
    "                 printf (\"address of element #%d = %p\\n\", i, &data[i]);\n",
    "\n",
    "         }\n",
    "\n",
    "         return 0;\n",
    "\n",
    "}"
   ]
  },
  {
   "cell_type": "code",
   "execution_count": 16,
   "id": "95fd4a6c",
   "metadata": {},
   "outputs": [
    {
     "name": "stdout",
     "output_type": "stream",
     "text": [
      "address of data[0][0] : 0x308a905b0\n",
      "address of data[0][1] : 0x308a905b4\n",
      "address of data[1][0] : 0x308a905b8\n",
      "address of data[1][1] : 0x308a905bc\n",
      "address of data[2][0] : 0x308a905c0\n",
      "address of data[2][1] : 0x308a905c4\n"
     ]
    }
   ],
   "source": [
    "#include <stdio.h>\n",
    "\n",
    "int main(void) {\n",
    "\n",
    "         int data[3][2];         /* int型の２次元配列dataを宣言 */\n",
    "\n",
    "         int i, j;\n",
    "\n",
    " \n",
    "\n",
    "         /* dataの各要素のアドレスを表示 */\n",
    "\n",
    "         for (i=0; i<3; i++) {\n",
    "\n",
    "                 for (j=0; j<2; j++) {\n",
    "\n",
    "                          printf(\"address of data[%d][%d] : %p\\n\", i, j, &data[i][j]);\n",
    "\n",
    "                 }\n",
    "\n",
    "         }\n",
    "\n",
    "         return 0;\n",
    "\n",
    "}\n",
    "\n",
    "//一列に並んでいる"
   ]
  },
  {
   "cell_type": "code",
   "execution_count": 17,
   "id": "2362557e",
   "metadata": {},
   "outputs": [
    {
     "name": "stdout",
     "output_type": "stream",
     "text": [
      "value of n    : 123\n",
      "address of n  : 0x3097815c8\n",
      "value of iptr : 0x97815c8\n",
      "value of *iptr: 123\n"
     ]
    }
   ],
   "source": [
    "#include <stdio.h>\n",
    "\n",
    "int main(void) {\n",
    "\n",
    "         int n=123;\n",
    "\n",
    "         int *iptr;      /* int型のポインタiptrを宣言 */\n",
    "\n",
    " \n",
    "\n",
    "         iptr = &n;      /* 変数nのアドレスを代入 */\n",
    "\n",
    " \n",
    "\n",
    "         printf(\"value of n    : %d\\n\", n);     /* nの値を表示 */\n",
    "\n",
    "         printf(\"address of n  : %p\\n\", &n);   /* nのアドレスを表示 */\n",
    "\n",
    "         printf(\"value of iptr : %#x\\n\", iptr);        /* iptrの値を16進数表示 */\n",
    "\n",
    "         printf(\"value of *iptr: %d\\n\", *iptr);        /* iptrが指している変数の値を表示 */\n",
    "\n",
    " \n",
    "\n",
    "         return 0;\n",
    "\n",
    "}"
   ]
  },
  {
   "cell_type": "code",
   "execution_count": 18,
   "id": "20514dd0",
   "metadata": {},
   "outputs": [
    {
     "name": "stdout",
     "output_type": "stream",
     "text": [
      "value of n    : 123\n",
      "address of n  : 0x30d6df5c8\n",
      "value of iptr : 0xd6df5c8\n",
      "value of *iptr: 123\n"
     ]
    }
   ],
   "source": [
    "#include <stdio.h>\n",
    "\n",
    "int main(void) {\n",
    "\n",
    "         int n=123;\n",
    "\n",
    "         int *iptr;      /* int型のポインタiptrを宣言 */\n",
    "\n",
    " \n",
    "\n",
    "         iptr = &n;      /* 変数nのアドレスを代入 */\n",
    "\n",
    " \n",
    "\n",
    "         printf(\"value of n    : %d\\n\", n);     /* nの値を表示 */\n",
    "\n",
    "         printf(\"address of n  : %p\\n\", &n);   /* nのアドレスを表示 */\n",
    "\n",
    "         printf(\"value of iptr : %#x\\n\", iptr);        /* iptrの値を16進数表示 */\n",
    "\n",
    "         printf(\"value of *iptr: %d\\n\", *iptr);        /* iptrが指している変数の値を表示 */\n",
    "\n",
    " \n",
    "\n",
    "         return 0;\n",
    "\n",
    "}\n",
    "\n",
    "// ポインタ変数も独自のアドレスを持つ"
   ]
  },
  {
   "cell_type": "code",
   "execution_count": null,
   "id": "d3110973",
   "metadata": {},
   "outputs": [],
   "source": []
  }
 ],
 "metadata": {
  "kernelspec": {
   "display_name": "C",
   "language": "c",
   "name": "c"
  },
  "language_info": {
   "file_extension": ".c",
   "mimetype": "text/x-csrc",
   "name": "text/x-csrc"
  },
  "toc": {
   "base_numbering": 1,
   "nav_menu": {},
   "number_sections": true,
   "sideBar": true,
   "skip_h1_title": false,
   "title_cell": "Table of Contents",
   "title_sidebar": "Contents",
   "toc_cell": false,
   "toc_position": {},
   "toc_section_display": true,
   "toc_window_display": false
  }
 },
 "nbformat": 4,
 "nbformat_minor": 5
}
