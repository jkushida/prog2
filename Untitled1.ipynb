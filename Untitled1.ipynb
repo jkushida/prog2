{
 "cells": [
  {
   "cell_type": "markdown",
   "id": "b7d58191",
   "metadata": {},
   "source": [
    "test c\n"
   ]
  },
  {
   "cell_type": "code",
   "execution_count": 3,
   "id": "3101866a",
   "metadata": {},
   "outputs": [
    {
     "name": "stdout",
     "output_type": "stream",
     "text": [
      "The tutormagic extension is already loaded. To reload it, use:\n",
      "  %reload_ext tutormagic\n"
     ]
    }
   ],
   "source": [
    "%load_ext tutormagic"
   ]
  },
  {
   "cell_type": "code",
   "execution_count": 4,
   "id": "67c3f85b",
   "metadata": {},
   "outputs": [
    {
     "data": {
      "text/html": [
       "\n",
       "        <iframe\n",
       "            width=\"100%\"\n",
       "            height=\"350\"\n",
       "            src=\"http://pythontutor.com/iframe-embed.html#code=%23include%20%3Cstdio.h%3E%0A%20%0Aint%20main%28%29%0A%7B%0A%20%20%20%20char%20str1%5B4%5D%20%3D%20%22ABC%22%3B%20%20%20%20%0A%20%20%20%20%0A%20%20%20%20//%20%E9%85%8D%E5%88%97%E3%81%AE%E5%80%A4%0A%20%20%20%20printf%28%22str1%5B0%5D%20%3D%20%25c%5Cn%22%2C%20%20str1%5B0%5D%29%3B%0A%20%20%20%20printf%28%22str1%5B1%5D%20%3D%20%25c%5Cn%22%2C%20%20str1%5B1%5D%29%3B%0A%20%20%20%20printf%28%22str1%5B2%5D%20%3D%20%25c%5Cn%22%2C%20%20str1%5B2%5D%29%3B%0A%20%20%20%20%0A%20%20%20%20//%20%E9%85%8D%E5%88%97%E3%81%AE%E3%82%A2%E3%83%89%E3%83%AC%E3%82%B9%0A%20%20%20%20printf%28%22str1%20%3D%20%20%25p%5Cn%22%2C%20%20%26str1%29%3B%0A%20%20%20%20printf%28%22%26str1%5B0%5D%20%3D%20%25p%5Cn%22%2C%20%20%26str1%5B0%5D%29%3B%0A%20%20%20%20printf%28%22%26str1%5B1%5D%20%3D%20%25p%5Cn%22%2C%20%20%26str1%5B1%5D%29%3B%0A%20%20%20%20printf%28%22%26str1%5B2%5D%20%3D%20%20%25p%5Cn%22%2C%20%20%26str1%5B2%5D%29%3B%0A%20%20%20%20%0A%20%20%20%20return%280%29%3B%0A%7D%0A%0A//%20%E3%82%A2%E3%83%89%E3%83%AC%E3%82%B9%E3%81%AE%E5%80%A4%E3%81%AF%E5%AE%9F%E8%A1%8C%E7%92%B0%E5%A2%83%E3%81%AB%E3%82%88%E3%82%8B%0A&origin=opt-frontend.js&cumulative=false&heapPrimitives=false&textReferences=false&curInstr=0&&verticalStack=false&py=c&rawInputLstJSON=%5B%5D&codeDivWidth=50%25&codeDivHeight=100%25\"\n",
       "            frameborder=\"0\"\n",
       "            allowfullscreen\n",
       "        ></iframe>\n",
       "        "
      ],
      "text/plain": [
       "<IPython.lib.display.IFrame at 0x7f97d802c7c0>"
      ]
     },
     "metadata": {},
     "output_type": "display_data"
    }
   ],
   "source": [
    "%%tutor --lang c\n",
    "#include <stdio.h>\n",
    " \n",
    "int main()\n",
    "{\n",
    "    char str1[4] = \"ABC\";    \n",
    "    \n",
    "    // 配列の値\n",
    "    printf(\"str1[0] = %c\\n\",  str1[0]);\n",
    "    printf(\"str1[1] = %c\\n\",  str1[1]);\n",
    "    printf(\"str1[2] = %c\\n\",  str1[2]);\n",
    "    \n",
    "    // 配列のアドレス\n",
    "    printf(\"str1 =  %p\\n\",  &str1);\n",
    "    printf(\"&str1[0] = %p\\n\",  &str1[0]);\n",
    "    printf(\"&str1[1] = %p\\n\",  &str1[1]);\n",
    "    printf(\"&str1[2] =  %p\\n\",  &str1[2]);\n",
    "    \n",
    "    return(0);\n",
    "}\n",
    "\n",
    "// アドレスの値は実行環境による"
   ]
  },
  {
   "cell_type": "code",
   "execution_count": null,
   "id": "8c552b18",
   "metadata": {},
   "outputs": [],
   "source": []
  }
 ],
 "metadata": {
  "kernelspec": {
   "display_name": "Python 3 (ipykernel)",
   "language": "python",
   "name": "python3"
  },
  "language_info": {
   "codemirror_mode": {
    "name": "ipython",
    "version": 3
   },
   "file_extension": ".py",
   "mimetype": "text/x-python",
   "name": "python",
   "nbconvert_exporter": "python",
   "pygments_lexer": "ipython3",
   "version": "3.8.8"
  },
  "toc": {
   "base_numbering": 1,
   "nav_menu": {},
   "number_sections": true,
   "sideBar": true,
   "skip_h1_title": false,
   "title_cell": "Table of Contents",
   "title_sidebar": "Contents",
   "toc_cell": false,
   "toc_position": {},
   "toc_section_display": true,
   "toc_window_display": false
  }
 },
 "nbformat": 4,
 "nbformat_minor": 5
}
