{
 "cells": [
  {
   "cell_type": "markdown",
   "id": "642b2d63",
   "metadata": {
    "collapsed": true
   },
   "source": [
    "<iframe width=\"500\" height=\"300\" frameborder=\"0\" src=\"http://pythontutor.com/iframe-embed.html#code=%23include%20%3Cstdio.h%3E%0A%0Aint%20main%28%29%0A%7B%0A%20%20%20%20int%20a%3B%20%0A%20%20%20%20int%20*p%3B%20%20%20%20%20%20//%20%E5%AE%A3%E8%A8%80%0A%20%20%20%20%0A%20%20%20%20p%20%3D%20%20%26a%3B%20%20%20//%20%E3%82%A2%E3%83%89%E3%83%AC%E3%82%B9%E3%81%AE%E8%A8%AD%E5%AE%9A%0A%20%20%20%20*p%3D123%3B%20//%20%E5%8F%82%E7%85%A7%0A%20%20%20%20%0A%20%20%20%20printf%28%22%25d%5Cn%22,%20*p%29%3B%20//%20%E5%8F%82%E7%85%A7%0A%20%20%20%20%0A%20%20%20%20return%200%3B%0A%7D&codeDivHeight=400&codeDivWidth=350&cumulative=false&curInstr=0&heapPrimitives=nevernest&origin=opt-frontend.js&py=c_gcc9.3.0&rawInputLstJSON=%5B%5D&textReferences=false\"> </iframe>"
   ]
  },
  {
   "cell_type": "markdown",
   "id": "1db9d0f2",
   "metadata": {},
   "source": [
    "<iframe width=\"800\" height=\"500\" frameborder=\"0\" src=\"http://pythontutor.com/iframe-embed.html#code=%23include%20%3Cstdio.h%3E%0A%0Aint%20main%28%29%0A%7B%0A%20%20%20%20int%20a%3B%20%0A%20%20%20%20int%20*p%3B%20%20%20%20%20%20//%20%E5%AE%A3%E8%A8%80%0A%20%20%20%20%0A%20%20%20%20p%20%3D%20%20%26a%3B%20%20%20//%20%E3%82%A2%E3%83%89%E3%83%AC%E3%82%B9%E3%81%AE%E8%A8%AD%E5%AE%9A%0A%20%20%20%20*p%3D123%3B%20//%20%E5%8F%82%E7%85%A7%0A%20%20%20%20%0A%20%20%20%20printf%28%22%25d%5Cn%22,%20*p%29%3B%20//%20%E5%8F%82%E7%85%A7%0A%20%20%20%20%0A%20%20%20%20return%200%3B%0A%7D&codeDivHeight=400&codeDivWidth=350&cumulative=false&curInstr=0&heapPrimitives=nevernest&origin=opt-frontend.js&py=c_gcc9.3.0&rawInputLstJSON=%5B%5D&textReferences=false\"> </iframe>"
   ]
  }
 ],
 "metadata": {
  "kernelspec": {
   "display_name": "C",
   "language": "c",
   "name": "c"
  },
  "language_info": {
   "file_extension": ".c",
   "mimetype": "text/x-csrc",
   "name": "text/x-csrc"
  },
  "toc": {
   "base_numbering": 1,
   "nav_menu": {},
   "number_sections": true,
   "sideBar": true,
   "skip_h1_title": false,
   "title_cell": "Table of Contents",
   "title_sidebar": "Contents",
   "toc_cell": false,
   "toc_position": {},
   "toc_section_display": true,
   "toc_window_display": false
  }
 },
 "nbformat": 4,
 "nbformat_minor": 5
}
