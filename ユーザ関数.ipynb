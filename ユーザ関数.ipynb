{
 "cells": [
  {
   "cell_type": "markdown",
   "id": "8bb3ee28",
   "metadata": {},
   "source": [
    "# ユーザ関数とは\n",
    "一般に，実用的なソフトウェアを開発しようとすると，プログラムは大規模になることが多い．\n",
    "そのようなプログラムでは，複雑な処理が現れたり，何度も同じ処理を行ったりすることが必要となる．\n",
    "\n",
    "C言語では，そういった処理に特別な名前を与え，**サブルーチン化(関数化)**する. このように，ユーザが自分で作った関数を**ユーザ関数**という．\n",
    "\n",
    "\n",
    "## 関数とプログラムの構成\n",
    "\n",
    "<span style=\"color: red; \">関数とは, まとまりのある機能を実行する処理単位である．\n",
    "</span>\n",
    "\n",
    "C言語のプログラムは，以下の図のようにmain関数を頂点に，処理系が用意したライブラリ関数とユーザが作成したユーザ関数をリンクし, 実行形式を作成する．\n",
    "\n",
    "<img src=\"./fig/プログラムの流れ.png\" width=\"500\">\n",
    "\n",
    "\n",
    "- この図の関数A, B, Cはライブラリ関数の場合もあればユーザ関数の場合もある．\n",
    "\n",
    "- いずれを用いても,**プログラムはmain関数から始まり, main関数で終わる．**"
   ]
  },
  {
   "cell_type": "markdown",
   "id": "902f452b",
   "metadata": {},
   "source": [
    "## 関数化のメリット\n",
    "\n",
    "- 可読性の向上: ソースコードが大規模になっても，処理手続きの全体像を把握しやすい．\n",
    "\n",
    "- 保守性の向上: プログラムの修正やテストも，関数単位で行うことができる．\n",
    "\n",
    "- 定形処理の再利用: 新しいプログラムを開発する場合，過去に作成した関数を利用し効率化を図ることができる．\n"
   ]
  },
  {
   "cell_type": "markdown",
   "id": "f38afe6d",
   "metadata": {},
   "source": [
    "# ユーザ関数の宣言・定義・呼び出し"
   ]
  },
  {
   "cell_type": "markdown",
   "id": "264d2a2e",
   "metadata": {},
   "source": [
    "ユーザ関数を使ったプログラムは，一般に\n",
    "1. #include行\n",
    "2. ユーザ関数のプロトタイプ宣言\n",
    "3. main関数定義\n",
    "4. ユーザ関数定義\n",
    "\n",
    "の順で記述される．"
   ]
  },
  {
   "cell_type": "markdown",
   "id": "27bbee69",
   "metadata": {},
   "source": [
    "以下のsample1.cは，ユーザ関数を使ったプログラムの例である．\n",
    "\n",
    "---\n",
    "sample1.c\n",
    "```c\n",
    "// 1. #include行\n",
    "#include <stdio.h>\n",
    "\n",
    "// 2. ユーザ関数のプロトタイプ宣言\n",
    "int func1();      // ユーザ関数1を宣言(int型)\n",
    "void func2();    // ユーザ関数2を宣言(型なし)\n",
    "\n",
    "// 3. main関数定義\n",
    "int main()\n",
    "{\n",
    "    int i;\n",
    "    \n",
    "    i = func1();  // ユーザ関数1を実行（呼び出し）\n",
    "    func2();       // ユーザ関数2を実行（呼び出し）\n",
    "    \n",
    "    return 0;\n",
    "}\n",
    "\n",
    "// 4-1. ユーザ関数1を定義\n",
    "int func1()\n",
    "{\n",
    "    int value;\n",
    "    printf(\"ユーザ関数1を実行\");\n",
    "    \n",
    "    /*  valueを計算  */\n",
    "    \n",
    "    return value;  // 型があるので戻り値が必要\n",
    "}\n",
    "\n",
    "// 4-2. ユーザ関数2を定義\n",
    "void func2()\n",
    "{\n",
    "    printf(\"ユーザ関数2を実行\");\n",
    "    // 型がない(void型)なので戻り値は不要\n",
    "}\n",
    "```\n",
    "---\n",
    "実行結果\n",
    "```\n",
    "ユーザ関数1を実行\n",
    "ユーザ関数2を実行\n",
    "```"
   ]
  },
  {
   "cell_type": "markdown",
   "id": "d84dbd18",
   "metadata": {},
   "source": [
    "## ユーザ関数の定義\n",
    "\n",
    "ユーザ関数の定義は下記のように構成される．\n",
    "\n",
    "<img src=\"./fig/function.png\" width=\"500\">\n",
    "\n",
    "\n",
    "**関数定義の先頭**\n",
    "\n",
    "- <span style=\"color: red; \">呼び出し元から渡された実引数を，仮引数にコピーして,</span>\n",
    "関数本体の処理を開始する．\n",
    "\n",
    "**関数名**\n",
    "\n",
    "- 関数名も変数名と同様に識別子であり，名前の付け方は変数名と同様のルールが適用される．\n",
    "\n",
    "**引数型**\n",
    "\n",
    "- 関数に引き渡す数のデータの型を示す．\n",
    "\n",
    "**仮引数**\n",
    "\n",
    "- 関数に引き渡す数を引数と呼ぶが，<span style=\"color: red; \">関数が受け取る引数を仮引数と呼ぶ．</span>\n",
    "\n",
    "- それに対し，<span style=\"color: red; \">関数に渡す引数を実引数と呼ぶ．</span>\n",
    "\n",
    "**返却値（戻り値）型**\n",
    "\n",
    "- 関数が呼び出し元に返す値のデータ型を示す．\n",
    "    \n",
    "<img src=\"./fig/実引数と仮引数の例.png\" width=\"450\">\n"
   ]
  },
  {
   "cell_type": "markdown",
   "id": "36a86aa0",
   "metadata": {},
   "source": [
    "## ユーザ関数の例"
   ]
  },
  {
   "cell_type": "markdown",
   "id": "4026b7c5",
   "metadata": {},
   "source": [
    "### int型の戻り値を持つ関数"
   ]
  },
  {
   "cell_type": "markdown",
   "id": "628f7053",
   "metadata": {},
   "source": [
    "---\n",
    "sample2.c\n",
    "```c\n",
    "#include <stdio.h>\n",
    "\n",
    "int func(int x); // プロトタイプ宣言\n",
    "\n",
    "int main()\n",
    "{\n",
    "    int y;\n",
    "    int i = 5;\n",
    "    \n",
    "    // 関数の呼び出し\n",
    "    y = func(i);  // i は実引数\n",
    "    //   関数funcから返却された値がyに代入される\n",
    "    \n",
    "    printf(\"y = %d\\n\", y);\n",
    "    return 0;\n",
    "}\n",
    "\n",
    "// 返却値はint，xは仮引数で型はint\n",
    "int func(int x)\n",
    "{\n",
    "    int r, a = 3; // 関数内の宣言\n",
    "    r = x * a;\n",
    "    return r;  // 値rを返却する\n",
    "}\n",
    "```\n",
    "---"
   ]
  },
  {
   "cell_type": "markdown",
   "id": "eeac6f12",
   "metadata": {},
   "source": [
    "実行結果\n",
    "```\n",
    "y = 15\n",
    "```"
   ]
  },
  {
   "cell_type": "markdown",
   "id": "65303b29",
   "metadata": {},
   "source": [
    "[実行の可視化](http://pythontutor.com/visualize.html#code=%23include%20%3Cstdio.h%3E%0A%0Aint%20func%28int%20x%29%3B%20//%20%E3%83%97%E3%83%AD%E3%83%88%E3%82%BF%E3%82%A4%E3%83%97%E5%AE%A3%E8%A8%80%20%20%0A%0Aint%20main%28%29%0A%7B%0A%20%20int%20y%3B%0A%20%20int%20i%20%3D%205%3B%0A%0A%20%20//%20%E9%96%A2%E6%95%B0%E3%81%AE%E5%91%BC%E3%81%B3%E5%87%BA%E3%81%97%0A%20%20y%20%3D%20func%28i%29%3B%20%20//%20i%E3%81%AF%E5%AE%9F%E5%BC%95%E6%95%B0%0A%20%20//%20%20%20%E9%96%A2%E6%95%B0func%E3%81%8B%E3%82%89%E8%BF%94%E5%8D%B4%E3%81%95%E3%82%8C%E3%81%9F%E5%80%A4%E3%81%8Cy%E3%81%AB%E4%BB%A3%E5%85%A5%E3%81%95%E3%82%8C%E3%82%8B%0A%0A%20%20printf%28%22y%20%3D%20%25d%22,%20y%29%3B%20%0A%20%20return%200%3B%0A%7D%0A%0A//%20%E8%BF%94%E5%8D%B4%E5%80%A4%E3%81%AFint%EF%BC%8Cx%E3%81%AF%E4%BB%AE%E5%BC%95%E6%95%B0%E3%81%A7%E5%9E%8B%E3%81%AFint%0Aint%20func%28int%20x%29%0A%7B%0A%20%20int%20r,%20a%20%3D%203%3B%20//%20%E9%96%A2%E6%95%B0%E5%86%85%E3%81%AE%E5%AE%A3%E8%A8%80%0A%20%20r%20%3D%20x%20*%20a%3B%0A%20%20return%20r%3B%20%20//%20%E5%80%A4r%E3%82%92%E8%BF%94%E5%8D%B4%E3%81%99%E3%82%8B%0A%7D&cumulative=false&curInstr=0&heapPrimitives=nevernest&mode=display&origin=opt-frontend.js&py=c_gcc9.3.0&rawInputLstJSON=%5B%5D&textReferences=false)"
   ]
  },
  {
   "cell_type": "markdown",
   "id": "0341db66",
   "metadata": {},
   "source": [
    "C言語では，実引数が関数に引き渡されるとき，その実引数自身ではなく**実引数のコピー**が引き渡される．\n",
    "\n",
    "このコードでは，以下の関数の呼び出しと\n",
    "```c\n",
    "y = func(i);  // i は実引数\n",
    "```\n",
    "関数の定義において\n",
    "```c\n",
    "int func(int x)\n",
    "```\n",
    "実引数が`i`で仮引数名は`ｘ`となっている．\n",
    "(仮引数と実引数の変数名は，同じでも異なっても良い．)\n",
    "\n",
    "<img src=\"./fig/実引数と仮引数.png\" width=\"400\">\n"
   ]
  },
  {
   "cell_type": "markdown",
   "id": "739cdb88",
   "metadata": {},
   "source": [
    "### 複数の引数を持つ関数"
   ]
  },
  {
   "cell_type": "markdown",
   "id": "f9049360",
   "metadata": {},
   "source": [
    "---\n",
    "sample3.c\n",
    "```c\n",
    "#include <stdio.h>\n",
    "\n",
    "int summation(int a, int b);  // 関数summationのプロトタイプ宣言\n",
    "\n",
    "int main(void)\n",
    "{\n",
    "  int n, m, result;\n",
    "    \n",
    "  n = 3;\n",
    "  m = 5;\n",
    "  \n",
    "  result = summation(n, m);  // 関数summationの呼び出し\n",
    "  // summationの返却値をresultに代入している\n",
    "  \n",
    "  printf(\"%d + %d = %d\\n\", n, m, result);\n",
    "  \n",
    "  return 0;\n",
    "}\n",
    "\n",
    "// 関数summationの定義\n",
    "int summation(int a, int b) {\n",
    "  int sum;\n",
    "  \n",
    "  //２つの整数値の和を計算する\n",
    "  sum = a + b;\n",
    "\n",
    "  return sum; //計算結果を返す\n",
    "}\n",
    "```\n",
    "---"
   ]
  },
  {
   "cell_type": "markdown",
   "id": "bfbf2244",
   "metadata": {},
   "source": [
    "実行結果\n",
    "```\n",
    "3 + 5 = 8\n",
    "```"
   ]
  },
  {
   "cell_type": "markdown",
   "id": "80259dd2",
   "metadata": {},
   "source": [
    "[実行の可視化](https://pythontutor.com/visualize.html#code=%23include%20%3Cstdio.h%3E%0A%0Aint%20summation%28int%20a,%20int%20b%29%3B%20%20//%20%E9%96%A2%E6%95%B0summation%E3%81%AE%E3%83%97%E3%83%AD%E3%83%88%E3%82%BF%E3%82%A4%E3%83%97%E5%AE%A3%E8%A8%80%0A%0Aint%20main%28void%29%0A%7B%0A%20%20int%20n,%20m,%20result%3B%0A%20%20%20%20%0A%20%20n%20%3D%203%3B%0A%20%20m%20%3D%205%3B%0A%20%20%0A%20%20result%20%3D%20summation%28n,%20m%29%3B%20%20//%20%E9%96%A2%E6%95%B0summation%E3%81%AE%E5%91%BC%E3%81%B3%E5%87%BA%E3%81%97%0A%20%20//%20summation%E3%81%AE%E8%BF%94%E5%8D%B4%E5%80%A4%E3%82%92result%E3%81%AB%E4%BB%A3%E5%85%A5%E3%81%97%E3%81%A6%E3%81%84%E3%82%8B%0A%20%20%0A%20%20printf%28%22%25d%20%2B%20%25d%20%3D%20%25d%5Cn%22,%20n,%20m,%20result%29%3B%0A%20%20%0A%20%20return%200%3B%0A%7D%0A%0A//%20%E9%96%A2%E6%95%B0summation%E3%81%AE%E5%AE%9A%E7%BE%A9%0Aint%20summation%28int%20a,%20int%20b%29%20%7B%0A%20%20int%20sum%3B%0A%20%20%0A%20%20//%EF%BC%92%E3%81%A4%E3%81%AE%E6%95%B4%E6%95%B0%E5%80%A4%E3%81%AE%E5%92%8C%E3%82%92%E8%A8%88%E7%AE%97%E3%81%99%E3%82%8B%20%0A%20%20sum%20%3D%20a%20%2B%20b%3B%0A%0A%20%20return%20sum%3B%20//%E8%A8%88%E7%AE%97%E7%B5%90%E6%9E%9C%E3%82%92%E8%BF%94%E3%81%99%0A%7D&cumulative=false&curInstr=0&heapPrimitives=nevernest&mode=display&origin=opt-frontend.js&py=c_gcc9.3.0&rawInputLstJSON=%5B%5D&textReferences=false)"
   ]
  },
  {
   "cell_type": "markdown",
   "id": "15986868",
   "metadata": {},
   "source": [
    "### 戻り値を持たない型（void型）の関数"
   ]
  },
  {
   "cell_type": "markdown",
   "id": "7a5efbb5",
   "metadata": {},
   "source": [
    "---\n",
    "sample4.c\n",
    "```c\n",
    "#include <stdio.h>\n",
    "\n",
    "void subtraction(int a, int b);  // 関数subtractionのプロトタイプ宣言\n",
    "\n",
    "int main(void)\n",
    "{\n",
    "    int n, m;\n",
    "    \n",
    "    n = 3;\n",
    "    m = 5;\n",
    "    \n",
    "    subtraction(n, m);  // 関数subtractionの呼び出し\n",
    "    \n",
    "    return 0;\n",
    "}\n",
    "\n",
    "// 関数subtractionの定義\n",
    "void subtraction(int a, int b)\n",
    "{\n",
    "    int sub;\n",
    "    \n",
    "    // ２つの整数値の差を計算する\n",
    "    sub = a - b;\n",
    "    printf(\"%d - %d = %d\\n\", a, b, sub);\n",
    "    \n",
    "    // 返却値はなし\n",
    "}\n",
    "```\n",
    "---"
   ]
  },
  {
   "cell_type": "markdown",
   "id": "c0221883",
   "metadata": {},
   "source": [
    "実行結果\n",
    "```\n",
    "3 - 5 = -2\n",
    "```"
   ]
  },
  {
   "cell_type": "markdown",
   "id": "879cc02c",
   "metadata": {},
   "source": [
    "[実行の可視化](http://pythontutor.com/visualize.html#code=%23include%20%3Cstdio.h%3E%0A%0Avoid%20subtraction%28int%20a,%20int%20b%29%3B%20%20//%20%E9%96%A2%E6%95%B0subtraction%E3%81%AE%E3%83%97%E3%83%AD%E3%83%88%E3%82%BF%E3%82%A4%E3%83%97%E5%AE%A3%E8%A8%80%0A%0Aint%20main%28void%29%20%7B%0A%20%20int%20n,%20m%3B%0A%20%20%20%20%0A%20%20n%20%3D%203%3B%0A%20%20m%20%3D%205%3B%0A%20%20%0A%20%20subtraction%28n,%20m%29%3B%20%20//%20%E9%96%A2%E6%95%B0subtraction%E3%81%AE%E5%91%BC%E3%81%B3%E5%87%BA%E3%81%97%0A%20%20%0A%20%20return%200%3B%0A%7D%0A%0A//%20%E9%96%A2%E6%95%B0subtraction%E3%81%AE%E5%AE%9A%E7%BE%A9%0Avoid%20subtraction%28int%20a,%20int%20b%29%20%7B%0A%20%20int%20sub%3B%0A%20%20%0A%20%20//%EF%BC%92%E3%81%A4%E3%81%AE%E6%95%B4%E6%95%B0%E5%80%A4%E3%81%AE%E5%B7%AE%E3%82%92%E8%A8%88%E7%AE%97%E3%81%99%E3%82%8B%20%0A%20%20sub%20%3D%20a%20-%20b%3B%0A%20%20printf%28%22%25d%20-%20%25d%20%3D%20%25d%5Cn%22,%20a,%20b,%20sub%29%3B%0A%20%20%0A%20%20//%20%E8%BF%94%E5%8D%B4%E5%80%A4%E3%81%AF%E3%81%AA%E3%81%97%0A%7D&cumulative=false&curInstr=0&heapPrimitives=nevernest&mode=display&origin=opt-frontend.js&py=c_gcc9.3.0&rawInputLstJSON=%5B%5D&textReferences=false)"
   ]
  },
  {
   "cell_type": "markdown",
   "id": "a380a453",
   "metadata": {},
   "source": [
    "### 値を交換する関数"
   ]
  },
  {
   "cell_type": "markdown",
   "id": "dfdfafb8",
   "metadata": {},
   "source": [
    "---\n",
    "sample5.c\n",
    "```c\n",
    "#include <stdio.h>\n",
    "\n",
    "void swap(int a,int b); // 関数swapのプロトタイプ宣言\n",
    "\n",
    "int main(void)\n",
    "{\n",
    "    int a = 3, b = 6;\n",
    "    //printf(\"main関数 aのアドレス = %p, bのアドレス = %p\\n\",&a, &b);\n",
    "    \n",
    "    printf(\"swap関数前 a = %d, b = %d\\n\",a, b);\n",
    "    \n",
    "    swap(a, b); // 関数swapの呼び出し\n",
    "    \n",
    "    printf(\"swap関数後 a = %d, b = %d\\n\",a, b);\n",
    "    return 0;\n",
    "}\n",
    "\n",
    "// 仮引数a, bの値を交換する関数\n",
    "void swap(int a, int b)\n",
    "{\n",
    "    int temp;\n",
    "    //printf(\"swap関数 aのアドレス = %p, bのアドレス = %p\\n\",&a, &b);\n",
    "    \n",
    "    temp = a;\n",
    "    a = b;\n",
    "    b = temp;\n",
    "    printf(\"swap関数内 a = %d, b = %d\\n\",a, b);\n",
    "}\n",
    "```\n",
    "---"
   ]
  },
  {
   "cell_type": "markdown",
   "id": "8c05a4cb",
   "metadata": {},
   "source": [
    "実行結果\n",
    "```\n",
    "swap関数前 a = 3, b = 6\n",
    "swap関数内 a = 6, b = 3\n",
    "swap関数後 a = 3, b = 6\n",
    "```    "
   ]
  },
  {
   "cell_type": "markdown",
   "id": "cf52fb29",
   "metadata": {},
   "source": [
    "[実行の可視化](https://pythontutor.com/visualize.html#code=%23include%20%3Cstdio.h%3E%0A%0Avoid%20swap%28int%20a,int%20b%29%3B%20//%20%E9%96%A2%E6%95%B0swap%E3%81%AE%E3%83%97%E3%83%AD%E3%83%88%E3%82%BF%E3%82%A4%E3%83%97%E5%AE%A3%E8%A8%80%0A%0Aint%20main%28void%29%7B%0A%20%20int%20a%20%3D%203,%20b%20%3D%206%3B%0A%20%20//%20printf%28%22main%E9%96%A2%E6%95%B0%20a%E3%81%AE%E3%82%A2%E3%83%89%E3%83%AC%E3%82%B9%20%3D%20%25p,%20b%E3%81%AE%E3%82%A2%E3%83%89%E3%83%AC%E3%82%B9%20%3D%20%25p%5Cn%22,%26a,%20%26b%29%3B%0A%0A%20%20printf%28%22swap%E9%96%A2%E6%95%B0%E5%89%8D%20a%20%3D%20%25d,%20b%20%3D%20%25d%5Cn%22,a,%20b%29%3B%0A%20%20%0A%20%20swap%28a,%20b%29%3B%20//%20%E9%96%A2%E6%95%B0swap%E3%81%AE%E5%91%BC%E3%81%B3%E5%87%BA%E3%81%97%0A%20%20%0A%20%20printf%28%22swap%E9%96%A2%E6%95%B0%E5%BE%8C%20a%20%3D%20%25d,%20b%20%3D%20%25d%5Cn%22,a,%20b%29%3B%0A%20%20return%200%3B%0A%7D%0A%0A//%20%E4%BB%AE%E5%BC%95%E6%95%B0a,%20b%E3%81%AE%E5%80%A4%E3%82%92%E4%BA%A4%E6%8F%9B%E3%81%99%E3%82%8B%E9%96%A2%E6%95%B0%0Avoid%20swap%28int%20a,int%20b%29%7B%0A%20%20int%20temp%3B%0A%20%20//%20printf%28%22swap%E9%96%A2%E6%95%B0%20a%E3%81%AE%E3%82%A2%E3%83%89%E3%83%AC%E3%82%B9%20%3D%20%25p,%20b%E3%81%AE%E3%82%A2%E3%83%89%E3%83%AC%E3%82%B9%20%3D%20%25p%5Cn%22,%26a,%20%26b%29%3B%0A%0A%20%20temp%20%3D%20a%3B%0A%20%20a%20%3D%20b%3B%0A%20%20b%20%3D%20temp%3B%0A%20%20printf%28%22swap%E9%96%A2%E6%95%B0%E5%86%85%20a%20%3D%20%25d,%20b%20%3D%20%25d%5Cn%22,a,%20b%29%3B%0A%7D&cumulative=false&curInstr=0&heapPrimitives=nevernest&mode=display&origin=opt-frontend.js&py=c_gcc9.3.0&rawInputLstJSON=%5B%5D&textReferences=false)"
   ]
  },
  {
   "cell_type": "markdown",
   "id": "a2257cdc",
   "metadata": {},
   "source": [
    "このコードでは`a`と`b` の値は入れ替わらない．\n",
    "\n",
    "これは，実引数と仮引数は，(たとえ名前が同一でも)別のものであるためである．\n",
    "\n",
    "<span style=\"color: red; \">つまり，実引数と仮引数は値は等しいが，メモリ領域は別々である．</span>\n",
    "\n",
    "(main関数とswap関数で`a`と`b`のアドレスを表示させると，それぞれ異なっている．)\n",
    "\n"
   ]
  },
  {
   "cell_type": "markdown",
   "id": "976a04e6",
   "metadata": {},
   "source": [
    "# 値渡しとアドレス渡し\n",
    "\n",
    "C言語では，関数への引数の渡し方として，**値渡し**と**アドレス渡し(ポインタ渡し)**がある．\n",
    "\n",
    "- **値渡し** \n",
    "\n",
    "    <span style=\"color: red; \">変数の値をコピーする渡し方であり，</span>2.2節で例示した関数はすべて値渡しである．\n",
    "    \n",
    "    \n",
    "- **アドレス渡し**\n",
    "\n",
    "    <span style=\"color: red; \">ポインタを使って変数のメモリ番地を渡す渡し方</span>で，呼び出し元の変数の中身を関数側で書き換えることができる．\n",
    "    \n",
    "    \n",
    "    "
   ]
  },
  {
   "cell_type": "markdown",
   "id": "5f7da2a4",
   "metadata": {},
   "source": [
    "## 値渡しの例"
   ]
  },
  {
   "cell_type": "markdown",
   "id": "8000626d",
   "metadata": {},
   "source": [
    "---\n",
    "sample6.c\n",
    "```c\n",
    "#include <stdio.h>\n",
    "\n",
    "void func(int a);\n",
    "\n",
    "int main()\n",
    "{\n",
    "    int a = 3;\n",
    "    \n",
    "    func(a); // 値渡し\n",
    "    \n",
    "    printf(\"a = %d\\n\", a);\n",
    "    \n",
    "    return 0;\n",
    "}\n",
    "\n",
    "// aの値を+5する関数\n",
    "void func(int a)\n",
    "{\n",
    "    a = a + 5;\n",
    "}\n",
    "```\n",
    "---"
   ]
  },
  {
   "cell_type": "markdown",
   "id": "2b76b7de",
   "metadata": {},
   "source": [
    "実行結果\n",
    "```\n",
    "a = 3\n",
    "```"
   ]
  },
  {
   "cell_type": "markdown",
   "id": "7ef9d4af",
   "metadata": {},
   "source": [
    "[実行の可視化](http://pythontutor.com/visualize.html#code=%23include%20%3Cstdio.h%3E%0A%0Avoid%20func%28int%20a%29%3B%0A%0Aint%20main%28%29%0A%7B%0A%20%20int%20a%20%3D%203%3B%0A%0A%20%20func%28a%29%3B%20//%20%E5%80%A4%E6%B8%A1%E3%81%97%0A%0A%20%20printf%28%22a%20%3D%20%25d%5Cn%22,%20a%29%3B%20%0A%0A%20%20return%200%3B%0A%7D%0A%0Avoid%20func%28int%20a%29%0A%7B%20%20%0A%20%20a%20%3D%20a%20%2B%205%3B%0A%7D&cumulative=false&curInstr=0&heapPrimitives=nevernest&mode=display&origin=opt-frontend.js&py=c_gcc9.3.0&rawInputLstJSON=%5B%5D&textReferences=false)\n",
    "\n",
    "上記のコードでは，関数内で仮引数`a`を変更しても，それがmain関数の実引数`a`には反映されない．\n"
   ]
  },
  {
   "cell_type": "markdown",
   "id": "8254e3c2",
   "metadata": {},
   "source": [
    "\n",
    "## アドレス渡しの例"
   ]
  },
  {
   "cell_type": "markdown",
   "id": "faab0107",
   "metadata": {},
   "source": [
    "---\n",
    "sample7.c    \n",
    "```c\n",
    "#include <stdio.h>\n",
    "\n",
    "void func(int *a);\n",
    "\n",
    "int main()\n",
    "{\n",
    "    int a = 3;\n",
    "    \n",
    "    func(&a); // アドレス渡し\n",
    "    \n",
    "    printf(\"a = %d\\n\", a);\n",
    "    \n",
    "    return 0;\n",
    "}\n",
    "\n",
    "// aの値を+5する関数\n",
    "void func(int *a)\n",
    "{\n",
    "    *a = *a + 5;\n",
    "}\n",
    "```\n",
    "---"
   ]
  },
  {
   "cell_type": "markdown",
   "id": "5cd03243",
   "metadata": {},
   "source": [
    "実行結果\n",
    "```\n",
    "a = 8\n",
    "```"
   ]
  },
  {
   "cell_type": "markdown",
   "id": "94264970",
   "metadata": {},
   "source": [
    "[実行の可視化](http://pythontutor.com/visualize.html#code=%23include%20%3Cstdio.h%3E%0A%0Avoid%20func%28int%20*a%29%3B%0A%0Aint%20main%28%29%0A%7B%0A%20%20int%20a%20%3D%203%3B%0A%0A%20%20func%28%26a%29%3B%20//%20%E3%82%A2%E3%83%89%E3%83%AC%E3%82%B9%E6%B8%A1%E3%81%97%0A%0A%20%20printf%28%22a%20%3D%20%25d%5Cn%22,%20a%29%3B%20%0A%0A%20%20return%200%3B%0A%7D%0A%0Avoid%20func%28int%20*a%29%0A%7B%20%20%0A%20%20*a%20%3D%20*a%20%2B%205%3B%0A%7D&cumulative=false&curInstr=0&heapPrimitives=nevernest&mode=display&origin=opt-frontend.js&py=c_gcc9.3.0&rawInputLstJSON=%5B%5D&textReferences=false)"
   ]
  },
  {
   "cell_type": "markdown",
   "id": "ca49688c",
   "metadata": {},
   "source": [
    "このコードでは，`関数func`に入る直前に `int 型`の`ポインタ変数 a `が作られる．\n",
    "\n",
    "そして，`main 関数`の `a` のアドレスが`関数func`の`ポインタ変数 a` に代入される．\n",
    "\n",
    "<img src=\"./fig/アドレス渡し.png\" width=\"880\">\n"
   ]
  },
  {
   "cell_type": "markdown",
   "id": "9662aff9",
   "metadata": {},
   "source": [
    "## 値を交換する関数(アドレス渡し)\n",
    "\n",
    "ポインタを用いると，関数から呼び出し元で用意した領域の書き換えが可能となる．\n",
    "\n",
    "sample8.cでは, swap関数が2つのint型変数のアドレスを受け取り, その変数に格納された値を交換している．"
   ]
  },
  {
   "cell_type": "markdown",
   "id": "3725ff66",
   "metadata": {},
   "source": [
    "---\n",
    "sample8.c    \n",
    "```c\n",
    "#include <stdio.h>\n",
    "\n",
    "void swap(int *a, int *b); // 関数swapのプロトタイプ宣言\n",
    "\n",
    "int main()\n",
    "{\n",
    "  int a = 3, b = 6;\n",
    "\n",
    "  printf(\"swap関数前 a = %d, b = %d\\n\",a, b);\n",
    "  \n",
    "  // アドレスを実引数で渡す\n",
    "  swap(&a, &b); // 関数swapの呼び出し\n",
    "  \n",
    "  printf(\"swap関数後 a = %d, b = %d\\n\",a, b);\n",
    "  return 0;\n",
    "}\n",
    "\n",
    "// 仮引数ではポインタで受け取る\n",
    "void swap(int *a, int *b)\n",
    "{\n",
    "  int temp;\n",
    "\n",
    "  temp = *a;\n",
    "  *a = *b;\n",
    "  *b = temp;\n",
    "  printf(\"swap関数内 *a = %d, *b = %d\\n\", *a, *b);\n",
    "}\n",
    "```\n",
    "---"
   ]
  },
  {
   "cell_type": "markdown",
   "id": "87e68fc1",
   "metadata": {},
   "source": [
    "実行結果\n",
    "```\n",
    "swap関数前 a = 3, b = 6\n",
    "swap関数内 *a = 6, *b = 3\n",
    "swap関数後 a = 6, b = 3\n",
    "```    "
   ]
  },
  {
   "cell_type": "markdown",
   "id": "05f68908",
   "metadata": {},
   "source": [
    "[実行の可視化](http://pythontutor.com/visualize.html#code=%23include%20%3Cstdio.h%3E%0A%0Avoid%20swap%28int%20*a,%20int%20*b%29%3B%20//%20%E9%96%A2%E6%95%B0swap%E3%81%AE%E3%83%97%E3%83%AD%E3%83%88%E3%82%BF%E3%82%A4%E3%83%97%E5%AE%A3%E8%A8%80%0A%0Aint%20main%28void%29%0A%7B%0A%20%20int%20a%20%3D%203,%20b%20%3D%206%3B%0A%0A%20%20printf%28%22swap%E9%96%A2%E6%95%B0%E5%89%8D%20a%20%3D%20%25d,%20b%20%3D%20%25d%5Cn%22,a,%20b%29%3B%0A%20%20%0A%20%20//%20%E3%82%A2%E3%83%89%E3%83%AC%E3%82%B9%E3%82%92%E5%AE%9F%E5%BC%95%E6%95%B0%E3%81%A7%E6%B8%A1%E3%81%99%0A%20%20swap%28%26a,%20%26b%29%3B%20//%20%E9%96%A2%E6%95%B0swap%E3%81%AE%E5%91%BC%E3%81%B3%E5%87%BA%E3%81%97%0A%20%20%0A%20%20printf%28%22swap%E9%96%A2%E6%95%B0%E5%BE%8C%20a%20%3D%20%25d,%20b%20%3D%20%25d%5Cn%22,a,%20b%29%3B%0A%20%20return%200%3B%0A%7D%0A%0A//%20%E4%BB%AE%E5%BC%95%E6%95%B0%E3%81%A7%E3%81%AF%E3%83%9D%E3%82%A4%E3%83%B3%E3%82%BF%E3%81%A7%E5%8F%97%E3%81%91%E5%8F%96%E3%82%8B%0Avoid%20swap%28int%20*a,%20int%20*b%29%0A%7B%0A%20%20int%20temp%3B%0A%0A%20%20temp%20%3D%20*a%3B%0A%20%20*a%20%3D%20*b%3B%0A%20%20*b%20%3D%20temp%3B%0A%20%20printf%28%22swap%E9%96%A2%E6%95%B0%E5%86%85%20*a%20%3D%20%25d,%20*b%20%3D%20%25d%5Cn%22,%20*a,%20*b%29%3B%0A%7D&cumulative=false&curInstr=0&heapPrimitives=nevernest&mode=display&origin=opt-frontend.js&py=c_gcc9.3.0&rawInputLstJSON=%5B%5D&textReferences=false)"
   ]
  },
  {
   "cell_type": "markdown",
   "id": "1823af86",
   "metadata": {},
   "source": [
    "## 配列を引数として渡す\n",
    "\n",
    "C言語では，配列そのものを引数として渡せないので，**配列の先頭のアドレスを受け渡す**ことになる．\n",
    "\n",
    "### １次元配列(数値型)を引数として渡す"
   ]
  },
  {
   "cell_type": "markdown",
   "id": "ec800c8b",
   "metadata": {},
   "source": [
    "---\n",
    "sample9.c\n",
    "```c    \n",
    "#include <stdio.h>\n",
    "\n",
    "void func(int *array, int N);\n",
    "\n",
    "int main(void)\n",
    "{\n",
    "    int N, array[5]={0, 1, 2, 3, 4};\n",
    "    \n",
    "    // 配列の要素数 = 配列の要素全体の大きさ / 配列の要素1つ分の大きさ\n",
    "    N = sizeof(array)/sizeof(array[0]);\n",
    "    func(array, N);\n",
    "    printf(\"\\n\");\n",
    "    \n",
    "    return 0;\n",
    "}\n",
    "\n",
    "void func(int *array, int N)\n",
    "{\n",
    "    int i;\n",
    "    \n",
    "    for(i=0; i<N; ++i)\n",
    "        printf(\"%d \", *(array+i));\n",
    "    // printf(\"%d \", array[i]);\n",
    "}\n",
    "```\n",
    "---"
   ]
  },
  {
   "cell_type": "markdown",
   "id": "1bfdd209",
   "metadata": {},
   "source": [
    "実行結果\n",
    "```\n",
    "0 1 2 3 4 \n",
    "```"
   ]
  },
  {
   "cell_type": "markdown",
   "id": "9260e885",
   "metadata": {},
   "source": [
    "[実行の可視化](https://pythontutor.com/visualize.html#code=%23include%20%3Cstdio.h%3E%0A%0Avoid%20func%28int%20*array,%20int%20N%29%3B%0A%0Aint%20main%28void%29%0A%7B%0A%20%20%20%20int%20N,%20array%5B5%5D%3D%7B0,%201,%202,%203,%204%7D%3B%0A%0A%20%20%20%20//%20%E9%85%8D%E5%88%97%E3%81%AE%E8%A6%81%E7%B4%A0%E6%95%B0%20%3D%20%E9%85%8D%E5%88%97%E3%81%AE%E8%A6%81%E7%B4%A0%E5%85%A8%E4%BD%93%E3%81%AE%E5%A4%A7%E3%81%8D%E3%81%95%20/%20%E9%85%8D%E5%88%97%E3%81%AE%E8%A6%81%E7%B4%A01%E3%81%A4%E5%88%86%E3%81%AE%E5%A4%A7%E3%81%8D%E3%81%95%0A%20%20%20%20N%20%3D%20sizeof%28array%29/sizeof%28array%5B0%5D%29%3B%0A%20%20%20%20func%28array,%20N%29%3B%0A%20%20%20%20printf%28%22%5Cn%22%29%3B%0A%0A%20%20%20%20return%200%3B%0A%7D%0A%0Avoid%20func%28int%20*array,%20int%20N%29%0A%7B%0A%20%20%20%20int%20i%3B%0A%0A%20%20%20%20for%28i%3D0%3B%20i%3CN%3B%20%2B%2Bi%29%0A%20%20%20%20%20%20%20%20printf%28%22%25d%20%22,%20*%28array%2Bi%29%29%3B%0A%20%20%20%20//%20printf%28%22%25d%20%22,%20array%5Bi%5D%29%3B%0A%7D&cumulative=false&curInstr=0&heapPrimitives=nevernest&mode=display&origin=opt-frontend.js&py=c_gcc9.3.0&rawInputLstJSON=%5B%5D&textReferences=false)"
   ]
  },
  {
   "cell_type": "markdown",
   "id": "ae9364c7",
   "metadata": {},
   "source": [
    "このコードでは，配列の先頭ポインタを示す`array`だけではなく、配列の要素数`N`も渡している．\n",
    "```c\n",
    "void func(int *array, int N)\n",
    "```\n",
    "これは，下図のようにポインタ`array`が配列`array[ ]`の先頭アドレスの情報しか持っていないためである．\n",
    "\n",
    "<img src=\"./fig/配列を引数1.png\" width=\"260\">\n"
   ]
  },
  {
   "cell_type": "markdown",
   "id": "9eb8d368",
   "metadata": {},
   "source": [
    "下記のsample10.cでは，func関数の引数として`array`のみを渡している．\n",
    "\n",
    "main関数内で配列の要素数を計算すると5となるが，関数func内で計算すると正しい値が表示されない.\n",
    "\n",
    "つまり，仮引数`int *array`だけでは，関数内で配列のサイズを取得することはできない．\n",
    "\n",
    "配列の要素数は別途引数を用意して受け渡さなければならない."
   ]
  },
  {
   "cell_type": "markdown",
   "id": "ea1f93b9",
   "metadata": {},
   "source": [
    "---\n",
    "sample10.c\n",
    "```c    \n",
    "#include <stdio.h>\n",
    "\n",
    "void func(int *array);\n",
    "\n",
    "int main(void)\n",
    "{\n",
    "    int N, array[5]={0,1,2,3,4};\n",
    "    \n",
    "    // 配列の要素数 = 配列の要素全体の大きさ / 配列の要素1つ分の大きさ\n",
    "    N = sizeof(array)/sizeof(array[0]);\n",
    "    printf(\"N=%d\\n\", N);\n",
    "    func(array);\n",
    "    \n",
    "    return 0;\n",
    "}\n",
    "\n",
    "void func(int *array)\n",
    "{\n",
    "    int N = sizeof(array)/sizeof(array[0]);\n",
    "    printf(\"N=%d\\n\", N);\n",
    "}\n",
    "```\n",
    "---"
   ]
  },
  {
   "cell_type": "markdown",
   "id": "a44dd586",
   "metadata": {},
   "source": [
    "コンパイルすると，下記のような警告が出力される．（実行は可能）\n",
    "```\n",
    "warning: 'sizeof (array)' will return the size of the pointer ・・・\n",
    "```"
   ]
  },
  {
   "cell_type": "markdown",
   "id": "a4fa2efa",
   "metadata": {},
   "source": [
    "なお，このコードのfunc関数の定義は，以下のように書くことができる．\n",
    "```c\n",
    "void func(int array[5])\n",
    "```\n",
    "\n",
    "\n",
    "`array` は配列のように見えるが，配列ではなくポインタ変数である．\n",
    "\n",
    "<span style=\"color: red; \">ここでの`[ ]`内の5は書いても無視される．</span>\n",
    "\n",
    "つまり，**配列要素の個数を指定しようとしても無意味**であり，機能しない．\n"
   ]
  },
  {
   "cell_type": "markdown",
   "id": "9c457446",
   "metadata": {},
   "source": [
    "以下のsample11.cもsample10.cと同様の警告が出る．\n",
    "\n",
    "---\n",
    "sample11.c\n",
    "```c\n",
    "#include <stdio.h>\n",
    "\n",
    "void func(int array[5]);\n",
    "\n",
    "int main(void)\n",
    "{\n",
    "  int N, array[5]={0,1,2,3,4};  \n",
    "  \n",
    "  // 配列の要素数 = 配列の要素全体の大きさ / 配列の要素1つ分の大きさ\n",
    "  N = sizeof(array)/sizeof(array[0]);\n",
    "  printf(\"N=%d\\n\", N);  \n",
    "  func(array);\n",
    "\n",
    "  return 0;\n",
    "}\n",
    "\n",
    "// arrayはポインタ変数，[ ]内の数値は無視される．　 (5 は書かなくても良い)\n",
    "void func(int array[5])\n",
    "{\n",
    "  int N = sizeof(array)/sizeof(array[0]);\n",
    "  printf(\"N=%d\\n\", N); \n",
    "}\n",
    "```\n",
    "---"
   ]
  },
  {
   "cell_type": "markdown",
   "id": "5468a655",
   "metadata": {},
   "source": [
    "### １次元配列(文字型)を引数として渡す\n"
   ]
  },
  {
   "cell_type": "markdown",
   "id": "bd2c35bc",
   "metadata": {},
   "source": [
    "---\n",
    "sample12.c\n",
    "```c    \n",
    "#include <stdio.h>\n",
    "\n",
    "void func(char *str);\n",
    "\n",
    "int main(void) \n",
    "{\n",
    "    char str[ ] = \"ABCD\";\n",
    "    func(str);\n",
    "    printf(\"\\n\");\n",
    "    return 0;\n",
    "}\n",
    "\n",
    "void func(char *str) \n",
    "{\n",
    "    while(*str != '\\0')\n",
    "        printf(\"%c\",*(str++));\n",
    "}\n",
    "```\n",
    "---"
   ]
  },
  {
   "cell_type": "markdown",
   "id": "a6970cc3",
   "metadata": {},
   "source": [
    "実行結果\n",
    "```\n",
    "ABCD\n",
    "```"
   ]
  },
  {
   "cell_type": "markdown",
   "id": "c3e88d33",
   "metadata": {},
   "source": [
    "[実行の可視化](https://pythontutor.com/visualize.html#code=%23include%20%3Cstdio.h%3E%0A%0Avoid%20func%28char%20*str%29%3B%0A%0Aint%20main%28void%29%20%0A%7B%0A%20%20%20%20char%20str%5B%20%5D%20%3D%20%22ABCD%22%3B%0A%20%20%20%20func%28str%29%3B%0A%20%20%20%20printf%28%22%5Cn%22%29%3B%0A%20%20%20%20return%200%3B%0A%7D%0A%0Avoid%20func%28char%20*str%29%20%0A%7B%0A%20%20%20%20while%28*str%20!%3D%20'%5C0'%29%0A%20%20%20%20%20%20%20%20printf%28%22%25c%22,*%28str%2B%2B%29%29%3B%0A%7D&cumulative=false&curInstr=0&heapPrimitives=nevernest&mode=display&origin=opt-frontend.js&py=c_gcc9.3.0&rawInputLstJSON=%5B%5D&textReferences=false)"
   ]
  },
  {
   "cell_type": "markdown",
   "id": "e36d1baf",
   "metadata": {},
   "source": [
    "int型と異なり，引数として渡すのは配列の先頭ポインタを示す`str`のみで足りる．\n",
    "\n",
    "これは, 文字列（`char型配列`）の末尾には、NULL文字`'\\0'`があるため，受け取り側（関数func）でも配列の要素数が分かるためである．\n",
    "\n",
    "<img src=\"./fig/配列を引数2.png\" width=\"340\">\n"
   ]
  },
  {
   "cell_type": "markdown",
   "id": "40cde611",
   "metadata": {},
   "source": [
    "# アドレスを返す関数\n",
    "\n",
    "C言語では，以下のsample13.cのように，関数の返却値をポインタにすることができる．"
   ]
  },
  {
   "cell_type": "markdown",
   "id": "6a01a4e3",
   "metadata": {},
   "source": [
    "---\n",
    "sample13.c\n",
    "```c\n",
    "#include <string.h>\n",
    "#include <stdlib.h>\n",
    "#include <stdio.h>\n",
    "\n",
    "char *func(void);\n",
    "\n",
    "int main(void)\n",
    "{\n",
    "    char *y;\n",
    "    \n",
    "    y = func(); // 関数からアドレスを受け取る\n",
    "    printf(\"(2) %s [%p]\\n\", y, y);\n",
    "    \n",
    "    return 0;\n",
    "}\n",
    "\n",
    "char *func(void)\n",
    "{\n",
    "    char *x, str[5] = \"test\";\n",
    "    \n",
    "    // strlen(str)で文字列strの長さを取得\n",
    "    x = malloc(strlen(str) + 1);\n",
    "    \n",
    "    strcpy(x, str);   // strの内容をxにコピー\n",
    "    printf(\"(1) %s [%p]\\n\", x, x);\n",
    "    \n",
    "    // xの先頭アドレスを返す\n",
    "    return x;\n",
    "}\n",
    "\n",
    "```\n",
    "---"
   ]
  },
  {
   "cell_type": "markdown",
   "id": "13651664",
   "metadata": {},
   "source": [
    "実行結果\n",
    "```\n",
    "(1) test [0x7fc59bd04150]\n",
    "(2) test [0x7fc59bd04150]\n",
    "```"
   ]
  },
  {
   "cell_type": "markdown",
   "id": "968e7d6f",
   "metadata": {},
   "source": [
    "[実行の可視化](https://pythontutor.com/visualize.html#code=%23include%20%3Cstring.h%3E%0A%23include%20%3Cstdlib.h%3E%0A%23include%20%3Cstdio.h%3E%0A%0Achar%20*func%28void%29%3B%0A%0Aint%20main%28void%29%0A%7B%0A%20%20char%20*y%3B%0A%0A%20%20y%20%3D%20func%28%29%3B%20//%20%E9%96%A2%E6%95%B0%E3%81%8B%E3%82%89%E3%82%A2%E3%83%89%E3%83%AC%E3%82%B9%E3%82%92%E5%8F%97%E3%81%91%E5%8F%96%E3%82%8B%0A%20%20printf%28%22%282%29%20%25s%20%5B%25p%5D%5Cn%22,%20y,%20y%29%3B%0A%20%20%0A%20%20return%200%3B%0A%7D%0A%0Achar%20*func%28void%29%0A%7B%0A%20char%20*x,%20str%5B5%5D%20%3D%20%22test%22%3B%0A%0A%20//%20strlen%28str%29%E3%81%A7%E6%96%87%E5%AD%97%E5%88%97str%E3%81%AE%E9%95%B7%E3%81%95%E3%82%92%E5%8F%96%E5%BE%97%0A%20x%20%3D%20malloc%28strlen%28str%29%20%2B%201%29%3B%0A%0A%20strcpy%28x,%20str%29%3B%20%20%20//%20str%E3%81%AE%E5%86%85%E5%AE%B9%E3%82%92x%E3%81%AB%E3%82%B3%E3%83%94%E3%83%BC%0A%20printf%28%22%281%29%20%25s%20%5B%25p%5D%5Cn%22,%20x,%20x%29%3B%0A%0A%20//%20x%E3%81%AE%E5%85%88%E9%A0%AD%E3%82%A2%E3%83%89%E3%83%AC%E3%82%B9%E3%82%92%E8%BF%94%E3%81%99%0A%20return%20x%3B%0A%7D&cumulative=false&curInstr=0&heapPrimitives=nevernest&mode=display&origin=opt-frontend.js&py=c_gcc9.3.0&rawInputLstJSON=%5B%5D&textReferences=false)"
   ]
  },
  {
   "cell_type": "markdown",
   "id": "5702c9ca",
   "metadata": {},
   "source": [
    "`func関数`はアドレスを返すために，ポインタ宣言 (`char *func`) している.\n",
    "\n",
    "そして，`func関数`では文字列`x`の先頭アドレスをポインタ型の値として返している．\n",
    "\n",
    "実行すると下記のような出力となり，\n",
    "```\n",
    "(1) test [0x7fdbe5504150]\n",
    "(2) test [0x7fdbe5504150]\n",
    "```\n",
    "`func`関数内のポインタ`x`が指しているアドレス(1)と，main関数内のポインタ`y`が指しているアドレス(2)が同じであることが確認できる．\n"
   ]
  }
 ],
 "metadata": {
  "kernelspec": {
   "display_name": "C",
   "language": "c",
   "name": "c"
  },
  "language_info": {
   "file_extension": ".c",
   "mimetype": "text/x-csrc",
   "name": "text/x-csrc"
  },
  "toc": {
   "base_numbering": 1,
   "nav_menu": {},
   "number_sections": true,
   "sideBar": true,
   "skip_h1_title": false,
   "title_cell": "Table of Contents",
   "title_sidebar": "Contents",
   "toc_cell": false,
   "toc_position": {
    "height": "calc(100% - 180px)",
    "left": "10px",
    "top": "150px",
    "width": "240px"
   },
   "toc_section_display": true,
   "toc_window_display": true
  }
 },
 "nbformat": 4,
 "nbformat_minor": 5
}
