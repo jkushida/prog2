{
 "cells": [
  {
   "cell_type": "markdown",
   "id": "8f187f97",
   "metadata": {},
   "source": [
    "# 変数の有効範囲\n",
    "C言語では，宣言する場所によって変数の使える範囲や寿命を決めることができる．\n",
    "\n",
    "この変数の使える範囲のことを**有効範囲(スコープ)**と呼ぶ．\n",
    "\n",
    "また，変数の寿命は変数をどこに記憶するかという**記憶クラス**で決まる．\n",
    "\n",
    "複数の関数を含むプログラムでは，変数の有効範囲と記憶クラスを考慮し，どのように定義するかが重要となる．"
   ]
  },
  {
   "cell_type": "code",
   "execution_count": 6,
   "id": "25c53454",
   "metadata": {},
   "outputs": [
    {
     "name": "stdout",
     "output_type": "stream",
     "text": [
      "main-1: no = 456\n",
      "func1-1: no = 123\n",
      "func1-2: no = 5\n",
      "func1-2: no = 10\n",
      "func1-2: no = 15\n",
      "func1-3: no = 123\n",
      "func2: no = 789\n",
      "main-2: no = 456\n"
     ]
    }
   ],
   "source": [
    "#include <stdio.h>\n",
    "\n",
    "void func1();\n",
    "void func2(int no);\n",
    "\n",
    "int no = 123;  // すべての関数の外\n",
    "\n",
    "int main(void)\n",
    "{\n",
    "  int no = 456;  // main関数の中\n",
    "  printf(\"main-1: no = %d\\n\",no);  \n",
    "\n",
    "  func1();\n",
    "  func2(789);\n",
    "  printf(\"main-2: no = %d\\n\",no);  \n",
    "\n",
    "  return 0;\n",
    "}\n",
    "\n",
    "void func1()\n",
    "{\n",
    "  int i;\n",
    "  \n",
    "  printf(\"func1-1: no = %d\\n\",no);\n",
    "  for(i = 1; i <= 3; i++){\n",
    "    int no = i * 5;  // func1関数のforループの中\n",
    "    printf(\"func1-2: no = %d\\n\",no);\n",
    "  }\n",
    "  printf(\"func1-3: no = %d\\n\",no);\n",
    "}\n",
    "\n",
    "void func2(int no)   // func2関数の仮引数\n",
    "{\n",
    "  printf(\"func2: no = %d\\n\",no);\n",
    "}"
   ]
  },
  {
   "cell_type": "markdown",
   "id": "d0e24089",
   "metadata": {},
   "source": [
    "[実行の可視化](http://pythontutor.com/visualize.html#code=%23include%20%3Cstdio.h%3E%0A%0Avoid%20func1%28%29%3B%0Avoid%20func2%28int%20no%29%3B%0A%0Aint%20no%20%3D%20123%3B%20%20//%20%E3%81%99%E3%81%B9%E3%81%A6%E3%81%AE%E9%96%A2%E6%95%B0%E3%81%AE%E5%A4%96%0A%0Aint%20main%28void%29%0A%7B%0A%20%20int%20no%20%3D%20456%3B%20%20//%20main%E9%96%A2%E6%95%B0%E3%81%AE%E4%B8%AD%0A%20%20printf%28%22main-1%3A%20no%20%3D%20%25d%5Cn%22,no%29%3B%20%20%0A%0A%20%20func1%28%29%3B%0A%20%20func2%28789%29%3B%0A%20%20printf%28%22main-2%3A%20no%20%3D%20%25d%5Cn%22,no%29%3B%20%20%0A%0A%20%20return%200%3B%0A%7D%0A%0Avoid%20func1%28%29%0A%7B%0A%20%20int%20i%3B%0A%20%20%0A%20%20printf%28%22func1-1%3A%20no%20%3D%20%25d%5Cn%22,no%29%3B%0A%20%20for%28i%20%3D%201%3B%20i%20%3C%3D%203%3B%20i%2B%2B%29%7B%0A%20%20%20%20int%20no%20%3D%20i%20*%205%3B%20%20//%20func1%E9%96%A2%E6%95%B0%E3%81%AEfor%E3%83%AB%E3%83%BC%E3%83%97%E3%81%AE%E4%B8%AD%0A%20%20%20%20printf%28%22func1-2%3A%20no%20%3D%20%25d%5Cn%22,no%29%3B%0A%20%20%7D%0A%20%20printf%28%22func1-3%3A%20no%20%3D%20%25d%5Cn%22,no%29%3B%0A%7D%0A%0Avoid%20func2%28int%20no%29%20%20%20//%20func2%E9%96%A2%E6%95%B0%E3%81%AE%E4%BB%AE%E5%BC%95%E6%95%B0%0A%7B%0A%20%20printf%28%22func2%3A%20no%20%3D%20%25d%5Cn%22,no%29%3B%0A%7D&cumulative=false&curInstr=0&heapPrimitives=nevernest&mode=display&origin=opt-frontend.js&py=c_gcc9.3.0&rawInputLstJSON=%5B%5D&textReferences=false)"
   ]
  },
  {
   "cell_type": "markdown",
   "id": "0ae48c54",
   "metadata": {},
   "source": [
    "このコードでは複数の`no`が宣言されているが，有効範囲は下記のようになっている．\n",
    "\n",
    "<img src=\"./fig/スコープ.png\" width=\"500\">"
   ]
  },
  {
   "cell_type": "markdown",
   "id": "f4f0f351",
   "metadata": {},
   "source": [
    "■ ブロック有効範囲\n",
    "\n",
    "- 文を`{ }`で囲んだ**ブロック(複合文)の中で宣言された識別子は，そのブロックの中でのみ有効**となる．\n",
    "\n",
    "- そのため，宣言したブロックの中でしか使うことができない．\n",
    "\n",
    "- <font color='DarkKhaki'>③</font>の`func1関数`のforループの中で宣言された`no`は，forループのブロックの中でのみ有効となる．\n",
    "\n",
    "- また，`main関数`や`func1関数`，`func2関数`もそれぞれ`{ }`で囲まれたブロックであるため，それぞれの関数内で宣言された識別子は，それぞれの関数の中でのみ有効となる．\n"
   ]
  },
  {
   "cell_type": "markdown",
   "id": "4a5eebd7",
   "metadata": {},
   "source": [
    "■ ファイル有効範囲\n",
    "\n",
    "- <font color='red'>①</font> の `no`の宣言は関数定義の`{ }`で囲まれたブロックの外に宣言されている．\n",
    "\n",
    "- この`no`には**ファイル有効範囲**が与えれられ，**ファイルの中ではどこでも有効**となる．\n",
    "\n",
    "- ただし，**同じ名前の識別子がブロック内存在する場合は，ブロック有効範囲が優先**される．"
   ]
  },
  {
   "cell_type": "markdown",
   "id": "2ac0f5a4",
   "metadata": {},
   "source": [
    "■ ローカル変数（局所変数）\n",
    "\n",
    "- ブロック有効範囲において定義をした変数，つまり,関数内で宣言した変数や関数の仮引数を**ローカル変数（局所変数）**と呼ぶ．\n",
    "\n",
    "- ローカル変数は，定義をした関数内でのみ参照することができ，他の関数から参照することができない．\n",
    "\n",
    "- <font color='Magenta'>②</font>, <font color='DarkKhaki'>③</font>, <font color='green'>④</font> はローカル変数であり，異なる関数では同じ名前をつけることができる．"
   ]
  },
  {
   "cell_type": "markdown",
   "id": "e44ac764",
   "metadata": {},
   "source": [
    "■ グローバル変数（広域変数）\n",
    "\n",
    "- ファイル有効範囲が与えられている関数，つまり関数の外で宣言した変数を，**グローバル変数（広域変数）**と呼ぶ．\n",
    "\n",
    "- グローバル変数は，ファイルのどこからでも自由に参照することができる．しかし，グローバル変数どうしで同じ名前を付けることはできない．\n",
    "\n",
    "- ローカル変数とグローバル変数の名前が重複した場合は，ローカル変数が優先される，"
   ]
  },
  {
   "cell_type": "markdown",
   "id": "4b2c8ad2",
   "metadata": {},
   "source": [
    "以下のsample2.cもコード内に同じ変数名が存在するが，有効範囲は異なる．\n",
    "\n",
    "---\n",
    "sample2.c    \n",
    "```c\n",
    "#include <stdio.h>\n",
    "#include <stdlib.h>\n",
    "\n",
    "void func(int n);\n",
    "\n",
    "int m = 100; //グローバル変数\n",
    "\n",
    "int main(void)\n",
    "{\n",
    "    int *ip;        // int型のポインタipを宣言\n",
    "    int i = 1, n = 4, m[4] = {0, 1, 2, 3};\n",
    "    \n",
    "    ip = (int *)malloc(n * sizeof(int));  // メモリ領域の確保\n",
    "    \n",
    "    free(ip);       // 確保したメモリ領域の解放\n",
    "    \n",
    "    func(i);\n",
    "    \n",
    "    for(i=0; i<4; i++)\n",
    "        printf(\"%d \",m[i]);\n",
    "    printf(\"\\n\");\n",
    "    \n",
    "    return 0;\n",
    "}\n",
    "\n",
    "void func(int n)\n",
    "{\n",
    "    int m = 3;\n",
    "    n = m;\n",
    "}\n",
    "```\n",
    "---"
   ]
  },
  {
   "cell_type": "markdown",
   "id": "04dd46d5",
   "metadata": {},
   "source": [
    "実行結果\n",
    "```\n",
    "0 1 2 3 \n",
    "```"
   ]
  },
  {
   "cell_type": "markdown",
   "id": "b8700dc2",
   "metadata": {},
   "source": [
    "[実行の可視化](https://pythontutor.com/visualize.html#code=%23include%20%3Cstdio.h%3E%0A%23include%20%3Cstdlib.h%3E%0A%0Avoid%20func%28int%20n%29%3B%0A%0Aint%20m%20%3D%20100%3B%20//%E3%82%B0%E3%83%AD%E3%83%BC%E3%83%90%E3%83%AB%E5%A4%89%E6%95%B0%0A%0Aint%20main%28void%29%0A%7B%0A%20%20%20%20int%20*ip%3B%20%20%20%20%20%20%20%20//%20int%E5%9E%8B%E3%81%AE%E3%83%9D%E3%82%A4%E3%83%B3%E3%82%BFip%E3%82%92%E5%AE%A3%E8%A8%80%0A%20%20%20%20int%20i%20%3D%201,%20n%20%3D%204,%20m%5B4%5D%20%3D%20%7B0,%201,%202,%203%7D%3B%0A%20%20%20%20%0A%20%20%20%20ip%20%3D%20%28int%20*%29malloc%28n%20*%20sizeof%28int%29%29%3B%20%20//%20%E3%83%A1%E3%83%A2%E3%83%AA%E9%A0%98%E5%9F%9F%E3%81%AE%E7%A2%BA%E4%BF%9D%0A%20%20%20%20%0A%20%20%20%20free%28ip%29%3B%20%20%20%20%20%20%20//%20%E7%A2%BA%E4%BF%9D%E3%81%97%E3%81%9F%E3%83%A1%E3%83%A2%E3%83%AA%E9%A0%98%E5%9F%9F%E3%81%AE%E8%A7%A3%E6%94%BE%0A%20%20%20%20%0A%20%20%20%20func%28i%29%3B%0A%20%20%20%20%0A%20%20%20%20for%28i%3D0%3B%20i%3C4%3B%20i%2B%2B%29%0A%20%20%20%20%20%20%20%20printf%28%22%25d%20%22,m%5Bi%5D%29%3B%0A%20%20%20%20printf%28%22%5Cn%22%29%3B%0A%20%20%20%20%0A%20%20%20%20return%200%3B%0A%7D%0A%0Avoid%20func%28int%20n%29%0A%7B%0A%20%20%20%20int%20m%20%3D%203%3B%0A%20%20%20%20n%20%3D%20m%3B%0A%7D&cumulative=false&curInstr=0&heapPrimitives=nevernest&mode=display&origin=opt-frontend.js&py=c_gcc9.3.0&rawInputLstJSON=%5B%5D&textReferences=false)"
   ]
  },
  {
   "cell_type": "code",
   "execution_count": null,
   "id": "01dc8fe1",
   "metadata": {},
   "outputs": [],
   "source": []
  }
 ],
 "metadata": {
  "kernelspec": {
   "display_name": "C",
   "language": "c",
   "name": "c"
  },
  "language_info": {
   "file_extension": ".c",
   "mimetype": "text/x-csrc",
   "name": "text/x-csrc"
  },
  "toc": {
   "base_numbering": 1,
   "nav_menu": {},
   "number_sections": true,
   "sideBar": true,
   "skip_h1_title": false,
   "title_cell": "Table of Contents",
   "title_sidebar": "Contents",
   "toc_cell": false,
   "toc_position": {},
   "toc_section_display": true,
   "toc_window_display": true
  }
 },
 "nbformat": 4,
 "nbformat_minor": 5
}
