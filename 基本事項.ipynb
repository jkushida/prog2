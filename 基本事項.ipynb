{
 "cells": [
  {
   "cell_type": "markdown",
   "id": "94d7781b",
   "metadata": {},
   "source": [
    "# C言語のコードの読み方"
   ]
  },
  {
   "cell_type": "markdown",
   "id": "ca49edbd",
   "metadata": {},
   "source": [
    "C言語のプログラムの構成は，基本的に以下の通りである．\n"
   ]
  },
  {
   "cell_type": "code",
   "execution_count": 1,
   "id": "42e84e21",
   "metadata": {},
   "outputs": [
    {
     "name": "stdout",
     "output_type": "stream",
     "text": [
      "hello world\n"
     ]
    }
   ],
   "source": [
    "#include <stdio.h>\n",
    "\n",
    "int main(void) \n",
    "{\n",
    "    \n",
    "    printf(\"hello world\\n\");\n",
    "\n",
    "    return (0);\n",
    "\n",
    "}"
   ]
  },
  {
   "cell_type": "markdown",
   "id": "4c12633d",
   "metadata": {},
   "source": [
    "上記のコードの各部分の説明\n",
    "\n",
    "\n",
    "\n",
    "<img style=\"float: left;\"　src=\"./fig/基本事項.png\" width=\"500\">\n"
   ]
  },
  {
   "cell_type": "markdown",
   "id": "05480713",
   "metadata": {},
   "source": [
    "# 基本的な約束事\n",
    "\n",
    "\n",
    "- 行末には`;` (セミコロン) を書く\n",
    "- 構造がわかるようにインデント（字下げ） を行う\n",
    "- 1行または複数行のコメントは `/*  */`の 間に書き，1行のコメントは`//`の後ろに書く\n",
    "- `main`関数を含め，プログラムは関数から構成される\n",
    "- プログラムは，まず`main`関数より処理が開始され，その1行ずつコードを実行してく\n"
   ]
  },
  {
   "cell_type": "markdown",
   "id": "aa4c5e81",
   "metadata": {},
   "source": [
    "# コンパイルと実行"
   ]
  },
  {
   "cell_type": "markdown",
   "id": "cebea9c9",
   "metadata": {},
   "source": [
    "下記のプログラムをテキストエディタで作成し,「hello.c」という ファイル名で保存する．"
   ]
  },
  {
   "cell_type": "code",
   "execution_count": 2,
   "id": "fd4ab858",
   "metadata": {},
   "outputs": [
    {
     "name": "stdout",
     "output_type": "stream",
     "text": [
      "こんにちは\n",
      "hello world\n"
     ]
    }
   ],
   "source": [
    "#include <stdio.h>\n",
    "\n",
    "int main(void)\n",
    "{\n",
    "\n",
    "    printf(\"こんにちは\\n\");\n",
    "    printf(\"hello world\\n\");\n",
    "\n",
    "    return (0);\n",
    "\n",
    "}"
   ]
  },
  {
   "cell_type": "markdown",
   "id": "b291b5d8",
   "metadata": {},
   "source": [
    "## 実行ファイル「a.out」の生成\n",
    "\n",
    "C言語のプログラムはコンパイルして，　**実行形式のファイル**を作成する必要がある．\n",
    "\n",
    "コンパイルの方法は下記の通り．\n",
    "\n",
    "```bash\n",
    "% cc hello.c\n",
    "または\n",
    "% gcc hello.c\n",
    "```"
   ]
  },
  {
   "cell_type": "markdown",
   "id": "fab3961a",
   "metadata": {},
   "source": [
    "コンパイルが成功すると，実行形式のファイルが生成される．\n",
    "\n",
    "UNIXコマンドのlsで確認すると，\n",
    "```bash\n",
    "% ls\n",
    "a.out   hello.c\n",
    "```\n",
    "\n",
    "のように「a.out」というファイル(実行形式のファイル)が作成されている．\n",
    "\n",
    "このファイルを**実行する**には，下記のように入力する．\n",
    "\n",
    "```bash\n",
    "% ./a.out\n",
    "こんにちは\n",
    "hello world\n",
    "```\n",
    "そうすると，このように表示される．"
   ]
  },
  {
   "cell_type": "markdown",
   "id": "22d05b22",
   "metadata": {},
   "source": [
    "## 実行ファイル名を指定する場合\n",
    "\n",
    "例えば, 「hello」という実行ファイル名にしたい場合\n",
    "\n",
    "```bash\n",
    "% cc -o hello hello.c\n",
    "または\n",
    "% gcc -o hello hello.c\n",
    "```\n",
    "\n",
    "のように記述する．\n",
    "\n",
    "\n",
    "実行させるには，\n",
    "```\n",
    "% ./hello\n",
    "```\n",
    "\n",
    "のように入力する"
   ]
  }
 ],
 "metadata": {
  "kernelspec": {
   "display_name": "C",
   "language": "c",
   "name": "c"
  },
  "language_info": {
   "file_extension": ".c",
   "mimetype": "text/x-csrc",
   "name": "text/x-csrc"
  },
  "toc": {
   "base_numbering": 1,
   "nav_menu": {},
   "number_sections": true,
   "sideBar": true,
   "skip_h1_title": false,
   "title_cell": "Table of Contents",
   "title_sidebar": "Contents",
   "toc_cell": false,
   "toc_position": {
    "height": "calc(100% - 180px)",
    "left": "10px",
    "top": "150px",
    "width": "253.391px"
   },
   "toc_section_display": true,
   "toc_window_display": true
  }
 },
 "nbformat": 4,
 "nbformat_minor": 5
}
