{
 "cells": [
  {
   "cell_type": "code",
   "execution_count": 3,
   "id": "74054a73",
   "metadata": {},
   "outputs": [
    {
     "name": "stdout",
     "output_type": "stream",
     "text": [
      "abcd\n",
      "abcd\n",
      "dcba\n"
     ]
    }
   ],
   "source": [
    "// 課題用コード\n",
    "#include <stdio.h>\n",
    "int main()\n",
    "{ \n",
    "    char *p =  {\"abcd\"};\n",
    "    \n",
    "    printf(\"%c\", p[0]);\n",
    "    printf(\"%c\", p[1]);\n",
    "    printf(\"%c\", p[2]);\n",
    "    printf(\"%c\", p[3]);\n",
    "    printf(\"\\n\");\n",
    "    \n",
    "    while (*p != '\\0')\n",
    "        printf(\"%c\", *p++);\n",
    "    printf(\"\\n\");\n",
    "    \n",
    "    // 逆順に表示\n",
    "    while (*p != 'a')\n",
    "        printf(\"%c\", *p--);\n",
    "    printf(\"%c\", *p);\n",
    "    printf(\"\\n\");\n",
    "    \n",
    "    return (0);\n",
    "}"
   ]
  },
  {
   "cell_type": "markdown",
   "id": "a5ca6b1c",
   "metadata": {},
   "source": [
    "[実行の可視化](http://www.pythontutor.com/visualize.html#code=%23include%20%3Cstdio.h%3E%0Aint%20main%28%29%0A%7B%20%0A%20%20%20%20char%20*p%5B3%5D%20%3D%20%20%7B%22abc%22,%20%22defg%22,%22hi%22%7D%3B%0A%20%20%20%20%0A%20%20%20%20while%20%28*p%5B0%5D%20!%3D%20'%5C0'%29%0A%20%20%20%20%20%20%20%20printf%28%22%25c%22,%20*p%5B0%5D%2B%2B%29%3B%0A%20%20%20%20printf%28%22%5Cn%22%29%3B%0A%20%20%20%20%0A%20%20%20%20while%20%28*p%5B1%5D%20!%3D%20'%5C0'%29%0A%20%20%20%20%20%20%20%20printf%28%22%25c%22,%20*p%5B1%5D%2B%2B%29%3B%0A%20%20%20%20printf%28%22%5Cn%22%29%3B%0A%20%20%20%20%0A%20%20%20%20while%20%28*p%5B2%5D%20!%3D%20'%5C0'%29%0A%20%20%20%20%20%20%20%20printf%28%22%25c%22,%20*p%5B2%5D%2B%2B%29%3B%20%20%20%20%20%0A%20%20%20%20printf%28%22%5Cn%22%29%3B%0A%20%0A%20%20%20%20return%20%280%29%3B%0A%7D&cumulative=false&curInstr=0&heapPrimitives=nevernest&mode=display&origin=opt-frontend.js&py=c_gcc9.3.0&rawInputLstJSON=%5B%5D&textReferences=false)"
   ]
  },
  {
   "cell_type": "code",
   "execution_count": null,
   "id": "677e2609",
   "metadata": {},
   "outputs": [],
   "source": []
  },
  {
   "cell_type": "code",
   "execution_count": null,
   "id": "cab2e34d",
   "metadata": {},
   "outputs": [],
   "source": []
  },
  {
   "cell_type": "code",
   "execution_count": 4,
   "id": "021d6aa6",
   "metadata": {},
   "outputs": [
    {
     "name": "stdout",
     "output_type": "stream",
     "text": [
      "0 1 2 3 4 "
     ]
    }
   ],
   "source": [
    "#include <stdio.h>\n",
    "\n",
    "int main()\n",
    "{\n",
    "    int array[5];\n",
    "    int *p;\n",
    "    int i;\n",
    "    \n",
    "    p = array;                 // p = &array[0] と同じ\n",
    "    for (i = 0; i < 5; i++) {\n",
    "        p[i] = i;                // array[i] = i と同じ\n",
    "    }\n",
    "    for (i = 0; i < 5; i++) {\n",
    "        printf(\"%d \", array[i]);\n",
    "    }\n",
    "    \n",
    "    return 0;\n",
    "}"
   ]
  },
  {
   "cell_type": "markdown",
   "id": "58708d0c",
   "metadata": {},
   "source": [
    "[実行の可視化](http://pythontutor.com/visualize.html#code=%23include%20%3Cstdio.h%3E%0A%0Aint%20main%28%29%0A%7B%0A%20%20%20%20int%20array%5B5%5D%3B%0A%20%20%20%20int%20*p%3B%0A%20%20%20%20int%20i%3B%0A%20%20%20%20%0A%20%20%20%20p%20%3D%20array%3B%20%20%20%20%20%20%20%20%20%20%20%20%20%20%20%20%20%20%20//%20p%20%3D%20%26array%5B0%5D%20%E3%81%A8%E5%90%8C%E3%81%98%0A%20%20%20%20for%20%28i%20%3D%200%3B%20i%20%3C%205%3B%20i%2B%2B%29%20%7B%0A%20%20%20%20%20%20%20%20p%5Bi%5D%20%3D%20i%3B%20%20%20%20%20%20%20%20%20%20%20%20%20%20%20%20//%20array%5Bi%5D%20%3D%20i%20%E3%81%A8%E5%90%8C%E3%81%98%0A%20%20%20%20%7D%0A%20%20%20%20for%20%28i%20%3D%200%3B%20i%20%3C%205%3B%20i%2B%2B%29%20%7B%0A%20%20%20%20%20%20%20%20printf%28%22%25d%20%22,%20array%5Bi%5D%29%3B%0A%20%20%20%20%7D%0A%20%20%20%20%0A%20%20%20%20return%200%3B%0A%7D%0A&cumulative=false&curInstr=0&heapPrimitives=nevernest&mode=display&origin=opt-frontend.js&py=c&rawInputLstJSON=%5B%5D&textReferences=false)"
   ]
  },
  {
   "cell_type": "markdown",
   "id": "498e858f",
   "metadata": {},
   "source": [
    "[ポインタと配列の動的確保](\n",
    "http://www.den.t.u-tokyo.ac.jp/ad_prog/struct/#%E3%83%9D%E3%82%A4%E3%83%B3%E3%82%BF%E3%81%A8%E9%85%8D%E5%88%97%E3%81%AE%E5%8B%95%E7%9A%84%E7%A2%BA%E4%BF%9D)"
   ]
  },
  {
   "cell_type": "markdown",
   "id": "01cb52c4",
   "metadata": {},
   "source": [
    "| 宣言方法 \t|  アドレスの表記方法 |  変数の表記方法 |\n",
    "| :---: | :---: | :---: |\n",
    "|  単一の変数 (```int a```)  |  ```$a```  |  ```a``` |\n",
    "|単一のポインタ (```int *p```) |\t```p```\t| ```*p``` |\n",
    "|配列 (```int a[10]```)\t | 先頭: ```a``` , 要素: ```a + 2```, ```&a[2]```  |\t```a[2]```　 |"
   ]
  },
  {
   "cell_type": "code",
   "execution_count": 5,
   "id": "e6b9bbca",
   "metadata": {},
   "outputs": [
    {
     "name": "stdout",
     "output_type": "stream",
     "text": [
      "a[0] = 1 \t a[1] = 2\n",
      "*p = 1 \t *(p +1) = 2\n"
     ]
    }
   ],
   "source": [
    "# include <stdio.h>\n",
    "# include <stdlib.h>\n",
    "\n",
    "int main(int argc, char **argv) {\n",
    "    int a[2];\n",
    "    int *p;\n",
    "\n",
    "    p = (int*)calloc(2, sizeof(int));\n",
    "    a[0] = 1;\n",
    "    a[1] = 2;\n",
    "    *p = a[0];\n",
    "    *(p+1)=a[1];\n",
    "    printf(\"a[0] = %d \\t a[1] = %d\\n\", a[0], a[1]);\n",
    "    printf(\"*p = %d \\t *(p +1) = %d\\n\", *p, *(p+1));\n",
    "\n",
    "    free(p);\n",
    "}"
   ]
  },
  {
   "cell_type": "markdown",
   "id": "4905ddf8",
   "metadata": {},
   "source": [
    "[実行の可視化](http://pythontutor.com/visualize.html#code=%23%20include%20%3Cstdio.h%3E%0A%23%20include%20%3Cstdlib.h%3E%0A%0Aint%20main%28%29%20%7B%0A%20%20%20%20int%20a%5B2%5D%3B%0A%20%20%20%20int%20*p%3B%0A%0A%20%20%20%20p%20%3D%20%28int*%29malloc%282%20*%20sizeof%28int%29%29%3B%0A%20%20%20%20a%5B0%5D%20%3D%201%3B%0A%20%20%20%20a%5B1%5D%20%3D%202%3B%0A%20%20%20%20*p%20%3D%20a%5B0%5D%3B%0A%20%20%20%20*%28p%2B1%29%3Da%5B1%5D%3B%0A%20%20%20%20printf%28%22a%5B0%5D%20%3D%20%25d%20%5Ct%20a%5B1%5D%20%3D%20%25d%5Cn%22,%20a%5B0%5D,%20a%5B1%5D%29%3B%0A%20%20%20%20printf%28%22*p%20%3D%20%25d%20%5Ct%20*%28p%20%2B1%29%20%3D%20%25d%5Cn%22,%20*p,%20*%28p%2B1%29%29%3B%0A%0A%20%20%20%20free%28p%29%3B%0A%7D%0A&cumulative=false&curInstr=0&heapPrimitives=nevernest&mode=display&origin=opt-frontend.js&py=c&rawInputLstJSON=%5B%5D&textReferences=false)"
   ]
  },
  {
   "cell_type": "code",
   "execution_count": null,
   "id": "8ab9cd01",
   "metadata": {},
   "outputs": [],
   "source": []
  },
  {
   "cell_type": "code",
   "execution_count": 6,
   "id": "20ca52e1",
   "metadata": {
    "scrolled": false
   },
   "outputs": [
    {
     "name": "stdout",
     "output_type": "stream",
     "text": [
      "&a = 0x305139568, &b = 0x305139564\n",
      " p = 0x305139568,  q = 0x305139564\n",
      "  a = 3,  b = 6\n",
      " *p = 3, *q = 6\n"
     ]
    }
   ],
   "source": [
    "#include <stdio.h>\n",
    "\n",
    "int main()\n",
    "{\n",
    "    // a, b はint型変数\n",
    "    int a, b;\n",
    "    // p, q は整数型を指すポインタ型変数\n",
    "    int *p, *q;\n",
    "    \n",
    "    // a, b のアドレスを表示\n",
    "    printf(\"&a = %p, &b = %p\\n\", &a, &b);\n",
    "    \n",
    "    //a のアドレスを p に代入\n",
    "    p = &a;\n",
    "    //b のアドレスを q に代入\n",
    "    q = &b;\n",
    "    \n",
    "    // p, q の値を表示\n",
    "    printf(\" p = %p,  q = %p\\n\", p, q);\n",
    "    \n",
    "    // p が指す場所にある変数（すなわち a）に 3 を代入\n",
    "    *p = 3;\n",
    "    \n",
    "    // q が指す場所にある変数（すなわち b）に\n",
    "    // p が指す場所にある変数（すなわち a）の値+3を代入\n",
    "    *q = *p + 3;\n",
    "    \n",
    "    // a, b の値を表示\n",
    "    printf(\"  a = %d,  b = %d\\n\", a, b);\n",
    "    printf(\" *p = %d, *q = %d\\n\", *p, *q);\n",
    "    return 0;\n",
    "}"
   ]
  },
  {
   "cell_type": "markdown",
   "id": "bf9852f4",
   "metadata": {},
   "source": [
    "\n",
    "[実行の可視化](http://pythontutor.com/visualize.html#code=%23include%20%3Cstdio.h%3E%0A%0Aint%20main%28%29%0A%7B%0A%20%20%20%20//%20a,%20b%20%E3%81%AFint%E5%9E%8B%E5%A4%89%E6%95%B0%0A%20%20%20%20int%20a,%20b%3B%0A%20%20%20%20//%20p,%20q%20%E3%81%AF%E6%95%B4%E6%95%B0%E5%9E%8B%E3%82%92%E6%8C%87%E3%81%99%E3%83%9D%E3%82%A4%E3%83%B3%E3%82%BF%E5%9E%8B%E5%A4%89%E6%95%B0%0A%20%20%20%20int%20*p,%20*q%3B%0A%20%20%20%20%0A%20%20%20%20//%20a,%20b%20%E3%81%AE%E3%82%A2%E3%83%89%E3%83%AC%E3%82%B9%E3%82%92%E8%A1%A8%E7%A4%BA%0A%20%20%20%20printf%28%22%26a%20%3D%20%25p,%20%26b%20%3D%20%25p%5Cn%22,%20%26a,%20%26b%29%3B%0A%20%20%20%20%0A%20%20%20%20//a%20%E3%81%AE%E3%82%A2%E3%83%89%E3%83%AC%E3%82%B9%E3%82%92%20p%20%E3%81%AB%E4%BB%A3%E5%85%A5%0A%20%20%20%20p%20%3D%20%26a%3B%0A%20%20%20%20//b%20%E3%81%AE%E3%82%A2%E3%83%89%E3%83%AC%E3%82%B9%E3%82%92%20q%20%E3%81%AB%E4%BB%A3%E5%85%A5%0A%20%20%20%20q%20%3D%20%26b%3B%0A%20%20%20%20%0A%20%20%20%20//%20p,%20q%20%E3%81%AE%E5%80%A4%E3%82%92%E8%A1%A8%E7%A4%BA%0A%20%20%20%20printf%28%22%20p%20%3D%20%25p,%20%20q%20%3D%20%25p%5Cn%22,%20p,%20q%29%3B%0A%20%20%20%20%0A%20%20%20%20//%20p%20%E3%81%8C%E6%8C%87%E3%81%99%E5%A0%B4%E6%89%80%E3%81%AB%E3%81%82%E3%82%8B%E5%A4%89%E6%95%B0%EF%BC%88%E3%81%99%E3%81%AA%E3%82%8F%E3%81%A1%20a%EF%BC%89%E3%81%AB%203%20%E3%82%92%E4%BB%A3%E5%85%A5%0A%20%20%20%20*p%20%3D%203%3B%0A%20%20%20%20%0A%20%20%20%20//%20q%20%E3%81%8C%E6%8C%87%E3%81%99%E5%A0%B4%E6%89%80%E3%81%AB%E3%81%82%E3%82%8B%E5%A4%89%E6%95%B0%EF%BC%88%E3%81%99%E3%81%AA%E3%82%8F%E3%81%A1%20b%EF%BC%89%E3%81%AB%0A%20%20%20%20//%20p%20%E3%81%8C%E6%8C%87%E3%81%99%E5%A0%B4%E6%89%80%E3%81%AB%E3%81%82%E3%82%8B%E5%A4%89%E6%95%B0%EF%BC%88%E3%81%99%E3%81%AA%E3%82%8F%E3%81%A1%20a%EF%BC%89%E3%81%AE%E5%80%A4%2B3%E3%82%92%E4%BB%A3%E5%85%A5%0A%20%20%20%20*q%20%3D%20*p%20%2B%203%3B%0A%20%20%20%20%0A%20%20%20%20//%20a,%20b%20%E3%81%AE%E5%80%A4%E3%82%92%E8%A1%A8%E7%A4%BA%0A%20%20%20%20printf%28%22%20%20a%20%3D%20%25d,%20%20b%20%3D%20%25d%5Cn%22,%20a,%20b%29%3B%0A%20%20%20%20printf%28%22%20*p%20%3D%20%25d,%20*q%20%3D%20%25d%5Cn%22,%20*p,%20*q%29%3B%0A%20%20%20%20return%200%3B%0A%7D%0A&cumulative=false&curInstr=0&heapPrimitives=nevernest&mode=display&origin=opt-frontend.js&py=c&rawInputLstJSON=%5B%5D&textReferences=false)"
   ]
  },
  {
   "cell_type": "markdown",
   "id": "11e3e6fa",
   "metadata": {},
   "source": [
    "```bash\n",
    "% ./a.out\n",
    "&a = 0x16dc775e8, &b = 0x16dc775e4\n",
    "   p = 0x16dc775e8,   q = 0x16dc775e4\n",
    "   a = 3,  b = 6\n",
    " *p = 3, *q = 6\n",
    "\n",
    "```"
   ]
  }
 ],
 "metadata": {
  "kernelspec": {
   "display_name": "C",
   "language": "c",
   "name": "c"
  },
  "language_info": {
   "file_extension": ".c",
   "mimetype": "text/x-csrc",
   "name": "text/x-csrc"
  },
  "toc": {
   "base_numbering": 1,
   "nav_menu": {},
   "number_sections": true,
   "sideBar": true,
   "skip_h1_title": false,
   "title_cell": "Table of Contents",
   "title_sidebar": "Contents",
   "toc_cell": false,
   "toc_position": {},
   "toc_section_display": true,
   "toc_window_display": false
  }
 },
 "nbformat": 4,
 "nbformat_minor": 5
}
