{
 "cells": [
  {
   "cell_type": "markdown",
   "id": "2001894a",
   "metadata": {},
   "source": [
    "\n",
    "構造体\n",
    "\n",
    "\n"
   ]
  },
  {
   "cell_type": "markdown",
   "id": "0e6fad52",
   "metadata": {},
   "source": [
    "# 構造体の基本"
   ]
  },
  {
   "cell_type": "markdown",
   "id": "9d9604df",
   "metadata": {},
   "source": [
    "## \n",
    "\n",
    "以下は, **int型の no,  char型の配列 name[10],   int型の point をメンバとして持つ構造体**を用いたプログラムである．\n",
    "\n",
    "実行結果と同様の出力が表示されるように, プログラムを完成させよ．\n",
    "\n",
    "```c\n",
    "#include <stdio.h>\n",
    "\n",
    "/* 構造体の枠型の宣言を書く */\n",
    "\n",
    "int main()\n",
    "{\n",
    "    struct student seito1 = { 1001, \"Tanaka\", 70};\n",
    "    \n",
    "    printf( \"%d %s %d\\n\", seito1.no, seito1.name, seito1.point);\n",
    "    return 0;\n",
    "}\n",
    "```\n",
    "\n",
    "実行結果\n",
    "```\n",
    "1001 Tanaka 70\n",
    "```"
   ]
  },
  {
   "cell_type": "code",
   "execution_count": 10,
   "id": "eb140174",
   "metadata": {},
   "outputs": [
    {
     "name": "stdout",
     "output_type": "stream",
     "text": [
      "1001 Tanaka 70\n"
     ]
    }
   ],
   "source": [
    "// 解答\n",
    "#include <stdio.h>\n",
    "\n",
    "struct student{\n",
    "    int no;\n",
    "    char name[10];\n",
    "    int point;\n",
    "};\n",
    "\n",
    "int main()\n",
    "{\n",
    "    struct student seito1 = { 1001, \"Tanaka\", 70};\n",
    "    \n",
    "    printf( \"%d %s %d\\n\", seito1.no, seito1.name, seito1.point);\n",
    "    return 0;\n",
    "}"
   ]
  },
  {
   "cell_type": "markdown",
   "id": "48f5f90f",
   "metadata": {},
   "source": [
    "## \n",
    "\n",
    "以下は, 構造体に格納された学生の情報を表示するプログラムである．\n",
    "\n",
    "**再試験を行った結果，情報が更新されている．**\n",
    "\n",
    "\n",
    "実行結果と同様の出力が表示されるように, プログラムを完成させよ．\n",
    "\n",
    "```c\n",
    "#include <stdio.h>\n",
    "\n",
    "// 構造体の枠型の宣言\n",
    "struct student{\n",
    "    int no;           // 学籍番号\n",
    "    char name[10];    // 氏名\n",
    "    int test1;        // テスト1の点\n",
    "    int test2;        // テスト2の点\n",
    "    double average;   // テストの平均点\n",
    "};\n",
    "\n",
    "int main()\n",
    "{\n",
    "    struct student seito1 = {5, \"Yamada\", 80, 70};\n",
    "    \n",
    "    /* コードを書く */\n",
    "    \n",
    "    // 構造体の持つ情報を表示\n",
    "    printf(\"更新前 学生番号: %d,  氏名: %s, 平均点: %f\\n\", seito1.no, seito1.name, seito1.average);\n",
    "    \n",
    "    // 再試験\n",
    "    seito1.test1 = 85;\n",
    "    seito1.test2 = 75;\n",
    "    \n",
    "    /* コードを書く */\n",
    "    //　更新後の情報を表示\n",
    "    \n",
    "    return 0;\n",
    "}\n",
    "```\n",
    "\n",
    "実行結果\n",
    "```\n",
    "更新前 学生番号: 5,  氏名: Yamada, 平均点: 75.0\n",
    "更新後 学生番号: 5,  氏名: Yamada, 平均点: 80.0\n",
    "\n",
    "```"
   ]
  },
  {
   "cell_type": "code",
   "execution_count": 11,
   "id": "b804e947",
   "metadata": {},
   "outputs": [
    {
     "name": "stdout",
     "output_type": "stream",
     "text": [
      "更新前 学生番号: 5,  氏名: Yamada, 平均点: 75.0\n",
      "更新後 学生番号: 5,  氏名: Yamada, 平均点: 80.0\n"
     ]
    }
   ],
   "source": [
    "// 解答\n",
    "#include <stdio.h>\n",
    "\n",
    "// 構造体の枠型の宣言\n",
    "struct student{\n",
    "    int no;           // 学籍番号\n",
    "    char name[10];    // 氏名\n",
    "    int test1;        // テスト1の点\n",
    "    int test2;        // テスト2の点\n",
    "    double average;   // テストの平均点\n",
    "};\n",
    "\n",
    "int main()\n",
    "{\n",
    "    struct student seito1 = {5, \"Yamada\", 80, 70};\n",
    "    \n",
    "    seito1.average = (seito1.test1 + seito1.test2)/2.0;\n",
    "    \n",
    "    // 構造体の持つ情報を表示\n",
    "    printf(\"更新前 学生番号: %d,  氏名: %s, 平均点: %0.1f\\n\", seito1.no, seito1.name, seito1.average);\n",
    "    \n",
    "    // 再試験\n",
    "    seito1.test1 = 85;\n",
    "    seito1.test2 = 75;\n",
    "    \n",
    "    seito1.average = (seito1.test1 + seito1.test2)/2.0;\n",
    "    \n",
    "    printf(\"更新後 学生番号: %d,  氏名: %s, 平均点: %0.1f\\n\", seito1.no, seito1.name, seito1.average);\n",
    "    \n",
    "    return 0;\n",
    "}"
   ]
  },
  {
   "cell_type": "markdown",
   "id": "12592fa7",
   "metadata": {},
   "source": [
    "## \n",
    "\n",
    "以下は, 構造体srcの情報を同じ型の構造体であるdestにコピーするプログラムである．\n",
    "\n",
    "\n",
    "実行結果と同様の出力が表示されるように, プログラムを完成させよ．\n",
    "\n",
    "hint: 構造体のコピー 同じ型\n",
    "\n",
    "\n",
    "```c\n",
    "#include <stdio.h>\n",
    "\n",
    "// 構造体の枠型の宣言\n",
    "struct INT_MEMBERS {\n",
    "    int a, b, c;\n",
    "};\n",
    "\n",
    "int main(void)\n",
    "{\n",
    "    struct INT_MEMBERS src, dest;\n",
    "    \n",
    "    src.a = 1;\n",
    "    src.b = 2;\n",
    "    src.c = 3;\n",
    "    \n",
    "    /* コードを書く */\n",
    "    \n",
    "    printf(\"dest.a = %d\\n\", dest.a);\n",
    "    printf(\"dest.b = %d\\n\", dest.b);\n",
    "    printf(\"dest.b = %d\\n\", dest.c);\n",
    "    \n",
    "    return 0;\n",
    "}\n",
    "\n",
    "```\n",
    "\n",
    "実行結果\n",
    "```\n",
    "dest.a = 1\n",
    "dest.b = 2\n",
    "dest.b = 3\n",
    "```"
   ]
  },
  {
   "cell_type": "code",
   "execution_count": 13,
   "id": "8911540d",
   "metadata": {},
   "outputs": [
    {
     "name": "stdout",
     "output_type": "stream",
     "text": [
      "dest.a = 1\n",
      "dest.b = 2\n",
      "dest.b = 3\n"
     ]
    }
   ],
   "source": [
    "// 解答\n",
    "#include <stdio.h>\n",
    "\n",
    "// 構造体の枠型の宣言\n",
    "struct INT_MEMBERS {\n",
    "    int a, b, c;\n",
    "};\n",
    "\n",
    "int main(void)\n",
    "{\n",
    "    struct INT_MEMBERS src, dest;\n",
    "\n",
    "    src.a = 1;\n",
    "    src.b = 2;\n",
    "    src.c = 3;\n",
    "\n",
    "    // 構造体のコピー\n",
    "    dest = src;\n",
    "\n",
    "    printf(\"dest.a = %d\\n\", dest.a);\n",
    "    printf(\"dest.b = %d\\n\", dest.b);\n",
    "    printf(\"dest.b = %d\\n\", dest.c);\n",
    "\n",
    "    return 0;\n",
    "}"
   ]
  },
  {
   "cell_type": "code",
   "execution_count": null,
   "id": "91f91528",
   "metadata": {},
   "outputs": [],
   "source": []
  }
 ],
 "metadata": {
  "kernelspec": {
   "display_name": "C",
   "language": "c",
   "name": "c"
  },
  "language_info": {
   "file_extension": ".c",
   "mimetype": "text/x-csrc",
   "name": "text/x-csrc"
  },
  "toc": {
   "base_numbering": 1,
   "nav_menu": {},
   "number_sections": true,
   "sideBar": true,
   "skip_h1_title": false,
   "title_cell": "Table of Contents",
   "title_sidebar": "Contents",
   "toc_cell": false,
   "toc_position": {
    "height": "calc(100% - 180px)",
    "left": "10px",
    "top": "150px",
    "width": "232.594px"
   },
   "toc_section_display": true,
   "toc_window_display": true
  }
 },
 "nbformat": 4,
 "nbformat_minor": 5
}
