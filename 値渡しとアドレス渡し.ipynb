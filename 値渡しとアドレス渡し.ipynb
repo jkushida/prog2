{
 "cells": [
  {
   "cell_type": "markdown",
   "id": "8eb23ec5",
   "metadata": {},
   "source": [
    "http://rainbow.pc.uec.ac.jp/edu/program/b1/Ex5-3b.htm"
   ]
  },
  {
   "cell_type": "code",
   "execution_count": 15,
   "id": "d7f8b231",
   "metadata": {},
   "outputs": [
    {
     "name": "stdout",
     "output_type": "stream",
     "text": [
      "a = 3"
     ]
    }
   ],
   "source": [
    "#include <stdio.h>\n",
    "\n",
    "void func(int a)\n",
    "{\n",
    "    a = a + 5;\n",
    "}\n",
    "\n",
    "int main()\n",
    "{\n",
    "    int a = 3;\n",
    "    func(a);\n",
    "    printf(\"a = %d\", a);\n",
    "    return (0);\n",
    "}"
   ]
  },
  {
   "cell_type": "markdown",
   "id": "24d4d5de",
   "metadata": {},
   "source": [
    "[実行の可視化](http://pythontutor.com/visualize.html#code=%23include%20%3Cstdio.h%3E%0A%0Avoid%20func%28int%20a%29%0A%7B%0A%20%20%20%20a%20%3D%20a%20%2B%205%3B%0A%7D%0A%0Aint%20main%28%29%0A%7B%0A%20%20%20%20int%20a%20%3D%203%3B%0A%20%20%20%20func%28a%29%3B%0A%20%20%20%20printf%28%22a%20%3D%20%25d%22,%20a%29%3B%0A%20%20%20%20return%20%280%29%3B%0A%7D&cumulative=false&curInstr=0&heapPrimitives=nevernest&mode=display&origin=opt-frontend.js&py=c_gcc9.3.0&rawInputLstJSON=%5B%5D&textReferences=false)"
   ]
  },
  {
   "cell_type": "code",
   "execution_count": 14,
   "id": "417c82a3",
   "metadata": {},
   "outputs": [
    {
     "name": "stdout",
     "output_type": "stream",
     "text": [
      "a = 8"
     ]
    }
   ],
   "source": [
    "#include <stdio.h>\n",
    "\n",
    "void func(int *a)\n",
    "{\n",
    "    *a = *a + 5;\n",
    "}\n",
    "\n",
    "int main()\n",
    "{\n",
    "    int a = 3;\n",
    "    func(&a);\n",
    "    printf(\"a = %d\", a);\n",
    "    return (0);\n",
    "}"
   ]
  },
  {
   "cell_type": "markdown",
   "id": "a1a7fd0a",
   "metadata": {},
   "source": [
    "[実行の可視化](http://pythontutor.com/visualize.html#code=%23include%20%3Cstdio.h%3E%0A%0Avoid%20func%28int%20*a%29%0A%7B%0A%20%20%20%20*a%20%3D%20*a%20%2B%205%3B%0A%7D%0A%0Aint%20main%28%29%0A%7B%0A%20%20%20%20int%20a%20%3D%203%3B%0A%20%20%20%20func%28%26a%29%3B%0A%20%20%20%20printf%28%22a%20%3D%20%25d%22,%20a%29%3B%0A%20%20%20%20return%20%280%29%3B%0A%7D&cumulative=false&curInstr=0&heapPrimitives=nevernest&mode=display&origin=opt-frontend.js&py=c_gcc9.3.0&rawInputLstJSON=%5B%5D&textReferences=false)"
   ]
  },
  {
   "cell_type": "code",
   "execution_count": 2,
   "id": "02a592c3",
   "metadata": {},
   "outputs": [
    {
     "name": "stdout",
     "output_type": "stream",
     "text": [
      "variables in \"main\" (before function call)\n",
      " n is 2 @ 0x304cc4568\n",
      " m is 3 @ 0x304cc4564\n",
      " a is 0 @ 0x304cc4560\n",
      "\n",
      "variables in \"summation\"\n",
      " nn is 2 @ 0x304cc452c\n",
      " mm is 3 @ 0x304cc4528\n",
      " *aa is 5 @ 0x304cc4560\n",
      "\n",
      "variables in \"main\" (after function call)\n",
      " a is 5 @ 0x304cc4560\n"
     ]
    }
   ],
   "source": [
    "#include <stdio.h>\n",
    "\n",
    "void summation(int, int, int*);       /* 関数summationのプロトタイプ宣言 */\n",
    "\n",
    "int main(void) {\n",
    "\n",
    "         int n=2, m=3;\n",
    "         int a=0;\n",
    "\n",
    "         /* main関数内の各変数の値とアドレスを表示 */\n",
    "         printf(\"variables in \\\"main\\\" (before function call)\\n\");\n",
    "         printf(\" n is %d @ %p\\n\", n, &n);\n",
    "         printf(\" m is %d @ %p\\n\", m, &m);\n",
    "         printf(\" a is %d @ %p\\n\\n\", a, &a);\n",
    "\n",
    "         summation(n, m, &a);            /* nとmは値渡し、aはアドレス渡しでsummationを呼び出し */\n",
    "\n",
    "         /* summation呼び出し後のaの値とアドレスを表示 */\n",
    "         printf(\"variables in \\\"main\\\" (after function call)\\n\");\n",
    "         printf(\" a is %d @ %p\\n\", a, &a);\n",
    "\n",
    "         return 0;\n",
    "}\n",
    "\n",
    "/* 関数summationの定義 */\n",
    "/* nnとmmの値をaaが指すアドレスに格納 */\n",
    "void summation(int nn, int mm, int *aa) {\n",
    "         *aa = nn + mm;          /* aaが指すアドレスにnnとmmの和を代入 */\n",
    "\n",
    "         /* 関数summationの中での各仮引数の値とアドレスを表示 */\n",
    "         printf(\"variables in \\\"summation\\\"\\n\");\n",
    "         printf(\" nn is %d @ %p\\n\", nn, &nn);           /* nnの値とアドレス */\n",
    "         printf(\" mm is %d @ %p\\n\", mm, &mm);           /* mmの値とアドレス */\n",
    "         printf(\" *aa is %d @ %p\\n\\n\", *aa, aa);       /* aaが指す変数の値とaa自身の値（指している変数のアドレス） */\n",
    "}\n",
    "\n"
   ]
  },
  {
   "cell_type": "code",
   "execution_count": null,
   "id": "d66e4b0b",
   "metadata": {},
   "outputs": [],
   "source": []
  }
 ],
 "metadata": {
  "kernelspec": {
   "display_name": "C",
   "language": "c",
   "name": "c"
  },
  "language_info": {
   "file_extension": ".c",
   "mimetype": "text/x-csrc",
   "name": "text/x-csrc"
  },
  "toc": {
   "base_numbering": 1,
   "nav_menu": {},
   "number_sections": true,
   "sideBar": true,
   "skip_h1_title": false,
   "title_cell": "Table of Contents",
   "title_sidebar": "Contents",
   "toc_cell": false,
   "toc_position": {},
   "toc_section_display": true,
   "toc_window_display": false
  }
 },
 "nbformat": 4,
 "nbformat_minor": 5
}
