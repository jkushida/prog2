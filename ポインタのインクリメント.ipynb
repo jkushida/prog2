{
 "cells": [
  {
   "cell_type": "code",
   "execution_count": 15,
   "id": "2b929eb0",
   "metadata": {},
   "outputs": [
    {
     "name": "stdout",
     "output_type": "stream",
     "text": [
      "2\n"
     ]
    }
   ],
   "source": [
    "#include <stdio.h>\n",
    "int main(){\n",
    "\n",
    "   int i[3] = {1,10,100};\n",
    "   int *p = i;\n",
    "    \n",
    "    // ポインタの指す値を+1\n",
    "    (*p)++;\n",
    "    \n",
    "    printf(\"%d\\n\", *p);\n",
    "\n",
    "   return 0;\n",
    "}"
   ]
  },
  {
   "cell_type": "markdown",
   "id": "34268f93",
   "metadata": {},
   "source": []
  },
  {
   "cell_type": "code",
   "execution_count": 19,
   "id": "171b9c5e",
   "metadata": {},
   "outputs": [
    {
     "name": "stdout",
     "output_type": "stream",
     "text": [
      "10\n"
     ]
    }
   ],
   "source": [
    "#include <stdio.h>\n",
    "int main(){\n",
    "\n",
    "   int i[3] = {1,10,100};\n",
    "   int *p = i;\n",
    "    \n",
    "    // int型のポインタを+1  => 配列の次の　要素を指す\n",
    "    p++;\n",
    "    \n",
    "    printf(\"%d\\n\", *p);\n",
    "\n",
    "   return 0;\n",
    "}"
   ]
  }
 ],
 "metadata": {
  "kernelspec": {
   "display_name": "C",
   "language": "c",
   "name": "c"
  },
  "language_info": {
   "file_extension": ".c",
   "mimetype": "text/x-csrc",
   "name": "text/x-csrc"
  },
  "toc": {
   "base_numbering": 1,
   "nav_menu": {},
   "number_sections": true,
   "sideBar": true,
   "skip_h1_title": false,
   "title_cell": "Table of Contents",
   "title_sidebar": "Contents",
   "toc_cell": false,
   "toc_position": {},
   "toc_section_display": true,
   "toc_window_display": false
  }
 },
 "nbformat": 4,
 "nbformat_minor": 5
}
