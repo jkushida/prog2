{
 "cells": [
  {
   "cell_type": "markdown",
   "id": "77a32bdd",
   "metadata": {},
   "source": [
    "http://www.kusa.ac.jp/~kajiura/c/kurikaeshi/newpage13.htm"
   ]
  },
  {
   "cell_type": "markdown",
   "id": "3d627558",
   "metadata": {},
   "source": [
    "# 標準入出力とリダイレクト"
   ]
  },
  {
   "cell_type": "markdown",
   "id": "2228353a",
   "metadata": {},
   "source": [
    "C言語の入力関数（getchar(), scanf()など）は, 通常はキーボードからの入力とするが, キーボード以外からの入力に切り替えることができる． この機能を**入力のリダイレクション**という．\n",
    "\n",
    "同様に，出力関数（putchar()、printf()関数など）は， 通常は画面(端末)に出力するが，端末以外へ出力するように切り替えることができる．この機能を**出力のリダイレクション**という．"
   ]
  },
  {
   "cell_type": "markdown",
   "id": "ad244e3d",
   "metadata": {},
   "source": [
    "Unix系のOSでは, 入出力リダイレクト （「<」および「>」） を指定してプログラムを実行することによって， ファイルからの入力およびファイルへの出力を簡単に実現できる．\n",
    "\n",
    "```\n",
    "%  プログラム < 入力ファイル\t\t# データをファイルから入力\n",
    "%  プログラム > 出力ファイル\t\t# 実行結果をファイルへ出力\n",
    "%  プログラム < 入力ファイル > 出力ファイル\n",
    "```"
   ]
  },
  {
   "cell_type": "markdown",
   "id": "e44e6df1",
   "metadata": {},
   "source": [
    "## 入力リダイレクト\n",
    "\n",
    "入力リダイレクトは入力データをキーボードから受け取る代わりに, ファイルから流し込む機能である．\n",
    "\n",
    "主としてテキストファイルに対して用いる．"
   ]
  },
  {
   "cell_type": "markdown",
   "id": "40f84d5a",
   "metadata": {},
   "source": [
    "sample1.cはキーボードから入力された文字を, そのまま画面に出力するプログラムである．\n",
    "\n",
    "EOF(ファイルの終わり)である `Ctrl-D` を入力するまで処理を繰り返す．\n",
    "\n",
    "---\n",
    "sample1.c\n",
    "```c\n",
    "#include <stdio.h>\n",
    "\n",
    "int main(){\n",
    "    int a[100];\n",
    "    int i;\n",
    "    int n = 0;\n",
    "    while ( scanf(\"%d\", &a[n]) != EOF ) {\n",
    "      ++n;\n",
    "    }\n",
    "    \n",
    "    printf(\"\\n入力した数値\\n\");\n",
    "    for(i=0; i<n;i++){\n",
    "        printf(\"%d \", a[i]);\n",
    "    }\n",
    "    printf(\"\\n\");\n",
    "    \n",
    "    return 0;\n",
    "}\n",
    "```\n",
    "---"
   ]
  },
  {
   "cell_type": "markdown",
   "id": "51e36cc5",
   "metadata": {},
   "source": [
    "- 実行結果1\n",
    "\n",
    "この実行例では, キーボードから数値を１つずつ入力し，`Ctrl-D`で終了している．\n",
    "```\n",
    "% gcc sample1.c\n",
    "%  ./a.out\n",
    "4\n",
    "5\n",
    "6\n",
    "^D     <-  Ctrl + D (controlを押しながらD) \n",
    "入力した数値\n",
    "4 5 6 \n",
    "```\n",
    "\n"
   ]
  },
  {
   "cell_type": "markdown",
   "id": "421c1e0d",
   "metadata": {},
   "source": [
    "- 実行結果2\n",
    "\n",
    "この実行例では, <font color=\"Red\">入力リダイレクト( < )を用い</font>, a.out の標準入力をファイル**data.text**に切り替えている．\n",
    "\n",
    "ここで, **data.text**の中身は以下の数値である．\n",
    "```\n",
    "1 2 3 4 5 6 7 8\n",
    "```\n",
    "\n",
    "よって, 以下のコマンドで **data.text**の数値がscanf関数により配列aに格納される．\n",
    "\n",
    "\n",
    "\n",
    "```\n",
    "% gcc sample1.c\n",
    "%  ./a.out < data.txt \n",
    "\n",
    "入力した数値\n",
    "1 2 3 4 5 6 7 8 \n",
    "```\n",
    "\n"
   ]
  },
  {
   "cell_type": "markdown",
   "id": "f7eeb59a",
   "metadata": {},
   "source": [
    "## 出力リダイレクト\n",
    "\n",
    "出力リダイレクトは, 出力データを端末に表示するのではなく, ファイルに「流し入れる」機能である．\n",
    "\n",
    "これも主としてテキストファイルについて用いられる，"
   ]
  },
  {
   "cell_type": "markdown",
   "id": "a432daf0",
   "metadata": {},
   "source": [
    "sample2.cは通常の実行であれば， 端末に hello world と出力される．\n",
    "\n",
    "<font color=\"Red\">出力リダイレクト(>)</font>を用いることで, 出力をテキストファイルに書き込むことができる．\n",
    "\n",
    "---\n",
    "sample2.c\n",
    "```c\n",
    "#include <stdio.h>\n",
    "\n",
    "int main(void) \n",
    "{\n",
    "\n",
    "    printf(\"hello world\\n\");\n",
    "\n",
    "    return 0;\n",
    "}\n",
    "```\n",
    "---"
   ]
  },
  {
   "cell_type": "markdown",
   "id": "2c3233d0",
   "metadata": {},
   "source": [
    "- 実行結果1\n",
    "\n",
    "```\n",
    "% gcc sample2.c\n",
    "%  ./a.out\n",
    "hello world\n",
    "```\n",
    "\n",
    "- 実行結果2\n",
    "\n",
    "```\n",
    "% gcc sample2.c\n",
    "%  ./a.out > output.text\n",
    "% cat output.text \n",
    "hello world\n",
    "```\n",
    "\n",
    "`cat` はファイルの中身を確認したいときに利用されるLinuxコマンドである．\n",
    "\n",
    "`cat output.text `でoutput.textの中身を確認すると hello world と書き込まれていることが確認できる．\n"
   ]
  },
  {
   "cell_type": "markdown",
   "id": "20d0fa69",
   "metadata": {},
   "source": [
    "また， 以下のように両方のリダイレクトを用いることもできる．\n",
    "\n",
    "```\n",
    "% gcc sample1.c\n",
    "%  ./a.out < data.txt > output.text\n",
    "% cat output.text\n",
    "\n",
    "入力した数値\n",
    "1 2 3 4 5 6 7 8 \n",
    "```\n"
   ]
  }
 ],
 "metadata": {
  "kernelspec": {
   "display_name": "C",
   "language": "c",
   "name": "c"
  },
  "language_info": {
   "file_extension": ".c",
   "mimetype": "text/x-csrc",
   "name": "text/x-csrc"
  },
  "toc": {
   "base_numbering": 1,
   "nav_menu": {},
   "number_sections": true,
   "sideBar": true,
   "skip_h1_title": false,
   "title_cell": "Table of Contents",
   "title_sidebar": "Contents",
   "toc_cell": false,
   "toc_position": {},
   "toc_section_display": true,
   "toc_window_display": true
  }
 },
 "nbformat": 4,
 "nbformat_minor": 5
}
